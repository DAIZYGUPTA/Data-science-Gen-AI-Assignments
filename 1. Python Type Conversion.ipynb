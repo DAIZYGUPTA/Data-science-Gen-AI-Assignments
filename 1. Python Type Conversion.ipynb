{
 "cells": [
  {
   "cell_type": "code",
   "execution_count": null,
   "id": "adf29674-7cc4-4284-a37d-80ee45a3937d",
   "metadata": {},
   "outputs": [],
   "source": [
    "'''\n",
    "Assignment 1- Python Type Conversion\n",
    "'''"
   ]
  },
  {
   "cell_type": "markdown",
   "id": "e9dc16ac-2865-4e54-880a-f7001ce83b13",
   "metadata": {},
   "source": [
    "Q1. Convert an integer to a floating point number"
   ]
  },
  {
   "cell_type": "code",
   "execution_count": 9,
   "id": "2de56b74-e92f-45d4-bc27-554f611fdbfe",
   "metadata": {},
   "outputs": [
    {
     "name": "stdout",
     "output_type": "stream",
     "text": [
      "Before conversion a = 10 and type of a is: <class 'int'>\n",
      "After conversion a = 10.0 and type of a is: <class 'float'> \n"
     ]
    }
   ],
   "source": [
    "a = 10\n",
    "print(f\"Before conversion a = {a} and type of a is: {type(a)}\")\n",
    "a = float(a)\n",
    "print(f\"After conversion a = {a} and type of a is: {type(a)} \")"
   ]
  },
  {
   "cell_type": "markdown",
   "id": "219cd077-400b-4803-a196-4aa34420d926",
   "metadata": {},
   "source": [
    "Q2. Convert a float to an integer"
   ]
  },
  {
   "cell_type": "code",
   "execution_count": 10,
   "id": "493bd8ec-68fe-4ac7-824e-086ee38676cd",
   "metadata": {},
   "outputs": [
    {
     "name": "stdout",
     "output_type": "stream",
     "text": [
      "Before conversion a = 10.101 and type of a is: <class 'float'>\n",
      "After conversion a = 10 and type of a is: <class 'int'> \n"
     ]
    }
   ],
   "source": [
    "a = 10.101\n",
    "print(f\"Before conversion a = {a} and type of a is: {type(a)}\")\n",
    "a = int(a)\n",
    "print(f\"After conversion a = {a} and type of a is: {type(a)} \")"
   ]
  },
  {
   "cell_type": "markdown",
   "id": "1081eef3-1b36-4474-9d12-3a75e8a24a85",
   "metadata": {},
   "source": [
    "Q3. Convert an integer to a string"
   ]
  },
  {
   "cell_type": "code",
   "execution_count": 11,
   "id": "54a50c53-2f81-44cb-81c8-3ac16403383c",
   "metadata": {},
   "outputs": [
    {
     "name": "stdout",
     "output_type": "stream",
     "text": [
      "Before conversion a = 10 and type of a is: <class 'int'>\n",
      "After conversion a = 10 and type of a is: <class 'str'> \n"
     ]
    }
   ],
   "source": [
    "a = 10\n",
    "print(f\"Before conversion a = {a} and type of a is: {type(a)}\")\n",
    "a = str(a)\n",
    "print(f\"After conversion a = {a} and type of a is: {type(a)} \")"
   ]
  },
  {
   "cell_type": "markdown",
   "id": "6aa6fc51-d20d-48dc-8f5f-29bdd9870a23",
   "metadata": {},
   "source": [
    "Q4. Convert a list to a tuple"
   ]
  },
  {
   "cell_type": "code",
   "execution_count": 1,
   "id": "d77380a0-76db-474d-ab61-6bbe1e4505ca",
   "metadata": {},
   "outputs": [
    {
     "name": "stdout",
     "output_type": "stream",
     "text": [
      "Before conversion a = [1, 2, 3, 4] and type of a is: <class 'list'>\n",
      "After conversion a = (1, 2, 3, 4) and type of a is: <class 'tuple'> \n"
     ]
    }
   ],
   "source": [
    "a = [1,2,3,4]\n",
    "print(f\"Before conversion a = {a} and type of a is: {type(a)}\")\n",
    "a = tuple(a)\n",
    "print(f\"After conversion a = {a} and type of a is: {type(a)} \")"
   ]
  },
  {
   "cell_type": "markdown",
   "id": "cb16be9f-9365-4fa2-9e8a-cd79d7bef304",
   "metadata": {},
   "source": [
    "Q5. Convert a tuple to a list."
   ]
  },
  {
   "cell_type": "code",
   "execution_count": 2,
   "id": "7b165c22-9079-447a-9369-e7aaedf8b78c",
   "metadata": {},
   "outputs": [
    {
     "name": "stdout",
     "output_type": "stream",
     "text": [
      "Before conversion a = (1, 2, 3, 4) and type of a is: <class 'tuple'>\n",
      "After conversion a = [1, 2, 3, 4] and type of a is: <class 'list'> \n"
     ]
    }
   ],
   "source": [
    "a = (1,2,3,4)\n",
    "print(f\"Before conversion a = {a} and type of a is: {type(a)}\")\n",
    "a = list(a)\n",
    "print(f\"After conversion a = {a} and type of a is: {type(a)} \")"
   ]
  },
  {
   "cell_type": "markdown",
   "id": "db93d28e-5979-4770-840e-48e6bd4a2dc5",
   "metadata": {},
   "source": [
    "Q6. Convert a decimal number to binary."
   ]
  },
  {
   "cell_type": "code",
   "execution_count": 3,
   "id": "06001466-b4dd-4885-8c57-698df05e2ad9",
   "metadata": {},
   "outputs": [
    {
     "name": "stdout",
     "output_type": "stream",
     "text": [
      "Before conversion a = 15 and type of a is: <class 'int'>\n",
      "After conversion a = 0b1111 and type of a is: <class 'str'> \n"
     ]
    }
   ],
   "source": [
    "a = 15\n",
    "print(f\"Before conversion a = {a} and type of a is: {type(a)}\")\n",
    "a = bin(a)\n",
    "print(f\"After conversion a = {a} and type of a is: {type(a)} \")"
   ]
  },
  {
   "cell_type": "markdown",
   "id": "b3e3a0f6-ec7f-489c-8d09-1f8a9856f3cc",
   "metadata": {},
   "source": [
    "Q7. Convert a non zero number to boolean."
   ]
  },
  {
   "cell_type": "code",
   "execution_count": 4,
   "id": "bcacae7d-f975-43da-82f1-a9f3d8c54b7b",
   "metadata": {},
   "outputs": [
    {
     "name": "stdout",
     "output_type": "stream",
     "text": [
      "Before conversion a = 10 and type of a is: <class 'int'>\n",
      "After conversion a = True and type of a is: <class 'bool'> \n"
     ]
    }
   ],
   "source": [
    "a = 10\n",
    "print(f\"Before conversion a = {a} and type of a is: {type(a)}\")\n",
    "a = bool(a)\n",
    "print(f\"After conversion a = {a} and type of a is: {type(a)} \")"
   ]
  },
  {
   "cell_type": "code",
   "execution_count": null,
   "id": "9ce4ecf0-11bb-4b4e-a12e-977f197042c1",
   "metadata": {},
   "outputs": [],
   "source": []
  }
 ],
 "metadata": {
  "kernelspec": {
   "display_name": "Python 3 (ipykernel)",
   "language": "python",
   "name": "python3"
  },
  "language_info": {
   "codemirror_mode": {
    "name": "ipython",
    "version": 3
   },
   "file_extension": ".py",
   "mimetype": "text/x-python",
   "name": "python",
   "nbconvert_exporter": "python",
   "pygments_lexer": "ipython3",
   "version": "3.10.8"
  }
 },
 "nbformat": 4,
 "nbformat_minor": 5
}
