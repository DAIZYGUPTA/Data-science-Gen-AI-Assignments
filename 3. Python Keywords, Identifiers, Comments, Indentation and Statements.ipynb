{
 "cells": [
  {
   "cell_type": "code",
   "execution_count": null,
   "id": "28a02358-36ad-4dd4-bfa3-40e75a6a008d",
   "metadata": {},
   "outputs": [],
   "source": [
    "'''\n",
    "Assignment 3 - Python Keywords, Identifiers, Comments, Indentation and Statements\n",
    "'''"
   ]
  },
  {
   "cell_type": "markdown",
   "id": "3570d122-2cce-4f63-b6c1-52a71354fc59",
   "metadata": {},
   "source": [
    "Q1. Explain the significance of Python keywords and provide examples of five keywords."
   ]
  },
  {
   "cell_type": "code",
   "execution_count": null,
   "id": "b5949c48-4962-4576-8488-f1b90b9e6683",
   "metadata": {},
   "outputs": [],
   "source": [
    "'''\n",
    "Python keywords are reserved words that have special meanings \n",
    "and are used to define the syntax and structure of the Python programming language.\n",
    "These keywords cannot be used as identifiers (variable names, function names, etc.) \n",
    "because they are already reserved for specific purposes within the language.\n",
    "'''\n",
    "\n",
    "if #Used for conditional statements. It allows you to execute a block of code only if a specified condition is true.\n",
    "for # Used to iterate over a sequence (such as a list, tuple, or string) or other iterable objects.\n",
    "def # Used to define a function. It is followed by the function name and a block of code that constitutes the function body.\n",
    "while # Used to create a loop that continues executing a block of code as long as a specified condition is true.\n",
    "class # Used to define a class in object-oriented programming. A class is a blueprint for creating objects, and it encapsulates data and behavior."
   ]
  },
  {
   "cell_type": "markdown",
   "id": "5f87f6e9-0591-47ac-9c06-754757830c10",
   "metadata": {},
   "source": [
    "Q2. Describe the rules of defining identifiers in python and provide an example."
   ]
  },
  {
   "cell_type": "code",
   "execution_count": null,
   "id": "4b6dfce3-f7e1-4ba3-944c-3e902b129f43",
   "metadata": {},
   "outputs": [],
   "source": [
    "'''\n",
    "In Python, identifiers are names given to various programming elements, such as variables, functions, classes, modules, etc.\n",
    "\n",
    "Identifiers must follow certain rules to be valid:\n",
    "\n",
    "1)Start with a letter (a-z, A-Z) or an underscore (_): Identifiers can begin with a letter (uppercase or lowercase) or an underscore.\n",
    "2)Followed by letters, digits (0-9), or underscores: After the initial letter or underscore, the identifier can contain any combination of letters, digits, or underscores.\n",
    "3)Case-sensitive: Python is case-sensitive, meaning uppercase and lowercase letters are treated as distinct. For example, example and Example would be considered different identifiers.\n",
    "4)Cannot be a Python keyword: Identifiers cannot have the same name as a Python keyword, as keywords have special meanings in the language.\n",
    "'''\n",
    "\n",
    "# Valid identifiers\n",
    "variable_name = 42\n",
    "_name = \"John\"\n",
    "class_name = \"Person\"\n",
    "module_name_123 = 3.14\n",
    "\n",
    "# Invalid identifiers \n",
    "123_identifier = \"Invalid\"   # Starts with a digit\n",
    "class = \"Invalid\"           # Same as a Python keyword\n",
    "variable-name = \"Invalid\"   # Hyphen is not allowed\n"
   ]
  },
  {
   "cell_type": "markdown",
   "id": "544c3d84-b26f-4af0-a140-26618d63588f",
   "metadata": {},
   "source": [
    "Q3. What are comments in python, and why are they useful? Provide an example."
   ]
  },
  {
   "cell_type": "code",
   "execution_count": null,
   "id": "fd2d6c10-6c18-4c02-a69c-fddbe8dab5aa",
   "metadata": {},
   "outputs": [],
   "source": [
    "'''\n",
    "In Python, comments are annotations in the code that are ignored by the interpreter. \n",
    "They are used to provide additional information or explanations within the source code.\n",
    "Comments are crucial for making code more readable, understandable, and maintainable.\n",
    "They help document the code, making it easier for developers (including the original author) to comprehend the purpose and functionality of different parts of the code.\n",
    "'''\n",
    "\n",
    "# This is a single-line comment\n",
    "'''\n",
    "This is a multi-line comment (docstring).\n",
    "It can span multiple lines.\n",
    "'''"
   ]
  },
  {
   "cell_type": "markdown",
   "id": "91169d91-7ae3-4612-af64-6065cffa1ba0",
   "metadata": {},
   "source": [
    "Q4. Why is proper indentation important in Python?"
   ]
  },
  {
   "cell_type": "code",
   "execution_count": null,
   "id": "a01413bc-a712-4f24-9aaa-e35877ff4cf9",
   "metadata": {},
   "outputs": [],
   "source": [
    "'''\n",
    "Proper indentation in Python is important because it signifies the block structure of the code.\n",
    "Python uses indentation to define the scope of statements within loops, conditionals, functions, and classes.\n",
    "Correct indentation ensures that the code is logically organized and readable, and it directly affects the program's execution. \n",
    "Incorrect indentation can lead to syntax errors or, more critically, result in code behaving differently than intended.\n",
    "'''"
   ]
  },
  {
   "cell_type": "markdown",
   "id": "3298453a-7d10-4ead-af97-03fcb9bc53e8",
   "metadata": {},
   "source": [
    "Q5. What happens if indentation is incorrect in Python?"
   ]
  },
  {
   "cell_type": "code",
   "execution_count": null,
   "id": "4c562f9f-4f58-406b-883f-010664c9a9af",
   "metadata": {},
   "outputs": [],
   "source": [
    "'''\n",
    "If the indentation is incorrect in Python, it can lead to syntax errors or, more critically, result in the code behaving differently than intended. \n",
    "Python uses indentation to determine the block structure of the code, so incorrect indentation can break the logical structure of the program.\n",
    "'''\n",
    "if x > 5:\n",
    "print(\"x is greater than 5\")  # Incorrect indentation\n",
    "\n",
    "'''\n",
    "In this case, if the indentation is missing for the print statement, \n",
    "it will raise an IndentationError because Python relies on consistent indentation to define the scope of statements within control structures.\n",
    "'''\n",
    "\n",
    "if x > 5:\n",
    "    print(\"x is greater than 5\")  # Correct indentation"
   ]
  },
  {
   "cell_type": "markdown",
   "id": "e1ab0518-8ae0-427b-9c69-923ade67abfd",
   "metadata": {},
   "source": [
    "Q6. Differentiate between expression and statement in python with examples."
   ]
  },
  {
   "cell_type": "code",
   "execution_count": null,
   "id": "3e4a4e99-d784-4969-9748-4367d9230ef2",
   "metadata": {},
   "outputs": [],
   "source": [
    "'''\n",
    "Expression:\n",
    "An expression is a combination of values, variables, operators, and function calls that can be evaluated to produce a value.\n",
    "It usually returns a value and can be part of a larger expression or statement.\n",
    "'''\n",
    "x = 5  # Assignment expression\n",
    "y = x + 3  # Arithmetic expression\n",
    "is_greater = (y > 5)  # Comparison expression\n",
    "result = len(\"hello\")  # Function call expression\n",
    "\n",
    "'''\n",
    "Statement:\n",
    "A statement is a complete line of code that performs a specific action. It may or may not produce a value.\n",
    "Statements are instructions that the Python interpreter can execute.\n",
    "'''\n",
    "x = 5  # Assignment statement\n",
    "print(\"Hello, world!\")  # Print statement\n",
    "if x > 3:  # If statement\n",
    "    print(\"x is greater than 3\")\n"
   ]
  }
 ],
 "metadata": {
  "kernelspec": {
   "display_name": "Python 3 (ipykernel)",
   "language": "python",
   "name": "python3"
  },
  "language_info": {
   "codemirror_mode": {
    "name": "ipython",
    "version": 3
   },
   "file_extension": ".py",
   "mimetype": "text/x-python",
   "name": "python",
   "nbconvert_exporter": "python",
   "pygments_lexer": "ipython3",
   "version": "3.10.8"
  }
 },
 "nbformat": 4,
 "nbformat_minor": 5
}
