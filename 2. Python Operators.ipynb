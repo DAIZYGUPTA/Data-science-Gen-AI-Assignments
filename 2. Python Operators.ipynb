{
 "cells": [
  {
   "cell_type": "code",
   "execution_count": null,
   "id": "7ff68fea-17d0-4d26-986a-aee4d369a008",
   "metadata": {},
   "outputs": [],
   "source": [
    "'''\n",
    "Assignment 2 - Python Operators\n",
    "'''"
   ]
  },
  {
   "cell_type": "markdown",
   "id": "6a2baa6c-923b-4261-b91b-44c91359d08c",
   "metadata": {},
   "source": [
    "Q1. Calculate the sum, difference,product, and quotient of two numbers."
   ]
  },
  {
   "cell_type": "code",
   "execution_count": 3,
   "id": "76051351-a28d-41e0-b64a-6929900321c8",
   "metadata": {},
   "outputs": [
    {
     "name": "stdout",
     "output_type": "stream",
     "text": [
      "sum of two numbers is : 30 \n",
      "difference of two numbers is : 10 \n",
      "product of two numbers is : 200 \n",
      "quotient of two numbers is : 2\n"
     ]
    }
   ],
   "source": [
    "num1 = 20\n",
    "num2 = 10\n",
    "\n",
    "# sum\n",
    "add = num1 + num2\n",
    "\n",
    "# difference\n",
    "dif = num1 - num2\n",
    "\n",
    "# product\n",
    "prod = num1 * num2\n",
    "\n",
    "# quotient\n",
    "quot = num1//num2\n",
    "\n",
    "print(f\"sum of two numbers is : {add} \\ndifference of two numbers is : {dif} \\nproduct of two numbers is : {prod} \\nquotient of two numbers is : {quot}\")"
   ]
  },
  {
   "cell_type": "markdown",
   "id": "8484a863-7a49-446b-a158-453afa429331",
   "metadata": {},
   "source": [
    "Q2. Perform various assignment operations on a variable."
   ]
  },
  {
   "cell_type": "code",
   "execution_count": 2,
   "id": "c12b697d-0f61-4276-b325-2fa8dc70d9d4",
   "metadata": {},
   "outputs": [
    {
     "name": "stdout",
     "output_type": "stream",
     "text": [
      "Initial value of x: 5\n",
      "After x += 3: 8\n",
      "After x -= 2: 6\n",
      "After x *= 4: 24\n",
      "After x /= 2: 12.0\n",
      "After x //= 3: 4.0\n",
      "After x %= 2: 0.0\n",
      "After x **= 3: 0.0\n"
     ]
    }
   ],
   "source": [
    "# Initialization\n",
    "x = 5\n",
    "print(\"Initial value of x:\", x)\n",
    "\n",
    "# Addition assignment\n",
    "x += 3\n",
    "print(\"After x += 3:\", x)\n",
    "\n",
    "# Subtraction assignment\n",
    "x -= 2\n",
    "print(\"After x -= 2:\", x)\n",
    "\n",
    "# Multiplication assignment\n",
    "x *= 4\n",
    "print(\"After x *= 4:\", x)\n",
    "\n",
    "# Division assignment\n",
    "x /= 2\n",
    "print(\"After x /= 2:\", x)\n",
    "\n",
    "# Floor Division assignment\n",
    "x //= 3\n",
    "print(\"After x //= 3:\", x)\n",
    "\n",
    "# Modulus assignment\n",
    "x %= 2\n",
    "print(\"After x %= 2:\", x)\n",
    "\n",
    "# Exponentiation assignment\n",
    "x **= 3\n",
    "print(\"After x **= 3:\", x)"
   ]
  },
  {
   "cell_type": "markdown",
   "id": "c5528817-f758-4b7c-b189-5e516eea5a05",
   "metadata": {},
   "source": [
    "Q3. Compare two numbers and print the results."
   ]
  },
  {
   "cell_type": "code",
   "execution_count": 8,
   "id": "88c6fe31-6755-4abd-be2c-c5848c4f855d",
   "metadata": {},
   "outputs": [
    {
     "name": "stdin",
     "output_type": "stream",
     "text": [
      "enter first number:  10\n",
      "enter second number:  10\n"
     ]
    },
    {
     "name": "stdout",
     "output_type": "stream",
     "text": [
      "given numbers are equal\n"
     ]
    }
   ],
   "source": [
    "num1 = int(input(\"enter first number: \"))\n",
    "num2 = int(input(\"enter second number: \"))\n",
    "\n",
    "# comparing the numbers\n",
    "if num1 == num2 :\n",
    "    print(\"given numbers are equal\")\n",
    "else:\n",
    "    print(\"given numbers are not equal\")"
   ]
  },
  {
   "cell_type": "markdown",
   "id": "88b4f212-abae-4348-a972-b3d4f8b4a64e",
   "metadata": {},
   "source": [
    "Q4. Check conditions using logical operators."
   ]
  },
  {
   "cell_type": "code",
   "execution_count": 9,
   "id": "7b7f8c85-b939-4d63-ab17-48dccf0c6172",
   "metadata": {},
   "outputs": [
    {
     "name": "stdin",
     "output_type": "stream",
     "text": [
      "enter first number:  10\n",
      "enter second number:  -10\n"
     ]
    },
    {
     "name": "stdout",
     "output_type": "stream",
     "text": [
      "At least one of x or y is negative.\n",
      "x is not equal to y.\n"
     ]
    }
   ],
   "source": [
    "x = int(input(\"enter first number: \"))\n",
    "y = int(input(\"enter second number: \"))\n",
    "\n",
    "# Using logical AND\n",
    "if x > 0 and y > 0:\n",
    "    print(\"Both x and y are positive.\")\n",
    "\n",
    "# Using logical OR\n",
    "if x < 0 or y < 0:\n",
    "    print(\"At least one of x or y is negative.\")\n",
    "\n",
    "# Using logical NOT\n",
    "if not (x == y):\n",
    "    print(\"x is not equal to y.\")"
   ]
  },
  {
   "cell_type": "markdown",
   "id": "cb637572-f9bc-4052-98f2-5f01b430c2f4",
   "metadata": {},
   "source": [
    "Q5. Check the identity of variables."
   ]
  },
  {
   "cell_type": "code",
   "execution_count": 10,
   "id": "a9dface7-27fe-4e71-9a32-a3268d097497",
   "metadata": {},
   "outputs": [
    {
     "name": "stdout",
     "output_type": "stream",
     "text": [
      "a and b refer to the same object.\n"
     ]
    }
   ],
   "source": [
    "a = [1, 2, 3]\n",
    "b = a  \n",
    "\n",
    "# Checking identity using is\n",
    "if a is b:\n",
    "    print(\"a and b refer to the same object.\")\n",
    "else:\n",
    "    print(\"a and b do not refer to the same object.\")"
   ]
  },
  {
   "cell_type": "markdown",
   "id": "960cbd4e-1777-485a-983f-e7312d1f44a6",
   "metadata": {},
   "source": [
    "Q6. Perform bitwise operations on any two integers."
   ]
  },
  {
   "cell_type": "code",
   "execution_count": 11,
   "id": "608802c4-ccfe-4c30-a5c5-8122e58545be",
   "metadata": {},
   "outputs": [
    {
     "name": "stdout",
     "output_type": "stream",
     "text": [
      "Bitwise AND: 7 (binary: 0b111)\n",
      "Bitwise OR: 15 (binary: 0b1111)\n",
      "Bitwise XOR: 8 (binary: 0b1000)\n",
      "Bitwise NOT for num1: -16 (binary: -0b10000)\n",
      "Left shift by 2 for num1: 60 (binary: 0b111100)\n",
      "Right shift by 2 for num1: 3 (binary: 0b11)\n"
     ]
    }
   ],
   "source": [
    "num1 = 15  # binary: 0b1111\n",
    "num2 = 7   # binary: 0b0111\n",
    "\n",
    "# Bitwise AND\n",
    "result_and = num1 & num2\n",
    "print(f\"Bitwise AND: {result_and} (binary: {bin(result_and)})\")\n",
    "\n",
    "# Bitwise OR\n",
    "result_or = num1 | num2\n",
    "print(f\"Bitwise OR: {result_or} (binary: {bin(result_or)})\")\n",
    "\n",
    "# Bitwise XOR\n",
    "result_xor = num1 ^ num2\n",
    "print(f\"Bitwise XOR: {result_xor} (binary: {bin(result_xor)})\")\n",
    "\n",
    "# Bitwise NOT\n",
    "result_not_num1 = ~num1\n",
    "print(f\"Bitwise NOT for num1: {result_not_num1} (binary: {bin(result_not_num1)})\")\n",
    "\n",
    "# Left shift\n",
    "result_left_shift = num1 << 2\n",
    "print(f\"Left shift by 2 for num1: {result_left_shift} (binary: {bin(result_left_shift)})\")\n",
    "\n",
    "# Right shift\n",
    "result_right_shift = num1 >> 2\n",
    "print(f\"Right shift by 2 for num1: {result_right_shift} (binary: {bin(result_right_shift)})\")"
   ]
  },
  {
   "cell_type": "markdown",
   "id": "493af32f-dfb1-4bce-a79f-8d6cfd3e43a4",
   "metadata": {},
   "source": [
    "Q7. Use unary operators to change the sign of a number."
   ]
  },
  {
   "cell_type": "code",
   "execution_count": 12,
   "id": "8bc27a76-ca87-4ca6-9204-7066f8ad3e18",
   "metadata": {},
   "outputs": [
    {
     "name": "stdin",
     "output_type": "stream",
     "text": [
      "enter the number:  10\n"
     ]
    },
    {
     "name": "stdout",
     "output_type": "stream",
     "text": [
      "Original number: 10\n",
      "Number after changing the sign: -10\n"
     ]
    }
   ],
   "source": [
    "num = int(input(\"enter the number: \"))\n",
    "print(f\"Original number: {num}\")\n",
    "\n",
    "# Change the sign using unary operator -\n",
    "changed_sign = -num   \n",
    "print(f\"Number after changing the sign: {changed_sign}\")"
   ]
  },
  {
   "cell_type": "markdown",
   "id": "8bff98bb-f850-454c-9896-3855fe9acad8",
   "metadata": {},
   "source": [
    "Q8. Use the ternary operator to assign values based on conditions. "
   ]
  },
  {
   "cell_type": "code",
   "execution_count": 13,
   "id": "550bbf25-ddac-4374-bafc-2ec38b91e016",
   "metadata": {},
   "outputs": [
    {
     "name": "stdout",
     "output_type": "stream",
     "text": [
      "The number is Even.\n"
     ]
    }
   ],
   "source": [
    "is_even = True\n",
    "\n",
    "# Ternary operator to assign a value based on the condition\n",
    "result = \"Even\" if is_even else \"Odd\"\n",
    "\n",
    "print(f\"The number is {result}.\")"
   ]
  },
  {
   "cell_type": "code",
   "execution_count": null,
   "id": "71702468-a5cb-4f7b-a9d9-c458d66c5bb6",
   "metadata": {},
   "outputs": [],
   "source": []
  }
 ],
 "metadata": {
  "kernelspec": {
   "display_name": "Python 3 (ipykernel)",
   "language": "python",
   "name": "python3"
  },
  "language_info": {
   "codemirror_mode": {
    "name": "ipython",
    "version": 3
   },
   "file_extension": ".py",
   "mimetype": "text/x-python",
   "name": "python",
   "nbconvert_exporter": "python",
   "pygments_lexer": "ipython3",
   "version": "3.10.8"
  }
 },
 "nbformat": 4,
 "nbformat_minor": 5
}
