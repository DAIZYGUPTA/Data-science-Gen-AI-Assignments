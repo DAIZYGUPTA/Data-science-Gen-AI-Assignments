{
 "cells": [
  {
   "cell_type": "code",
   "execution_count": null,
   "id": "679fbba5-f3ea-4cf0-a5d0-b2635e28f2f3",
   "metadata": {},
   "outputs": [],
   "source": [
    "'''\n",
    "Module 10 - Exception Handling and Memory Management\n",
    "Assignment - Files Handling\n",
    "3 April\n",
    "'''"
   ]
  },
  {
   "cell_type": "code",
   "execution_count": 27,
   "id": "c268acc4-a1c9-4a73-856a-dcc92d0f5913",
   "metadata": {},
   "outputs": [],
   "source": [
    "# writing to a file>> file1.txt\n",
    "with open(\"file1.txt\" , \"w\") as f:\n",
    "    f.write(\"Hello\\n\")\n",
    "    f.write(\"This is my first file named as file1\\n\")"
   ]
  },
  {
   "cell_type": "markdown",
   "id": "2fef52b7-6ca3-45a9-9c4f-4968939e65e2",
   "metadata": {},
   "source": [
    "Q1. Write a code to read the contents of a file in Python."
   ]
  },
  {
   "cell_type": "code",
   "execution_count": 28,
   "id": "c448477a-e5cd-4ed4-a1f7-ec0ccea22718",
   "metadata": {},
   "outputs": [
    {
     "name": "stdout",
     "output_type": "stream",
     "text": [
      "File opened successfully.\n",
      "Contents of the file:\n",
      "Hello\n",
      "This is my first file named as file1\n",
      "\n"
     ]
    }
   ],
   "source": [
    "try:\n",
    "    with open(\"file1.txt\" , \"r\") as f:\n",
    "        print(\"File opened successfully.\")\n",
    "        w=f.read()\n",
    "        print(\"Contents of the file:\") \n",
    "        print(w)\n",
    "except FileNotFoundError:\n",
    "    print(\"File Not Found.\")\n",
    "except Exception as e:\n",
    "    print(\"An error occurred :\" , e)"
   ]
  },
  {
   "cell_type": "markdown",
   "id": "15e91570-c741-46c7-b398-88f55ccd1e27",
   "metadata": {},
   "source": [
    "Q2. Write a code to write to a file in Python"
   ]
  },
  {
   "cell_type": "code",
   "execution_count": 23,
   "id": "70edac1a-5e7b-4407-b85b-03756f34c0be",
   "metadata": {},
   "outputs": [],
   "source": [
    "with open(\"file2.txt\" , \"w\") as f:\n",
    "    f.write(\"Hello\\n\")\n",
    "    f.write(\"This is my second file named as file2\")"
   ]
  },
  {
   "cell_type": "code",
   "execution_count": 24,
   "id": "02473c89-40a3-419a-910c-b8a93f71c591",
   "metadata": {},
   "outputs": [
    {
     "name": "stdout",
     "output_type": "stream",
     "text": [
      "Hello\n",
      "This is my second file named as file2\n"
     ]
    }
   ],
   "source": [
    "# reading the content of above file>> file2.txt\n",
    "with open(\"file2.txt\" , \"r\") as f:\n",
    "    r = f.read()\n",
    "    print(r)"
   ]
  },
  {
   "cell_type": "markdown",
   "id": "5389b777-fef1-4180-b458-f0ecfb8d60ee",
   "metadata": {},
   "source": [
    "Q3. Write a code to append to a file in Python."
   ]
  },
  {
   "cell_type": "code",
   "execution_count": 29,
   "id": "a65e5ee0-b76d-4629-a93d-a9a4690fa469",
   "metadata": {},
   "outputs": [],
   "source": [
    "try:\n",
    "    with open(\"file1.txt\" , \"a\") as f:\n",
    "        f.write(\"I am adding another line in existing file\\n\")\n",
    "        f.write(\"this is another line in 1st file named as file1.txt\")\n",
    "except FileNotFoundError:\n",
    "    print(\"File not found\")\n",
    "except Exception as e:\n",
    "    print(\"An error occurred :\" , e)"
   ]
  },
  {
   "cell_type": "code",
   "execution_count": 30,
   "id": "e6e6b03f-dee8-458a-9568-e62cd464f96e",
   "metadata": {},
   "outputs": [
    {
     "name": "stdout",
     "output_type": "stream",
     "text": [
      "Hello\n",
      "This is my first file named as file1\n",
      "I am adding another line in existing file\n",
      "this is another line in 1st file named as file1.txt\n"
     ]
    }
   ],
   "source": [
    "# reading the content of above file>> file1.txt\n",
    "with open(\"file1.txt\" , \"r\") as f:\n",
    "    r = f.read()\n",
    "    print(r)"
   ]
  },
  {
   "cell_type": "markdown",
   "id": "49eb54fd-02b4-4bd3-9042-e828bc3a798f",
   "metadata": {},
   "source": [
    "Q4. Write a code to read a binary file in Python."
   ]
  },
  {
   "cell_type": "code",
   "execution_count": 31,
   "id": "124e149a-702d-4cd1-8506-99a2542b9116",
   "metadata": {},
   "outputs": [],
   "source": [
    "# binary files \n",
    "\n",
    "with open(\"file_bin.bin\" , \"wb\") as f:\n",
    "    f.write(b\"\\x48\\x65\\x6c\\x6c\\x6f\\x2c\\x20\\x57\\x6f\\x72\\x6c\\x64\\x21\")"
   ]
  },
  {
   "cell_type": "code",
   "execution_count": 32,
   "id": "62ad9d9b-0ef1-4680-8837-78ef972c40dc",
   "metadata": {},
   "outputs": [
    {
     "name": "stdout",
     "output_type": "stream",
     "text": [
      "b'Hello, World!'\n"
     ]
    }
   ],
   "source": [
    "# to read the content of above binary file \n",
    "\n",
    "with open(\"file_bin.bin\" , \"rb\") as f:\n",
    "    print(f.read())\n",
    "    "
   ]
  },
  {
   "cell_type": "markdown",
   "id": "1854cca3-2043-4f8c-9b17-1e42e82dcdc6",
   "metadata": {},
   "source": [
    "Q5. What happens if we don't use ”with” keyword with ”open” in python?"
   ]
  },
  {
   "cell_type": "code",
   "execution_count": null,
   "id": "96b01220-e248-422f-b3ba-b239fabd85d8",
   "metadata": {},
   "outputs": [],
   "source": [
    "\"\"\"\n",
    "If we don't use the with keyword with open in Python, we have to manage the file's open and close operations manually.\n",
    "This means we'll have to explicitly close the file after we're done with it.\n",
    "Failing to do so may lead to issues such as resource leaks, \n",
    "where the file remains open and consumes system resources unnecessarily.\n",
    "\"\"\"\n",
    "# Example:\n",
    "\n",
    "file = open(\"example.txt\", \"r\")\n",
    "try:\n",
    "    # Perform operations with the file\n",
    "    content = file.read()\n",
    "    print(content)\n",
    "finally:\n",
    "    # Close the file\n",
    "    file.close()  # We explicitly close the file using the close() method in a finally block, ensuring that it's closed regardless of whether an exception occurs.\n",
    "\n",
    "\n",
    "with open(\"example.txt\", \"r\") as file:\n",
    "    content = file.read()\n",
    "    print(content)  #In this version, the file is automatically closed when the with block exits, whether due to normal execution or an exception. This makes the code cleaner and reduces the risk of resource leaks.\n"
   ]
  },
  {
   "cell_type": "markdown",
   "id": "9be40e1f-c399-4253-b751-d4a1aa0df2c7",
   "metadata": {},
   "source": [
    "Q6. Explain the concept of buffering in file handling and how it helps in improving read and write operations."
   ]
  },
  {
   "cell_type": "code",
   "execution_count": null,
   "id": "644762d9-ed6d-4a1f-8719-9e425926d228",
   "metadata": {},
   "outputs": [],
   "source": [
    "\"\"\"\n",
    "Buffering is a technique used in file handling to improve the efficiency of read and write operations\n",
    "by reducing the number of interactions with the underlying file system.\n",
    "\n",
    "When you perform read or write operations on a file, the data is typically transferred\n",
    "between your program and the physical storage device, such as a hard disk or solid-state drive.\n",
    "Each interaction with the file system involves some overhead, including disk I/O operations,\n",
    "which can be relatively slow compared to in-memory operations.\n",
    "\n",
    "Buffering involves temporarily storing data in a memory buffer before it's written to or read from the file.\n",
    "Instead of immediately writing or reading small chunks of data directly to or from the file,\n",
    "the data is accumulated in the buffer until it reaches a certain size or until a specific condition triggers a flush operation.\n",
    "\n",
    "Here's how buffering helps in improving read and write operations:\n",
    "\n",
    "1)Reduced Disk I/O Operations: By accumulating data in a buffer before writing it to the file,\n",
    "                               multiple smaller write operations can be combined into a single larger write operation. \n",
    "                               This reduces the number of disk I/O operations, which can significantly improve performance,\n",
    "                               especially for large files or when dealing with slow storage devices.\n",
    "2)Optimized System Calls:      Buffering reduces the frequency of system calls required to read from or write to the file.\n",
    "                               Instead of making a system call for each individual read or write operation,\n",
    "                               multiple operations can be batched together and performed in a single system call, reducing overhead.\n",
    "3)Improved Throughput:         Buffering allows your program to continue executing while data is being read from\n",
    "                               or written to the file asynchronously in the background.\n",
    "                               This overlap of computation and I/O operations can lead to improved overall throughput\n",
    "                               and responsiveness of your program.\n",
    "4)Minimized Locking Overhead:  When multiple processes or threads are accessing the same file concurrently, \n",
    "                               buffering can help reduce contention and locking overhead by allowing each process\n",
    "                               or thread to operate on its own buffer independently.\n",
    "\"\"\"\n",
    "\n"
   ]
  },
  {
   "cell_type": "markdown",
   "id": "baeb42ca-7b32-4917-a542-8d1d44093724",
   "metadata": {},
   "source": [
    "Q7. Describe the steps involved in implementing buffered file handling in a programming language of your choice."
   ]
  },
  {
   "cell_type": "code",
   "execution_count": 40,
   "id": "374a2a4c-f0fc-4ff4-a67a-0144ea9b8a0a",
   "metadata": {},
   "outputs": [],
   "source": [
    "\"\"\"\n",
    "1)Open the File:               Use the open() function to open the file in the desired mode (read, write, or append).\n",
    "                               You can specify the buffering behavior by passing the buffering parameter,\n",
    "                               which determines how data is buffered during read and write operations.\n",
    "2)Perform File Operations:     Read from or write to the file as needed.\n",
    "                               Python's file objects provide methods like read(), write(), readline(), etc.,\n",
    "                               for performing file operations. Data is accumulated in the buffer \n",
    "                               instead of immediately being written to or read from the file.\n",
    "3)Flush the Buffer (Optional): Depending on the buffering mode, the buffer may be automatically flushed\n",
    "                               under certain conditions (e.g., when it's full or when the file is closed). \n",
    "                               However, you can manually flush the buffer using the flush() method to ensure that\n",
    "                               any pending data is written to the file immediately.\n",
    "4)Close the File:              When you're done with the file, close it using the close() method.\n",
    "                               This will ensure that any remaining data in the buffer is flushed to the file\n",
    "                               and that system resources associated with the file are released properly.\n",
    "\"\"\"\n",
    "\n",
    "# Example:\n",
    "\n",
    "# Open the file with buffering enabled (default buffer size)\n",
    "with open(\"buff_example.txt\", \"w\") as file:\n",
    "    # Write data to the file (data is buffered)\n",
    "    file.write(\"Hello, World!\\n\")\n",
    "    file.write(\"This is a buffered file handling example.\\n\")\n",
    "    # No need to flush the buffer explicitly; it will be flushed when the file is closed\n",
    "    \n",
    "# Open the file again for reading (buffering disabled)\n",
    "with open(\"buff_example.txt\", \"r\", buffering=0) as file:\n",
    "    # Read data from the file (data is not buffered)\n",
    "    contents = file.read()\n",
    "    print(\"File contents:\", contents)\n",
    "    \n",
    "# Open the file again with a larger buffer size\n",
    "with open(\"buff_example.txt\", \"a\", buffering=8192) as file:\n",
    "    # Append data to the file (data is buffered with a larger buffer size)\n",
    "    file.write(\"Appending more data to the file.\\n\")\n",
    "    # Flush the buffer explicitly to ensure data is written immediately\n",
    "    file.flush()\n",
    "    "
   ]
  },
  {
   "cell_type": "markdown",
   "id": "007f3384-142f-4d8d-a790-df8c03961abd",
   "metadata": {},
   "source": [
    "Q8. Write a Python function to read a text file using buffered reading and return its contents."
   ]
  },
  {
   "cell_type": "code",
   "execution_count": 43,
   "id": "2bdc64d3-be3b-4a86-ba5b-782e700f11e5",
   "metadata": {},
   "outputs": [
    {
     "name": "stdout",
     "output_type": "stream",
     "text": [
      "File contents:\n",
      "Hello\n",
      "This is my second file named as file2\n"
     ]
    }
   ],
   "source": [
    "try:\n",
    "    buffer_size = 8192  # Set the buffer size (optional)\n",
    "\n",
    "    with open(\"file2.txt\", 'r', buffering=buffer_size) as file:\n",
    "        contents = file.read()\n",
    "\n",
    "    print(\"File contents:\")\n",
    "    print(contents)\n",
    "\n",
    "except FileNotFoundError:\n",
    "    print(\"File not found.\")\n",
    "except Exception as e:\n",
    "    print(\"An error occurred:\", e)\n"
   ]
  },
  {
   "cell_type": "markdown",
   "id": "f0fb184b-cfc9-4ae1-b8bd-17f108908aec",
   "metadata": {},
   "source": [
    "Q9. What are the advantages of using buffered reading over direct file reading in Python?"
   ]
  },
  {
   "cell_type": "code",
   "execution_count": null,
   "id": "b03c153f-ad6a-44a1-b04f-eae2ba14d9f7",
   "metadata": {},
   "outputs": [],
   "source": [
    "\"\"\"\n",
    "1)Improved Performance: Buffered reading reduces the number of interactions with the underlying file system\n",
    "                        by accumulating data in memory before performing I/O operations.\n",
    "                        This can lead to significant performance improvements,\n",
    "                         especially when reading large files or performing frequent read operations.\n",
    "2)Reduced System Calls: Buffered reading minimizes the frequency of system calls required to read data from the file.\n",
    "                        Instead of making a system call for each individual read operation,\n",
    "                        data is read in larger chunks, reducing the overhead associated with system calls.\n",
    "3)Optimized Disk I/O:   Buffering allows multiple smaller read operations to be combined into a single larger read operation,\n",
    "                        optimizing disk I/O by reducing the number of read requests sent to the storage device.\n",
    "                        This can result in more efficient utilization of disk bandwidth and reduced latency.\n",
    "4)Improved Throughput:  Buffered reading enables overlapping of I/O operations with other computations,\n",
    "                        leading to improved overall throughput and responsiveness of the program.\n",
    "                        While data is being read from the file asynchronously in the background,\n",
    "                        the program can continue executing other tasks.\n",
    "5)Control Over Buffering Parameters: Python provides flexibility in controlling buffering parameters\n",
    "                                     such as buffer size and buffering mode (buffering parameter in the open() function).\n",
    "                                     This allows developers to fine-tune the buffering behavior based on\n",
    "                                     their specific requirements and performance considerations.\n",
    "6)Reduced Locking Overhead:          Buffered reading can help reduce contention and locking overhead when\n",
    "                                     multiple processes or threads are accessing the same file concurrently.\n",
    "                                     Each process or thread can operate on its own buffer independently,\n",
    "                                     minimizing the need for synchronization mechanisms.\n",
    "\n",
    "Overall, buffered reading offers performance improvements, reduced system overhead,\n",
    "and increased flexibility compared to direct file reading in Python.\n",
    "It's a fundamental optimization technique that can significantly enhance the efficiency\n",
    "of file I/O operations in various applications.\n",
    "\"\"\""
   ]
  },
  {
   "cell_type": "markdown",
   "id": "c0adee89-82c1-46ec-9f98-e121e338884e",
   "metadata": {},
   "source": [
    "Q10. Write a Python code snippet to append content to a file using buffered writing"
   ]
  },
  {
   "cell_type": "code",
   "execution_count": 1,
   "id": "41742d1e-1a5e-4b99-a451-03944d4143af",
   "metadata": {},
   "outputs": [
    {
     "name": "stdout",
     "output_type": "stream",
     "text": [
      "Content appended to the file successfully.\n"
     ]
    }
   ],
   "source": [
    "try:\n",
    "    # Open the file in append mode with buffered writing\n",
    "    with open(\"file2.txt\" , \"a\" , buffering = 8192) as f:\n",
    "        # Write the content to the file\n",
    "        f.write(\"This is the new content to append to the file.\\n\")\n",
    "        \n",
    "    print(\"Content appended to the file successfully.\")\n",
    "except FileNotFoundError:\n",
    "    print(\"File not found.\")\n",
    "except Exception as e:\n",
    "    print(\"An error occurred:\", e)"
   ]
  },
  {
   "cell_type": "markdown",
   "id": "8624dd40-24c3-4a84-bde0-a55f48b8bbe0",
   "metadata": {},
   "source": [
    "Q11. Write a Python function that demonstrates the use of close() method on a file."
   ]
  },
  {
   "cell_type": "code",
   "execution_count": 1,
   "id": "93d081bd-4135-4f2a-a1b9-30ca3bd3b232",
   "metadata": {},
   "outputs": [
    {
     "name": "stdout",
     "output_type": "stream",
     "text": [
      "Content written to the file successfully.\n",
      "File closed.\n"
     ]
    }
   ],
   "source": [
    "try:\n",
    "    file = open(\"file3.txt\" , \"w\")\n",
    "    \n",
    "     # Write content to the file\n",
    "    file.write(\"Hello\\n\")\n",
    "    file.write(\"this is my 3rd file\\n \")\n",
    "    print(\"Content written to the file successfully.\")\n",
    "    \n",
    "     # Close the file\n",
    "    file.close()\n",
    "    print(\"File closed.\")\n",
    "\n",
    "except FileNotFoundError:\n",
    "    print(\"File not found.\")\n",
    "except Exception as e:\n",
    "    print(\"An error occurred:\", e)\n",
    "    \n",
    "    "
   ]
  },
  {
   "cell_type": "markdown",
   "id": "22583c65-95c5-4178-b783-9cea81fc6b96",
   "metadata": {},
   "source": [
    "Q12. Create a Python function to showcase the detach() method on a file object."
   ]
  },
  {
   "cell_type": "code",
   "execution_count": 2,
   "id": "cac5b73d-db15-460d-a9c4-7ee7a3db300f",
   "metadata": {},
   "outputs": [
    {
     "name": "stdout",
     "output_type": "stream",
     "text": [
      "An error occurred: underlying buffer has been detached\n"
     ]
    }
   ],
   "source": [
    "\"\"\"\n",
    "The detach() method in Python is used to detach the underlying raw stream from the TextIOBase (text-mode)\n",
    "or BufferedIOBase (binary-mode) file object. This allows you to replace the file object's underlying stream with another stream.\n",
    "This can be useful in scenarios where you want to continue using the file object with a different stream,\n",
    "such as a different file or a custom stream.\n",
    "\n",
    "\"\"\"\n",
    "\n",
    "# Example:\n",
    "\n",
    "try:\n",
    "    # Open the file in read mode\n",
    "    with open(\"file3.txt\" , \"r\") as file:\n",
    "        # Detach the file object's underlying raw stream\n",
    "        raw_stream = file.detach()\n",
    "\n",
    "    # Print the detached raw stream\n",
    "    print(\"Raw stream detached from the file object:\", raw_stream)\n",
    "\n",
    "    # we can now use the raw stream as needed\n",
    "    # For example, we can pass it to another file object or use it directly\n",
    "\n",
    "except FileNotFoundError:\n",
    "    print(\"File not found.\")\n",
    "except Exception as e:\n",
    "    print(\"An error occurred:\", e)\n"
   ]
  },
  {
   "cell_type": "markdown",
   "id": "3e4a56c1-baca-4d27-8f60-a7035dd73a80",
   "metadata": {},
   "source": [
    "Q13.  Write a Python function to demonstrates the use of seek() method to change the file position. "
   ]
  },
  {
   "cell_type": "code",
   "execution_count": 5,
   "id": "f262b9a9-de28-4ef9-830c-f4bee0170c88",
   "metadata": {},
   "outputs": [
    {
     "name": "stdout",
     "output_type": "stream",
     "text": [
      "Content part 1: Hello\n",
      "this\n",
      "Content part 2: is my 3rd file\n",
      "\n"
     ]
    }
   ],
   "source": [
    "try:\n",
    "    # Open the file in read mode\n",
    "    with open(\"file3.txt\", 'r') as file:\n",
    "        # Read and print the content of the first 10 characters\n",
    "        content_part1 = file.read(10)\n",
    "        print(\"Content part 1:\", content_part1)\n",
    "\n",
    "        # Use seek() to change the file position \n",
    "        file.seek(11)\n",
    "\n",
    "        # Read and print the content of the next characters\n",
    "        content_part2 = file.read(15)\n",
    "        print(\"Content part 2:\", content_part2)\n",
    "\n",
    "except FileNotFoundError:\n",
    "    print(\"File not found.\")\n",
    "except Exception as e:\n",
    "    print(\"An error occurred:\", e)\n"
   ]
  },
  {
   "cell_type": "markdown",
   "id": "61985f6b-e5c0-41de-aa79-0eb23515bef6",
   "metadata": {},
   "source": [
    "Q14. Create a python function to return the file descriptor (integer number) of a file using the fileno() method."
   ]
  },
  {
   "cell_type": "code",
   "execution_count": 6,
   "id": "69afedf1-9d19-48a5-bfa6-0f7d57bf71eb",
   "metadata": {},
   "outputs": [
    {
     "name": "stdout",
     "output_type": "stream",
     "text": [
      "File Descriptor: 64\n"
     ]
    }
   ],
   "source": [
    "def get_file_descriptor(file_obj):\n",
    "    \"\"\"\n",
    "    Returns the file descriptor of a file.\n",
    "\n",
    "    Args:\n",
    "    file_obj (file object): The file object whose file descriptor is to be retrieved.\n",
    "\n",
    "    Returns:\n",
    "    int: The file descriptor of the file.\n",
    "    \"\"\"\n",
    "    return file_obj.fileno()\n",
    "\n",
    "  # Example usage:\n",
    "  # Open a file\n",
    "file = open(\"file3.txt\", \"r\")\n",
    "  # Get the file descriptor\n",
    "fd = get_file_descriptor(file)\n",
    "print(\"File Descriptor:\", fd)\n",
    "  # close the file when done\n",
    "file.close()\n"
   ]
  },
  {
   "cell_type": "markdown",
   "id": "d09d4838-f286-44a6-8427-e338a140b6e6",
   "metadata": {},
   "source": [
    "Q15. Write a Python function to return the current position of the file's object using the tell() method."
   ]
  },
  {
   "cell_type": "code",
   "execution_count": 7,
   "id": "304ef427-c20e-494c-abec-18a77baf2030",
   "metadata": {},
   "outputs": [
    {
     "name": "stdout",
     "output_type": "stream",
     "text": [
      "Current Position: 0\n"
     ]
    }
   ],
   "source": [
    "def get_current_position(file_obj):\n",
    "    \"\"\"\n",
    "    Returns the current position of the file's object.\n",
    "\n",
    "    Args:\n",
    "    file_obj (file object): The file object whose current position is to be retrieved.\n",
    "\n",
    "    Returns:\n",
    "    int: The current position of the file's object.\n",
    "    \"\"\"\n",
    "    return file_obj.tell()\n",
    "\n",
    "  # Example usage:\n",
    "  # Open a file\n",
    "file = open(\"file3.txt\", \"r\")\n",
    "  # Get the current position\n",
    "position = get_current_position(file)\n",
    "print(\"Current Position:\", position)\n",
    "  #close the file when done\n",
    "file.close()\n"
   ]
  },
  {
   "cell_type": "markdown",
   "id": "1e48503e-23ce-4b47-b634-823a6e717314",
   "metadata": {},
   "source": [
    "Q16. Create a python program that logs a message to a file using the logging module."
   ]
  },
  {
   "cell_type": "code",
   "execution_count": 8,
   "id": "df0b598b-484a-4562-b3b8-c61460eed48c",
   "metadata": {},
   "outputs": [
    {
     "name": "stdout",
     "output_type": "stream",
     "text": [
      "Name: John, Age: 18, Grade: A\n"
     ]
    }
   ],
   "source": [
    "import logging\n",
    "\n",
    "# Configure logging to write messages to a file\n",
    "logging.basicConfig(filename='student.log', level=logging.INFO, format='%(asctime)s - %(levelname)s - %(message)s')\n",
    "\n",
    "class Student:\n",
    "    def __init__(self, name, age, grade):\n",
    "        self.name = name\n",
    "        self.age = age\n",
    "        self.grade = grade\n",
    "\n",
    "    def display_info(self):\n",
    "        info = f\"Name: {self.name}, Age: {self.age}, Grade: {self.grade}\"\n",
    "        print(info)\n",
    "        logging.info(info)\n",
    "\n",
    "# Example usage\n",
    "if __name__ == \"__main__\":\n",
    "    # Create a Student object\n",
    "    student1 = Student(\"John\", 18, \"A\")\n",
    "\n",
    "    # Display student information and log it\n",
    "    student1.display_info()\n"
   ]
  },
  {
   "attachments": {
    "af6b87f8-3a27-40d8-8335-cb782c4de6f5.png": {
     "image/png": "[encoded data removed]"
    }
   },
   "cell_type": "markdown",
   "id": "04ec297d-6a21-4281-998d-0e280e8dfde5",
   "metadata": {},
   "source": [
    "![Screenshot 2024-04-25 143111.png](attachment:af6b87f8-3a27-40d8-8335-cb782c4de6f5.png)"
   ]
  },
  {
   "cell_type": "markdown",
   "id": "4d3efc3d-c38d-4d6a-afae-1c4b29624767",
   "metadata": {},
   "source": [
    "Q17. Explain the importance of logging levels in Python's logging module."
   ]
  },
  {
   "cell_type": "code",
   "execution_count": null,
   "id": "1683e5da-57c3-42e7-b69b-08abccd3200b",
   "metadata": {},
   "outputs": [],
   "source": [
    "\"\"\"\n",
    "The importance of logging levels in Python's logging module lies in their ability to provide a\n",
    "structured approach to managing and filtering log messages based on their severity or significance.\n",
    "Here are some key reasons why logging levels are important:\n",
    "\n",
    "1)Granular Control: Logging levels allow developers to categorize log messages based on their severity,\n",
    "                    ranging from the most severe (critical errors) to the least severe (debugging information).\n",
    "                    This provides granular control over what types of messages are emitted by the application.\n",
    "2)Clarity and Readability: By using appropriate logging levels, log messages convey the severity of the event being logged.\n",
    "                           This makes logs more readable and helps developers quickly identify and prioritize issues\n",
    "                           during troubleshooting.\n",
    "3)Filtering and Scalability: Logging levels enable filtering of log messages based on severity levels.\n",
    "                             This is particularly useful in large-scale applications where a high volume of log messages is generated.\n",
    "                             Developers can configure the logging system to only display messages of a certain severity level or higher,\n",
    "                             reducing noise and focusing on relevant information.\n",
    "4)Debugging and Maintenance: During development and debugging, developers can use different logging levels\n",
    "                             to provide varying levels of detail about the application's behavior.\n",
    "                             They can start with more verbose logging during development\n",
    "                             and then dial it back to less detailed logging in production to minimize performance overhead.\n",
    "5)Error Reporting and Monitoring: Different logging levels facilitate different actions in response to logged events.\n",
    "                                  For example, critical errors might trigger immediate notifications to system administrators,\n",
    "                                  while less severe errors might be logged for later analysis.\n",
    "                                  \n",
    "Python's logging module provides several built-in logging levels, including\n",
    "DEBUG,\n",
    "INFO,\n",
    "WARNING,\n",
    "ERROR, and\n",
    "CRITICAL,\n",
    "each representing a different severity level.\n",
    "Developers can use these levels to tailor the logging behavior of their applications according to their specific requirements.\n",
    "\n",
    "\"\"\"\n"
   ]
  },
  {
   "cell_type": "markdown",
   "id": "8c5410ac-6374-4b42-b00d-24a7c074288d",
   "metadata": {},
   "source": [
    "Q18. Create a python program that uses the debugger to find the value of a variable inside a loop."
   ]
  },
  {
   "cell_type": "code",
   "execution_count": 1,
   "id": "f9b05a56-eccb-4017-823b-75ab7dcf878a",
   "metadata": {},
   "outputs": [
    {
     "name": "stdout",
     "output_type": "stream",
     "text": [
      "Result: 15\n"
     ]
    }
   ],
   "source": [
    "import logging\n",
    "\n",
    "# Configure logging\n",
    "logging.basicConfig(filename='debug_var.log', level=logging.DEBUG, format='%(asctime)s - %(levelname)s - %(message)s')\n",
    "\n",
    "def calculate_sum(n):\n",
    "    total = 0\n",
    "    for i in range(1, n+1):\n",
    "        total += i\n",
    "        logging.debug(\"Value of total at iteration %d: %d\", i, total)\n",
    "    return total\n",
    "\n",
    "# Call the function and pass a value for 'n'\n",
    "result = calculate_sum(5)\n",
    "print(\"Result:\", result)\n"
   ]
  },
  {
   "attachments": {
    "d78c5fb0-a056-4312-98d6-0c41dcc60b77.png": {
     "image/png": "[encoded data removed]"
    }
   },
   "cell_type": "markdown",
   "id": "c16291ed-ab93-407b-82c6-d377bf3db5b7",
   "metadata": {},
   "source": [
    "![Screenshot 2024-04-25 144754.png](attachment:d78c5fb0-a056-4312-98d6-0c41dcc60b77.png)"
   ]
  },
  {
   "cell_type": "markdown",
   "id": "3478ca50-a7fe-4493-87b3-a3960bb36d46",
   "metadata": {},
   "source": [
    "Q19. Create a Python program that demonstrates setting breakpoints and inspecting variables using the debugger\n"
   ]
  },
  {
   "cell_type": "code",
   "execution_count": 2,
   "id": "c38c4023-fce6-4460-8799-83a81fbec9cd",
   "metadata": {},
   "outputs": [
    {
     "name": "stdout",
     "output_type": "stream",
     "text": [
      "> \u001b[0;32m/tmp/ipykernel_1648/2598217149.py\u001b[0m(6)\u001b[0;36mcalculate_sum\u001b[0;34m()\u001b[0m\n",
      "\u001b[0;32m      4 \u001b[0;31m    \u001b[0mtotal\u001b[0m \u001b[0;34m=\u001b[0m \u001b[0ma\u001b[0m \u001b[0;34m+\u001b[0m \u001b[0mb\u001b[0m\u001b[0;34m\u001b[0m\u001b[0;34m\u001b[0m\u001b[0m\n",
      "\u001b[0m\u001b[0;32m      5 \u001b[0;31m    \u001b[0mpdb\u001b[0m\u001b[0;34m.\u001b[0m\u001b[0mset_trace\u001b[0m\u001b[0;34m(\u001b[0m\u001b[0;34m)\u001b[0m  \u001b[0;31m# Set a breakpoint here\u001b[0m\u001b[0;34m\u001b[0m\u001b[0;34m\u001b[0m\u001b[0m\n",
      "\u001b[0m\u001b[0;32m----> 6 \u001b[0;31m    \u001b[0;32mreturn\u001b[0m \u001b[0mtotal\u001b[0m\u001b[0;34m\u001b[0m\u001b[0;34m\u001b[0m\u001b[0m\n",
      "\u001b[0m\u001b[0;32m      7 \u001b[0;31m\u001b[0;34m\u001b[0m\u001b[0m\n",
      "\u001b[0m\u001b[0;32m      8 \u001b[0;31m\u001b[0;32mdef\u001b[0m \u001b[0mmain\u001b[0m\u001b[0;34m(\u001b[0m\u001b[0;34m)\u001b[0m\u001b[0;34m:\u001b[0m\u001b[0;34m\u001b[0m\u001b[0;34m\u001b[0m\u001b[0m\n",
      "\u001b[0m\n"
     ]
    },
    {
     "name": "stdin",
     "output_type": "stream",
     "text": [
      "ipdb>  px\n"
     ]
    },
    {
     "name": "stdout",
     "output_type": "stream",
     "text": [
      "*** NameError: name 'px' is not defined\n"
     ]
    },
    {
     "name": "stdin",
     "output_type": "stream",
     "text": [
      "ipdb>  p x\n"
     ]
    },
    {
     "name": "stdout",
     "output_type": "stream",
     "text": [
      "*** NameError: name 'x' is not defined\n"
     ]
    },
    {
     "name": "stdin",
     "output_type": "stream",
     "text": [
      "ipdb>  x\n"
     ]
    },
    {
     "name": "stdout",
     "output_type": "stream",
     "text": [
      "*** NameError: name 'x' is not defined\n"
     ]
    },
    {
     "name": "stdin",
     "output_type": "stream",
     "text": [
      "ipdb>  c\n"
     ]
    },
    {
     "name": "stdout",
     "output_type": "stream",
     "text": [
      "Result: 12\n"
     ]
    }
   ],
   "source": [
    "import pdb\n",
    "\n",
    "def calculate_sum(a, b):\n",
    "    total = a + b\n",
    "    pdb.set_trace()  # Set a breakpoint here\n",
    "    return total\n",
    "\n",
    "def main():\n",
    "    x = 5\n",
    "    y = 7\n",
    "    result = calculate_sum(x, y)\n",
    "    print(\"Result:\", result)\n",
    "\n",
    "if __name__ == \"__main__\":\n",
    "    main()\n"
   ]
  },
  {
   "cell_type": "markdown",
   "id": "219f868a-029b-4fc0-a993-be1f2c58f910",
   "metadata": {},
   "source": [
    "Q20. Create a Python program that uses the debugger to trace a recursive function."
   ]
  },
  {
   "cell_type": "code",
   "execution_count": 1,
   "id": "11a39313-0d97-47ff-842c-982dae70f251",
   "metadata": {},
   "outputs": [
    {
     "name": "stdout",
     "output_type": "stream",
     "text": [
      "> \u001b[0;32m/tmp/ipykernel_70/678113767.py\u001b[0m(5)\u001b[0;36mfactorial\u001b[0;34m()\u001b[0m\n",
      "\u001b[0;32m      3 \u001b[0;31m\u001b[0;32mdef\u001b[0m \u001b[0mfactorial\u001b[0m\u001b[0;34m(\u001b[0m\u001b[0mn\u001b[0m\u001b[0;34m)\u001b[0m\u001b[0;34m:\u001b[0m\u001b[0;34m\u001b[0m\u001b[0;34m\u001b[0m\u001b[0m\n",
      "\u001b[0m\u001b[0;32m      4 \u001b[0;31m    \u001b[0mpdb\u001b[0m\u001b[0;34m.\u001b[0m\u001b[0mset_trace\u001b[0m\u001b[0;34m(\u001b[0m\u001b[0;34m)\u001b[0m  \u001b[0;31m# Set a breakpoint\u001b[0m\u001b[0;34m\u001b[0m\u001b[0;34m\u001b[0m\u001b[0m\n",
      "\u001b[0m\u001b[0;32m----> 5 \u001b[0;31m    \u001b[0;32mif\u001b[0m \u001b[0mn\u001b[0m \u001b[0;34m==\u001b[0m \u001b[0;36m0\u001b[0m\u001b[0;34m:\u001b[0m\u001b[0;34m\u001b[0m\u001b[0;34m\u001b[0m\u001b[0m\n",
      "\u001b[0m\u001b[0;32m      6 \u001b[0;31m        \u001b[0;32mreturn\u001b[0m \u001b[0;36m1\u001b[0m\u001b[0;34m\u001b[0m\u001b[0;34m\u001b[0m\u001b[0m\n",
      "\u001b[0m\u001b[0;32m      7 \u001b[0;31m    \u001b[0;32melse\u001b[0m\u001b[0;34m:\u001b[0m\u001b[0;34m\u001b[0m\u001b[0;34m\u001b[0m\u001b[0m\n",
      "\u001b[0m\n"
     ]
    },
    {
     "name": "stdin",
     "output_type": "stream",
     "text": [
      "ipdb>  n\n"
     ]
    },
    {
     "name": "stdout",
     "output_type": "stream",
     "text": [
      "> \u001b[0;32m/tmp/ipykernel_70/678113767.py\u001b[0m(8)\u001b[0;36mfactorial\u001b[0;34m()\u001b[0m\n",
      "\u001b[0;32m      6 \u001b[0;31m        \u001b[0;32mreturn\u001b[0m \u001b[0;36m1\u001b[0m\u001b[0;34m\u001b[0m\u001b[0;34m\u001b[0m\u001b[0m\n",
      "\u001b[0m\u001b[0;32m      7 \u001b[0;31m    \u001b[0;32melse\u001b[0m\u001b[0;34m:\u001b[0m\u001b[0;34m\u001b[0m\u001b[0;34m\u001b[0m\u001b[0m\n",
      "\u001b[0m\u001b[0;32m----> 8 \u001b[0;31m        \u001b[0;32mreturn\u001b[0m \u001b[0mn\u001b[0m \u001b[0;34m*\u001b[0m \u001b[0mfactorial\u001b[0m\u001b[0;34m(\u001b[0m\u001b[0mn\u001b[0m\u001b[0;34m-\u001b[0m\u001b[0;36m1\u001b[0m\u001b[0;34m)\u001b[0m\u001b[0;34m\u001b[0m\u001b[0;34m\u001b[0m\u001b[0m\n",
      "\u001b[0m\u001b[0;32m      9 \u001b[0;31m\u001b[0;34m\u001b[0m\u001b[0m\n",
      "\u001b[0m\u001b[0;32m     10 \u001b[0;31m\u001b[0;32mif\u001b[0m \u001b[0m__name__\u001b[0m \u001b[0;34m==\u001b[0m \u001b[0;34m\"__main__\"\u001b[0m\u001b[0;34m:\u001b[0m\u001b[0;34m\u001b[0m\u001b[0;34m\u001b[0m\u001b[0m\n",
      "\u001b[0m\n"
     ]
    },
    {
     "name": "stdin",
     "output_type": "stream",
     "text": [
      "ipdb>  n\n"
     ]
    },
    {
     "name": "stdout",
     "output_type": "stream",
     "text": [
      "> \u001b[0;32m/tmp/ipykernel_70/678113767.py\u001b[0m(5)\u001b[0;36mfactorial\u001b[0;34m()\u001b[0m\n",
      "\u001b[0;32m      3 \u001b[0;31m\u001b[0;32mdef\u001b[0m \u001b[0mfactorial\u001b[0m\u001b[0;34m(\u001b[0m\u001b[0mn\u001b[0m\u001b[0;34m)\u001b[0m\u001b[0;34m:\u001b[0m\u001b[0;34m\u001b[0m\u001b[0;34m\u001b[0m\u001b[0m\n",
      "\u001b[0m\u001b[0;32m      4 \u001b[0;31m    \u001b[0mpdb\u001b[0m\u001b[0;34m.\u001b[0m\u001b[0mset_trace\u001b[0m\u001b[0;34m(\u001b[0m\u001b[0;34m)\u001b[0m  \u001b[0;31m# Set a breakpoint\u001b[0m\u001b[0;34m\u001b[0m\u001b[0;34m\u001b[0m\u001b[0m\n",
      "\u001b[0m\u001b[0;32m----> 5 \u001b[0;31m    \u001b[0;32mif\u001b[0m \u001b[0mn\u001b[0m \u001b[0;34m==\u001b[0m \u001b[0;36m0\u001b[0m\u001b[0;34m:\u001b[0m\u001b[0;34m\u001b[0m\u001b[0;34m\u001b[0m\u001b[0m\n",
      "\u001b[0m\u001b[0;32m      6 \u001b[0;31m        \u001b[0;32mreturn\u001b[0m \u001b[0;36m1\u001b[0m\u001b[0;34m\u001b[0m\u001b[0;34m\u001b[0m\u001b[0m\n",
      "\u001b[0m\u001b[0;32m      7 \u001b[0;31m    \u001b[0;32melse\u001b[0m\u001b[0;34m:\u001b[0m\u001b[0;34m\u001b[0m\u001b[0;34m\u001b[0m\u001b[0m\n",
      "\u001b[0m\n"
     ]
    },
    {
     "name": "stdin",
     "output_type": "stream",
     "text": [
      "ipdb>  n\n"
     ]
    },
    {
     "name": "stdout",
     "output_type": "stream",
     "text": [
      "> \u001b[0;32m/tmp/ipykernel_70/678113767.py\u001b[0m(8)\u001b[0;36mfactorial\u001b[0;34m()\u001b[0m\n",
      "\u001b[0;32m      6 \u001b[0;31m        \u001b[0;32mreturn\u001b[0m \u001b[0;36m1\u001b[0m\u001b[0;34m\u001b[0m\u001b[0;34m\u001b[0m\u001b[0m\n",
      "\u001b[0m\u001b[0;32m      7 \u001b[0;31m    \u001b[0;32melse\u001b[0m\u001b[0;34m:\u001b[0m\u001b[0;34m\u001b[0m\u001b[0;34m\u001b[0m\u001b[0m\n",
      "\u001b[0m\u001b[0;32m----> 8 \u001b[0;31m        \u001b[0;32mreturn\u001b[0m \u001b[0mn\u001b[0m \u001b[0;34m*\u001b[0m \u001b[0mfactorial\u001b[0m\u001b[0;34m(\u001b[0m\u001b[0mn\u001b[0m\u001b[0;34m-\u001b[0m\u001b[0;36m1\u001b[0m\u001b[0;34m)\u001b[0m\u001b[0;34m\u001b[0m\u001b[0;34m\u001b[0m\u001b[0m\n",
      "\u001b[0m\u001b[0;32m      9 \u001b[0;31m\u001b[0;34m\u001b[0m\u001b[0m\n",
      "\u001b[0m\u001b[0;32m     10 \u001b[0;31m\u001b[0;32mif\u001b[0m \u001b[0m__name__\u001b[0m \u001b[0;34m==\u001b[0m \u001b[0;34m\"__main__\"\u001b[0m\u001b[0;34m:\u001b[0m\u001b[0;34m\u001b[0m\u001b[0;34m\u001b[0m\u001b[0m\n",
      "\u001b[0m\n"
     ]
    },
    {
     "name": "stdin",
     "output_type": "stream",
     "text": [
      "ipdb>  n\n"
     ]
    },
    {
     "name": "stdout",
     "output_type": "stream",
     "text": [
      "> \u001b[0;32m/tmp/ipykernel_70/678113767.py\u001b[0m(5)\u001b[0;36mfactorial\u001b[0;34m()\u001b[0m\n",
      "\u001b[0;32m      3 \u001b[0;31m\u001b[0;32mdef\u001b[0m \u001b[0mfactorial\u001b[0m\u001b[0;34m(\u001b[0m\u001b[0mn\u001b[0m\u001b[0;34m)\u001b[0m\u001b[0;34m:\u001b[0m\u001b[0;34m\u001b[0m\u001b[0;34m\u001b[0m\u001b[0m\n",
      "\u001b[0m\u001b[0;32m      4 \u001b[0;31m    \u001b[0mpdb\u001b[0m\u001b[0;34m.\u001b[0m\u001b[0mset_trace\u001b[0m\u001b[0;34m(\u001b[0m\u001b[0;34m)\u001b[0m  \u001b[0;31m# Set a breakpoint\u001b[0m\u001b[0;34m\u001b[0m\u001b[0;34m\u001b[0m\u001b[0m\n",
      "\u001b[0m\u001b[0;32m----> 5 \u001b[0;31m    \u001b[0;32mif\u001b[0m \u001b[0mn\u001b[0m \u001b[0;34m==\u001b[0m \u001b[0;36m0\u001b[0m\u001b[0;34m:\u001b[0m\u001b[0;34m\u001b[0m\u001b[0;34m\u001b[0m\u001b[0m\n",
      "\u001b[0m\u001b[0;32m      6 \u001b[0;31m        \u001b[0;32mreturn\u001b[0m \u001b[0;36m1\u001b[0m\u001b[0;34m\u001b[0m\u001b[0;34m\u001b[0m\u001b[0m\n",
      "\u001b[0m\u001b[0;32m      7 \u001b[0;31m    \u001b[0;32melse\u001b[0m\u001b[0;34m:\u001b[0m\u001b[0;34m\u001b[0m\u001b[0;34m\u001b[0m\u001b[0m\n",
      "\u001b[0m\n"
     ]
    },
    {
     "name": "stdin",
     "output_type": "stream",
     "text": [
      "ipdb>  c\n"
     ]
    },
    {
     "name": "stdout",
     "output_type": "stream",
     "text": [
      "> \u001b[0;32m/tmp/ipykernel_70/678113767.py\u001b[0m(5)\u001b[0;36mfactorial\u001b[0;34m()\u001b[0m\n",
      "\u001b[0;32m      3 \u001b[0;31m\u001b[0;32mdef\u001b[0m \u001b[0mfactorial\u001b[0m\u001b[0;34m(\u001b[0m\u001b[0mn\u001b[0m\u001b[0;34m)\u001b[0m\u001b[0;34m:\u001b[0m\u001b[0;34m\u001b[0m\u001b[0;34m\u001b[0m\u001b[0m\n",
      "\u001b[0m\u001b[0;32m      4 \u001b[0;31m    \u001b[0mpdb\u001b[0m\u001b[0;34m.\u001b[0m\u001b[0mset_trace\u001b[0m\u001b[0;34m(\u001b[0m\u001b[0;34m)\u001b[0m  \u001b[0;31m# Set a breakpoint\u001b[0m\u001b[0;34m\u001b[0m\u001b[0;34m\u001b[0m\u001b[0m\n",
      "\u001b[0m\u001b[0;32m----> 5 \u001b[0;31m    \u001b[0;32mif\u001b[0m \u001b[0mn\u001b[0m \u001b[0;34m==\u001b[0m \u001b[0;36m0\u001b[0m\u001b[0;34m:\u001b[0m\u001b[0;34m\u001b[0m\u001b[0;34m\u001b[0m\u001b[0m\n",
      "\u001b[0m\u001b[0;32m      6 \u001b[0;31m        \u001b[0;32mreturn\u001b[0m \u001b[0;36m1\u001b[0m\u001b[0;34m\u001b[0m\u001b[0;34m\u001b[0m\u001b[0m\n",
      "\u001b[0m\u001b[0;32m      7 \u001b[0;31m    \u001b[0;32melse\u001b[0m\u001b[0;34m:\u001b[0m\u001b[0;34m\u001b[0m\u001b[0;34m\u001b[0m\u001b[0m\n",
      "\u001b[0m\n"
     ]
    },
    {
     "name": "stdin",
     "output_type": "stream",
     "text": [
      "ipdb>  c\n"
     ]
    },
    {
     "name": "stdout",
     "output_type": "stream",
     "text": [
      "> \u001b[0;32m/tmp/ipykernel_70/678113767.py\u001b[0m(5)\u001b[0;36mfactorial\u001b[0;34m()\u001b[0m\n",
      "\u001b[0;32m      3 \u001b[0;31m\u001b[0;32mdef\u001b[0m \u001b[0mfactorial\u001b[0m\u001b[0;34m(\u001b[0m\u001b[0mn\u001b[0m\u001b[0;34m)\u001b[0m\u001b[0;34m:\u001b[0m\u001b[0;34m\u001b[0m\u001b[0;34m\u001b[0m\u001b[0m\n",
      "\u001b[0m\u001b[0;32m      4 \u001b[0;31m    \u001b[0mpdb\u001b[0m\u001b[0;34m.\u001b[0m\u001b[0mset_trace\u001b[0m\u001b[0;34m(\u001b[0m\u001b[0;34m)\u001b[0m  \u001b[0;31m# Set a breakpoint\u001b[0m\u001b[0;34m\u001b[0m\u001b[0;34m\u001b[0m\u001b[0m\n",
      "\u001b[0m\u001b[0;32m----> 5 \u001b[0;31m    \u001b[0;32mif\u001b[0m \u001b[0mn\u001b[0m \u001b[0;34m==\u001b[0m \u001b[0;36m0\u001b[0m\u001b[0;34m:\u001b[0m\u001b[0;34m\u001b[0m\u001b[0;34m\u001b[0m\u001b[0m\n",
      "\u001b[0m\u001b[0;32m      6 \u001b[0;31m        \u001b[0;32mreturn\u001b[0m \u001b[0;36m1\u001b[0m\u001b[0;34m\u001b[0m\u001b[0;34m\u001b[0m\u001b[0m\n",
      "\u001b[0m\u001b[0;32m      7 \u001b[0;31m    \u001b[0;32melse\u001b[0m\u001b[0;34m:\u001b[0m\u001b[0;34m\u001b[0m\u001b[0;34m\u001b[0m\u001b[0m\n",
      "\u001b[0m\n"
     ]
    },
    {
     "name": "stdin",
     "output_type": "stream",
     "text": [
      "ipdb>  c\n"
     ]
    },
    {
     "name": "stdout",
     "output_type": "stream",
     "text": [
      "> \u001b[0;32m/tmp/ipykernel_70/678113767.py\u001b[0m(5)\u001b[0;36mfactorial\u001b[0;34m()\u001b[0m\n",
      "\u001b[0;32m      3 \u001b[0;31m\u001b[0;32mdef\u001b[0m \u001b[0mfactorial\u001b[0m\u001b[0;34m(\u001b[0m\u001b[0mn\u001b[0m\u001b[0;34m)\u001b[0m\u001b[0;34m:\u001b[0m\u001b[0;34m\u001b[0m\u001b[0;34m\u001b[0m\u001b[0m\n",
      "\u001b[0m\u001b[0;32m      4 \u001b[0;31m    \u001b[0mpdb\u001b[0m\u001b[0;34m.\u001b[0m\u001b[0mset_trace\u001b[0m\u001b[0;34m(\u001b[0m\u001b[0;34m)\u001b[0m  \u001b[0;31m# Set a breakpoint\u001b[0m\u001b[0;34m\u001b[0m\u001b[0;34m\u001b[0m\u001b[0m\n",
      "\u001b[0m\u001b[0;32m----> 5 \u001b[0;31m    \u001b[0;32mif\u001b[0m \u001b[0mn\u001b[0m \u001b[0;34m==\u001b[0m \u001b[0;36m0\u001b[0m\u001b[0;34m:\u001b[0m\u001b[0;34m\u001b[0m\u001b[0;34m\u001b[0m\u001b[0m\n",
      "\u001b[0m\u001b[0;32m      6 \u001b[0;31m        \u001b[0;32mreturn\u001b[0m \u001b[0;36m1\u001b[0m\u001b[0;34m\u001b[0m\u001b[0;34m\u001b[0m\u001b[0m\n",
      "\u001b[0m\u001b[0;32m      7 \u001b[0;31m    \u001b[0;32melse\u001b[0m\u001b[0;34m:\u001b[0m\u001b[0;34m\u001b[0m\u001b[0;34m\u001b[0m\u001b[0m\n",
      "\u001b[0m\n"
     ]
    },
    {
     "name": "stdin",
     "output_type": "stream",
     "text": [
      "ipdb>  c\n"
     ]
    },
    {
     "name": "stdout",
     "output_type": "stream",
     "text": [
      "Factorial of 5 is 120\n"
     ]
    }
   ],
   "source": [
    "import pdb\n",
    "\n",
    "def factorial(n):\n",
    "    pdb.set_trace()  # Set a breakpoint, When the program execution reaches this line, it will pause and enter into the debugger mode.\n",
    "    if n == 0:  # We check if n is equal to 0. If it is, we return 1 (base case of the factorial function).\n",
    "        return 1\n",
    "    else:\n",
    "        return n * factorial(n-1)\n",
    "  # we specify the number for which we want to calculate the factorial (in this case, num = 5), and then call the factorial function with that number.\n",
    "if __name__ == \"__main__\": \n",
    "    num = 5\n",
    "    print(\"Factorial of\", num, \"is\", factorial(num))\n",
    "    \n",
    "    \n",
    "# When we run this program, it will stop at each recursive call,\n",
    "# allowing us to examine the variables and step through the code using debugger commands\n",
    "# like n (next line), s (step into function), c (continue), etc.\n"
   ]
  },
  {
   "cell_type": "markdown",
   "id": "779c2cd1-8e28-4955-881a-1826eb60701d",
   "metadata": {},
   "source": [
    "Q21. Write a try-except block to handle a ZeroDivisionError"
   ]
  },
  {
   "cell_type": "code",
   "execution_count": 2,
   "id": "cf203370-239d-4ac8-8212-b207d6fe4bc9",
   "metadata": {},
   "outputs": [
    {
     "name": "stdin",
     "output_type": "stream",
     "text": [
      "Enter the numerator:  10\n",
      "Enter the denominator:  0\n"
     ]
    },
    {
     "name": "stdout",
     "output_type": "stream",
     "text": [
      "Error: Division by zero is not allowed.\n"
     ]
    }
   ],
   "source": [
    "try:\n",
    "    numerator = int(input(\"Enter the numerator: \"))\n",
    "    denominator = int(input(\"Enter the denominator: \"))\n",
    "    \n",
    "    result = numerator / denominator\n",
    "    print(\"Result:\", result)\n",
    "\n",
    "except ZeroDivisionError:\n",
    "    print(\"Error: Division by zero is not allowed.\")\n",
    "except ValueError:\n",
    "    print(\"Error: Please enter valid integers for numerator and denominator.\")\n"
   ]
  },
  {
   "cell_type": "markdown",
   "id": "1dee8fe9-c18b-46ed-aaf6-7fa89bd6cf28",
   "metadata": {},
   "source": [
    "Q22. How does the else block work with try-except?"
   ]
  },
  {
   "cell_type": "code",
   "execution_count": 3,
   "id": "a762ccce-20bb-405a-864c-534c263bfe1a",
   "metadata": {},
   "outputs": [
    {
     "name": "stdout",
     "output_type": "stream",
     "text": [
      "Division was successful. Result: 5.0\n"
     ]
    }
   ],
   "source": [
    "try:\n",
    "    # Code that may raise an exception\n",
    "    result = 10 / 2\n",
    "except ZeroDivisionError:\n",
    "    # Code to handle a ZeroDivisionError exception\n",
    "    print(\"Error: Division by zero is not allowed.\")\n",
    "else:\n",
    "    # Code to execute if no exception occurs\n",
    "    print(\"Division was successful. Result:\", result)\n"
   ]
  },
  {
   "cell_type": "markdown",
   "id": "7082c917-5fc1-48d6-949d-5b2ab1e7cbad",
   "metadata": {},
   "source": [
    "Q23. Implement a try-except-else block to open and read a file."
   ]
  },
  {
   "cell_type": "code",
   "execution_count": 4,
   "id": "e0d2878b-c858-4f58-abe5-b687cdbe0193",
   "metadata": {},
   "outputs": [
    {
     "name": "stdout",
     "output_type": "stream",
     "text": [
      "File content:\n",
      "\n",
      "example 1\n",
      "example 2\n",
      "example 3 \n",
      "example 4\n",
      "\n"
     ]
    }
   ],
   "source": [
    "try:\n",
    "    # Open the file in read mode\n",
    "    with open(\"example.txt\", \"r\") as file:\n",
    "        # Read the contents of the file\n",
    "        content = file.read()\n",
    "except FileNotFoundError:\n",
    "    # Handle the case where the file is not found\n",
    "    print(\"Error: File not found.\")\n",
    "except IOError:\n",
    "    # Handle other I/O related errors\n",
    "    print(\"Error: Could not read the file.\")\n",
    "else:\n",
    "    # If no exception occurs, print the content of the file\n",
    "    print(\"File content:\")\n",
    "    print(content)\n"
   ]
  },
  {
   "cell_type": "markdown",
   "id": "dbbeb4ce-0b5f-45bd-a621-1436095187fc",
   "metadata": {},
   "source": [
    "Q24. What is the purpose of the finally block in exception handling."
   ]
  },
  {
   "cell_type": "code",
   "execution_count": 5,
   "id": "d9178f78-1ed2-4daf-8c18-665c274edc7a",
   "metadata": {},
   "outputs": [
    {
     "name": "stdout",
     "output_type": "stream",
     "text": [
      "File content:\n",
      "\n",
      "example 1\n",
      "example 2\n",
      "example 3 \n",
      "example 4\n",
      "\n"
     ]
    }
   ],
   "source": [
    "\"\"\"\n",
    "The finally block in exception handling serves the purpose of providing a piece of code that should always be executed,\n",
    "regardless of whether an exception occurred or not.\n",
    "It ensures that cleanup or finalization tasks are performed, such as closing files, releasing resources, or logging important information.\n",
    "\"\"\"\n",
    "\n",
    "# Example:\n",
    "\n",
    "try:\n",
    "    # Code that may raise an exception\n",
    "    file = open(\"example.txt\", \"r\")\n",
    "    content = file.read()\n",
    "    # Perform other operations\n",
    "except FileNotFoundError:\n",
    "    # Handle the case where the file is not found\n",
    "    print(\"Error: File not found.\")\n",
    "except IOError:\n",
    "    # Handle other I/O related errors\n",
    "    print(\"Error: Could not read the file.\")\n",
    "else:\n",
    "    # If no exception occurs, print the content of the file\n",
    "    print(\"File content:\")\n",
    "    print(content)\n",
    "finally:\n",
    "    # Cleanup code that should always be executed\n",
    "    if 'file' in locals():\n",
    "        file.close()\n"
   ]
  },
  {
   "cell_type": "markdown",
   "id": "d742667c-e74c-4619-8e5f-293305fdb3d1",
   "metadata": {},
   "source": [
    "Q25. Write a try-except-finally block to handle a ValueError."
   ]
  },
  {
   "cell_type": "code",
   "execution_count": 11,
   "id": "faca0abd-b224-473d-a318-21fcf774a1f3",
   "metadata": {},
   "outputs": [
    {
     "name": "stdin",
     "output_type": "stream",
     "text": [
      "Enter a number:  y\n"
     ]
    },
    {
     "name": "stdout",
     "output_type": "stream",
     "text": [
      "Error: Please enter a valid integer.\n",
      "Cleanup code: This code always runs, regardless of exceptions.\n"
     ]
    }
   ],
   "source": [
    "try:\n",
    "    # Code that may raise a ValueError\n",
    "    num = int(input(\"Enter a number: \"))\n",
    "    result = 10 / num\n",
    "    print(\"Result:\", result)\n",
    "except ValueError:\n",
    "    # Handle the case where the input cannot be converted to an integer\n",
    "    print(\"Error: Please enter a valid integer.\")\n",
    "except ZeroDivisionError:\n",
    "    # Handle the case where division by zero occurs\n",
    "    print(\"Error: Division by zero is not allowed.\")\n",
    "finally:\n",
    "    # Cleanup code that should always be executed\n",
    "    print(\"Cleanup code: This code always runs, regardless of exceptions.\")\n"
   ]
  },
  {
   "cell_type": "markdown",
   "id": "f216e827-08e2-42ff-a0cb-8c16d3120441",
   "metadata": {},
   "source": [
    "Q26. How multiple except blocks work in Python?"
   ]
  },
  {
   "cell_type": "code",
   "execution_count": null,
   "id": "1df262d4-6ee0-40c7-8ca6-d6d300ea01b2",
   "metadata": {},
   "outputs": [],
   "source": [
    "\"\"\"\n",
    "\n",
    "In Python, multiple except blocks can be used to handle different types of exceptions that may occur within a try block.\n",
    "When an exception occurs, Python checks each except block sequentially\n",
    "to see if the raised exception matches the type specified in the except block.\n",
    "If a match is found, the corresponding except block is executed, and the program continues its execution after the try-except structure.\n",
    "\"\"\"\n",
    "\n",
    "\n",
    "try:\n",
    "    # Attempting to open a file that does not exist\n",
    "    file = open(\"nonexistent_file.txt\", \"r\")\n",
    "\n",
    "    # Performing division by zero\n",
    "    result = 10 / 0\n",
    "\n",
    "    # Accessing an index that is out of range\n",
    "    my_list = [1, 2, 3]\n",
    "    print(my_list[5])\n",
    "\n",
    "except FileNotFoundError:\n",
    "    print(\"File not found error occurred!\")\n",
    "except ZeroDivisionError:\n",
    "    print(\"Error: Division by zero!\")\n",
    "except IndexError:\n",
    "    print(\"Index out of range error occurred!\")\n",
    "except Exception as e:\n",
    "    print(\"An unexpected error occurred:\", e)\n"
   ]
  },
  {
   "cell_type": "markdown",
   "id": "dae9f2b0-ea80-43ac-ba01-f772c19ef9cd",
   "metadata": {},
   "source": [
    "Q27. What is a custom exception in Python?"
   ]
  },
  {
   "cell_type": "code",
   "execution_count": 14,
   "id": "09900ed4-a856-4283-96cc-d4a5874a3037",
   "metadata": {},
   "outputs": [
    {
     "name": "stdout",
     "output_type": "stream",
     "text": [
      "Caught CustomError: Value must be non-negative\n"
     ]
    }
   ],
   "source": [
    "\"\"\"\n",
    "In Python, a custom exception refers to creating your own exception class\n",
    "by subclassing Python's built-in Exception class or one of its subclasses.\n",
    "Custom exceptions are useful when you want to raise an exception that represents a specific error condition in your code,\n",
    "which is not adequately covered by the built-in exceptions.\n",
    "\n",
    "\"\"\"\n",
    "# Example:\n",
    "\n",
    "class CustomError(Exception):\n",
    "    \"\"\"Custom exception class.\"\"\"\n",
    "    pass\n",
    "def example_function(x):\n",
    "    if x < 0:\n",
    "        raise CustomError(\"Value must be non-negative\")\n",
    "\n",
    "try:\n",
    "    example_function(-5)\n",
    "except CustomError as e:\n",
    "    print(\"Caught CustomError:\", e)\n",
    "\n"
   ]
  },
  {
   "cell_type": "markdown",
   "id": "98a00606-f09c-46de-aa61-1d7e802dd59c",
   "metadata": {},
   "source": [
    "Q28.Create a custom exception class with a message"
   ]
  },
  {
   "cell_type": "code",
   "execution_count": 15,
   "id": "266f1f02-68de-4704-be6f-1b13eaccc56d",
   "metadata": {},
   "outputs": [
    {
     "name": "stdout",
     "output_type": "stream",
     "text": [
      "Caught CustomError: This is a custom error message.\n"
     ]
    }
   ],
   "source": [
    "class CustomError(Exception):\n",
    "    \"\"\"Custom exception class with a message.\"\"\"\n",
    "    \n",
    "    def __init__(self, message):\n",
    "        super().__init__(message)\n",
    "        self.message = message\n",
    "\n",
    "# Example usage:\n",
    "try:\n",
    "    raise CustomError(\"This is a custom error message.\")\n",
    "except CustomError as e:\n",
    "    print(\"Caught CustomError:\", e.message)\n"
   ]
  },
  {
   "cell_type": "markdown",
   "id": "82d417c0-8141-456f-aa7c-4586967fa3cd",
   "metadata": {},
   "source": [
    "Q29.Write a code to raise a custom exception in Python"
   ]
  },
  {
   "cell_type": "code",
   "execution_count": 16,
   "id": "642bb431-5ee0-4e26-8acb-2a639b2cc41a",
   "metadata": {},
   "outputs": [
    {
     "name": "stdout",
     "output_type": "stream",
     "text": [
      "Error: Sorry, 'Widget' is out of stock.\n"
     ]
    }
   ],
   "source": [
    "class OutOfStockError(Exception):\n",
    "    \"\"\"Custom exception class for out of stock errors.\"\"\"\n",
    "    pass\n",
    "\n",
    "class Product:\n",
    "    def __init__(self, name, stock):\n",
    "        self.name = name\n",
    "        self.stock = stock\n",
    "    \n",
    "    def purchase(self, quantity):\n",
    "        if self.stock < quantity:\n",
    "            raise OutOfStockError(f\"Sorry, '{self.name}' is out of stock.\")\n",
    "        else:\n",
    "            self.stock -= quantity\n",
    "            print(f\"Purchase successful: {quantity} units of '{self.name}'\")\n",
    "\n",
    "# Example usage:\n",
    "product = Product(\"Widget\", 5)\n",
    "try:\n",
    "    product.purchase(10)\n",
    "except OutOfStockError as e:\n",
    "    print(\"Error:\", e)\n"
   ]
  },
  {
   "cell_type": "markdown",
   "id": "ba86fd96-ad5a-402e-9492-f95938bd8503",
   "metadata": {},
   "source": [
    "Q30.Write a function that raises a custom exception when a value is negative."
   ]
  },
  {
   "cell_type": "code",
   "execution_count": 19,
   "id": "c79419f9-14df-4ceb-be66-aa3b078ea508",
   "metadata": {},
   "outputs": [
    {
     "name": "stdout",
     "output_type": "stream",
     "text": [
      "Error:  value can't be negative\n"
     ]
    }
   ],
   "source": [
    "class customException(Exception):\n",
    "    pass\n",
    "\n",
    "def value(x):\n",
    "    if x<0:\n",
    "        raise customException(\"value can't be negative\")\n",
    "        \n",
    "try:\n",
    "    x=-9\n",
    "    value(x)\n",
    "except customException as e:\n",
    "    print(\"Error: \",e)"
   ]
  },
  {
   "cell_type": "markdown",
   "id": "f7cb09cd-ccf5-460d-baa1-2b47c661769f",
   "metadata": {},
   "source": [
    "Q31. What is the role of try, except, else, and finally in handling exceptions."
   ]
  },
  {
   "cell_type": "code",
   "execution_count": null,
   "id": "d2607be8-07a6-4287-8544-a1c52a2a02ab",
   "metadata": {},
   "outputs": [],
   "source": [
    "\"\"\"\n",
    "=> try block:\n",
    "The try block is used to enclose the code that may raise an exception.\n",
    "Python attempts to execute the code inside the try block.\n",
    "If an exception occurs within the try block, Python immediately jumps out of the try block\n",
    "and searches for an appropriate except block.\n",
    "\n",
    "=> except block:\n",
    "The except block follows the try block and is used to catch and handle specific exceptions that may occur within the try block.\n",
    "If an exception matches the type specified in the except block, Python executes the code inside that except block.\n",
    "If no matching except block is found for the raised exception, the program terminates with an error message.\n",
    "\n",
    "=> else block:\n",
    "The else block follows all except blocks (if present) and is executed only if no exceptions occur within the try block.\n",
    "It is typically used to contain code that should be executed if the try block completes successfully without raising any exceptions.\n",
    "If any exception occurs within the try block, the else block is skipped.\n",
    "\n",
    "=> finally block:\n",
    "The finally block follows all except and else blocks (if present) \n",
    "and is executed regardless of whether an exception occurs within the try block.\n",
    "It is typically used for cleanup operations, such as closing files, releasing resources,\n",
    "or finalizing operations, that should be performed whether an exception occurs or not.\n",
    "The code inside the finally block will always run,\n",
    "even if an exception is raised and caught, or if an exception is raised but not caught.\n",
    "\n",
    "\n",
    "In summary, try is used to enclose code that may raise exceptions,\n",
    "except is used to catch and handle exceptions, else is executed if no exceptions occur,\n",
    "and finally is executed regardless of whether an exception occurs, providing a mechanism for cleanup operations.\n",
    "Together, they provide a comprehensive way to handle exceptions and manage program flow in Python.\n",
    "\n",
    "\"\"\"\n"
   ]
  },
  {
   "cell_type": "markdown",
   "id": "eee8bbbc-29a4-4d09-be8f-48b121dfe887",
   "metadata": {},
   "source": [
    "Q32. How can custom exceptions improve code readability and maintainability?"
   ]
  },
  {
   "cell_type": "code",
   "execution_count": null,
   "id": "45b0d95e-f797-42b7-a698-516289b04b68",
   "metadata": {},
   "outputs": [],
   "source": [
    "\"\"\"\n",
    "1)Expressive Error Handling:         Custom exceptions allow you to define exception classes that are meaningful and expressive.\n",
    "                                     By giving specific names to exceptions that reflect the nature of the error, \n",
    "                                     you make it easier for developers to understand why an exception was raised and what went wrong.\n",
    "                                     This clarity can aid in debugging and troubleshooting.\n",
    "2)Encapsulation of Error Conditions: Custom exceptions encapsulate error conditions within their own classes,\n",
    "                                     separating error-handling logic from the main code flow. \n",
    "                                     This separation of concerns makes the code more modular and maintainable.\n",
    "                                     Developers can focus on writing clean, functional code without cluttering it with error-checking logic.\n",
    "3)Promotion of Intent:               Custom exceptions help to promote the intent of your code by making it clear\n",
    "                                     which errors are expected and which are exceptional.\n",
    "                                     By raising custom exceptions for specific error scenarios,\n",
    "                                     you communicate the expected behavior of your code to other developers who may use\n",
    "                                     or maintain it in the future.\n",
    "4)Centralized Error Handling:        Custom exceptions enable centralized error handling,\n",
    "                                     where specific types of errors can be caught and handled in a single location.\n",
    "                                     This improves maintainability by consolidating error-handling logic\n",
    "                                     and avoiding duplication of error-checking code throughout the codebase.\n",
    "5)Consistent Error Reporting:        Custom exceptions provide a consistent way to report errors across different parts of the codebase.\n",
    "                                     By defining a common set of exception classes with clear semantics,\n",
    "                                     you ensure that error messages and handling behavior are uniform throughout the application,\n",
    "                                     enhancing code consistency and readability.\n",
    "6)Facilitation of Documentation:     Custom exceptions serve as a form of documentation for your code,\n",
    "                                     conveying information about potential error conditions and how they should be handled.\n",
    "                                     Well-named exception classes, along with informative docstrings,\n",
    "                                     can serve as valuable documentation for developers who are working with or extending your code\n",
    "\n",
    "\"\"\"\n"
   ]
  },
  {
   "cell_type": "markdown",
   "id": "6e7bd53f-59b9-471e-85c5-4febb24edf37",
   "metadata": {},
   "source": [
    "Q33. What is multithreading?"
   ]
  },
  {
   "cell_type": "code",
   "execution_count": null,
   "id": "431aa7e3-c5d6-40d1-a8e6-1808dfb27226",
   "metadata": {},
   "outputs": [],
   "source": [
    "\"\"\"\n",
    "Multithreading is a programming concept that allows a single process to execute multiple tasks concurrently.\n",
    "In a multithreaded program, multiple threads within the same process run concurrently, sharing the same memory space.\n",
    "Each thread represents an independent flow of execution, allowing different parts of the program to perform tasks simultaneously.\n",
    "\n",
    "Multithreading is commonly used in applications where multiple tasks need to be executed simultaneously\n",
    "or where responsiveness is crucial, such as in graphical user interfaces (GUIs),\n",
    "web servers, and multimedia applications.\n",
    "By leveraging multithreading, developers can improve performance, responsiveness, and resource utilization in their software.\n",
    "\n",
    "\"\"\"\n"
   ]
  },
  {
   "cell_type": "markdown",
   "id": "799e9d39-01ba-4708-b512-19b74f795e19",
   "metadata": {},
   "source": [
    "Q34. Create a thread in Python"
   ]
  },
  {
   "cell_type": "code",
   "execution_count": 1,
   "id": "096abd82-c37e-435b-af08-ae7c7e9bd776",
   "metadata": {},
   "outputs": [
    {
     "name": "stdout",
     "output_type": "stream",
     "text": [
      "Thread executing...\n",
      "Main program executing...\n",
      "Thread executing...\n",
      "Thread executing...Main program executing...\n",
      "\n",
      "Thread executing...\n",
      "Main program executing...\n",
      "Thread executing...\n",
      "Main program and thread both finished.\n"
     ]
    }
   ],
   "source": [
    "\"\"\"\n",
    "In this example, a function thread_function() is defined, which will be executed by the thread.\n",
    "Then, a Thread object is created with threading.Thread(target=thread_function),\n",
    "specifying the target function for the thread. The thread is started with thread.start(),\n",
    "and the main program continues to execute while the thread runs concurrently.\n",
    "Finally, thread.join() is called to wait for the thread to finish executing before the main program exits.\n",
    "\"\"\"\n",
    "\n",
    "import threading\n",
    "import time\n",
    "\n",
    "# Define a function that will be executed by the thread\n",
    "def thread_function():\n",
    "    for i in range(5):\n",
    "        print(\"Thread executing...\")\n",
    "        time.sleep(1)\n",
    "\n",
    "# Create a thread object\n",
    "thread = threading.Thread(target=thread_function)\n",
    "\n",
    "# Start the thread\n",
    "thread.start()\n",
    "\n",
    "# Main program continues while the thread is running\n",
    "for i in range(3):\n",
    "    print(\"Main program executing...\")\n",
    "    time.sleep(2)\n",
    "\n",
    "# Wait for the thread to finish\n",
    "thread.join()\n",
    "\n",
    "print(\"Main program and thread both finished.\")\n"
   ]
  },
  {
   "cell_type": "markdown",
   "id": "332cffab-e637-4748-b261-a0f87b5eebd1",
   "metadata": {},
   "source": [
    "Q35. What is the Global Interpreter Lock (GIL) in Pythons"
   ]
  },
  {
   "cell_type": "code",
   "execution_count": null,
   "id": "6478f760-27ca-4d17-a320-880d998ab2b2",
   "metadata": {},
   "outputs": [],
   "source": [
    "\"\"\"\n",
    "The Global Interpreter Lock (GIL) in Python is a mutex (lock) that protects access to Python objects,\n",
    "preventing multiple native threads from executing Python bytecodes concurrently.\n",
    "In other words, the GIL ensures that only one thread executes Python bytecode at a time, even in a multi-threaded environment.\n",
    "\n",
    "The GIL has implications for multi-threaded Python programs:\n",
    "\n",
    "1)Limited Parallelism: Due to the GIL, multi-threaded Python programs cannot fully utilize multiple CPU cores for CPU-bound tasks.\n",
    "This is because only one thread can execute Python bytecode at a time, regardless of how many CPU cores are available.\n",
    "2)I/O-Bound Tasks: The GIL has less impact on I/O-bound tasks, such as network operations or file I/O,\n",
    "because the GIL is released when threads are waiting for external I/O operations to complete.\n",
    "Therefore, in I/O-bound scenarios, multiple threads can still make progress concurrently.\n",
    "3)Impact on CPU-Bound Tasks: CPU-bound tasks, on the other hand, can be significantly affected by the GIL.\n",
    "In such cases, using multiple threads may not result in improved performance due to the GIL serialization.\n",
    "4)Thread Coordination: While the GIL prevents true parallel execution of Python bytecode,\n",
    "it simplifies thread coordination by eliminating the need for explicit locks to protect access to Python objects.\n",
    "This can make programming with threads in Python simpler and less error-prone in many cases.\n",
    "\n",
    "\"\"\"\n"
   ]
  },
  {
   "cell_type": "markdown",
   "id": "a475d679-3515-470a-b30c-4ef13a38f481",
   "metadata": {},
   "source": [
    "Q36. Implement a simple multithreading example"
   ]
  },
  {
   "cell_type": "code",
   "execution_count": 2,
   "id": "6d63a457-2b7d-4360-8d2c-87db656641db",
   "metadata": {},
   "outputs": [
    {
     "name": "stdout",
     "output_type": "stream",
     "text": [
      "Thread 1 started.\n",
      "Thread 1 executing...\n",
      "Thread 2 started.\n",
      "Thread 2 executing...\n",
      "Thread 3 started.\n",
      "Thread 3 executing...\n",
      "Main program executing...\n",
      "Thread 1 executing...\n",
      "Thread 3 executing...\n",
      "Thread 2 executing...\n",
      "Thread 1 executing...\n",
      "Thread 3 executing...\n",
      "Thread 2 executing...\n",
      "Thread 1 executing...\n",
      "Thread 3 executing...\n",
      "Thread 2 executing...\n",
      "Thread 1 executing...\n",
      "Thread 3 executing...\n",
      "Thread 2 executing...\n",
      "Thread 1 finished.Thread 2 finished.\n",
      "Thread 3 finished.\n",
      "\n",
      "Main program finished.\n"
     ]
    }
   ],
   "source": [
    "\"\"\"\n",
    "In this example, the thread_function() is defined to take a thread_id parameter,\n",
    "indicating which thread is executing. Multiple threads are then created in a loop,\n",
    "each targeting the thread_function(). Each thread is started with thread.start().\n",
    "The main program continues to execute while the threads are running.\n",
    "Finally, the main program waits for a brief period to allow the threads to finish their execution before exiting.\n",
    "\n",
    "\"\"\"\n",
    "\n",
    "# Example:\n",
    "\n",
    "import threading\n",
    "import time\n",
    "\n",
    "# Define a function that will be executed by each thread\n",
    "def thread_function(thread_id):\n",
    "    print(f\"Thread {thread_id} started.\")\n",
    "    for i in range(5):\n",
    "        print(f\"Thread {thread_id} executing...\")\n",
    "        time.sleep(1)\n",
    "    print(f\"Thread {thread_id} finished.\")\n",
    "\n",
    "# Number of threads to create\n",
    "num_threads = 3\n",
    "\n",
    "# Create and start each thread\n",
    "for i in range(num_threads):\n",
    "    thread = threading.Thread(target=thread_function, args=(i+1,))\n",
    "    thread.start()\n",
    "\n",
    "# Main program continues while threads are running\n",
    "print(\"Main program executing...\")\n",
    "time.sleep(7)\n",
    "\n",
    "print(\"Main program finished.\")\n"
   ]
  },
  {
   "cell_type": "markdown",
   "id": "79b56593-6f4f-4347-8c76-2c5c0aea378e",
   "metadata": {},
   "source": [
    "Q37. What is the purpose of the“join()“ method in threading "
   ]
  },
  {
   "cell_type": "code",
   "execution_count": 3,
   "id": "e8fd0cc5-6b4b-4a51-a84c-cd68a482b50d",
   "metadata": {},
   "outputs": [
    {
     "name": "stdout",
     "output_type": "stream",
     "text": [
      "Thread started.\n",
      "Main program executing...\n",
      "Thread finished.\n",
      "Main program and thread both finished.\n"
     ]
    }
   ],
   "source": [
    "\"\"\"\n",
    "The join() method in threading is used to wait for a thread to complete its execution before continuing with the rest of the program.\n",
    "When you call join() on a thread, the program will pause\n",
    "and wait until that specific thread finishes its execution before proceeding further.\n",
    "\n",
    "Here's why the join() method is useful:\n",
    "\n",
    "1)Synchronization: It helps in synchronizing the execution of threads.\n",
    "                   By using join(), you can ensure that certain parts of your program don't proceed until\n",
    "                   all the threads have completed their tasks.\n",
    "2)Main Thread Management: In many cases, especially in the main program, you want to ensure that\n",
    "                          all spawned threads complete their tasks before the program terminates.\n",
    "                          join() helps in achieving this by making the main thread wait for all other threads to finish.\n",
    "3)Resource Cleanup: If threads are performing tasks that require resource cleanup or finalization,\n",
    "                    such as closing files or releasing locks, you can use join() to ensure that\n",
    "                    these tasks are completed before the program exits.\n",
    "\"\"\"\n",
    "#Example:\n",
    "\n",
    "import threading\n",
    "import time\n",
    "\n",
    "def thread_function():\n",
    "    print(\"Thread started.\")\n",
    "    time.sleep(2)\n",
    "    print(\"Thread finished.\")\n",
    "\n",
    "# Create a thread\n",
    "thread = threading.Thread(target=thread_function)\n",
    "\n",
    "# Start the thread\n",
    "thread.start()\n",
    "\n",
    "# Main program continues while the thread is running\n",
    "print(\"Main program executing...\")\n",
    "\n",
    "# Wait for the thread to finish\n",
    "thread.join()\n",
    "\n",
    "print(\"Main program and thread both finished.\")\n",
    "\n"
   ]
  },
  {
   "cell_type": "markdown",
   "id": "c9ca07be-0ce0-4412-9ad7-656e1181e79b",
   "metadata": {},
   "source": [
    "Q38.Describe a scenario where multithreading would be beneficial in pyhton"
   ]
  },
  {
   "cell_type": "code",
   "execution_count": null,
   "id": "d26517d3-2f49-4b9e-9fb3-60c7fdb92b51",
   "metadata": {},
   "outputs": [],
   "source": [
    "\"\"\"\n",
    "Web Scraping Application:\n",
    "\n",
    "Imagine you're building a web scraping application that needs to fetch data from multiple websites simultaneously.\n",
    "Each website may have different response times, and waiting for one request to finish\n",
    "before making the next one could significantly slow down your application's overall performance.\n",
    "\n",
    "In this scenario, you can utilize multithreading to improve efficiency.\n",
    "You can create a separate thread for each website you want to scrape data from.\n",
    "Each thread would independently make HTTP requests and process the responses.\n",
    "By doing this concurrently, your application can utilize the idle time while\n",
    "waiting for responses from one website to make requests to other websites.\n",
    "\"\"\"\n",
    "# Example:\n",
    "\n",
    "import threading\n",
    "import requests\n",
    "\n",
    "# Function to fetch data from a website\n",
    "def fetch_data(url):\n",
    "    response = requests.get(url)\n",
    "    print(f\"Fetched data from {url}: {response.text}\")\n",
    "\n",
    "# List of URLs to scrape\n",
    "urls = [\n",
    "    \"https://example.com/page1\",\n",
    "    \"https://example.com/page2\",\n",
    "    \"https://example.com/page3\",\n",
    "    # Add more URLs as needed\n",
    "]\n",
    "\n",
    "# Create and start a thread for each URL\n",
    "threads = []\n",
    "for url in urls:\n",
    "    thread = threading.Thread(target=fetch_data, args=(url,))\n",
    "    thread.start()\n",
    "    threads.append(thread)\n",
    "\n",
    "# Wait for all threads to finish\n",
    "for thread in threads:\n",
    "    thread.join()\n",
    "\n",
    "print(\"All threads finished scraping.\")\n",
    "\n",
    "\n",
    "# In this example, each URL is scraped in its own thread, allowing multiple requests to be made concurrently. \n",
    "# This can significantly speed up the overall data retrieval process compared to making requests sequentially.\n",
    "# However, it's essential to be mindful of server limits and concurrency restrictions to avoid overloading the websites you're scraping.\n"
   ]
  },
  {
   "cell_type": "markdown",
   "id": "29f22de4-3e59-4000-8b45-decd52662bc9",
   "metadata": {},
   "source": [
    "Q39. What is multiprocessing in python"
   ]
  },
  {
   "cell_type": "code",
   "execution_count": 4,
   "id": "7a48c299-c4cc-4bd5-998a-ab3d9393aa90",
   "metadata": {},
   "outputs": [
    {
     "name": "stdout",
     "output_type": "stream",
     "text": [
      "Results: [1, 4, 9, 16, 25]\n"
     ]
    }
   ],
   "source": [
    "\"\"\"\n",
    "Multiprocessing in Python refers to the ability to run multiple processes concurrently,\n",
    "leveraging the multiple CPU cores available on modern computers.\n",
    "Unlike multithreading, where multiple threads share the same memory space within a single process,\n",
    "multiprocessing involves separate memory space for each process.\n",
    "\n",
    "The Python standard library provides the multiprocessing module,\n",
    "which allows developers to create and manage multiple processes easily.\n",
    "Each process has its own memory space, global variables, and resources, making it suitable for CPU-bound tasks and parallel computing.\n",
    "\"\"\"\n",
    "# Example:\n",
    "\n",
    "import multiprocessing\n",
    "\n",
    "# Function to calculate square\n",
    "def calculate_square(number):\n",
    "    return number * number\n",
    "\n",
    "if __name__ == \"__main__\":\n",
    "    # Create a pool of processes\n",
    "    pool = multiprocessing.Pool()\n",
    "\n",
    "    # List of numbers\n",
    "    numbers = [1, 2, 3, 4, 5]\n",
    "\n",
    "    # Map the function to the list of numbers to calculate squares concurrently\n",
    "    results = pool.map(calculate_square, numbers)\n",
    "\n",
    "    # Close the pool\n",
    "    pool.close()\n",
    "    pool.join()\n",
    "\n",
    "    print(\"Results:\", results)\n",
    "\n",
    "# In this example, a pool of processes is created using multiprocessing.Pool().\n",
    "# The map() function is then used to apply the calculate_square() function to each element in the numbers list concurrently.\n",
    "# Finally, the pool is closed and joined to wait for all processes to complete before printing the results."
   ]
  },
  {
   "cell_type": "markdown",
   "id": "4b2c0532-f869-4c53-baa6-ade321c41d95",
   "metadata": {},
   "source": [
    "Q40. How is multiprocessing different from multithreading in python "
   ]
  },
  {
   "cell_type": "code",
   "execution_count": null,
   "id": "f354d065-9f9a-4e05-a3c8-d50316aae4f9",
   "metadata": {},
   "outputs": [],
   "source": [
    "\"\"\"\n",
    "Multiprocessing and multithreading are both techniques used to achieve concurrency in Python, but they differ in several key aspects:\n",
    "\n",
    "Execution Model:\n",
    "Multiprocessing: In multiprocessing, multiple processes run concurrently, each with its own memory space. Processes are independent of each other and communicate via inter-process communication mechanisms like pipes, queues, or shared memory.\n",
    "Multithreading: In multithreading, multiple threads run within the same process and share the same memory space. Threads are lighter-weight than processes and share resources such as memory, file handles, and other process-wide state.\n",
    "Global Interpreter Lock (GIL):\n",
    "Multiprocessing: Multiprocessing bypasses the Global Interpreter Lock (GIL), allowing true parallel execution of CPU-bound tasks across multiple CPU cores. Each process has its own GIL, enabling parallelism without contention.\n",
    "Multithreading: Multithreading in Python is subject to the Global Interpreter Lock (GIL), which prevents multiple native threads from executing Python bytecode simultaneously. As a result, multithreading is more suitable for I/O-bound tasks rather than CPU-bound tasks.\n",
    "Resource Isolation:\n",
    "Multiprocessing: Processes are isolated from each other, with their own memory space. This isolation ensures that if one process crashes or encounters an error, it doesn't affect other processes.\n",
    "Multithreading: Threads share the same memory space within the same process. While this allows for efficient communication and data sharing, it also introduces complexities such as race conditions and requires synchronization mechanisms like locks or semaphores.\n",
    "Communication:\n",
    "Multiprocessing: Processes communicate using inter-process communication mechanisms such as pipes, queues, shared memory, or sockets. These mechanisms enable communication and data exchange between processes.\n",
    "Multithreading: Threads share memory, allowing for direct access to shared data within the process. However, care must be taken to synchronize access to shared resources to prevent data corruption or race conditions.\n",
    "Scalability:\n",
    "Multiprocessing: Multiprocessing allows you to scale your applications across multiple CPU cores, making it suitable for CPU-bound tasks and parallel computing. Each process can utilize a separate CPU core, enabling better performance scaling.\n",
    "Multithreading: Multithreading is suitable for I/O-bound tasks where threads spend a significant amount of time waiting for external resources such as I/O operations (e.g., network requests, file I/O). However, due to the GIL, it may not fully utilize multiple CPU cores for CPU-bound tasks.\n",
    "\"\"\"\n"
   ]
  },
  {
   "cell_type": "markdown",
   "id": "6f1b975c-6e87-4b24-9070-f5cb95728653",
   "metadata": {},
   "source": [
    "Q41. craete a process using the multiprocessing module in python"
   ]
  },
  {
   "cell_type": "code",
   "execution_count": 5,
   "id": "e4e7af18-30c1-4665-b5b7-d79dbc14e6c2",
   "metadata": {},
   "outputs": [
    {
     "name": "stdout",
     "output_type": "stream",
     "text": [
      "Process ID: 661\n",
      "This is a child process.\n",
      "Main program and process both finished.\n"
     ]
    }
   ],
   "source": [
    "import multiprocessing\n",
    "import os\n",
    "\n",
    "# Function to be executed by the process\n",
    "def process_function():\n",
    "    print(f\"Process ID: {os.getpid()}\")\n",
    "    print(\"This is a child process.\")\n",
    "\n",
    "if __name__ == \"__main__\":\n",
    "    # Create a process\n",
    "    process = multiprocessing.Process(target=process_function)\n",
    "\n",
    "    # Start the process\n",
    "    process.start()\n",
    "\n",
    "    # Wait for the process to finish\n",
    "    process.join()\n",
    "\n",
    "    print(\"Main program and process both finished.\")\n",
    "\n",
    " \n",
    "\n",
    "\"\"\"\n",
    "When we run this code, we can see that a child process is created and executes the process_function(), \n",
    "printing its process ID. After the child process finishes, the main program continues execution.\n",
    "\"\"\""
   ]
  },
  {
   "cell_type": "markdown",
   "id": "5189d473-7dce-4110-b14e-a3cbfd686ff0",
   "metadata": {},
   "source": [
    "Q42.Explain the concept of Pool in the multiprocessing module. "
   ]
  },
  {
   "cell_type": "code",
   "execution_count": 6,
   "id": "a05179ec-c025-46fb-81cb-708ff276ea43",
   "metadata": {},
   "outputs": [
    {
     "name": "stdout",
     "output_type": "stream",
     "text": [
      "Results: [1, 4, 9, 16, 25]\n"
     ]
    }
   ],
   "source": [
    "\"\"\"\n",
    "In the multiprocessing module of Python, a Pool represents a pool of worker processes that can be used to execute tasks concurrently. The Pool class provides a convenient interface for parallel execution of functions across multiple processes.\n",
    "\n",
    "Here are the key concepts related to the Pool in the multiprocessing module:\n",
    "\n",
    "Worker Processes:\n",
    "A Pool consists of a specified number of worker processes, typically corresponding to the number of CPU cores available on the system.\n",
    "Each worker process in the pool is responsible for executing tasks submitted to the pool.\n",
    "Task Distribution:\n",
    "Tasks are distributed among the worker processes in the pool.\n",
    "When a task is submitted to the pool, it's assigned to an available worker process for execution.\n",
    "Concurrency:\n",
    "Tasks submitted to the pool can be executed concurrently by multiple worker processes.\n",
    "This allows for parallel execution of tasks, potentially improving the performance of CPU-bound operations by utilizing multiple CPU cores.\n",
    "Task Submission:\n",
    "Tasks can be submitted to the pool using various methods provided by the Pool class, such as apply(), apply_async(), map(), map_async(), etc.\n",
    "These methods accept functions and arguments and return results asynchronously or synchronously, depending on the method used.\n",
    "Result Handling:\n",
    "The Pool class provides mechanisms to handle the results of executed tasks.\n",
    "For asynchronous execution, results can be obtained using callback functions or by querying result objects returned by the apply_async() or map_async() methods.\n",
    "For synchronous execution, results are returned immediately upon completion of tasks.\n",
    "\"\"\"\n",
    "\n",
    "# Example:\n",
    "\n",
    "import multiprocessing\n",
    "\n",
    "# Function to calculate square of a number\n",
    "def calculate_square(number):\n",
    "    return number * number\n",
    "\n",
    "if __name__ == \"__main__\":\n",
    "    # Create a Pool with 3 worker processes\n",
    "    with multiprocessing.Pool(processes=3) as pool:\n",
    "        # Perform parallel calculation of squares using map\n",
    "        numbers = [1, 2, 3, 4, 5]\n",
    "        results = pool.map(calculate_square, numbers)\n",
    "\n",
    "    print(\"Results:\", results)\n"
   ]
  },
  {
   "cell_type": "markdown",
   "id": "1b7fa1cf-f41c-4197-a709-bc40f977f9f3",
   "metadata": {},
   "source": [
    "Q43. Explain inter-process communication in multiprocessing."
   ]
  },
  {
   "cell_type": "code",
   "execution_count": null,
   "id": "198f0cce-6c21-462d-8425-6c0d0243fcd2",
   "metadata": {},
   "outputs": [],
   "source": [
    "\"\"\"\n",
    "Inter-process communication (IPC) in multiprocessing refers to the mechanisms and techniques used for communication and data exchange between separate processes running concurrently. In Python's multiprocessing module, various IPC mechanisms are provided to facilitate communication between processes. Here are some common IPC mechanisms used in multiprocessing:\n",
    "\n",
    "Pipes:\n",
    "Pipes provide a two-way communication channel between two processes.\n",
    "In Python's multiprocessing module, the Pipe() function can be used to create a pair of connection objects representing the ends of a pipe.\n",
    "Each connection object (Connection) provides methods for sending and receiving data between processes.\n",
    "Queues:\n",
    "Queues are thread-safe data structures that allow multiple processes to communicate and exchange data.\n",
    "In Python's multiprocessing module, the Queue class can be used to create shared queues that can be accessed by multiple processes.\n",
    "Processes can put items into the queue using the put() method and retrieve items from the queue using the get() method.\n",
    "Shared Memory:\n",
    "Shared memory allows multiple processes to access a common region of memory.\n",
    "In Python's multiprocessing module, the Value and Array classes can be used to create shared variables and arrays, respectively.\n",
    "Processes can read from and write to shared memory locations, enabling efficient data sharing between processes.\n",
    "Manager Objects:\n",
    "Manager objects provide a higher-level interface for sharing data between processes.\n",
    "In Python's multiprocessing module, the Manager class can be used to create shared data structures such as lists, dictionaries, and proxies.\n",
    "Processes can access and modify shared data structures using proxy objects provided by the manager.\n",
    "Locks, Semaphores, and Events:\n",
    "Locks, semaphores, and events are synchronization primitives used to coordinate access to shared resources and ensure data consistency.\n",
    "In Python's multiprocessing module, the Lock, Semaphore, and Event classes can be used to create synchronization primitives that can be shared between processes.\n",
    "Processes can acquire and release locks, semaphore permits, and set or wait for event flags to control access to shared resources.\n",
    "\n",
    "\"\"\""
   ]
  }
 ],
 "metadata": {
  "kernelspec": {
   "display_name": "Python 3 (ipykernel)",
   "language": "python",
   "name": "python3"
  },
  "language_info": {
   "codemirror_mode": {
    "name": "ipython",
    "version": 3
   },
   "file_extension": ".py",
   "mimetype": "text/x-python",
   "name": "python",
   "nbconvert_exporter": "python",
   "pygments_lexer": "ipython3",
   "version": "3.10.8"
  }
 },
 "nbformat": 4,
 "nbformat_minor": 5
}
