{
 "cells": [
  {
   "cell_type": "code",
   "execution_count": null,
   "id": "b9a4ff8f-a712-4727-a415-2bf1711e4391",
   "metadata": {},
   "outputs": [],
   "source": [
    "'''\n",
    "Assignment 7 - Inbuilt STRINGS\n",
    "'''"
   ]
  },
  {
   "cell_type": "markdown",
   "id": "95e84bb0-4de8-4531-979e-0eb7c20bcb96",
   "metadata": {},
   "source": [
    "Q1. What is the purpose of the len() function in Python, and how can it be used with strings?"
   ]
  },
  {
   "cell_type": "code",
   "execution_count": 3,
   "id": "1a2fac91-7cca-4114-a71d-a3b98fad803a",
   "metadata": {},
   "outputs": [
    {
     "name": "stdout",
     "output_type": "stream",
     "text": [
      "lenght of my string is : 21\n"
     ]
    }
   ],
   "source": [
    "'''\n",
    "The len() function in Python is used to determine the length (the number of elements) of an object.\n",
    "Its primary purpose is to return the number of items in a sequence or the number of characters in a string.\n",
    "When used with strings, len() counts the number of characters in the string, including spaces and special characters.\n",
    "'''\n",
    "# Example:\n",
    "\n",
    "my_string = \"I am a Data Scientist\"\n",
    "print(\"lenght of my string is :\",len(my_string))"
   ]
  },
  {
   "cell_type": "markdown",
   "id": "6ac0c4dd-678e-4f35-a460-5aa18b0c1001",
   "metadata": {},
   "source": [
    "Q2. How can you concatenate two or more strings in Python, and can you provide an example of string concatenation?"
   ]
  },
  {
   "cell_type": "code",
   "execution_count": 13,
   "id": "89002856-ba5b-4c54-8620-039d7a5e118a",
   "metadata": {},
   "outputs": [
    {
     "name": "stdout",
     "output_type": "stream",
     "text": [
      "before concatenation: \n",
      "1st string = I am a  \n",
      "2nd string = data scientist\n",
      "after concatenation :  I am a data scientist\n",
      "Another way :  I am a data scientist\n"
     ]
    }
   ],
   "source": [
    "'''\n",
    "In Python, two or more strings can be concatenated using the + operator.\n",
    "String concatenation involves combining multiple strings into a single string.\n",
    "'''\n",
    "# Example:\n",
    "\n",
    "string1 = \"I am a \"\n",
    "string2 = \"data scientist\"\n",
    "print(f\"before concatenation: \\n1st string = {string1} \\n2nd string = {string2}\")\n",
    "print(\"after concatenation : \", string1 + string2)\n",
    "\n",
    "# Another way\n",
    "\n",
    "string1 += string2\n",
    "print(\"Another way : \", string1)"
   ]
  },
  {
   "cell_type": "markdown",
   "id": "454edd8e-fa6e-4458-9e39-6307188bc7ba",
   "metadata": {},
   "source": [
    "Q3. What is string slicing in Python, and how can you extract a portion of a string using this method?"
   ]
  },
  {
   "cell_type": "code",
   "execution_count": 8,
   "id": "ca67e144-de12-4ca3-8ca0-f7b38819678c",
   "metadata": {},
   "outputs": [
    {
     "name": "stdout",
     "output_type": "stream",
     "text": [
      "Data Scientist\n",
      "I am \n",
      "a Data Scientist\n"
     ]
    }
   ],
   "source": [
    "'''\n",
    "String slicing in Python allows to extract a portion of a string by specifying a range of indices.\n",
    "The basic syntax for string slicing is:\n",
    "'''\n",
    "# string[start:stop]\n",
    "\n",
    "'''\n",
    "Here, start is the index of the first character to be include in the slice, \n",
    "and stop is the index of the first character to be exclude from the slice. \n",
    "The resulting slice includes characters from the start index up to, but not including, the stop index.\n",
    "'''\n",
    "# Example :\n",
    "\n",
    "original_string = \"I am a Data Scientist\"\n",
    "\n",
    "# Extracting a portion of the string from index 7 to 21\n",
    "substring = original_string[7:21]\n",
    "print(substring)\n",
    "\n",
    "# Extracting from the beginning to index 5\n",
    "substring1 = original_string[:5]\n",
    "print(substring1)\n",
    "\n",
    "# Extracting from index 7 to the end\n",
    "substring2 = original_string[5:]\n",
    "print(substring2)\n"
   ]
  },
  {
   "cell_type": "markdown",
   "id": "ec8786c5-f78d-47a9-b56e-75b8be0b9a19",
   "metadata": {},
   "source": [
    "Q4.How can you change the case of a string in Python, and can you provide examples of both making a string all uppercase and all lowercase?"
   ]
  },
  {
   "cell_type": "code",
   "execution_count": 9,
   "id": "79795ea9-ae79-403d-8e81-d7a854c0d015",
   "metadata": {},
   "outputs": [
    {
     "name": "stdout",
     "output_type": "stream",
     "text": [
      "I AM A DATA SCIENTIST\n",
      "i am a data scientist\n"
     ]
    }
   ],
   "source": [
    "'''\n",
    "In Python, the case of a string can be changed using the upper() and lower() methods.\n",
    "These methods are useful when there is need to compare or manipulate strings without being case-sensitive\n",
    "or when there is need to present the string in a specific case format.\n",
    "Also, these methods return a new string with the modified case, and the original string remains unchanged.\n",
    "'''\n",
    "\n",
    "# Example:\n",
    "\n",
    "original_string = \"I am a Data Scientist\"\n",
    "\n",
    "upper_string = original_string.upper()\n",
    "print(upper_string)\n",
    "\n",
    "lower_string = original_string.lower()\n",
    "print(lower_string)"
   ]
  },
  {
   "cell_type": "markdown",
   "id": "7c1ff857-e71b-41c0-8766-7403da2ef31a",
   "metadata": {},
   "source": [
    "Q5. What does the split() method do in Python, and how can you split a string using a specific delimiter?"
   ]
  },
  {
   "cell_type": "code",
   "execution_count": 11,
   "id": "f033854e-9371-4c41-81f5-677fb853b9c9",
   "metadata": {},
   "outputs": [
    {
     "name": "stdout",
     "output_type": "stream",
     "text": [
      "['apple', 'orange', 'banana', 'grape', 'papaya']\n"
     ]
    }
   ],
   "source": [
    "'''\n",
    "The split() method in Python is used to split a string into a list of substrings based on a specified delimiter.\n",
    "By default, the delimiter is a space character.\n",
    "This method is handy for parsing data in various formats or when there is need to process individual components of a string separately.\n",
    "'''\n",
    "\n",
    "# Example:\n",
    "\n",
    "data = \"apple,orange,banana,grape,papaya\"\n",
    "\n",
    "# Splitting the data into a list of fruits\n",
    "fruit_list = data.split(',')\n",
    "print(fruit_list)"
   ]
  },
  {
   "cell_type": "code",
   "execution_count": null,
   "id": "a3a754df-0ca9-429f-b480-291077b29791",
   "metadata": {},
   "outputs": [],
   "source": []
  }
 ],
 "metadata": {
  "kernelspec": {
   "display_name": "Python 3 (ipykernel)",
   "language": "python",
   "name": "python3"
  },
  "language_info": {
   "codemirror_mode": {
    "name": "ipython",
    "version": 3
   },
   "file_extension": ".py",
   "mimetype": "text/x-python",
   "name": "python",
   "nbconvert_exporter": "python",
   "pygments_lexer": "ipython3",
   "version": "3.10.8"
  }
 },
 "nbformat": 4,
 "nbformat_minor": 5
}
