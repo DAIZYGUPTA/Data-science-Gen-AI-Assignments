{
  "nbformat": 4,
  "nbformat_minor": 0,
  "metadata": {
    "colab": {
      "provenance": []
    },
    "kernelspec": {
      "name": "python3",
      "display_name": "Python 3"
    },
    "language_info": {
      "name": "python"
    }
  },
  "cells": [
    {
      "cell_type": "markdown",
      "source": [
        "Course - Data Science with Gen AI\n",
        "Module 5 - Assignments\n",
        "Assignment name - **Data Structures**\n",
        "Assignment Uploaded Date - 7 March, 24\n",
        "\n",
        "\n"
      ],
      "metadata": {
        "id": "1ZKxonDdPyR0"
      }
    },
    {
      "cell_type": "markdown",
      "source": [
        "# Q1"
      ],
      "metadata": {
        "id": "ZcLEFqI_d0Xc"
      }
    },
    {
      "cell_type": "code",
      "source": [
        "\"\"\"\n",
        "Question 1.  Why might you choose a deque from the collections module to implement a queue instead of using a regular Python list?\n",
        "\n",
        "\"\"\""
      ],
      "metadata": {
        "id": "Lch3h19rRDlo"
      },
      "execution_count": null,
      "outputs": []
    },
    {
      "cell_type": "code",
      "execution_count": null,
      "metadata": {
        "id": "76ldryNnPvJl"
      },
      "outputs": [],
      "source": [
        "\n",
        "\n",
        "\"\"\" A deque (double-ended queue) from the collections module is preferred over a regular Python list for implementing a queue because:\n",
        "\n",
        "Efficient O(1) Operations:\n",
        "\n",
        "deque.popleft() and deque.append() operate in O(1) time, making it ideal for a queue.\n",
        "In contrast, list.pop(0) (removing from the front) is O(n) because it requires shifting all elements.\n",
        "Better Performance for Large Queues:\n",
        "\n",
        "deque is optimized for fast insertions and deletions at both ends.\n",
        "list can be slow for queues since removing from the front requires shifting all elements.\n",
        "Thread-Safety:\n",
        "\n",
        "deque provides built-in support for atomic operations, making it more thread-safe compared to list.\n",
        "More Queue-Like Behavior:\n",
        "\n",
        "deque is designed specifically for queue and stack operations, whereas list is a general-purpose container.\n",
        "\"\"\""
      ]
    },
    {
      "cell_type": "code",
      "source": [
        "from collections import deque\n",
        "\n",
        "queue = deque()  # making object\n",
        "queue.append(1)   # appending data to queue\n",
        "queue.append(2)\n",
        "queue.append(3)\n",
        "\n",
        "print(queue.popleft())\n",
        "print(queue.popleft())\n"
      ],
      "metadata": {
        "colab": {
          "base_uri": "https://localhost:8080/"
        },
        "id": "r773UWx2RDiz",
        "outputId": "3022c88f-2274-4038-ed07-27407d8b9f4c"
      },
      "execution_count": 1,
      "outputs": [
        {
          "output_type": "stream",
          "name": "stdout",
          "text": [
            "1\n",
            "2\n"
          ]
        }
      ]
    },
    {
      "cell_type": "markdown",
      "source": [
        "#Q2"
      ],
      "metadata": {
        "id": "nQam9NNQedvJ"
      }
    },
    {
      "cell_type": "code",
      "source": [
        "\"\"\"\n",
        "Question 2. Can you explain a real-world scenario where using a stack would be a more practical choice than a list for data storage and retrieval?\n",
        "\"\"\""
      ],
      "metadata": {
        "id": "h-2zqRY0RDgN"
      },
      "execution_count": null,
      "outputs": []
    },
    {
      "cell_type": "code",
      "source": [
        "\"\"\"\n",
        "When we type or edit text in a word processor (like MS Word, Google Docs, or a code editor), every action (typing, deleting, formatting) is stored in an undo stack.\n",
        "\n",
        "Why a Stack?\n",
        "LIFO Behavior: The most recent action is the first one to be undone.\n",
        "Efficient Retrieval: Using stack.pop() retrieves and removes the last action in O(1) time.\n",
        "Redo Stack: If an action is undone, it can be pushed to a redo stack, allowing the user to redo actions in the correct sequence.\n",
        "\"\"\""
      ],
      "metadata": {
        "id": "EzH9eVGsRDdq"
      },
      "execution_count": null,
      "outputs": []
    },
    {
      "cell_type": "code",
      "source": [
        "stack = []  # Undo stack\n",
        "redo_stack = []  # Redo stack\n",
        "\n",
        "# Perform actions\n",
        "stack.append(\"Typed 'Hello'\")\n",
        "stack.append(\"Deleted 'o'\")\n",
        "\n",
        "# Undo last action\n",
        "last_action = stack.pop()\n",
        "redo_stack.append(last_action)\n",
        "\n",
        "print(\"Undo:\", last_action)\n"
      ],
      "metadata": {
        "colab": {
          "base_uri": "https://localhost:8080/"
        },
        "id": "7P_qb7blRDbg",
        "outputId": "9104fdab-37f2-47fe-bcdc-1ca35c620872"
      },
      "execution_count": 2,
      "outputs": [
        {
          "output_type": "stream",
          "name": "stdout",
          "text": [
            "Undo: Deleted 'o'\n"
          ]
        }
      ]
    },
    {
      "cell_type": "markdown",
      "source": [
        "#Q3"
      ],
      "metadata": {
        "id": "II7gDT_ueZ5p"
      }
    },
    {
      "cell_type": "code",
      "source": [
        "\"\"\"\n",
        "Question 3.  What is the primary advantage of using sets in Python, and in what type of problem-solving scenarios are they most useful?\n",
        "\"\"\""
      ],
      "metadata": {
        "id": "ty7jzsjdRDZA"
      },
      "execution_count": null,
      "outputs": []
    },
    {
      "cell_type": "code",
      "source": [
        "\"\"\"\n",
        "Sets in Python are useful for storing unique elements and providing fast membership testing (O(1) lookup time).\n",
        " They are best for problems like removing duplicates, fast lookups, and performing set operations (union, intersection, difference).\n",
        "\"\"\""
      ],
      "metadata": {
        "id": "_aCbb-f8RDWc"
      },
      "execution_count": null,
      "outputs": []
    },
    {
      "cell_type": "code",
      "source": [
        "# Creating sets\n",
        "set1 = {1, 2, 3, 4}\n",
        "set2 = {3, 4, 5, 6}\n",
        "\n",
        "# Removing duplicates\n",
        "unique_list = list(set([1, 2, 2, 3, 4, 4]))  # [1, 2, 3, 4]\n",
        "\n",
        "# Fast membership testing\n",
        "print(\"membership testing -> is 3 in set1: \")\n",
        "print(3 in set1)  # True (O(1) lookup)\n",
        "\n",
        "# Set operations\n",
        "print(\"Intersection:\" , set1 & set2)\n",
        "print(\"Union: \", set1 | set2)\n",
        "print(\"Difference: \",set1 - set2)\n"
      ],
      "metadata": {
        "colab": {
          "base_uri": "https://localhost:8080/"
        },
        "id": "Cy9Jj33TRDTt",
        "outputId": "233e7ff0-b803-4361-eadb-d3d7a61340d8"
      },
      "execution_count": 8,
      "outputs": [
        {
          "output_type": "stream",
          "name": "stdout",
          "text": [
            "membership testing -> is 3 in set1: \n",
            "True\n",
            "Intersection: {3, 4}\n",
            "Union:  {1, 2, 3, 4, 5, 6}\n",
            "Difference:  {1, 2}\n"
          ]
        }
      ]
    },
    {
      "cell_type": "markdown",
      "source": [
        "#Q4"
      ],
      "metadata": {
        "id": "r7iV8wlueDNg"
      }
    },
    {
      "cell_type": "code",
      "source": [
        "\"\"\"\n",
        "Question 4. When might you choose to use an array instead of a list for storing numerical data in Python?\n",
        " What benefits do arrays offer in this context?\n",
        "\"\"\""
      ],
      "metadata": {
        "id": "_vP02lceRDQi"
      },
      "execution_count": null,
      "outputs": []
    },
    {
      "cell_type": "code",
      "source": [
        "\"\"\"\n",
        "Use lists for general-purpose storage,\n",
        "but use arrays (NumPy) when dealing with large numerical datasets\n",
        "and mathematical operations for better performance and efficiency.\n",
        "\"\"\""
      ],
      "metadata": {
        "id": "iikN1qquRDLI"
      },
      "execution_count": null,
      "outputs": []
    },
    {
      "cell_type": "code",
      "source": [
        "import numpy as np\n",
        "\n",
        "# Using a list\n",
        "nums_list = [1, 2, 3, 4, 5]\n",
        "nums_list = [x * 2 for x in nums_list]  # Requires loop\n",
        "\n",
        "# Using a NumPy array\n",
        "nums_array = np.array([1, 2, 3, 4, 5])\n",
        "nums_array *= 2  # Vectorized operation (faster)\n",
        "\n",
        "print(nums_list)   # [2, 4, 6, 8, 10]\n",
        "print(nums_array)  # [ 2  4  6  8 10]\n"
      ],
      "metadata": {
        "colab": {
          "base_uri": "https://localhost:8080/"
        },
        "id": "_tiKOCjlc5le",
        "outputId": "b9d58ebb-75b8-4bc6-c29a-cbdce8d3a932"
      },
      "execution_count": 9,
      "outputs": [
        {
          "output_type": "stream",
          "name": "stdout",
          "text": [
            "[2, 4, 6, 8, 10]\n",
            "[ 2  4  6  8 10]\n"
          ]
        }
      ]
    },
    {
      "cell_type": "markdown",
      "source": [
        "#Q5"
      ],
      "metadata": {
        "id": "1K9Iux9Yd-8A"
      }
    },
    {
      "cell_type": "code",
      "source": [
        "\"\"\"\n",
        "Question 5. In Python, what's the primary difference between dictionaries and lists,\n",
        "and how does this difference impact their use cases in programming?\n",
        "\"\"\""
      ],
      "metadata": {
        "id": "-auF-ILQdV-F"
      },
      "execution_count": null,
      "outputs": []
    },
    {
      "cell_type": "code",
      "source": [
        "\"\"\"\n",
        "Lists are best for ordered collections where indexing is important.\n",
        "Dictionaries are best for fast lookups and key-value mapping, making them ideal for structured data.\n",
        "\"\"\""
      ],
      "metadata": {
        "id": "gkCh8rcXdV4W"
      },
      "execution_count": null,
      "outputs": []
    },
    {
      "cell_type": "code",
      "source": [
        "# List Example (Ordered, Indexed)\n",
        "students = [\"Alice\", \"Bob\", \"Charlie\"]\n",
        "print(students[1])  # Output: Bob\n",
        "\n",
        "# Dictionary Example (Key-Value Lookup)\n",
        "grades = {\"Alice\": 90, \"Bob\": 85, \"Charlie\": 88}\n",
        "print(grades[\"Bob\"])  # Output: 85\n"
      ],
      "metadata": {
        "colab": {
          "base_uri": "https://localhost:8080/"
        },
        "id": "IR-r2Q_odVxT",
        "outputId": "f00cc451-6e41-4ddf-887e-636c8100f944"
      },
      "execution_count": 10,
      "outputs": [
        {
          "output_type": "stream",
          "name": "stdout",
          "text": [
            "Bob\n",
            "85\n"
          ]
        }
      ]
    }
  ]
}