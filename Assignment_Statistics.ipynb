{
  "cells": [
    {
      "cell_type": "markdown",
      "source": [
        "Module 22 -> Stats Advance 4\n",
        "Assignment -> Statistics"
      ],
      "metadata": {
        "id": "c1s6DFHdPA1v"
      },
      "id": "c1s6DFHdPA1v"
    },
    {
      "cell_type": "code",
      "execution_count": 1,
      "id": "d75e6b29-308f-434a-bc97-6caa7bc3be09",
      "metadata": {
        "id": "d75e6b29-308f-434a-bc97-6caa7bc3be09"
      },
      "outputs": [],
      "source": [
        "import numpy as np\n",
        "import pandas as pd\n",
        "import statistics as st\n",
        "import seaborn as sns\n",
        "import scipy.stats as stats\n",
        "import matplotlib.pyplot as plt"
      ]
    },
    {
      "cell_type": "markdown",
      "source": [
        "#Q1"
      ],
      "metadata": {
        "id": "tmnt6su9tgrK"
      },
      "id": "tmnt6su9tgrK"
    },
    {
      "cell_type": "code",
      "execution_count": 2,
      "id": "ba3bd0b0-d3cf-45eb-b880-3d3d446ba21d",
      "metadata": {
        "colab": {
          "base_uri": "https://localhost:8080/"
        },
        "id": "ba3bd0b0-d3cf-45eb-b880-3d3d446ba21d",
        "outputId": "7f4ccc2e-ff63-4b9e-e0e5-8281366f905c"
      },
      "outputs": [
        {
          "output_type": "stream",
          "name": "stdout",
          "text": [
            "('The mean of the list of numbers is', 110.01)\n",
            "('the median of the list of numbers is', 109.0)\n"
          ]
        }
      ],
      "source": [
        "\"\"\"Q1) Generate a list of 100 integers containing values between 90 to 130 and store it in the variable `int_list`.\n",
        "After generating the list, find the following:\n",
        "\"\"\"\n",
        "# (i) Write a Python function to calculate the mean of a given list of numbers.Create a function to find the median of a list of numbers.\n",
        "\n",
        "int_list=np.random.randint(90,130,100)\n",
        "\n",
        "def mean_list(l):\n",
        "    return \"The mean of the list of numbers is\", np.mean(l)\n",
        "\n",
        "def median_list(l):\n",
        "    return \"the median of the list of numbers is\", np.median(l)\n",
        "\n",
        "print(mean_list(int_list))\n",
        "print(median_list(int_list))"
      ]
    },
    {
      "cell_type": "code",
      "execution_count": 3,
      "id": "f2b99224-0d74-4f6d-ba02-df2406315a49",
      "metadata": {
        "colab": {
          "base_uri": "https://localhost:8080/"
        },
        "id": "f2b99224-0d74-4f6d-ba02-df2406315a49",
        "outputId": "e3d9f772-d2af-4038-cb19-d111bccef9b3"
      },
      "outputs": [
        {
          "output_type": "stream",
          "name": "stdout",
          "text": [
            "The mode of list of numbers is 128\n"
          ]
        }
      ],
      "source": [
        "#(ii) Develop a program to compute the mode of a list of integers.\n",
        "print(\"The mode of list of numbers is\",st.mode(int_list))"
      ]
    },
    {
      "cell_type": "code",
      "execution_count": 4,
      "id": "d2118409-e7b6-45d2-96b5-aca4aed2db2a",
      "metadata": {
        "colab": {
          "base_uri": "https://localhost:8080/"
        },
        "id": "d2118409-e7b6-45d2-96b5-aca4aed2db2a",
        "outputId": "2147404d-c0b1-4bb9-bc27-ab8fc8d5101a"
      },
      "outputs": [
        {
          "output_type": "stream",
          "name": "stdout",
          "text": [
            "The list of numbers is\n",
            " [114 124 126 110  92  93 109  98  90 103 115 109 109 124 125 112 101  99\n",
            " 106 126 105 113 128  96 113 113 104 108 103 108 127 128 128  99 113 109\n",
            " 112 108 102 102 127  91  94  99  93  96 106 112 103 126 100 102 106  99\n",
            "  98 129 122 111  94  91 128  99 129 120  98 109 126 116  91 128  90 114\n",
            " 125  98  91 120 117 128  93 101 126 117 128 114  93 124 113 102 128  98\n",
            " 127  99 119 126  93 127 117 120  95 111]\n",
            "The weights of list\n",
            " [3, 4, 4, 2, 1, 1, 2, 1, 1, 2, 3, 2, 2, 4, 4, 3, 2, 1, 2, 4, 2, 3, 4, 1, 3, 3, 2, 2, 2, 2, 4, 4, 4, 1, 3, 2, 3, 2, 2, 2, 4, 1, 1, 1, 1, 1, 2, 3, 2, 4, 1, 2, 2, 1, 1, 4, 4, 3, 1, 1, 4, 1, 4, 3, 1, 2, 4, 3, 1, 4, 1, 3, 4, 1, 1, 3, 3, 4, 1, 2, 4, 3, 4, 3, 1, 4, 3, 2, 4, 1, 4, 1, 3, 4, 1, 4, 3, 3, 1, 3]\n",
            "\n",
            "The weighted mean of a list of values is 115.70612244897958\n"
          ]
        }
      ],
      "source": [
        "#(iii) Implement a function to calculate the weighted mean of a list of values and their corresponding weights.\n",
        "\n",
        "def weighted_mean(lst):\n",
        "    weighted_list=[]\n",
        "    for num in lst:\n",
        "        if 90<=num<=100:\n",
        "            weighted_list.append(1)\n",
        "        elif 101<=num<=110:\n",
        "            weighted_list.append(2)\n",
        "        elif 111<=num<=120:\n",
        "            weighted_list.append(3)\n",
        "        else:\n",
        "            weighted_list.append(4)\n",
        "\n",
        "    print(\"The list of numbers is\\n\",lst)\n",
        "    print(\"The weights of list\\n\", weighted_list)\n",
        "    arr1=np.array(lst)\n",
        "    arr2=np.array(weighted_list)\n",
        "    weighted_sum_numerator= sum(arr1*arr2)\n",
        "    sum_of_weights=sum(weighted_list)\n",
        "    weighted_avg=weighted_sum_numerator/sum_of_weights\n",
        "    print (\"\\nThe weighted mean of a list of values is\", weighted_avg)\n",
        "\n",
        "\n",
        "weighted_mean(int_list)"
      ]
    },
    {
      "cell_type": "code",
      "execution_count": 5,
      "id": "d2ef4b01-46da-4269-adbe-9d187851c76f",
      "metadata": {
        "colab": {
          "base_uri": "https://localhost:8080/"
        },
        "id": "d2ef4b01-46da-4269-adbe-9d187851c76f",
        "outputId": "350e4bd5-12dd-44c5-af5b-bb91920f9101"
      },
      "outputs": [
        {
          "output_type": "execute_result",
          "data": {
            "text/plain": [
              "('The geometric mean of the list of numbers is', 5.38843856105831)"
            ]
          },
          "metadata": {},
          "execution_count": 5
        }
      ],
      "source": [
        "#(iv) Write a Python function to find the geometric mean of a list of positive numbers.\n",
        "def geometric_mean(lst):\n",
        "    prod=1\n",
        "    for num in lst[0:10]:\n",
        "        prod*=num\n",
        "    gmean=(prod)**(1/len(lst))\n",
        "    return \"The geometric mean of the list of numbers is\", gmean\n",
        "\n",
        "geometric_mean([2,4,3,6,8,5,9,11,13,15,7])"
      ]
    },
    {
      "cell_type": "code",
      "execution_count": 6,
      "id": "45f9ce9c-8f0c-48b4-84e3-a5e0bf6b0739",
      "metadata": {
        "colab": {
          "base_uri": "https://localhost:8080/"
        },
        "id": "45f9ce9c-8f0c-48b4-84e3-a5e0bf6b0739",
        "outputId": "a1cb5cdb-b8a3-40ea-b0e9-6adf7bfa03c4"
      },
      "outputs": [
        {
          "output_type": "execute_result",
          "data": {
            "text/plain": [
              "('The harmonic mean of the list of numbers is', 108.62050474571038)"
            ]
          },
          "metadata": {},
          "execution_count": 6
        }
      ],
      "source": [
        "#(v) Create a program to calculate the harmonic mean of a list of values.\n",
        "def harmonic_mean(lst):\n",
        "    inverted_list=[]\n",
        "    for num in lst:\n",
        "        inverted_list.append((1/num))\n",
        "\n",
        "    denominator=sum(inverted_list)\n",
        "    hmean=len(lst)/denominator\n",
        "    return \"The harmonic mean of the list of numbers is\", hmean\n",
        "\n",
        "harmonic_mean(int_list)\n",
        ""
      ]
    },
    {
      "cell_type": "code",
      "execution_count": 7,
      "id": "fb35c424-bc71-41ac-a8d3-5f42b59f59d6",
      "metadata": {
        "colab": {
          "base_uri": "https://localhost:8080/"
        },
        "id": "fb35c424-bc71-41ac-a8d3-5f42b59f59d6",
        "outputId": "16b1f966-1b38-42c1-829b-c1e2ed01e6dd"
      },
      "outputs": [
        {
          "output_type": "stream",
          "name": "stdout",
          "text": [
            "The maximum value in the list is 129\n",
            "The minimum value in the list is 90\n",
            "The midrange of list of numbers is 109.5\n"
          ]
        }
      ],
      "source": [
        "#(vi) Build a function to determine the midrange of a list of numbers (average of the minimum and maximum).\n",
        "def midrange(lst):\n",
        "    max_value=max(lst)\n",
        "    print(\"The maximum value in the list is\", max_value)\n",
        "    min_value=min(lst)\n",
        "    print(\"The minimum value in the list is\", min_value)\n",
        "    avg=np.mean([max_value,min_value])\n",
        "    print(\"The midrange of list of numbers is\", avg)\n",
        "\n",
        "midrange(int_list)"
      ]
    },
    {
      "cell_type": "code",
      "execution_count": 8,
      "id": "200199ef-bd8f-48f5-a4ea-fdb77dff9778",
      "metadata": {
        "colab": {
          "base_uri": "https://localhost:8080/",
          "height": 463
        },
        "id": "200199ef-bd8f-48f5-a4ea-fdb77dff9778",
        "outputId": "adcb8848-d939-4a8a-e295-1a86294fbb44"
      },
      "outputs": [
        {
          "output_type": "stream",
          "name": "stdout",
          "text": [
            "The mean of the original list is 15.823529411764707\n",
            "The trimmed mean of the list excluding outliers is 18.384615384615383\n"
          ]
        },
        {
          "output_type": "execute_result",
          "data": {
            "text/plain": [
              "<Axes: >"
            ]
          },
          "metadata": {},
          "execution_count": 8
        },
        {
          "output_type": "display_data",
          "data": {
            "text/plain": [
              "<Figure size 640x480 with 1 Axes>"
            ],
            "image/png": "[encoded data removed]"
          },
          "metadata": {}
        }
      ],
      "source": [
        "#(vii) Implement a Python program to find the trimmed mean of a list, excluding a certain percentage of outliers.\n",
        "lst=[-80,-50,10,15,16,18,20,22,10,11,18,20,24,30,25,60,100]\n",
        "print(\"The mean of the original list is\", np.mean(lst))\n",
        "Q1=np.percentile(lst,25)\n",
        "Q2=np.median(lst)\n",
        "Q3=np.percentile(lst,75)\n",
        "IQR=Q3-Q1\n",
        "lower_fence=Q1-1.5*(IQR)\n",
        "upper_fence=Q3+1.5*(IQR)\n",
        "trimmed_list=[num for num in lst if (num>=lower_fence) & (num<=upper_fence)]\n",
        "print(\"The trimmed mean of the list excluding outliers is\", np.mean(trimmed_list))\n",
        "sns.boxplot(lst)"
      ]
    },
    {
      "cell_type": "markdown",
      "source": [
        "#Q2"
      ],
      "metadata": {
        "id": "BiwMFWCatqIr"
      },
      "id": "BiwMFWCatqIr"
    },
    {
      "cell_type": "code",
      "execution_count": 9,
      "id": "56cc63d1-7605-4b71-90a3-4505901ef92f",
      "metadata": {
        "colab": {
          "base_uri": "https://localhost:8080/",
          "height": 1000
        },
        "id": "56cc63d1-7605-4b71-90a3-4505901ef92f",
        "outputId": "e2d01688-6372-41d5-e81a-d29f2e0011f4"
      },
      "outputs": [
        {
          "output_type": "display_data",
          "data": {
            "text/plain": [
              "<Figure size 1200x1000 with 3 Axes>"
            ],
            "image/png": "[encoded data removed]"
          },
          "metadata": {}
        }
      ],
      "source": [
        "\"\"\"Q2) Generate a list of 500 integers containing values between 200 to 300 and store it in the variable `int_list2`.\n",
        "After generating the list, find the following:\n",
        "  (i) Compare the given list of visualization for the given data:\n",
        "\n",
        "    1. Frequency & Gaussian distribution\n",
        "\n",
        "    2. Frequency smoothened KDE plot\n",
        "\n",
        "    3. Gaussian distribution & smoothened KDE plot\"\"\"\n",
        "\n",
        "import matplotlib.pyplot as plt\n",
        "import warnings\n",
        "warnings.filterwarnings(\"ignore\")\n",
        "\n",
        "int_list2=np.random.randint(200,300,500)\n",
        "\n",
        "plt.figure(figsize=(12, 10))\n",
        "\n",
        "plt.subplot(2,2,1)\n",
        "sns.histplot(int_list2)\n",
        "plt.title(\"Frequency & Gaussian distribution\")\n",
        "\n",
        "plt.subplot(2,2,2)\n",
        "sns.kdeplot(int_list2)\n",
        "plt.title(\"Frequency smoothened KDE plot\")\n",
        "\n",
        "plt.subplot(2,2,3)\n",
        "sns.distplot(int_list2, kde=True)\n",
        "plt.title(\"Gaussian distribution & smoothened KDE plot\")\n",
        "\n",
        "\n",
        "plt.tight_layout()\n",
        "plt.show()"
      ]
    },
    {
      "cell_type": "code",
      "execution_count": 10,
      "id": "13047fd8-81b2-4d3b-84df-9d50eb5d4848",
      "metadata": {
        "colab": {
          "base_uri": "https://localhost:8080/",
          "height": 36
        },
        "id": "13047fd8-81b2-4d3b-84df-9d50eb5d4848",
        "outputId": "7bf4cf59-bd15-47ac-fe8b-fd12a533a730"
      },
      "outputs": [
        {
          "output_type": "execute_result",
          "data": {
            "text/plain": [
              "'The range of given list of numbers lies between (200,299)'"
            ],
            "application/vnd.google.colaboratory.intrinsic+json": {
              "type": "string"
            }
          },
          "metadata": {},
          "execution_count": 10
        }
      ],
      "source": [
        "#(ii) Write a Python function to calculate the range of a given list of numbers.\n",
        "def range_of_list(lst):\n",
        "    min_value=min(lst)\n",
        "    max_value=max(lst)\n",
        "    return(f\"The range of given list of numbers lies between ({min_value},{max_value})\")\n",
        "\n",
        "range_of_list(int_list2)"
      ]
    },
    {
      "cell_type": "code",
      "execution_count": 11,
      "id": "85c81b5a-11e3-4ed1-9ca8-8e77f06da4bf",
      "metadata": {
        "colab": {
          "base_uri": "https://localhost:8080/"
        },
        "id": "85c81b5a-11e3-4ed1-9ca8-8e77f06da4bf",
        "outputId": "9864cd50-38f8-425c-e719-b0732655ed57"
      },
      "outputs": [
        {
          "output_type": "stream",
          "name": "stdout",
          "text": [
            "The population variance of list of numbers is 871\n",
            "The sample variance of list of numbers is 873\n",
            "The standard deviation of list of numbers is 29.528232659609007\n"
          ]
        }
      ],
      "source": [
        "#(iii) Create a program to find the variance and standard deviation of a list of numbers.\n",
        "print(\"The population variance of list of numbers is\", st.pvariance(int_list2))\n",
        "print(\"The sample variance of list of numbers is\", st.variance(int_list2))\n",
        "print(\"The standard deviation of list of numbers is\", np.std(int_list2))"
      ]
    },
    {
      "cell_type": "code",
      "execution_count": 12,
      "id": "4389a4e8-d8ab-4202-b824-819b100a55ff",
      "metadata": {
        "colab": {
          "base_uri": "https://localhost:8080/"
        },
        "id": "4389a4e8-d8ab-4202-b824-819b100a55ff",
        "outputId": "2b230ce4-7e15-44f6-d703-ef732a345458"
      },
      "outputs": [
        {
          "output_type": "execute_result",
          "data": {
            "text/plain": [
              "('The interquartile range (IQR) of a list of values is', 53.0)"
            ]
          },
          "metadata": {},
          "execution_count": 12
        }
      ],
      "source": [
        "#(iv) Implement a function to compute the interquartile range (IQR) of a list of values.\n",
        "def iqr(lst):\n",
        "    arr=np.array(lst)\n",
        "    Q1=np.percentile(arr,25)\n",
        "    Q3=np.percentile(arr,75)\n",
        "    IQR=Q3-Q1\n",
        "    return\"The interquartile range (IQR) of a list of values is\",IQR\n",
        "iqr(int_list2)"
      ]
    },
    {
      "cell_type": "code",
      "execution_count": 13,
      "id": "9f6419f1-3beb-453e-8660-f0133ec3de36",
      "metadata": {
        "colab": {
          "base_uri": "https://localhost:8080/"
        },
        "id": "9f6419f1-3beb-453e-8660-f0133ec3de36",
        "outputId": "71a03e8d-35d0-4055-8c15-baa20e2f8410"
      },
      "outputs": [
        {
          "output_type": "stream",
          "name": "stdout",
          "text": [
            "The coefficient of variation for the list is 0.1180779795564873\n"
          ]
        }
      ],
      "source": [
        "#(v) Build a program to calculate the coefficient of variation for a dataset.\n",
        "std_dev=np.std(int_list2)\n",
        "mean=np.mean(int_list2)\n",
        "coeff_of_variation=std_dev/mean\n",
        "print(\"The coefficient of variation for the list is\", coeff_of_variation)"
      ]
    },
    {
      "cell_type": "code",
      "execution_count": 15,
      "id": "34b00a7b-0e4b-4f07-a992-5b42dbc57fd4",
      "metadata": {
        "colab": {
          "base_uri": "https://localhost:8080/"
        },
        "id": "34b00a7b-0e4b-4f07-a992-5b42dbc57fd4",
        "outputId": "64772081-26a7-4c2d-bf7a-41a0fcf56ace"
      },
      "outputs": [
        {
          "output_type": "execute_result",
          "data": {
            "text/plain": [
              "('the mean absolute deviation (MAD) of a list of numbers is',\n",
              " -1.2278178473934531e-14)"
            ]
          },
          "metadata": {},
          "execution_count": 15
        }
      ],
      "source": [
        "#(vi) Write a Python function to find the mean absolute deviation (MAD) of a list of numbers.\n",
        "def abs_MAD(lst):\n",
        "    mean=np.mean(lst)\n",
        "    deviation_list=[]\n",
        "    for num in lst:\n",
        "        num-=mean\n",
        "        deviation_list.append(num)\n",
        "    mad=np.mean(deviation_list)\n",
        "    return\"the mean absolute deviation (MAD) of a list of numbers is\",mad\n",
        "\n",
        "abs_MAD(int_list2)"
      ]
    },
    {
      "cell_type": "code",
      "execution_count": 16,
      "id": "00cc389f-3387-4067-aee2-8033ebf7f318",
      "metadata": {
        "colab": {
          "base_uri": "https://localhost:8080/"
        },
        "id": "00cc389f-3387-4067-aee2-8033ebf7f318",
        "outputId": "baf1bea9-92bb-410a-c555-691b512b37b9"
      },
      "outputs": [
        {
          "output_type": "stream",
          "name": "stdout",
          "text": [
            "The quartile deviation of a list of values is 26.5\n"
          ]
        }
      ],
      "source": [
        "#(vii) Create a program to calculate the quartile deviation of a list of values.\n",
        "arr=np.array(int_list2)\n",
        "Q1=np.percentile(arr,25)\n",
        "Q3=np.percentile(arr,75)\n",
        "quartile_deviation=(Q3-Q1)/2\n",
        "print(\"The quartile deviation of a list of values is\", quartile_deviation)"
      ]
    },
    {
      "cell_type": "code",
      "execution_count": 17,
      "id": "da14687e-419c-4fa1-8bc6-0b789c56bd80",
      "metadata": {
        "colab": {
          "base_uri": "https://localhost:8080/"
        },
        "id": "da14687e-419c-4fa1-8bc6-0b789c56bd80",
        "outputId": "a981d7b1-c21b-406e-c575-6eb343fc9071"
      },
      "outputs": [
        {
          "output_type": "stream",
          "name": "stdout",
          "text": [
            "The lowest value in list is 200\n",
            "The highest value in list is 299\n",
            "The range of given list of numbers lies between (200,299)\n",
            "The range-based coefficient of dispersion for a dataset is 0.19839679358717435\n"
          ]
        }
      ],
      "source": [
        "#(viii) Implement a function to find the range-based coefficient of dispersion for a dataset.\n",
        "def coeff_of_dispersion(lst):\n",
        "    min_value=min(lst)\n",
        "    print(\"The lowest value in list is\",min_value)\n",
        "    max_value=max(lst)\n",
        "    print(\"The highest value in list is\",max_value)\n",
        "    print(f\"The range of given list of numbers lies between ({min_value},{max_value})\")\n",
        "    cod=(max_value-min_value)/(max_value+min_value)\n",
        "    print(\"The range-based coefficient of dispersion for a dataset is\",cod)\n",
        "\n",
        "coeff_of_dispersion(int_list2)"
      ]
    },
    {
      "cell_type": "markdown",
      "source": [
        "#Q3"
      ],
      "metadata": {
        "id": "3w8bFoQQttse"
      },
      "id": "3w8bFoQQttse"
    },
    {
      "cell_type": "code",
      "execution_count": 18,
      "id": "9b4e16b6-ae60-4021-9ce4-59476de652e1",
      "metadata": {
        "colab": {
          "base_uri": "https://localhost:8080/"
        },
        "id": "9b4e16b6-ae60-4021-9ce4-59476de652e1",
        "outputId": "c0da0364-5828-47b0-f1a8-5543c662234b"
      },
      "outputs": [
        {
          "output_type": "stream",
          "name": "stdout",
          "text": [
            "The expected value of discrete random variable is ('The expected value is', 1.84)\n",
            "the variance of discrete random variable is ('The variance of discrete random variable is', 1.0944000000000003)\n"
          ]
        }
      ],
      "source": [
        "\"\"\"Q3) Write a Python class representing a discrete random variable with methods\n",
        "to calculate its expected value and variance.\"\"\"\n",
        "\n",
        "class Discreterandomvariable:\n",
        "    def __init__(self, values, probs):\n",
        "        self.values=values\n",
        "        self.probs=probs\n",
        "\n",
        "    def expected_value(self):\n",
        "        Expected_value=sum(value * prob for value, prob in zip(self.values, self.probs))\n",
        "        return \"The expected value is\",Expected_value\n",
        "\n",
        "    def variance(self):\n",
        "        sq_mean=(sum(value * prob for value, prob in zip(self.values, self.probs)))**2\n",
        "        squared_expvalue=sum((value**2) * prob for value, prob in zip(self.values, self.probs))\n",
        "        var=squared_expvalue-sq_mean\n",
        "        return \"The variance of discrete random variable is\", var\n",
        "\n",
        "values=[4,1,2]\n",
        "probablities=[0.16,0.48,0.36]\n",
        "drv=Discreterandomvariable(values, probablities)\n",
        "\n",
        "print(\"The expected value of discrete random variable is\", drv.expected_value())\n",
        "print(\"the variance of discrete random variable is\", drv.variance())"
      ]
    },
    {
      "cell_type": "markdown",
      "source": [
        "#Q4"
      ],
      "metadata": {
        "id": "mTNmbMnRtwKy"
      },
      "id": "mTNmbMnRtwKy"
    },
    {
      "cell_type": "code",
      "execution_count": 19,
      "id": "24fdbeae-64fc-4b2e-aa06-022006852bde",
      "metadata": {
        "colab": {
          "base_uri": "https://localhost:8080/"
        },
        "id": "24fdbeae-64fc-4b2e-aa06-022006852bde",
        "outputId": "c32d5854-38ff-48a9-d3c1-706a4997e486"
      },
      "outputs": [
        {
          "output_type": "stream",
          "name": "stdout",
          "text": [
            "The expected value of discrete random variable of rolling of a fair six-sided die is 3.5\n",
            "the variance of discrete random variable is 2.916666666666666\n"
          ]
        }
      ],
      "source": [
        "\"\"\"Q4) Implement a program to simulate the rolling of a fair six-sided die and calculate the expected value and\n",
        "variance of the outcomes.\"\"\"\n",
        "values=[1,2,3,4,5,6]\n",
        "probs=[1/6 for i in range(len(values))]\n",
        "exp_value=sum(value*prob for value, prob in zip(values,probs))\n",
        "print(\"The expected value of discrete random variable of rolling of a fair six-sided die is\", exp_value)\n",
        "sq_exp_value=sum((value**2)*prob for value, prob in zip(values,probs))\n",
        "var=sq_exp_value-(exp_value**2)\n",
        "print(\"the variance of discrete random variable is\", var)"
      ]
    },
    {
      "cell_type": "markdown",
      "source": [
        "#Q5"
      ],
      "metadata": {
        "id": "3kNqxyGptx9k"
      },
      "id": "3kNqxyGptx9k"
    },
    {
      "cell_type": "code",
      "execution_count": 20,
      "id": "f2edd912-3622-47cc-9dea-6644d2569456",
      "metadata": {
        "colab": {
          "base_uri": "https://localhost:8080/"
        },
        "id": "f2edd912-3622-47cc-9dea-6644d2569456",
        "outputId": "35122e11-c74b-4439-ba4d-fc68c7cd53c6"
      },
      "outputs": [
        {
          "output_type": "stream",
          "name": "stdout",
          "text": [
            "The statistics data of sample1 are as below\n",
            "The mean of sample1 is 5.25\n",
            "The variance of sample1 2.0875\n",
            "The statistics data of sample2 are as below\n",
            "The mean of sample2 is 5.1\n",
            "The variance of sample2 2.79\n",
            "The statistics data of sample3 are as below\n",
            "The mean of sample3 is 5.7\n",
            "The variance of sample3 2.5100000000000002\n",
            "The statistics data of sample4 are as below\n",
            "The mean of sample4 is 5.15\n",
            "The variance of sample4 1.9274999999999998\n",
            "The statistics data of sample5 are as below\n",
            "The mean of sample5 is 5.6\n",
            "The variance of sample5 2.1399999999999997\n"
          ]
        }
      ],
      "source": [
        "\"\"\"Q5) Create a Python function to generate random samples from a given probability distribution (e.g.,\n",
        "binomial, Poisson) and calculate their mean and variance.\"\"\"\n",
        "\n",
        "population=np.random.binomial(10, 0.5,8000)\n",
        "\n",
        "def random_samples(pop):\n",
        "    for i in range(5):\n",
        "        sample=np.random.choice(pop, 20)\n",
        "        print(f\"The statistics data of sample{i+1} are as below\")\n",
        "        print(f\"The mean of sample{i+1} is\", np.mean(sample))\n",
        "        print(f\"The variance of sample{i+1}\", np.var(sample))\n",
        "\n",
        "random_samples(population)"
      ]
    },
    {
      "cell_type": "code",
      "execution_count": 21,
      "id": "8e30122d-f1b8-4502-a08d-8845f247385c",
      "metadata": {
        "colab": {
          "base_uri": "https://localhost:8080/"
        },
        "id": "8e30122d-f1b8-4502-a08d-8845f247385c",
        "outputId": "7758dce6-a8f5-4d3b-c48a-b04cf65a978a"
      },
      "outputs": [
        {
          "output_type": "stream",
          "name": "stdout",
          "text": [
            "Binomial Distribution: Mean = 4.909, Variance = 2.3587190000000002\n",
            "Poisson Distribution: Mean = 4.974, Variance = 5.219323999999999\n",
            "Normal Distribution: Mean = -0.04239484318107544, Variance = 1.057466737183229\n",
            "Uniform Distribution: Mean = 5.1530494767145285, Variance = 8.415763920676099\n"
          ]
        }
      ],
      "source": [
        "def generate_samples(distribution, params, size=1000):\n",
        "\n",
        "\n",
        "    if distribution == 'binomial':\n",
        "        n = params.get('n')\n",
        "        p = params.get('p')\n",
        "        samples = np.random.binomial(n, p, size)\n",
        "\n",
        "    elif distribution == 'poisson':\n",
        "        lam = params.get('lam')\n",
        "        samples = np.random.poisson(lam, size)\n",
        "\n",
        "    elif distribution == 'normal':\n",
        "        mu = params.get('mu')\n",
        "        sigma = params.get('sigma')\n",
        "        samples = np.random.normal(mu, sigma, size)\n",
        "\n",
        "    elif distribution == 'uniform':\n",
        "        low = params.get('low')\n",
        "        high = params.get('high')\n",
        "        samples = np.random.uniform(low, high, size)\n",
        "\n",
        "    else:\n",
        "        raise ValueError(\"Unsupported distribution type\")\n",
        "\n",
        "    mean = np.mean(samples)\n",
        "    variance = np.var(samples)\n",
        "\n",
        "    return mean, variance\n",
        "\n",
        "\n",
        "mean, variance = generate_samples('binomial', {'n': 10, 'p': 0.5}, size=1000)\n",
        "print(f\"Binomial Distribution: Mean = {mean}, Variance = {variance}\")\n",
        "\n",
        "mean, variance = generate_samples('poisson', {'lam': 5}, size=1000)\n",
        "print(f\"Poisson Distribution: Mean = {mean}, Variance = {variance}\")\n",
        "\n",
        "mean, variance = generate_samples('normal', {'mu': 0, 'sigma': 1}, size=1000)\n",
        "print(f\"Normal Distribution: Mean = {mean}, Variance = {variance}\")\n",
        "\n",
        "mean, variance = generate_samples('uniform', {'low': 0, 'high': 10}, size=1000)\n",
        "print(f\"Uniform Distribution: Mean = {mean}, Variance = {variance}\")\n"
      ]
    },
    {
      "cell_type": "markdown",
      "source": [
        "#Q6"
      ],
      "metadata": {
        "id": "E19uhbo5t1me"
      },
      "id": "E19uhbo5t1me"
    },
    {
      "cell_type": "code",
      "execution_count": 22,
      "id": "42e5639d-114e-4aca-81a3-b2786a49774d",
      "metadata": {
        "colab": {
          "base_uri": "https://localhost:8080/"
        },
        "id": "42e5639d-114e-4aca-81a3-b2786a49774d",
        "outputId": "2ee702f0-f24b-4026-e83c-f8e71b102efc"
      },
      "outputs": [
        {
          "output_type": "stream",
          "name": "stdout",
          "text": [
            "The statistics data of sample1 are as below\n",
            "The mean is -0.06825259207908536 variance is 0.7255396303256574 standard deviation is 0.8517861411913541\n",
            "The statistics data of sample2 are as below\n",
            "The mean is -0.30664151527036954 variance is 0.7569229037265168 standard deviation is 0.8700131629616398\n",
            "The statistics data of sample3 are as below\n",
            "The mean is -0.06769864861364473 variance is 0.8709117313077654 standard deviation is 0.9332265166119988\n",
            "The statistics data of sample4 are as below\n",
            "The mean is -0.002938686756371071 variance is 1.0985544899839144 standard deviation is 1.048119501766814\n"
          ]
        }
      ],
      "source": [
        "\"\"\"Q6) Write a Python script to generate random numbers from a Gaussian (normal) distribution and compute\n",
        "the mean, variance, and standard deviation of the samples.\"\"\"\n",
        "\n",
        "pop=np.random.normal(0,1,10000)\n",
        "\n",
        "for i in range(4):\n",
        "    sample=np.random.choice(pop,30)\n",
        "    print(f\"The statistics data of sample{i+1} are as below\")\n",
        "    print(f\"The mean is\", np.mean(sample), \"variance is\",np.var(sample), \"standard deviation is\", np.std(sample))"
      ]
    },
    {
      "cell_type": "markdown",
      "source": [
        "#Q7"
      ],
      "metadata": {
        "id": "cUX9s7ont3yU"
      },
      "id": "cUX9s7ont3yU"
    },
    {
      "cell_type": "code",
      "execution_count": 23,
      "id": "2457c4ab-2edc-4b99-aee9-2864b33170b7",
      "metadata": {
        "colab": {
          "base_uri": "https://localhost:8080/"
        },
        "id": "2457c4ab-2edc-4b99-aee9-2864b33170b7",
        "outputId": "f68f4f94-ebb7-4f8c-ab09-6a334b2f2a91"
      },
      "outputs": [
        {
          "output_type": "stream",
          "name": "stdout",
          "text": [
            "The skewness of Total bill column is 1.1262346334818638\n",
            "The skewness of tip column is 1.4564266884221506\n"
          ]
        }
      ],
      "source": [
        "\"\"\"Q7) Use seaborn library to load tips dataset. Find the following from the dataset for the columns total_bill\n",
        "and tip`:\n",
        "  (i) Write a Python function that calculates their skewness.\"\"\"\n",
        "\n",
        "data=sns.load_dataset(\"tips\")\n",
        "df1=data[\"total_bill\"]\n",
        "df2=data[\"tip\"]\n",
        "\n",
        "def skewness(df):\n",
        "    skew=stats.skew(df, axis=0, bias=True)\n",
        "    return skew\n",
        "\n",
        "print(\"The skewness of Total bill column is\",skewness(df1))\n",
        "print(\"The skewness of tip column is\",skewness(df2))"
      ]
    },
    {
      "cell_type": "code",
      "execution_count": 24,
      "id": "88c260ce-ed69-4d39-b6d1-b35f9ad52e69",
      "metadata": {
        "colab": {
          "base_uri": "https://localhost:8080/"
        },
        "id": "88c260ce-ed69-4d39-b6d1-b35f9ad52e69",
        "outputId": "89812e2e-8d34-4f1c-fbbc-5b4e9a99c566"
      },
      "outputs": [
        {
          "output_type": "stream",
          "name": "stdout",
          "text": [
            "The distribution has more weight on the left tail(positive skewness) with skewness =1.1262346334818638\n",
            "The distribution has more weight on the left tail(positive skewness) with skewness =1.4564266884221506\n"
          ]
        }
      ],
      "source": [
        "#(ii) Create a program that determines whether the columns exhibit positive skewness, negative skewness, or isapproximately symmetric.\n",
        "\n",
        "data=sns.load_dataset(\"tips\")\n",
        "df1=data[\"total_bill\"]\n",
        "df2=data[\"tip\"]\n",
        "\n",
        "def skewness(df):\n",
        "    skew=stats.skew(df, axis=0, bias=True)\n",
        "\n",
        "    if skew==0:\n",
        "        print(f\"the distribution is uniformally distributed(symmteric) with skewness ={skew}\")\n",
        "    elif skew<0:\n",
        "        print(f\"The distribution has more weight on the right tail(negative Skewness) with skewness ={skew}\")\n",
        "    else:\n",
        "         print(f\"The distribution has more weight on the left tail(positive skewness) with skewness ={skew}\")\n",
        "\n",
        "skewness(df1)\n",
        "skewness(df2)"
      ]
    },
    {
      "cell_type": "code",
      "execution_count": 25,
      "id": "b029f704-ec7d-46d6-8885-b2161b826d11",
      "metadata": {
        "colab": {
          "base_uri": "https://localhost:8080/"
        },
        "id": "b029f704-ec7d-46d6-8885-b2161b826d11",
        "outputId": "17cca0e6-c5b2-4f62-bfe8-01626eb43188"
      },
      "outputs": [
        {
          "output_type": "stream",
          "name": "stdout",
          "text": [
            "The covariance between total_bill and tips column is 8.323501629224854\n"
          ]
        }
      ],
      "source": [
        "#(iii) Write a function that calculates the covariance between two columns.\n",
        "\n",
        "def covariance(df1,df2):\n",
        "    return df1.cov(df2)\n",
        "\n",
        "print(\"The covariance between total_bill and tips column is\", covariance(df1,df2))\n",
        ""
      ]
    },
    {
      "cell_type": "code",
      "execution_count": 26,
      "id": "a88a5530-3da4-4331-8e57-5a4203c47d36",
      "metadata": {
        "colab": {
          "base_uri": "https://localhost:8080/"
        },
        "id": "a88a5530-3da4-4331-8e57-5a4203c47d36",
        "outputId": "ce9c5d0a-92fd-4c8f-975f-75a241d6b0eb"
      },
      "outputs": [
        {
          "output_type": "stream",
          "name": "stdout",
          "text": [
            "The Pearson correlation coefficient between two columns total_bill and tip is 0.6757341092113641\n"
          ]
        }
      ],
      "source": [
        "#(iv) Implement a Python program that calculates the Pearson correlation coefficient between two columns.\n",
        "\n",
        "print(\"The Pearson correlation coefficient between two columns total_bill and tip is\",df1.corr( df2))"
      ]
    },
    {
      "cell_type": "code",
      "execution_count": 27,
      "id": "3adc337c-2358-493f-85d5-ad38ca6e080f",
      "metadata": {
        "colab": {
          "base_uri": "https://localhost:8080/",
          "height": 472
        },
        "id": "3adc337c-2358-493f-85d5-ad38ca6e080f",
        "outputId": "1b1f2021-7c55-4704-e944-31ea1719ba45"
      },
      "outputs": [
        {
          "output_type": "display_data",
          "data": {
            "text/plain": [
              "<Figure size 640x480 with 1 Axes>"
            ],
            "image/png": "[encoded data removed]"
          },
          "metadata": {}
        }
      ],
      "source": [
        "#(v) Write a script to visualize the correlation between two specific columns in a Pandas DataFrame using scatter plots.\n",
        "\n",
        "plt.figure()\n",
        "sns.scatterplot(data, x='total_bill', y='tip')\n",
        "plt.title(f\"The correlation between total_bill and tip column\")\n",
        "plt.show()"
      ]
    },
    {
      "cell_type": "markdown",
      "source": [
        "#Q8"
      ],
      "metadata": {
        "id": "7gcd5qg2uCLz"
      },
      "id": "7gcd5qg2uCLz"
    },
    {
      "cell_type": "code",
      "execution_count": 28,
      "id": "85d98e40-f642-4da9-a320-12cd533b80a1",
      "metadata": {
        "colab": {
          "base_uri": "https://localhost:8080/",
          "height": 545
        },
        "id": "85d98e40-f642-4da9-a320-12cd533b80a1",
        "outputId": "be7f4bf5-5ba8-4527-81ab-c1a07c06437e"
      },
      "outputs": [
        {
          "output_type": "display_data",
          "data": {
            "text/plain": [
              "<Figure size 1200x600 with 2 Axes>"
            ],
            "image/png": "[encoded data removed]"
          },
          "metadata": {}
        }
      ],
      "source": [
        "\"\"\"Q8) Write a Python function to calculate the probability density function (PDF) of a continuous random\n",
        "variable for a given normal distribution.\"\"\"\n",
        "\n",
        "population=np.random.normal(0,1,10000)\n",
        "plt.figure(figsize=(12,6))\n",
        "plt.subplot(1,2,1)\n",
        "sns.kdeplot(population)\n",
        "plt.title(\"Normal Distribution population\")\n",
        "crv=population[2000:5000]\n",
        "\n",
        "def pdf(crv):\n",
        "    return stats.norm.pdf(crv)\n",
        "\n",
        "PDF=pdf(crv)\n",
        "plt.subplot(1,2,2)\n",
        "sns.kdeplot(PDF)\n",
        "plt.title(\"Probability density function (PDF) of a continuous random variable\")\n",
        "plt.show()"
      ]
    },
    {
      "cell_type": "markdown",
      "source": [
        "#Q9"
      ],
      "metadata": {
        "id": "dDbRDpikuFNJ"
      },
      "id": "dDbRDpikuFNJ"
    },
    {
      "cell_type": "code",
      "execution_count": 29,
      "id": "9dd16973-cf40-465b-8c66-3739b7d32d9c",
      "metadata": {
        "colab": {
          "base_uri": "https://localhost:8080/",
          "height": 469
        },
        "id": "9dd16973-cf40-465b-8c66-3739b7d32d9c",
        "outputId": "f9704e48-8602-4119-af97-1202a64924d7"
      },
      "outputs": [
        {
          "output_type": "execute_result",
          "data": {
            "text/plain": [
              "Text(0.5, 1.0, 'Cumulative distribution function (CDF) of exponential distribution')"
            ]
          },
          "metadata": {},
          "execution_count": 29
        },
        {
          "output_type": "display_data",
          "data": {
            "text/plain": [
              "<Figure size 640x480 with 1 Axes>"
            ],
            "image/png": "[encoded data removed]"
          },
          "metadata": {}
        }
      ],
      "source": [
        "\"\"\"Q9) Create a program to calculate the cumulative distribution function (CDF) of exponential distribution. \"\"\"\"\n",
        "\n",
        "population=np.random.exponential(1,1000)\n",
        "cdf=stats.norm.cdf(population)\n",
        "plt.figure()\n",
        "sns.kdeplot(cdf, bw_adjust=0.1)\n",
        "plt.title(\"Cumulative distribution function (CDF) of exponential distribution\")"
      ]
    },
    {
      "cell_type": "markdown",
      "source": [
        "#Q10"
      ],
      "metadata": {
        "id": "hSll2-MEuO31"
      },
      "id": "hSll2-MEuO31"
    },
    {
      "cell_type": "code",
      "execution_count": 30,
      "id": "79b55d45-84e8-4644-8daf-a0e4146c16fc",
      "metadata": {
        "colab": {
          "base_uri": "https://localhost:8080/",
          "height": 452
        },
        "id": "79b55d45-84e8-4644-8daf-a0e4146c16fc",
        "outputId": "c17a852a-8f28-419f-9f17-345cbb98467c"
      },
      "outputs": [
        {
          "output_type": "display_data",
          "data": {
            "text/plain": [
              "<Figure size 640x480 with 1 Axes>"
            ],
            "image/png": "[encoded data removed]"
          },
          "metadata": {}
        }
      ],
      "source": [
        "\"\"\" Q10) Write a Python function to calculate the probability mass function (PMF) of Poisson distribution. \"\"\"\"\n",
        "\n",
        "population=np.random.poisson(4, 1000)\n",
        "x = np.arange(0, np.max(population) + 1)\n",
        "# Calculate the PMF for the defined range of values\n",
        "pmf = stats.poisson.pmf(x, mu=4)\n",
        "\n",
        "plt.figure()\n",
        "plt.plot(x, pmf)\n",
        "plt.title(\"Probability mass function (PMF) of Poisson distribution\")\n",
        "plt.grid(True)\n",
        "plt.show()"
      ]
    },
    {
      "cell_type": "markdown",
      "source": [
        "#Q11"
      ],
      "metadata": {
        "id": "5dw3LAWAuTJd"
      },
      "id": "5dw3LAWAuTJd"
    },
    {
      "cell_type": "code",
      "execution_count": 31,
      "id": "47424ab7-830a-42e3-84ca-20aaed9c6a65",
      "metadata": {
        "colab": {
          "base_uri": "https://localhost:8080/"
        },
        "id": "47424ab7-830a-42e3-84ca-20aaed9c6a65",
        "outputId": "5ccc2198-202f-4c0e-cb14-601940532f10"
      },
      "outputs": [
        {
          "output_type": "stream",
          "name": "stdout",
          "text": [
            "The zsore is  1.8847805889708438\n",
            "fail to reject null hypothesis (The new layout is not necessarily successful.)\n"
          ]
        }
      ],
      "source": [
        "\"\"\"Q11) A company wants to test if a new website layout leads to a higher conversion rate (percentage of visitors\n",
        "who make a purchase). They collect data from the old and new layouts to compare.\n",
        "\n",
        "To generate the data use the following command:\n",
        "\n",
        "```python\n",
        "import numpy as np\n",
        "# 50 purchases out of 1000 visitors\n",
        "old_layout = np.array([1] * 50 + [0] * 950)\n",
        "# 70 purchases out of 1000 visitors\n",
        "new_layout = np.array([1] * 70 + [0] * 930)\n",
        "  ```\n",
        "Apply z-test to find which layout is successful.\"\"\"\n",
        "\n",
        "import numpy as np\n",
        "# 50 purchases out of 1000 visitors\n",
        "old_layout = np.array([1] * 50 + [0] * 950)\n",
        "# 70 purchases out of 1000 visitors\n",
        "new_layout = np.array([1] * 70 + [0] * 930)\n",
        "\n",
        "#Ha= There is a significant difference in conversion rates. The new layout is successful\n",
        "#Ho= There is no significant difference in conversion rates. The new layout is not necessarily successful.\n",
        "conversionrate_old=np.mean(old_layout)\n",
        "conversionrate_new=np.mean(new_layout)\n",
        "\n",
        "std_old=np.std(old_layout)\n",
        "std_new=np.std(new_layout)\n",
        "\n",
        "\n",
        "zscore = (conversionrate_new - conversionrate_old) / np.sqrt((std_old**2/1000)+(std_new**2/1000))\n",
        "print(\"The zsore is \", np.abs(zscore))\n",
        "\n",
        "alpha=0.05\n",
        "zcritical = stats.norm.ppf(1-alpha/2)\n",
        "\n",
        "if zscore > zcritical:\n",
        "    print(\"Reject the null hypothesis(The new layout is successful)\")\n",
        "else:\n",
        "    print(\"fail to reject null hypothesis (The new layout is not necessarily successful.)\")"
      ]
    },
    {
      "cell_type": "code",
      "execution_count": 32,
      "id": "9b3051b3-d00b-4c2b-b842-4eab5e83a827",
      "metadata": {
        "colab": {
          "base_uri": "https://localhost:8080/"
        },
        "id": "9b3051b3-d00b-4c2b-b842-4eab5e83a827",
        "outputId": "f4f3306b-9a20-4b13-8185-cdf141f3d94d"
      },
      "outputs": [
        {
          "output_type": "stream",
          "name": "stdout",
          "text": [
            "Conversion rate (old layout): 0.0500\n",
            "Conversion rate (new layout): 0.0700\n",
            "Z-score: 1.8831\n",
            "P-value: 0.0597\n",
            "There is no significant difference in conversion rates. The new layout is not necessarily successful.\n"
          ]
        }
      ],
      "source": [
        "import numpy as np\n",
        "import scipy.stats as stats\n",
        "\n",
        "# Data generation\n",
        "old_layout = np.array([1] * 50 + [0] * 950)\n",
        "new_layout = np.array([1] * 70 + [0] * 930)\n",
        "\n",
        "# Calculate the conversion rates\n",
        "conversion_rate_old = old_layout.mean()\n",
        "conversion_rate_new = new_layout.mean()\n",
        "\n",
        "# Sample sizes\n",
        "n_old = len(old_layout)\n",
        "n_new = len(new_layout)\n",
        "\n",
        "# Pooled proportion\n",
        "pooled_proportion = (np.sum(old_layout) + np.sum(new_layout)) / (n_old + n_new)\n",
        "\n",
        "# Standard error\n",
        "standard_error = np.sqrt(pooled_proportion * (1 - pooled_proportion) * (1/n_old + 1/n_new))\n",
        "\n",
        "# Z-score\n",
        "z_score = (conversion_rate_new - conversion_rate_old) / standard_error\n",
        "\n",
        "# P-value (two-tailed test)\n",
        "p_value = 2 * stats.norm.sf(abs(z_score))\n",
        "\n",
        "# Output results\n",
        "print(f\"Conversion rate (old layout): {conversion_rate_old:.4f}\")\n",
        "print(f\"Conversion rate (new layout): {conversion_rate_new:.4f}\")\n",
        "print(f\"Z-score: {z_score:.4f}\")\n",
        "print(f\"P-value: {p_value:.4f}\")\n",
        "\n",
        "# Conclusion\n",
        "alpha = 0.05\n",
        "if p_value < alpha:\n",
        "    print(\"There is a significant difference in conversion rates. The new layout is successful.\")\n",
        "else:\n",
        "    print(\"There is no significant difference in conversion rates. The new layout is not necessarily successful.\")\n"
      ]
    },
    {
      "cell_type": "markdown",
      "source": [
        "#Q12"
      ],
      "metadata": {
        "id": "eyqJY_BBuWfd"
      },
      "id": "eyqJY_BBuWfd"
    },
    {
      "cell_type": "code",
      "execution_count": 33,
      "id": "1d44a599-eca0-4216-acad-fb8abdb215b9",
      "metadata": {
        "colab": {
          "base_uri": "https://localhost:8080/"
        },
        "id": "1d44a599-eca0-4216-acad-fb8abdb215b9",
        "outputId": "7824d0f9-bdd5-4cc0-d898-3268845fced9"
      },
      "outputs": [
        {
          "output_type": "stream",
          "name": "stdout",
          "text": [
            "The zscore is 1.4336050557025235\n",
            "Fail to reject the null hypothesis (tutoring program is effective)\n"
          ]
        }
      ],
      "source": [
        "\"\"\"Q12) A tutoring service claims that its program improves students' exam scores. A sample of students who\n",
        "participated in the program was taken, and their scores before and after the program were recorded.\n",
        "\n",
        "Use the below code to generate samples of respective arrays of marks:\n",
        "\n",
        "```python\n",
        "before_program = np.array([75, 80, 85, 70, 90, 78, 92, 88, 82, 87])\n",
        "after_program = np.array([80, 85, 90, 80, 92, 80, 95, 90, 85, 88])\n",
        "```\n",
        "\n",
        "Use z-test to find if the claims made by tutor are true or false.\"\"\"\n",
        "\n",
        "\n",
        "before_program = np.array([75, 80, 85, 70, 90, 78, 92, 88, 82, 87])\n",
        "after_program = np.array([80, 85, 90, 80, 92, 80, 95, 90, 85, 88])\n",
        "\n",
        "bmean=before_program.mean()\n",
        "amean=after_program.mean()\n",
        "\n",
        "bstd=before_program.std()\n",
        "astd=after_program.std()\n",
        "\n",
        "n1=len(before_program)\n",
        "n2=len(after_program)\n",
        "\n",
        "#null hypothesis>> bmean=amean >> tutoring program is ineffective\n",
        "#alternate hypothesis >> bmean!= amean >> tutoring program is effective\n",
        "\n",
        "zscore=(amean-bmean)/np.sqrt((bstd**2/n1)+(astd**2/n2))\n",
        "print(\"The zscore is\", np.abs(zscore))\n",
        "\n",
        "alpha=0.05 #5% significance level\n",
        "zcritical=stats.norm.ppf(1-alpha/2) #2 sample z test so alpha/2\n",
        "\n",
        "if np.abs(zscore)> zcritical:\n",
        "    print(\" reject the null hypothesis(tutoring program is ineffective)\")\n",
        "else:\n",
        "    print(\"Fail to reject the null hypothesis (tutoring program is effective)\")"
      ]
    },
    {
      "cell_type": "code",
      "execution_count": 34,
      "id": "74d9eb40-13f6-40d4-bf8d-704a067a9679",
      "metadata": {
        "colab": {
          "base_uri": "https://localhost:8080/"
        },
        "id": "74d9eb40-13f6-40d4-bf8d-704a067a9679",
        "outputId": "c5462377-d194-489d-c936-ee0d56dc1aa6"
      },
      "outputs": [
        {
          "output_type": "stream",
          "name": "stdout",
          "text": [
            "Mean difference: 3.8000\n",
            "Standard deviation of differences: 2.6162\n",
            "Z-score: 4.5932\n",
            "P-value: 0.0000\n",
            "There is a significant improvement in scores. The tutoring program is effective.\n"
          ]
        }
      ],
      "source": [
        "import numpy as np\n",
        "from scipy.stats import norm\n",
        "\n",
        "# Data generation\n",
        "before_program = np.array([75, 80, 85, 70, 90, 78, 92, 88, 82, 87])\n",
        "after_program = np.array([80, 85, 90, 80, 92, 80, 95, 90, 85, 88])\n",
        "\n",
        "# Calculate the differences\n",
        "differences = after_program - before_program\n",
        "\n",
        "# Calculate the mean and standard deviation of the differences\n",
        "mean_diff = np.mean(differences)\n",
        "std_diff = np.std(differences, ddof=1)\n",
        "\n",
        "# Sample size\n",
        "n = len(differences)\n",
        "\n",
        "# Standard error\n",
        "standard_error = std_diff / np.sqrt(n)\n",
        "\n",
        "# Z-score\n",
        "z_score = mean_diff / standard_error\n",
        "\n",
        "# P-value (two-tailed test)\n",
        "p_value = 2 * norm.sf(abs(z_score))\n",
        "\n",
        "# Output results\n",
        "print(f\"Mean difference: {mean_diff:.4f}\")\n",
        "print(f\"Standard deviation of differences: {std_diff:.4f}\")\n",
        "print(f\"Z-score: {z_score:.4f}\")\n",
        "print(f\"P-value: {p_value:.4f}\")\n",
        "\n",
        "# Conclusion\n",
        "alpha = 0.05\n",
        "if p_value < alpha:\n",
        "    print(\"There is a significant improvement in scores. The tutoring program is effective.\")\n",
        "else:\n",
        "    print(\"There is no significant improvement in scores. The tutoring program is not necessarily effective.\")\n"
      ]
    },
    {
      "cell_type": "markdown",
      "source": [
        "#Q13"
      ],
      "metadata": {
        "id": "gUJcXmd0uZXX"
      },
      "id": "gUJcXmd0uZXX"
    },
    {
      "cell_type": "code",
      "execution_count": 35,
      "id": "f87580f3-7629-448f-8234-c705b46aab8e",
      "metadata": {
        "colab": {
          "base_uri": "https://localhost:8080/"
        },
        "id": "f87580f3-7629-448f-8234-c705b46aab8e",
        "outputId": "5cdaa397-1ce8-4c58-d74d-1235df609754"
      },
      "outputs": [
        {
          "output_type": "stream",
          "name": "stdout",
          "text": [
            "The zscore is 2.782358588312472\n",
            "Reject the null hypothesis (drug is effective)\n"
          ]
        }
      ],
      "source": [
        "\"\"\"Q13) A pharmaceutical company wants to determine if a new drug is effective in reducing blood pressure. They\n",
        "conduct a study and record blood pressure measurements before and after administering the drug.\n",
        "\n",
        "Use the below code to generate samples of respective arrays of blood pressure:\n",
        "\n",
        "```python\n",
        "before_drug = np.array([145, 150, 140, 135, 155, 160, 152, 148, 130, 138])\n",
        "after_drug = np.array([130, 140, 132, 128, 145, 148, 138, 136, 125, 130])\n",
        "\n",
        "  ```\n",
        "Implement z-test to find if the drug really works or not.\"\"\"\n",
        "\n",
        "\n",
        "before_drug = np.array([145, 150, 140, 135, 155, 160, 152, 148, 130, 138])\n",
        "after_drug = np.array([130, 140, 132, 128, 145, 148, 138, 136, 125, 130])\n",
        "\n",
        "bmean=before_drug.mean()\n",
        "amean=after_drug.mean()\n",
        "\n",
        "bstd=before_drug.std()\n",
        "astd=after_drug.std()\n",
        "\n",
        "n1=len(before_drug)\n",
        "n2=len(after_drug)\n",
        "#Null Hypothesis>>bmean=amean >> There is no significant reduction in blood pressure. The drug is not necessarily effective\n",
        "#alternate hypothesis>>bmean!=amean >> There is a significant reduction in blood pressure. The drug is effective.\n",
        "\n",
        "zscore=(amean-bmean)/np.sqrt((bstd**2/n1)+(astd**2/n2))\n",
        "print(\"The zscore is\",np.abs(zscore))\n",
        "\n",
        "alpha=0.05\n",
        "zcritical = stats.norm.ppf(1-alpha/2)\n",
        "\n",
        "if np.abs(zscore) > zcritical:\n",
        "    print(\"Reject the null hypothesis (drug is effective)\")\n",
        "else:\n",
        "    print(\"fail to reject null hypothesis (drug is ineffective)\")"
      ]
    },
    {
      "cell_type": "code",
      "execution_count": 36,
      "id": "23bbe0e4-daab-4680-bcc0-a66bca52fa94",
      "metadata": {
        "colab": {
          "base_uri": "https://localhost:8080/"
        },
        "id": "23bbe0e4-daab-4680-bcc0-a66bca52fa94",
        "outputId": "9f7ed6e5-d480-4655-d6a2-141efb5f7514"
      },
      "outputs": [
        {
          "output_type": "stream",
          "name": "stdout",
          "text": [
            "Mean difference: 10.1000\n",
            "Standard deviation of differences: 3.1780\n",
            "Z-score: 10.0499\n",
            "P-value: 0.0000\n",
            "There is a significant reduction in blood pressure. The drug is effective.\n"
          ]
        }
      ],
      "source": [
        "import numpy as np\n",
        "from scipy.stats import norm\n",
        "\n",
        "# Data generation\n",
        "before_drug = np.array([145, 150, 140, 135, 155, 160, 152, 148, 130, 138])\n",
        "after_drug = np.array([130, 140, 132, 128, 145, 148, 138, 136, 125, 130])\n",
        "\n",
        "# Calculate the differences\n",
        "differences = before_drug - after_drug\n",
        "\n",
        "# Calculate the mean and standard deviation of the differences\n",
        "mean_diff = np.mean(differences)\n",
        "std_diff = np.std(differences, ddof=1)\n",
        "\n",
        "# Sample size\n",
        "n = len(differences)\n",
        "\n",
        "# Standard error\n",
        "standard_error = std_diff / np.sqrt(n)\n",
        "\n",
        "# Z-score\n",
        "z_score = mean_diff / standard_error\n",
        "\n",
        "# P-value (two-tailed test)\n",
        "p_value = 2 * norm.sf(abs(z_score))\n",
        "\n",
        "# Output results\n",
        "print(f\"Mean difference: {mean_diff:.4f}\")\n",
        "print(f\"Standard deviation of differences: {std_diff:.4f}\")\n",
        "print(f\"Z-score: {z_score:.4f}\")\n",
        "print(f\"P-value: {p_value:.4f}\")\n",
        "\n",
        "# Conclusion\n",
        "alpha = 0.05\n",
        "if p_value < alpha:\n",
        "    print(\"There is a significant reduction in blood pressure. The drug is effective.\")\n",
        "else:\n",
        "    print(\"There is no significant reduction in blood pressure. The drug is not necessarily effective.\")\n"
      ]
    },
    {
      "cell_type": "markdown",
      "source": [
        "#Q14"
      ],
      "metadata": {
        "id": "cA2t9Wkkub8G"
      },
      "id": "cA2t9Wkkub8G"
    },
    {
      "cell_type": "code",
      "execution_count": 37,
      "id": "1d74a344-596c-4cc0-93e0-47035392fcf7",
      "metadata": {
        "colab": {
          "base_uri": "https://localhost:8080/"
        },
        "id": "1d74a344-596c-4cc0-93e0-47035392fcf7",
        "outputId": "7990cc1f-5db6-44c1-b716-6ce4cbb7f5ee"
      },
      "outputs": [
        {
          "output_type": "stream",
          "name": "stdout",
          "text": [
            "The z score is 3.356712648559143\n",
            "reject the null hypothesis (avg response time<5 minutes)\n"
          ]
        }
      ],
      "source": [
        "\"\"\"Q14) A customer service department claims that their average response time is less than 5 minutes. A sample\n",
        "of recent customer interactions was taken, and the response times were recorded.\n",
        "\n",
        "Implement the below code to generate the array of response time:\n",
        "\n",
        "```python\n",
        "response_times = np.array([4.3, 3.8, 5.1, 4.9, 4.7, 4.2, 5.2, 4.5, 4.6, 4.4])\n",
        "```\n",
        "Implement z-test to find the claims made by customer service department are true or false.\"\"\"\n",
        "\n",
        "response_times = np.array([4.3, 3.8, 5.1, 4.9, 4.7, 4.2, 5.2, 4.5, 4.6, 4.4])\n",
        "\n",
        "#null hypothesis>> avg response time>= 5 minutes\n",
        "# alternate hypothesis>> avg response time< 5 minutes\n",
        "\n",
        "null_mean=5\n",
        "mean=response_times.mean()\n",
        "std=response_times.std()\n",
        "n=len(response_times)\n",
        "\n",
        "zscore=(mean-null_mean)/(std/np.sqrt(n))\n",
        "print(\"The z score is\", np.abs(zscore))\n",
        "\n",
        "alpha=0.05\n",
        "zcritical=stats.norm.ppf(1-alpha)\n",
        "\n",
        "if np.abs(zscore)>zcritical:\n",
        "    print(\"reject the null hypothesis (avg response time<5 minutes)\")\n",
        "else:\n",
        "    print(\"fail to reject the null hypothesis (avg response time>= 5 minutes)\")"
      ]
    },
    {
      "cell_type": "code",
      "execution_count": 38,
      "id": "168ead1b-e405-48e1-a6d8-49a0b3f8c49f",
      "metadata": {
        "colab": {
          "base_uri": "https://localhost:8080/"
        },
        "id": "168ead1b-e405-48e1-a6d8-49a0b3f8c49f",
        "outputId": "53f6c116-954f-49c0-d0d4-051c42954e39"
      },
      "outputs": [
        {
          "output_type": "stream",
          "name": "stdout",
          "text": [
            "Sample mean: 4.5700\n",
            "Sample standard deviation: 0.4270\n",
            "Z-score: -3.1845\n",
            "P-value: 0.0007\n",
            "The claim is true. The average response time is significantly less than 5 minutes.\n"
          ]
        }
      ],
      "source": [
        "import numpy as np\n",
        "from scipy.stats import norm\n",
        "\n",
        "# Data generation\n",
        "response_times = np.array([4.3, 3.8, 5.1, 4.9, 4.7, 4.2, 5.2, 4.5, 4.6, 4.4])\n",
        "\n",
        "# Hypothesized population mean\n",
        "population_mean = 5\n",
        "\n",
        "# Calculate the sample mean and standard deviation\n",
        "sample_mean = np.mean(response_times)\n",
        "sample_std = np.std(response_times, ddof=1)\n",
        "\n",
        "# Sample size\n",
        "n = len(response_times)\n",
        "\n",
        "# Standard error\n",
        "standard_error = sample_std / np.sqrt(n)\n",
        "\n",
        "# Z-score\n",
        "z_score = (sample_mean - population_mean) / standard_error\n",
        "\n",
        "# P-value (one-tailed test, since we are testing if the mean is less than 5)\n",
        "p_value = norm.cdf(z_score)\n",
        "\n",
        "# Output results\n",
        "print(f\"Sample mean: {sample_mean:.4f}\")\n",
        "print(f\"Sample standard deviation: {sample_std:.4f}\")\n",
        "print(f\"Z-score: {z_score:.4f}\")\n",
        "print(f\"P-value: {p_value:.4f}\")\n",
        "\n",
        "# Conclusion\n",
        "alpha = 0.05\n",
        "if p_value < alpha:\n",
        "    print(\"The claim is true. The average response time is significantly less than 5 minutes.\")\n",
        "else:\n",
        "    print(\"The claim is false. The average response time is not significantly less than 5 minutes.\")\n"
      ]
    },
    {
      "cell_type": "markdown",
      "source": [
        "#Q15"
      ],
      "metadata": {
        "id": "IHtFC4muueGp"
      },
      "id": "IHtFC4muueGp"
    },
    {
      "cell_type": "code",
      "execution_count": 39,
      "id": "50bf7ae0-b999-4dec-95c4-d592a42c102b",
      "metadata": {
        "colab": {
          "base_uri": "https://localhost:8080/"
        },
        "id": "50bf7ae0-b999-4dec-95c4-d592a42c102b",
        "outputId": "7ad92c07-99ae-4749-acce-add9683a1278"
      },
      "outputs": [
        {
          "output_type": "stream",
          "name": "stdout",
          "text": [
            "T-value: -7.298102156175071\n",
            "P-Value: 8.833437608301987e-07\n",
            "Critical t-value: 2.10092204024096\n",
            "With T-value\n",
            "There is significant difference between two layouts\n",
            "With P-value\n",
            "Evidence found to reject the null hypothesis that a significant difference between the two groups\n"
          ]
        }
      ],
      "source": [
        "\"\"\"Q15) A company is testing two different website layouts to see which one leads to higher click-through rates.\n",
        "Write a Python function to perform an A/B test analysis, including calculating the t-statistic, degrees of\n",
        "freedom, and p-value.\n",
        "\n",
        "Use the following data:\n",
        "\n",
        "```python\n",
        "layout_a_clicks = [28, 32, 33, 29, 31, 34, 30, 35, 36, 37]\n",
        "layout_b_clicks = [40, 41, 38, 42, 39, 44, 43, 41, 45, 47] \"\"\"\n",
        "\n",
        "layout_a_clicks = [28, 32, 33, 29, 31, 34, 30, 35, 36, 37]\n",
        "layout_b_clicks = [40, 41, 38, 42, 39, 44, 43, 41, 45, 47]\n",
        "\n",
        "t_statistic, p_value = stats.ttest_ind(layout_a_clicks, layout_b_clicks)\n",
        "\n",
        "# Set the significance level (alpha)\n",
        "alpha = 0.05\n",
        "\n",
        "# Compute the degrees of freedom (df) (n_A-1)+(n_b-1)\n",
        "df = len(layout_a_clicks)+len(layout_b_clicks)-2\n",
        "\n",
        "# Calculate the critical t-value\n",
        "# ppf is used to find the critical t-value for a two-tailed test\n",
        "critical_t = stats.t.ppf(1 - alpha/2, df)\n",
        "\n",
        "print(\"T-value:\", t_statistic)\n",
        "print(\"P-Value:\", p_value)\n",
        "print(\"Critical t-value:\", critical_t)\n",
        "\n",
        "# Decision\n",
        "print('With T-value')\n",
        "if np.abs(t_statistic) >critical_t:\n",
        "    print('There is significant difference between two layouts')\n",
        "else:\n",
        "    print('No significant difference found between two layouts')\n",
        "\n",
        "print('With P-value')\n",
        "if p_value >alpha:\n",
        "    print('No evidence to reject the null hypothesis that a significant difference between the two groups')\n",
        "else:\n",
        "    print('Evidence found to reject the null hypothesis that a significant difference between the two groups')"
      ]
    },
    {
      "cell_type": "markdown",
      "source": [
        "#Q16"
      ],
      "metadata": {
        "id": "-Qa8Oeo1ugbi"
      },
      "id": "-Qa8Oeo1ugbi"
    },
    {
      "cell_type": "code",
      "execution_count": 40,
      "id": "82fdb269-23e2-4c69-8c75-17c4ed9a09bd",
      "metadata": {
        "colab": {
          "base_uri": "https://localhost:8080/"
        },
        "id": "82fdb269-23e2-4c69-8c75-17c4ed9a09bd",
        "outputId": "fe79dc07-f93e-4578-865f-c67cf605f5dd"
      },
      "outputs": [
        {
          "output_type": "stream",
          "name": "stdout",
          "text": [
            "T-value: 5.266851623825876\n",
            "P-Value: 0.0005160202180080982\n",
            "Critical t-value: 2.10092204024096\n",
            "With T-value\n",
            "There is significant difference between two drug levels, new medication is effective\n",
            "With P-value\n",
            "Evidence found to reject the null hypothesis,new medication is effective\n"
          ]
        }
      ],
      "source": [
        "\"\"\"Q16) A pharmaceutical company wants to determine if a new drug is more effective than an existing drug in\n",
        "reducing cholesterol levels. Create a program to analyze the clinical trial data and calculate the tstatistic and p-value for the treatment effect.\n",
        "\n",
        "Use the following data of cholestrol level:\n",
        "\n",
        "```python\n",
        "existing_drug_levels = [180, 182, 175, 185, 178, 176, 172, 184, 179, 183]\n",
        "new_drug_levels = [170, 172, 165, 168, 175, 173, 170, 178, 172, 176]\"\"\"\n",
        "\n",
        "existing_drug_levels = [180, 182, 175, 185, 178, 176, 172, 184, 179, 183]\n",
        "new_drug_levels = [170, 172, 165, 168, 175, 173, 170, 178, 172, 176]\n",
        "\n",
        "#null hypothesis>>\n",
        "\n",
        "t_statistic, p_value= stats.ttest_rel(existing_drug_levels, new_drug_levels)\n",
        "\n",
        "alpha=0.05\n",
        "\n",
        "dof=len(existing_drug_levels)+len(new_drug_levels)-2\n",
        "\n",
        "tcritical=stats.t.ppf(1-alpha/2, dof)\n",
        "\n",
        "print(\"T-value:\", t_statistic)\n",
        "print(\"P-Value:\", p_value)\n",
        "print(\"Critical t-value:\", tcritical)\n",
        "\n",
        "# Decision\n",
        "print('With T-value')\n",
        "if np.abs(t_statistic) >tcritical:\n",
        "    print('There is significant difference between two drug levels, new medication is effective')\n",
        "else:\n",
        "    print('No significant difference found between two drug levels, new medication is ineffective')\n",
        "\n",
        "print('With P-value')\n",
        "if p_value >alpha:\n",
        "    print('No evidence to reject the null hypothesis, new medication is ineffective')\n",
        "else:\n",
        "    print('Evidence found to reject the null hypothesis,new medication is effective')"
      ]
    },
    {
      "cell_type": "markdown",
      "source": [
        "#Q17"
      ],
      "metadata": {
        "id": "ligzq7QUuik4"
      },
      "id": "ligzq7QUuik4"
    },
    {
      "cell_type": "code",
      "execution_count": 41,
      "id": "a64aee3a-636c-46f9-9abf-2f8c17088933",
      "metadata": {
        "colab": {
          "base_uri": "https://localhost:8080/"
        },
        "id": "a64aee3a-636c-46f9-9abf-2f8c17088933",
        "outputId": "5369b5c1-02cb-4f79-94c5-5b41b4d0272d"
      },
      "outputs": [
        {
          "output_type": "stream",
          "name": "stdout",
          "text": [
            "The t-statistics is 4.42840883965761\n",
            "The p-value is 0.0016509548165795493\n",
            "The critical T value 2.10092204024096\n",
            "testing with T-value\n",
            "reject the null hypothesis, improvement in math scores\n",
            "With p-value\n",
            "reject the null hypothesis, improvement in math scores\n"
          ]
        }
      ],
      "source": [
        "\"\"\"Q17) A school district introduces an educational intervention program to improve math scores. Write a Python\n",
        "function to analyze pre- and post-intervention test scores, calculating the t-statistic and p-value to\n",
        "determine if the intervention had a significant impact.\n",
        "\n",
        "Use the following data of test score:\n",
        "  ```python\n",
        "  pre_intervention_scores = [80, 85, 90, 75, 88, 82, 92, 78, 85, 87]\n",
        "  post_intervention_scores = [90, 92, 88, 92, 95, 91, 96, 93, 89, 93]\n",
        "  ```\"\"\"\n",
        "\n",
        "pre_intervention_scores = [80, 85, 90, 75, 88, 82, 92, 78, 85, 87]\n",
        "post_intervention_scores = [90, 92, 88, 92, 95, 91, 96, 93, 89, 93]\n",
        "\n",
        "#null hypothesis>> no change in test scores\n",
        "#alternate hypothesis>> improvement in math scores\n",
        "\n",
        "t_statistic, p_value=stats.ttest_rel(pre_intervention_scores, post_intervention_scores)\n",
        "\n",
        "alpha=0.05\n",
        "dof=len(pre_intervention_scores)+len(post_intervention_scores)-2\n",
        "\n",
        "tcritical=stats.t.ppf(1-alpha/2, dof)\n",
        "\n",
        "print(\"The t-statistics is\", np.abs(t_statistic))\n",
        "print(\"The p-value is\", p_value)\n",
        "print(\"The critical T value\",tcritical)\n",
        "\n",
        "#decision\n",
        "print(\"testing with T-value\")\n",
        "if np.abs(t_statistic)>tcritical:\n",
        "    print(\"reject the null hypothesis, improvement in math scores\")\n",
        "else:\n",
        "    print(\"fail to reject the null hypothesis, no change in test score\")\n",
        "\n",
        "print(\"With p-value\")\n",
        "if p_value>alpha:\n",
        "    print(\"fail to reject the null hypothesis, no change in test score\")\n",
        "else:\n",
        "    print(\"reject the null hypothesis, improvement in math scores\")"
      ]
    },
    {
      "cell_type": "markdown",
      "source": [
        "#Q18"
      ],
      "metadata": {
        "id": "vJmwuI9oukfm"
      },
      "id": "vJmwuI9oukfm"
    },
    {
      "cell_type": "code",
      "execution_count": 42,
      "id": "3bd7a5f2-686a-416d-9c1b-cb4d7dcf91ce",
      "metadata": {
        "colab": {
          "base_uri": "https://localhost:8080/"
        },
        "id": "3bd7a5f2-686a-416d-9c1b-cb4d7dcf91ce",
        "outputId": "09f2f739-0e2c-456a-99cf-23627edbb0f2"
      },
      "outputs": [
        {
          "output_type": "stream",
          "name": "stdout",
          "text": [
            "The t-statistics is 0.06114208969631383\n",
            "The p-value is 0.9515665020676465\n",
            "The critical T value 2.024394163911969\n",
            "testing with T-value\n",
            "fail to reject the null hypothesis, average salaries of male employess and female employees are same\n",
            "With p-value\n",
            "fail to reject the null hypothesis, average salaries of male employess and female employees are same\n"
          ]
        }
      ],
      "source": [
        "\"\"\"Q18) An HR department wants to investigate if there's a gender-based salary gap within the company. Develop\n",
        "a program to analyze salary data, calculate the t-statistic, and determine if there's a statistically\n",
        "significant difference between the average salaries of male and female employees.\n",
        "\n",
        "Use the below code to generate synthetic dataY\n",
        "```python\n",
        "# Generate synthetic salary data for male and female employees\n",
        "np.random.seed(0)  # For reproducibility\n",
        "male_salaries = np.random.normal(loc=50000, scale=10000, size=20)\n",
        "female_salaries = np.random.normal(loc=55000, scale=9000, size=20)\"\"\"\n",
        "\n",
        "# Generate synthetic salary data for male and female employees\n",
        "np.random.seed(0)  # For reproducibility\n",
        "male_salaries = np.random.normal(loc=50000, scale=10000, size=20)\n",
        "female_salaries = np.random.normal(loc=55000, scale=9000, size=20)\n",
        "\n",
        "#null hyppothesis>> average salaries of male employess and female employees are same\n",
        "#alternate hypothesis>> there's a statistically significant difference between the average salaries of male and female employees\n",
        "\n",
        "t_statistic, p_value=stats.ttest_ind(male_salaries,female_salaries)\n",
        "\n",
        "alpha=0.05\n",
        "dof=len(male_salaries)+len(female_salaries)-2\n",
        "\n",
        "t_critical=stats.t.ppf(1-alpha/2,dof)\n",
        "\n",
        "print(\"The t-statistics is\", np.abs(t_statistic))\n",
        "print(\"The p-value is\", p_value)\n",
        "print(\"The critical T value\",t_critical)\n",
        "\n",
        "#decision\n",
        "print(\"testing with T-value\")\n",
        "if np.abs(t_statistic)>t_critical:\n",
        "    print(\"reject the null hypothesis, there's a statistically significant difference between the average salaries of male and female employees\")\n",
        "else:\n",
        "    print(\"fail to reject the null hypothesis, average salaries of male employess and female employees are same\")\n",
        "\n",
        "print(\"With p-value\")\n",
        "if p_value>alpha:\n",
        "    print(\"fail to reject the null hypothesis, average salaries of male employess and female employees are same\")\n",
        "else:\n",
        "    print(\"reject the null hypothesis, there's a statistically significant difference between the average salaries of male and female employees\")"
      ]
    },
    {
      "cell_type": "markdown",
      "source": [
        "#Q19"
      ],
      "metadata": {
        "id": "BiLCZaoQumqA"
      },
      "id": "BiLCZaoQumqA"
    },
    {
      "cell_type": "code",
      "execution_count": 43,
      "id": "aa0e2508-d95c-423e-8e24-2d73ad6a2f3b",
      "metadata": {
        "colab": {
          "base_uri": "https://localhost:8080/"
        },
        "id": "aa0e2508-d95c-423e-8e24-2d73ad6a2f3b",
        "outputId": "1d5b1806-9e7d-4441-8cc8-b589a60a0f0e"
      },
      "outputs": [
        {
          "output_type": "stream",
          "name": "stdout",
          "text": [
            "The t-statistics value is 11.325830417646698\n",
            "The p-value is 3.6824250702873965e-15\n",
            "The t-critical value is 2.010634757624232\n",
            "With t-value\n",
            "Reject the null hypothesis,there's a significant difference in quality between the two versions.\n",
            "With p-value\n",
            "Reject the null hypothesis,there's a significant difference in quality between the two versions.\n"
          ]
        }
      ],
      "source": [
        "\"\"\"Q19) A manufacturer produces two different versions of a product and wants to compare their quality scores.\n",
        "Create a Python function to analyze quality assessment data, calculate the t-statistic, and decide\n",
        "whether there's a significant difference in quality between the two versions.\n",
        "\n",
        "Use the following dataY\n",
        "```python\n",
        "version1_scores = [85, 88, 82, 89, 87, 84, 90, 88, 85, 86, 91, 83, 87, 84, 89, 86, 84, 88, 85, 86, 89, 90, 87, 88, 85]\n",
        "version2_scores = [80, 78, 83, 81, 79, 82, 76, 80, 78, 81, 77, 82, 80, 79, 82, 79, 80, 81, 79, 82, 79, 78, 80, 81, 82]\"\"\"\n",
        "\n",
        "version1_scores = [85, 88, 82, 89, 87, 84, 90, 88, 85, 86, 91, 83, 87, 84, 89, 86, 84, 88, 85, 86, 89, 90, 87, 88, 85]\n",
        "version2_scores = [80, 78, 83, 81, 79, 82, 76, 80, 78, 81, 77, 82, 80, 79, 82, 79, 80, 81, 79, 82, 79, 78, 80, 81, 82]\n",
        "\n",
        "#null hypothesis>> both versions are of same quality\n",
        "#alternate hypothesis>> there's a significant difference in quality between the two versions.\n",
        "\n",
        "t_statistic, p_value=stats.ttest_ind(version1_scores, version2_scores)\n",
        "\n",
        "alpha=0.05\n",
        "dof=len(version1_scores)+len(version2_scores)-2\n",
        "\n",
        "t_critical=stats.t.ppf(1-alpha/2, dof)\n",
        "\n",
        "print(\"The t-statistics value is\", np.abs(t_statistic))\n",
        "print(\"The p-value is\",p_value)\n",
        "print(\"The t-critical value is\",t_critical)\n",
        "\n",
        "#decision\n",
        "print(\"With t-value\")\n",
        "if np.abs(t_statistic)>t_critical:\n",
        "    print(\"Reject the null hypothesis,there's a significant difference in quality between the two versions.\")\n",
        "else:\n",
        "    print(\"Fail to reject the null hypothesis, both versions are of same quality\")\n",
        "\n",
        "print(\"With p-value\")\n",
        "if p_value>alpha:\n",
        "    print(\"Fail to reject the null hypothesis, both versions are of same quality\")\n",
        "else:\n",
        "    print(\"Reject the null hypothesis,there's a significant difference in quality between the two versions.\")"
      ]
    },
    {
      "cell_type": "markdown",
      "source": [
        "#Q20"
      ],
      "metadata": {
        "id": "D1g5oPQGuomy"
      },
      "id": "D1g5oPQGuomy"
    },
    {
      "cell_type": "code",
      "execution_count": 44,
      "id": "345c7de5-394c-44bd-99a2-977f87cf902c",
      "metadata": {
        "colab": {
          "base_uri": "https://localhost:8080/"
        },
        "id": "345c7de5-394c-44bd-99a2-977f87cf902c",
        "outputId": "b405f100-f120-4a59-a341-a83a4a27f65c"
      },
      "outputs": [
        {
          "output_type": "stream",
          "name": "stdout",
          "text": [
            "The t-statistic is 5.480077554195743\n",
            "The p-value is 8.895290509945655e-07\n",
            "the t-critical is 2.00029782201426\n",
            "With t-value\n",
            "Reject the null hypothesis,there's a statistically significant difference in customer satisfaction between the branches.\n",
            "With p-value\n",
            "Reject the null hypothesis,there's a statistically significant difference in customer satisfaction between the branches.\n"
          ]
        }
      ],
      "source": [
        "\"\"\"Q20. A restaurant chain collects customer satisfaction scores for two different branches. Write a program to\n",
        "analyze the scores, calculate the t-statistic, and determine if there's a statistically significant difference in\n",
        "customer satisfaction between the branches.\n",
        "\n",
        "Use the below data of scores:\n",
        "  ```python\n",
        "\n",
        "branch_a_scores = [4, 5, 3, 4, 5, 4, 5, 3, 4, 4, 5, 4, 4, 3, 4, 5, 5, 4, 3, 4, 5, 4, 3, 5, 4, 4, 5, 3, 4, 5, 4]\n",
        "branch_b_scores = [3, 4, 2, 3, 4, 3, 4, 2, 3, 3, 4, 3, 3, 2, 3, 4, 4, 3, 2, 3, 4, 3, 2, 4, 3, 3, 4, 2, 3, 4, 3]\"\"\"\n",
        "\n",
        "branch_a_scores = [4, 5, 3, 4, 5, 4, 5, 3, 4, 4, 5, 4, 4, 3, 4, 5, 5, 4, 3, 4, 5, 4, 3, 5, 4, 4, 5, 3, 4, 5, 4]\n",
        "branch_b_scores = [3, 4, 2, 3, 4, 3, 4, 2, 3, 3, 4, 3, 3, 2, 3, 4, 4, 3, 2, 3, 4, 3, 2, 4, 3, 3, 4, 2, 3, 4, 3]\n",
        "\n",
        "#null hypothesis>> there is no difference in statistical scores of the two branches\n",
        "#alternate hypothesis>> there's a statistically significant difference in customer satisfaction between the branches.\n",
        "\n",
        "t_statistic,p_value=stats.ttest_ind(branch_a_scores,branch_b_scores)\n",
        "\n",
        "dof=len(branch_a_scores)+len(branch_b_scores)-2\n",
        "alpha=0.05\n",
        "t_critical=stats.t.ppf(1-alpha/2, dof)\n",
        "\n",
        "print(\"The t-statistic is\", np.abs(t_statistic))\n",
        "print(\"The p-value is\",p_value)\n",
        "print(\"the t-critical is\", t_critical)\n",
        "\n",
        "#decision\n",
        "print(\"With t-value\")\n",
        "if np.abs(t_statistic)>t_critical:\n",
        "    print(\"Reject the null hypothesis,there's a statistically significant difference in customer satisfaction between the branches.\")\n",
        "else:\n",
        "    print(\"Fail to reject the null hypothesis, there is no difference in statistical scores of the two branches\")\n",
        "\n",
        "print(\"With p-value\")\n",
        "if p_value>alpha:\n",
        "    print(\"Fail to reject the null hypothesis, there is no difference in statistical scores of the two branches\")\n",
        "else:\n",
        "    print(\"Reject the null hypothesis,there's a statistically significant difference in customer satisfaction between the branches.\")"
      ]
    },
    {
      "cell_type": "markdown",
      "source": [
        "#Q21"
      ],
      "metadata": {
        "id": "YMXZnVXnurep"
      },
      "id": "YMXZnVXnurep"
    },
    {
      "cell_type": "code",
      "execution_count": null,
      "id": "a9ba8338-3969-4812-906d-fa8fcf93feaf",
      "metadata": {
        "id": "a9ba8338-3969-4812-906d-fa8fcf93feaf"
      },
      "outputs": [],
      "source": [
        "\"\"\"Q21) A political analyst wants to determine if there is a significant association between age groups and voter\n",
        "preferences (Candidate A or Candidate B). They collect data from a sample of 500 voters and classify\n",
        "them into different age groups and candidate preferences. Perform a Chi-Square test to determine if\n",
        "there is a significant association between age groups and voter preferences.\n",
        "\n",
        "Use the below code to generate data:\n",
        "```python\n",
        "np.random.seed(0)\n",
        "age_groups = np.random.choice([ 18 30 , 31 50 , 51+', 51+'], size=30)\n",
        "voter_preferences = np.random.choice(['Candidate A', 'Candidate B'], size=30)\"\"\""
      ]
    },
    {
      "cell_type": "code",
      "execution_count": 45,
      "id": "c4e675f2-1aee-4394-95cd-0f265d4aab58",
      "metadata": {
        "colab": {
          "base_uri": "https://localhost:8080/"
        },
        "id": "c4e675f2-1aee-4394-95cd-0f265d4aab58",
        "outputId": "be4e52f9-7568-4d0e-81c4-924645690d7a"
      },
      "outputs": [
        {
          "output_type": "stream",
          "name": "stdout",
          "text": [
            "Contingency Table:\n",
            "Voter Preference  Candidate A  Candidate B\n",
            "Age Group                                 \n",
            "18-30                       4            8\n",
            "31-50                       6            5\n",
            "51+                         4            3\n",
            "\n",
            "Chi-Square Test Statistic: 1.4401669758812612\n",
            "p-value: 0.48671161971286614\n",
            "Degrees of Freedom: 2\n",
            "\n",
            "Expected Frequencies:\n",
            "[[5.6        6.4       ]\n",
            " [5.13333333 5.86666667]\n",
            " [3.26666667 3.73333333]]\n",
            "\n",
            "Conclusion: There is no significant association between age groups and voter preferences.\n"
          ]
        }
      ],
      "source": [
        "import numpy as np\n",
        "import pandas as pd\n",
        "from scipy.stats import chi2_contingency\n",
        "\n",
        "# Generate data\n",
        "np.random.seed(0)\n",
        "age_groups = np.random.choice(['18-30', '31-50', '51+'], size=30)\n",
        "voter_preferences = np.random.choice(['Candidate A', 'Candidate B'], size=30)\n",
        "\n",
        "# Create a DataFrame\n",
        "data = pd.DataFrame({'Age Group': age_groups, 'Voter Preference': voter_preferences})\n",
        "\n",
        "# Create a contingency table\n",
        "contingency_table = pd.crosstab(data['Age Group'], data['Voter Preference'])\n",
        "\n",
        "# Perform the Chi-Square test\n",
        "chi2, p, dof, expected = chi2_contingency(contingency_table)\n",
        "\n",
        "# Print the results\n",
        "print(\"Contingency Table:\")\n",
        "print(contingency_table)\n",
        "print(\"\\nChi-Square Test Statistic:\", chi2)\n",
        "print(\"p-value:\", p)\n",
        "print(\"Degrees of Freedom:\", dof)\n",
        "print(\"\\nExpected Frequencies:\")\n",
        "print(expected)\n",
        "\n",
        "# Interpretation\n",
        "alpha = 0.05\n",
        "if p < alpha:\n",
        "    print(\"\\nConclusion: There is a significant association between age groups and voter preferences.\")\n",
        "else:\n",
        "    print(\"\\nConclusion: There is no significant association between age groups and voter preferences.\")\n"
      ]
    },
    {
      "cell_type": "markdown",
      "source": [
        "#Q22"
      ],
      "metadata": {
        "id": "-GUK3sJOuuMW"
      },
      "id": "-GUK3sJOuuMW"
    },
    {
      "cell_type": "code",
      "execution_count": 46,
      "id": "906248e7-9ec0-443a-8bc3-272ace75fff2",
      "metadata": {
        "colab": {
          "base_uri": "https://localhost:8080/"
        },
        "id": "906248e7-9ec0-443a-8bc3-272ace75fff2",
        "outputId": "4f0b8e10-6cb2-4548-cc4b-4025d90c569a"
      },
      "outputs": [
        {
          "output_type": "stream",
          "name": "stdout",
          "text": [
            "Contingency Table:\n",
            "              East  West  North  South\n",
            "Satisfied       50    30     40     20\n",
            "Neutral         30    40     30     50\n",
            "Dissatisfied    20    30     40     30\n",
            "\n",
            "Chi-Square Test Statistic: 27.777056277056275\n",
            "p-value: 0.00010349448486004387\n",
            "Degrees of Freedom: 6\n",
            "\n",
            "Expected Frequencies:\n",
            "[[34.14634146 34.14634146 37.56097561 34.14634146]\n",
            " [36.58536585 36.58536585 40.24390244 36.58536585]\n",
            " [29.26829268 29.26829268 32.19512195 29.26829268]]\n",
            "\n",
            "Conclusion: There is a significant relationship between product satisfaction levels and customer regions.\n"
          ]
        }
      ],
      "source": [
        "\"\"\"Q22) A company conducted a customer satisfaction survey to determine if there is a significant relationship\n",
        "between product satisfaction levels (Satisfied, Neutral, Dissatisfied) and the region where customers are\n",
        "located (East, West, North, South). The survey data is summarized in a contingency table. Conduct a ChiSquare test\n",
        "to determine if there is a significant relationship between product satisfaction levels and customer regions.\n",
        "\n",
        "Sample data:\n",
        "```python\n",
        "#Sample data: Product satisfaction levels (rows) vs. Customer regions (columns)\n",
        "data = np.array([[50, 30, 40, 20], [30, 40, 30, 50], [20, 30, 40, 30]])\"\"\"\n",
        "\n",
        "data = np.array([[50, 30, 40, 20], [30, 40, 30, 50], [20, 30, 40, 30]])\n",
        "contingency_table=pd.DataFrame(data, index=('Satisfied', 'Neutral', 'Dissatisfied'),columns=('East', 'West', 'North', 'South'))\n",
        "\n",
        "chi2, p, dof, expected = chi2_contingency(contingency_table)\n",
        "\n",
        "# Print the results\n",
        "print(\"Contingency Table:\")\n",
        "print(contingency_table)\n",
        "print(\"\\nChi-Square Test Statistic:\", chi2)\n",
        "print(\"p-value:\", p)\n",
        "print(\"Degrees of Freedom:\", dof)\n",
        "print(\"\\nExpected Frequencies:\")\n",
        "print(expected)\n",
        "\n",
        "# Interpretation\n",
        "alpha = 0.05\n",
        "if p < alpha:\n",
        "    print(\"\\nConclusion: There is a significant relationship between product satisfaction levels and customer regions.\")\n",
        "else:\n",
        "    print(\"\\nConclusion: There is a  NO significant relationship between product satisfaction levels and customer regions.\")"
      ]
    },
    {
      "cell_type": "markdown",
      "source": [
        "#Q23"
      ],
      "metadata": {
        "id": "bxsrFQHguwJ-"
      },
      "id": "bxsrFQHguwJ-"
    },
    {
      "cell_type": "code",
      "execution_count": null,
      "id": "ce3cbcd5-1c4c-4980-bdca-7ea42d296037",
      "metadata": {
        "id": "ce3cbcd5-1c4c-4980-bdca-7ea42d296037"
      },
      "outputs": [],
      "source": [
        "\"\"\"Q23) A company implemented an employee training program to improve job performance (Effective, Neutral,\n",
        "Ineffective). After the training, they collected data from a sample of employees and classified them based\n",
        "on their job performance before and after the training. Perform a Chi-Square test to determine if there is a\n",
        "significant difference between job performance levels before and after the training.\n",
        "\n",
        "Sample data:\n",
        "\n",
        "```python\n",
        "# Sample data: Job performance levels before (rows) and after (columns) training\n",
        "data = np.array([[50, 30, 20], [30, 40, 30], [20, 30, 40]])\"\"\""
      ]
    },
    {
      "cell_type": "code",
      "execution_count": 47,
      "id": "cd203d9c-346a-40e2-b2fe-d34e00eca09d",
      "metadata": {
        "colab": {
          "base_uri": "https://localhost:8080/"
        },
        "id": "cd203d9c-346a-40e2-b2fe-d34e00eca09d",
        "outputId": "acd41876-9b55-466d-c9be-c793f4d9c02f"
      },
      "outputs": [
        {
          "output_type": "stream",
          "name": "stdout",
          "text": [
            "Contingency Table:\n",
            "[[50 30 20]\n",
            " [30 40 30]\n",
            " [20 30 40]]\n",
            "\n",
            "Chi-Square Test Statistic: 22.161728395061726\n",
            "p-value: 0.00018609719479882557\n",
            "Degrees of Freedom: 4\n",
            "\n",
            "Expected Frequencies:\n",
            "[[34.48275862 34.48275862 31.03448276]\n",
            " [34.48275862 34.48275862 31.03448276]\n",
            " [31.03448276 31.03448276 27.93103448]]\n",
            "\n",
            "Conclusion: There is a significant difference between job performance levels before and after the training.\n"
          ]
        }
      ],
      "source": [
        "import numpy as np\n",
        "from scipy.stats import chi2_contingency\n",
        "\n",
        "# Sample data: Job performance levels before (rows) and after (columns) training\n",
        "data = np.array([[50, 30, 20], [30, 40, 30], [20, 30, 40]])\n",
        "\n",
        "# Perform the Chi-Square test\n",
        "chi2, p, dof, expected = chi2_contingency(data)\n",
        "\n",
        "# Print the results\n",
        "print(\"Contingency Table:\")\n",
        "print(data)\n",
        "print(\"\\nChi-Square Test Statistic:\", chi2)\n",
        "print(\"p-value:\", p)\n",
        "print(\"Degrees of Freedom:\", dof)\n",
        "print(\"\\nExpected Frequencies:\")\n",
        "print(expected)\n",
        "\n",
        "# Interpretation\n",
        "alpha = 0.05\n",
        "if p < alpha:\n",
        "    print(\"\\nConclusion: There is a significant difference between job performance levels before and after the training.\")\n",
        "else:\n",
        "    print(\"\\nConclusion: There is no significant difference between job performance levels before and after the training.\")\n"
      ]
    },
    {
      "cell_type": "markdown",
      "source": [
        "#Q24"
      ],
      "metadata": {
        "id": "4nVx-55puyKh"
      },
      "id": "4nVx-55puyKh"
    },
    {
      "cell_type": "code",
      "execution_count": 48,
      "id": "e6dffbb5-da5d-4f81-92ca-65f2d7e8458a",
      "metadata": {
        "colab": {
          "base_uri": "https://localhost:8080/"
        },
        "id": "e6dffbb5-da5d-4f81-92ca-65f2d7e8458a",
        "outputId": "a9b953a0-4ba3-49e7-dfd6-7668a5f7129e"
      },
      "outputs": [
        {
          "output_type": "stream",
          "name": "stdout",
          "text": [
            "Reject the null hypothesis, there is a significant difference in customer satisfaction scores.\n"
          ]
        }
      ],
      "source": [
        "\"\"\"Q24. A company produces three different versions of a product: Standard, Premium, and Deluxe. The\n",
        "company wants to determine if there is a significant difference in customer satisfaction scores among the\n",
        "three product versions. They conducted a survey and collected customer satisfaction scores for each\n",
        "version from a random sample of customers. Perform an ANOVA test to determine if there is a significant\n",
        "difference in customer satisfaction scores.\n",
        "\n",
        "  Use the following data:\n",
        "  ```python\n",
        "  # Sample data: Customer satisfaction scores for each product version\n",
        "  standard_scores = [80, 85, 90, 78, 88, 82, 92, 78, 85, 87]\n",
        "  premium_scores = [90, 92, 88, 92, 95, 91, 96, 93, 89, 93]\n",
        "  deluxe_scores = [95, 98, 92, 97, 96, 94, 98, 97, 92, 99]\"\"\"\n",
        "\n",
        "standard_scores = [80, 85, 90, 78, 88, 82, 92, 78, 85, 87]\n",
        "premium_scores = [90, 92, 88, 92, 95, 91, 96, 93, 89, 93]\n",
        "deluxe_scores = [95, 98, 92, 97, 96, 94, 98, 97, 92, 99]\n",
        "\n",
        "#null hypothesis>> no difference in customer satisfaction scores\n",
        "#alternate hypothesis>> there is a significant difference in customer satisfaction scores.\n",
        "\n",
        "data=pd.DataFrame([standard_scores, premium_scores, deluxe_scores], index= ['standard_scores', 'premium_scores', 'deluxe_scores'])\n",
        "df=data.T\n",
        "fstats, pvalue= stats.f_oneway(df['standard_scores'],df['premium_scores'],df['deluxe_scores'])\n",
        "\n",
        "if pvalue <= 0.05:\n",
        "    print(\"Reject the null hypothesis, there is a significant difference in customer satisfaction scores.\")\n",
        "else:\n",
        "    print(\"Fail to reject null hypothesis, no difference in customer satisfaction scores\")"
      ]
    }
  ],
  "metadata": {
    "kernelspec": {
      "display_name": "Python 3 (ipykernel)",
      "language": "python",
      "name": "python3"
    },
    "language_info": {
      "codemirror_mode": {
        "name": "ipython",
        "version": 3
      },
      "file_extension": ".py",
      "mimetype": "text/x-python",
      "name": "python",
      "nbconvert_exporter": "python",
      "pygments_lexer": "ipython3",
      "version": "3.10.8"
    },
    "colab": {
      "provenance": []
    }
  },
  "nbformat": 4,
  "nbformat_minor": 5
}