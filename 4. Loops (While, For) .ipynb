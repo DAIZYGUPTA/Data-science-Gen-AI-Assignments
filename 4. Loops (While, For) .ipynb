{
 "cells": [
  {
   "cell_type": "code",
   "execution_count": null,
   "id": "6d3fd592-9fb1-4911-83a1-8b2bd91630f6",
   "metadata": {},
   "outputs": [],
   "source": [
    "'''\n",
    "Assignment 4 - Loops (While, For)\n",
    "'''"
   ]
  },
  {
   "cell_type": "markdown",
   "id": "598d6974-56d1-44c9-8686-4ba0626bf1ac",
   "metadata": {},
   "source": [
    "Q1. Print numbers from 1 to 5 using a while loop."
   ]
  },
  {
   "cell_type": "code",
   "execution_count": 1,
   "id": "857bf901-04f6-43cc-a082-954fa87b1155",
   "metadata": {},
   "outputs": [
    {
     "name": "stdout",
     "output_type": "stream",
     "text": [
      "1\n",
      "2\n",
      "3\n",
      "4\n",
      "5\n"
     ]
    }
   ],
   "source": [
    "a = 1\n",
    "while a < 6:\n",
    "    print(a)\n",
    "    a+=1"
   ]
  },
  {
   "cell_type": "markdown",
   "id": "f9745ba6-eeea-4df5-b828-c4ee220182e1",
   "metadata": {},
   "source": [
    "Q2. Calculate the sum of numbers from 1 to 10 using a while loop."
   ]
  },
  {
   "cell_type": "code",
   "execution_count": 5,
   "id": "8f66bc6d-a130-443d-a077-6bf088fa616d",
   "metadata": {},
   "outputs": [
    {
     "name": "stdout",
     "output_type": "stream",
     "text": [
      "sum of numbers from 1 to 10 is :  55\n"
     ]
    }
   ],
   "source": [
    "a = 1  \n",
    "add = 0    \n",
    "while a < 11:\n",
    "    add+=a   \n",
    "    a+=1   \n",
    "print(\"sum of numbers from 1 to 10 is : \",add)"
   ]
  },
  {
   "cell_type": "markdown",
   "id": "16452adf-a63c-4ee2-885d-e620d02901b2",
   "metadata": {},
   "source": [
    "Q3. Calculate the factorial of a number using a for loop"
   ]
  },
  {
   "cell_type": "code",
   "execution_count": 8,
   "id": "6d2a7130-e320-4e9f-bf79-18df7fc2617b",
   "metadata": {},
   "outputs": [
    {
     "name": "stdin",
     "output_type": "stream",
     "text": [
      "enter the number :  4\n"
     ]
    },
    {
     "name": "stdout",
     "output_type": "stream",
     "text": [
      "factorial of 4 is : 24 \n"
     ]
    }
   ],
   "source": [
    "#4!=4*3*2*1\n",
    "n = int(input(\"enter the number : \"))\n",
    "m = 1\n",
    "for i in range(1,(n+1)):\n",
    "    m = m*i\n",
    "print(f\"factorial of {n} is : {m} \")"
   ]
  },
  {
   "cell_type": "markdown",
   "id": "49cad2b5-e273-4e4c-a021-69bb63c4b097",
   "metadata": {},
   "source": [
    "Q4. Count the number of vowels in a string using a for loop"
   ]
  },
  {
   "cell_type": "code",
   "execution_count": 34,
   "id": "dbee0d7f-fa30-4c40-95ff-28400473e088",
   "metadata": {},
   "outputs": [
    {
     "name": "stdin",
     "output_type": "stream",
     "text": [
      "enter a string:  FLABBERGASTED\n"
     ]
    },
    {
     "name": "stdout",
     "output_type": "stream",
     "text": [
      "the total number of vowels in FLABBERGASTED are 4\n"
     ]
    }
   ],
   "source": [
    "s = input(\"enter a string: \")\n",
    "c = 0\n",
    "v = \"aeiou\"\n",
    "for char in s:\n",
    "    #if char.lower() == 'a' or 'e' or 'i' or 'o' or 'u':\n",
    "    if char.lower() in v:\n",
    "        c= c+1\n",
    "print(f\"the total number of vowels in {s} are {c}\")"
   ]
  },
  {
   "cell_type": "markdown",
   "id": "5fc899b0-4c10-4c89-9dca-9ab36b91b518",
   "metadata": {},
   "source": [
    "Q5. Print a pattern using nested loops."
   ]
  },
  {
   "cell_type": "code",
   "execution_count": 24,
   "id": "06f9afe3-b969-4a46-96ab-f58e290a7998",
   "metadata": {},
   "outputs": [
    {
     "name": "stdout",
     "output_type": "stream",
     "text": [
      "* \n",
      "* * \n",
      "* * * \n",
      "* * * * \n",
      "* * * * * \n"
     ]
    }
   ],
   "source": [
    "for i in range(1,6):\n",
    "    for j in range(i):\n",
    "        print(\"*\", end=\" \")\n",
    "    print()"
   ]
  },
  {
   "cell_type": "markdown",
   "id": "f5cdb153-1a62-48b5-a93a-014ca69e8e64",
   "metadata": {},
   "source": [
    "Q6. Generate a multiplication table using nested loops."
   ]
  },
  {
   "cell_type": "code",
   "execution_count": 20,
   "id": "fd31fb7d-f2cc-4cdf-aa0f-a4906ac8dd16",
   "metadata": {},
   "outputs": [
    {
     "name": "stdin",
     "output_type": "stream",
     "text": [
      "enter table number:  14\n"
     ]
    },
    {
     "name": "stdout",
     "output_type": "stream",
     "text": [
      "14 * 1 = 14\n",
      "14 * 2 = 28\n",
      "14 * 3 = 42\n",
      "14 * 4 = 56\n",
      "14 * 5 = 70\n",
      "14 * 6 = 84\n",
      "14 * 7 = 98\n",
      "14 * 8 = 112\n",
      "14 * 9 = 126\n",
      "14 * 10 = 140\n"
     ]
    }
   ],
   "source": [
    "n = int(input(\"enter table number: \"))\n",
    "for i in range(1,11):\n",
    "    for j in range(1,11):\n",
    "        prod = n*i  \n",
    "    print(f\"{n} * {i} = {prod}\")\n",
    "    "
   ]
  },
  {
   "cell_type": "code",
   "execution_count": null,
   "id": "687bf68f-91aa-4ca7-b9a0-9d5f8fc1bce1",
   "metadata": {},
   "outputs": [],
   "source": []
  }
 ],
 "metadata": {
  "kernelspec": {
   "display_name": "Python 3 (ipykernel)",
   "language": "python",
   "name": "python3"
  },
  "language_info": {
   "codemirror_mode": {
    "name": "ipython",
    "version": 3
   },
   "file_extension": ".py",
   "mimetype": "text/x-python",
   "name": "python",
   "nbconvert_exporter": "python",
   "pygments_lexer": "ipython3",
   "version": "3.10.8"
  }
 },
 "nbformat": 4,
 "nbformat_minor": 5
}
