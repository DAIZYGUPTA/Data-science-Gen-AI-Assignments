{
 "cells": [
  {
   "cell_type": "code",
   "execution_count": null,
   "id": "c4889a3d-6e04-42b9-bc95-03be8c056ece",
   "metadata": {},
   "outputs": [],
   "source": [
    "'''\n",
    "Assignment 5 - Break And Continue Statement And Range Function\n",
    "'''"
   ]
  },
  {
   "cell_type": "markdown",
   "id": "9916aca4-7699-4556-a07a-187493a68b0b",
   "metadata": {},
   "source": [
    "Q1. Write a program to print numbers from 1 to 10, but stop if the number is 5."
   ]
  },
  {
   "cell_type": "code",
   "execution_count": 3,
   "id": "7b285c5c-8ddd-4fa2-a976-134d6601ce7a",
   "metadata": {},
   "outputs": [
    {
     "name": "stdout",
     "output_type": "stream",
     "text": [
      "1\n",
      "2\n",
      "3\n",
      "4\n"
     ]
    }
   ],
   "source": [
    "for i in range(1,11):\n",
    "    if i == 5:\n",
    "        break  # Exit the loop when encountering the 5\n",
    "    print(i)\n",
    "    "
   ]
  },
  {
   "cell_type": "markdown",
   "id": "8741b47d-2cf1-41f2-85c5-29dc5463131d",
   "metadata": {},
   "source": [
    "Q2. Write a program to iterate through a list and stop when encountering a specific element. "
   ]
  },
  {
   "cell_type": "code",
   "execution_count": 7,
   "id": "83d14b90-9fb7-493c-801a-e27f03cb272c",
   "metadata": {},
   "outputs": [
    {
     "name": "stdout",
     "output_type": "stream",
     "text": [
      "0\n",
      "1\n",
      "2\n",
      "3\n",
      "4\n",
      "5\n",
      "6\n",
      "7\n",
      "8\n"
     ]
    }
   ],
   "source": [
    "# iteration will stop when element 9 will occur\n",
    "\n",
    "l = [0,1,2,3,4,5,6,7,8,9,10]\n",
    "\n",
    "# Use a for loop to iterate through the list\n",
    "for i in l:\n",
    "    if l[i] == 9:\n",
    "        break    # Exit the loop when encountering the stop element\n",
    "    print(i)"
   ]
  },
  {
   "cell_type": "markdown",
   "id": "f6f012a9-b99b-44d6-9431-7b295624584e",
   "metadata": {},
   "source": [
    "Q3. Write a program to skip printing even numbers from 1 to 10."
   ]
  },
  {
   "cell_type": "code",
   "execution_count": 9,
   "id": "ed11f379-ba75-4123-8510-2886e379555c",
   "metadata": {},
   "outputs": [
    {
     "name": "stdout",
     "output_type": "stream",
     "text": [
      "1\n",
      "3\n",
      "5\n",
      "7\n",
      "9\n"
     ]
    }
   ],
   "source": [
    "for i in range(1,11):\n",
    "    \n",
    "    if i % 2 == 0:   # Check if the number is even\n",
    "        continue     # Skip to the next iteration if the number is even \n",
    "    print(i)\n",
    "        "
   ]
  },
  {
   "cell_type": "markdown",
   "id": "6d18c33d-a16a-4e42-97e5-a9082fffc00a",
   "metadata": {},
   "source": [
    "Q4. Write a program to print numbers from 0 to 9 using range()."
   ]
  },
  {
   "cell_type": "code",
   "execution_count": 10,
   "id": "5257ef6a-3903-4ba4-8923-ae5ca0854409",
   "metadata": {},
   "outputs": [
    {
     "name": "stdout",
     "output_type": "stream",
     "text": [
      "0\n",
      "1\n",
      "2\n",
      "3\n",
      "4\n",
      "5\n",
      "6\n",
      "7\n",
      "8\n",
      "9\n"
     ]
    }
   ],
   "source": [
    "for i in range(0,10):\n",
    "    print(i)"
   ]
  },
  {
   "cell_type": "markdown",
   "id": "35ee7218-2987-4f60-a9e8-b1816e08a74a",
   "metadata": {},
   "source": [
    "Q5. Write a program to print multiplication tables from 1 to 5, but stop after the first table is printed for each number.  "
   ]
  },
  {
   "cell_type": "code",
   "execution_count": 4,
   "id": "652ab462-4b40-45a3-bcc9-6f5df96be1ab",
   "metadata": {},
   "outputs": [
    {
     "name": "stdout",
     "output_type": "stream",
     "text": [
      "Multiplication table for 1:\n",
      "1 * 1 = 1\n",
      "1 * 2 = 2\n",
      "1 * 3 = 3\n",
      "1 * 4 = 4\n",
      "1 * 5 = 5\n",
      "1 * 6 = 6\n",
      "1 * 7 = 7\n",
      "1 * 8 = 8\n",
      "1 * 9 = 9\n",
      "1 * 10 = 10\n",
      "\n",
      "Multiplication table for 2:\n",
      "2 * 1 = 2\n",
      "2 * 2 = 4\n",
      "2 * 3 = 6\n",
      "2 * 4 = 8\n",
      "2 * 5 = 10\n",
      "2 * 6 = 12\n",
      "2 * 7 = 14\n",
      "2 * 8 = 16\n",
      "2 * 9 = 18\n",
      "2 * 10 = 20\n",
      "\n",
      "Multiplication table for 3:\n",
      "3 * 1 = 3\n",
      "3 * 2 = 6\n",
      "3 * 3 = 9\n",
      "3 * 4 = 12\n",
      "3 * 5 = 15\n",
      "3 * 6 = 18\n",
      "3 * 7 = 21\n",
      "3 * 8 = 24\n",
      "3 * 9 = 27\n",
      "3 * 10 = 30\n",
      "\n",
      "Multiplication table for 4:\n",
      "4 * 1 = 4\n",
      "4 * 2 = 8\n",
      "4 * 3 = 12\n",
      "4 * 4 = 16\n",
      "4 * 5 = 20\n",
      "4 * 6 = 24\n",
      "4 * 7 = 28\n",
      "4 * 8 = 32\n",
      "4 * 9 = 36\n",
      "4 * 10 = 40\n",
      "\n",
      "Multiplication table for 5:\n",
      "5 * 1 = 5\n",
      "5 * 2 = 10\n",
      "5 * 3 = 15\n",
      "5 * 4 = 20\n",
      "5 * 5 = 25\n",
      "5 * 6 = 30\n",
      "5 * 7 = 35\n",
      "5 * 8 = 40\n",
      "5 * 9 = 45\n",
      "5 * 10 = 50\n",
      "\n"
     ]
    }
   ],
   "source": [
    "\n",
    "# Using nested loops to print multiplication tables\n",
    "for i in range(1, 6):\n",
    "    print(f\"Multiplication table for {i}:\")\n",
    "    for j in range(1, 11):\n",
    "        prod = i * j\n",
    "        print(f\"{i} * {j} = {prod}\")\n",
    "\n",
    "    # Add a newline after each table\n",
    "    print()"
   ]
  },
  {
   "cell_type": "markdown",
   "id": "7e822b7a-83d1-4ed2-8a9d-7ae73dfb9e97",
   "metadata": {},
   "source": [
    "Q6. Write a program to skip printing even numbers using a while loop."
   ]
  },
  {
   "cell_type": "code",
   "execution_count": 2,
   "id": "cd1cb2b6-ccc2-4ecd-bf7e-2c757fd0155c",
   "metadata": {},
   "outputs": [
    {
     "name": "stdout",
     "output_type": "stream",
     "text": [
      "1\n",
      "3\n",
      "5\n",
      "7\n",
      "9\n"
     ]
    }
   ],
   "source": [
    "i = 1\n",
    "while i < 11:\n",
    "    if i%2==0:\n",
    "        i+=1\n",
    "        continue     # Skip printing even numbers\n",
    "    print(i)\n",
    "    i=i+1"
   ]
  },
  {
   "cell_type": "code",
   "execution_count": null,
   "id": "6dd49e67-848f-4ef2-97ab-19d93b583f9c",
   "metadata": {},
   "outputs": [],
   "source": []
  }
 ],
 "metadata": {
  "kernelspec": {
   "display_name": "Python 3 (ipykernel)",
   "language": "python",
   "name": "python3"
  },
  "language_info": {
   "codemirror_mode": {
    "name": "ipython",
    "version": 3
   },
   "file_extension": ".py",
   "mimetype": "text/x-python",
   "name": "python",
   "nbconvert_exporter": "python",
   "pygments_lexer": "ipython3",
   "version": "3.10.8"
  }
 },
 "nbformat": 4,
 "nbformat_minor": 5
}
