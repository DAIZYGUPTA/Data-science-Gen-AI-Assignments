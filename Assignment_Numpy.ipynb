{
 "cells": [
  {
   "cell_type": "code",
   "execution_count": null,
   "id": "d2f25016-2274-47e6-97eb-20d37e63433c",
   "metadata": {},
   "outputs": [],
   "source": [
    "\"\"\"\n",
    "Gen AI course\n",
    "Assignment- NumPy\n",
    "Module-14 Data Toolkit\n",
    "\"\"\""
   ]
  },
  {
   "cell_type": "markdown",
   "id": "55256a87-a818-4465-aacd-aac45d4be530",
   "metadata": {},
   "source": [
    "1. Create a NumPy array 'arr' of integers from 0 to 5 and print its data type.\n"
   ]
  },
  {
   "cell_type": "code",
   "execution_count": 4,
   "id": "d0f211ff-f2fa-4bdd-a329-d509697272f9",
   "metadata": {},
   "outputs": [
    {
     "name": "stdout",
     "output_type": "stream",
     "text": [
      "array : \n",
      " [[1 3]\n",
      " [4 3]]\n",
      "array data type :  int64\n"
     ]
    }
   ],
   "source": [
    "import numpy as np\n",
    "\n",
    "# Create the 2x2 NumPy array with random integers between 0 and 5\n",
    "arr = np.random.randint(0,6,(2,2))\n",
    "\n",
    "print(\"array : \\n\",arr)\n",
    "print(\"array data type : \",arr.dtype)"
   ]
  },
  {
   "cell_type": "markdown",
   "id": "1a5d2af1-f3f5-46a4-aab9-65209ca30602",
   "metadata": {},
   "source": [
    "2. Given a NumPy array 'arr', check if its data type is float64.\n",
    "\n",
    "arr = np.array([1.5, 2.6, 3.7])"
   ]
  },
  {
   "cell_type": "code",
   "execution_count": 5,
   "id": "7a1392c3-b490-4c39-9d0b-fb768d76a93c",
   "metadata": {},
   "outputs": [
    {
     "data": {
      "text/plain": [
       "dtype('float64')"
      ]
     },
     "execution_count": 5,
     "metadata": {},
     "output_type": "execute_result"
    }
   ],
   "source": [
    "import numpy as np\n",
    "\n",
    "arr = np.array([1.5, 2.6, 3.7])\n",
    "\n",
    "arr.dtype"
   ]
  },
  {
   "cell_type": "markdown",
   "id": "529eb629-efcc-4e11-8fe7-384d59d4131b",
   "metadata": {},
   "source": [
    "3. Create a NumPy array 'arr' with a data type of complex128 containing three complex numbers.\n"
   ]
  },
  {
   "cell_type": "code",
   "execution_count": 10,
   "id": "61f0339a-54fe-418d-90bc-b8e6445d89ce",
   "metadata": {},
   "outputs": [
    {
     "name": "stdout",
     "output_type": "stream",
     "text": [
      "Array: \n",
      " [0.77244344+0.41541492j 0.62497287+0.63876651j 0.19099653+0.14193705j]\n",
      "Array data type: complex128\n"
     ]
    }
   ],
   "source": [
    "import numpy as np\n",
    "\n",
    "# Create a NumPy array with three random real numbers\n",
    "real_part = np.random.random(3)\n",
    "\n",
    "# Create a NumPy array with three random imaginary parts\n",
    "imaginary_part = np.random.random(3)\n",
    "\n",
    "# Combine them to form complex numbers\n",
    "arr = real_part + 1j * imaginary_part\n",
    "\n",
    "# Ensure the data type is complex128\n",
    "arr = arr.astype(np.complex128)\n",
    "\n",
    "print(\"Array: \\n\", arr)\n",
    "print(\"Array data type:\", arr.dtype)\n"
   ]
  },
  {
   "cell_type": "markdown",
   "id": "ae8a5bbf-7697-4ca2-a1ec-04fa66a804f7",
   "metadata": {},
   "source": [
    "4. Convert an existing NumPy array 'arr' of integers to float32 data type.\n"
   ]
  },
  {
   "cell_type": "code",
   "execution_count": 19,
   "id": "abe8a782-b7c9-4559-a5a6-c0082fd5bb60",
   "metadata": {},
   "outputs": [
    {
     "name": "stdout",
     "output_type": "stream",
     "text": [
      "original array: \n",
      " [[3 1]\n",
      " [5 3]] \n",
      " and its datatype = int64\n",
      "After typecasting : \n",
      " [[3. 1.]\n",
      " [5. 3.]] \n",
      " and its datatype = float32\n"
     ]
    }
   ],
   "source": [
    "import numpy as np\n",
    "\n",
    "arr = np.random.randint(1,6 , (2,2))\n",
    "print(f\"original array: \\n {arr} \\n and its datatype = { arr.dtype}\")\n",
    "\n",
    "arr_f = arr.astype(np.float32)\n",
    "print(f\"After typecasting : \\n {arr_f} \\n and its datatype = {arr_f.dtype}\")\n"
   ]
  },
  {
   "cell_type": "markdown",
   "id": "55daa844-06f9-4c60-9d04-27da966ded67",
   "metadata": {},
   "source": [
    "5. Given a NumPy array 'arr' with float64 data type, convert it to float32 to reduce decimal precision.\n"
   ]
  },
  {
   "cell_type": "code",
   "execution_count": 23,
   "id": "164c40d3-5dba-44e5-9b44-fd7feac79b75",
   "metadata": {},
   "outputs": [
    {
     "name": "stdout",
     "output_type": "stream",
     "text": [
      "original array: \n",
      " [0.27969036 0.42471157 0.1924734 ] \n",
      " and its datatype = float64\n",
      "\n",
      "After typecasting : \n",
      " [0.27969036 0.42471159 0.1924734 ] \n",
      " and its datatype = float32\n"
     ]
    }
   ],
   "source": [
    "import numpy as np\n",
    "\n",
    "arr = np.random.random(3).astype(np.float64)\n",
    "print(f\"original array: \\n {arr} \\n and its datatype = { arr.dtype}\\n\")\n",
    "\n",
    "arr_f = arr.astype(np.float32)\n",
    "print(f\"After typecasting : \\n {arr_f} \\n and its datatype = {arr_f.dtype}\")"
   ]
  },
  {
   "cell_type": "markdown",
   "id": "231d05a4-7255-4d08-94eb-940052994b6e",
   "metadata": {},
   "source": [
    "6. Write a function array_attributes that takes a NumPy array as input and returns its shape, size, and datatype."
   ]
  },
  {
   "cell_type": "code",
   "execution_count": 30,
   "id": "5eae1cf5-211d-4f97-8614-3e215c873000",
   "metadata": {},
   "outputs": [
    {
     "name": "stdout",
     "output_type": "stream",
     "text": [
      "shape = (2, 3), size = 6, dataype = int64\n",
      "shape = (4,), size = 4, dataype = float64\n"
     ]
    }
   ],
   "source": [
    "import numpy as np\n",
    "\n",
    "def array_attributes(arr):\n",
    "    shape = arr.shape\n",
    "    size = arr.size\n",
    "    datatype = arr.dtype\n",
    "    return f\"shape = {shape}, size = {size}, dataype = {datatype}\"\n",
    "\n",
    "arr = np.random.randint(1,8 , (2,3))\n",
    "arr1 = np.random.random(4)\n",
    "\n",
    "print(array_attributes(arr))\n",
    "print(array_attributes(arr1))"
   ]
  },
  {
   "cell_type": "markdown",
   "id": "04f9e6f7-1aa6-4bd7-a440-6226489626a7",
   "metadata": {},
   "source": [
    "7. Create a function array_dimension that takes a NumPy array as input and returns its dimensionality"
   ]
  },
  {
   "cell_type": "code",
   "execution_count": 35,
   "id": "52920d65-6e97-4d60-b126-fd2d252ca252",
   "metadata": {},
   "outputs": [
    {
     "name": "stdout",
     "output_type": "stream",
     "text": [
      "dimension of arr : 2\n",
      "dimension of arr1 : 1\n"
     ]
    }
   ],
   "source": [
    "import numpy as np\n",
    "\n",
    "def array_dimension(arr):\n",
    "   \n",
    "    return arr.ndim\n",
    "\n",
    "arr = np.random.randint(1,8 , (2,3))\n",
    "arr1 = np.random.random(4)\n",
    "\n",
    "print(\"dimension of arr :\",array_dimension(arr))\n",
    "print(\"dimension of arr1 :\",array_dimension(arr1))"
   ]
  },
  {
   "cell_type": "markdown",
   "id": "3609d692-03d7-498a-a13b-2881fb8bf34e",
   "metadata": {},
   "source": [
    "8. Design a function item_size_info that takes a NumPy array as input and returns the item size and the total size in bytes."
   ]
  },
  {
   "cell_type": "code",
   "execution_count": 40,
   "id": "e7ff114b-c3c4-41f7-bc9c-fdf92de6153a",
   "metadata": {},
   "outputs": [
    {
     "name": "stdout",
     "output_type": "stream",
     "text": [
      "Item size: 8\n",
      "Total size in bytes: 48\n"
     ]
    }
   ],
   "source": [
    "import numpy as np\n",
    "\n",
    "def item_size_info(arr):\n",
    "    item_size = arr.itemsize\n",
    "    total_size = arr.nbytes\n",
    "   \n",
    "    return item_size, total_size\n",
    "\n",
    "arr = np.random.randint(1,4 , (2,3))\n",
    "\n",
    "item_size, total_size = item_size_info(arr)\n",
    "print(\"Item size:\", item_size)\n",
    "print(\"Total size in bytes:\", total_size)"
   ]
  },
  {
   "cell_type": "markdown",
   "id": "9c92e6bf-2957-4504-83c7-ef6f4ea2b73b",
   "metadata": {},
   "source": [
    "9. Create a function array_strides that takes a NumPy array as input and returns the strides of the array."
   ]
  },
  {
   "cell_type": "code",
   "execution_count": 43,
   "id": "078071af-afe4-437b-8bf5-b4e13f03a66e",
   "metadata": {},
   "outputs": [
    {
     "name": "stdout",
     "output_type": "stream",
     "text": [
      "Array 'arr':\n",
      " [[1 1 7]\n",
      " [5 5 7]]\n",
      "array stride of arr : (24, 8)\n",
      "\n",
      "Array 'arr1':\n",
      " [0.23848997 0.07669472 0.07693454 0.71608931]\n",
      "array stride of arr1 : (8,)\n"
     ]
    }
   ],
   "source": [
    "import numpy as np\n",
    "\n",
    "def array_strides(arr): \n",
    "     \n",
    "# arr.strides returns the strides of the array.\n",
    "# Strides are the number of bytes that must be skipped in memory to go to the next element along each dimension of the array.\n",
    "    return arr.strides\n",
    "\n",
    "\n",
    "arr = np.random.randint(1,8 , (2,3))\n",
    "arr1 = np.random.random(4)\n",
    "\n",
    "print(\"Array 'arr':\\n\", arr)\n",
    "print(\"array stride of arr :\",array_strides(arr))\n",
    "# The strides of arr (a 2x3 integer array) indicate how many bytes you need\n",
    "# to move in memory to go from one element to the next in each dimension.\n",
    "\n",
    "print(\"\\nArray 'arr1':\\n\", arr1)\n",
    "print(\"array stride of arr1 :\",array_strides(arr1))\n",
    "# The strides of arr1 (a 1D float array) show the byte step between consecutive elements.\n",
    "# Since each float64 element is 8 bytes, the stride is 8 bytes."
   ]
  },
  {
   "cell_type": "markdown",
   "id": "696e52cd-39b3-401b-901b-cbe7010a0c7a",
   "metadata": {},
   "source": [
    "10. Design a function shape_stride_relationship that takes a NumPy array as input and returns the shape and strides of the array.\n"
   ]
  },
  {
   "cell_type": "code",
   "execution_count": 44,
   "id": "719287f1-290e-48aa-b6c0-71f3edd1d525",
   "metadata": {},
   "outputs": [
    {
     "name": "stdout",
     "output_type": "stream",
     "text": [
      "Shape: (2, 3)\n",
      "Strides: (12, 4)\n"
     ]
    }
   ],
   "source": [
    "import numpy as np\n",
    "\n",
    "def shape_stride_relationship(arr):\n",
    "    \n",
    "    return arr.shape, arr.strides\n",
    "\n",
    "# Example usage\n",
    "arr = np.array([[1, 2, 3], [4, 5, 6]], dtype=np.int32)\n",
    "shape, strides = shape_stride_relationship(arr)\n",
    "print(\"Shape:\", shape)\n",
    "print(\"Strides:\", strides)\n"
   ]
  },
  {
   "cell_type": "markdown",
   "id": "d20f07d6-f232-4d54-ab1e-6205999e4c37",
   "metadata": {},
   "source": [
    "11. Create a function `create_zeros_array` that takes an integer `n` as input and returns a NumPy array of zeros with `n` elements.\n"
   ]
  },
  {
   "cell_type": "code",
   "execution_count": 3,
   "id": "27aab4a4-84a9-48f4-a1f8-dee8afb801c6",
   "metadata": {},
   "outputs": [
    {
     "name": "stdin",
     "output_type": "stream",
     "text": [
      "enter number:  6\n"
     ]
    },
    {
     "data": {
      "text/plain": [
       "array([0., 0., 0., 0., 0., 0.])"
      ]
     },
     "execution_count": 3,
     "metadata": {},
     "output_type": "execute_result"
    }
   ],
   "source": [
    "import numpy as np\n",
    "\n",
    "def create_zeros_array(n):\n",
    "    arr = np.zeros(n)\n",
    "    return arr\n",
    "    \n",
    "n = int(input(\"enter number: \"))\n",
    "create_zeros_array(n)"
   ]
  },
  {
   "cell_type": "markdown",
   "id": "9ac7306b-e959-48d7-8dc9-5647fa553da0",
   "metadata": {},
   "source": [
    "12. Write a function `create_ones_matrix` that takes integers `rows` and `cols` as inputs and generates a 2D NumPy array filled with ones of size `rows x cols`.\n"
   ]
  },
  {
   "cell_type": "code",
   "execution_count": 13,
   "id": "f9ed3f85-5e6a-4acc-91b8-50f258850841",
   "metadata": {},
   "outputs": [
    {
     "name": "stdin",
     "output_type": "stream",
     "text": [
      "enter rows:  3\n",
      "enter column:  4\n"
     ]
    },
    {
     "data": {
      "text/plain": [
       "array([[1., 1., 1., 1.],\n",
       "       [1., 1., 1., 1.],\n",
       "       [1., 1., 1., 1.]])"
      ]
     },
     "execution_count": 13,
     "metadata": {},
     "output_type": "execute_result"
    }
   ],
   "source": [
    "import numpy as np\n",
    "\n",
    "def create_ones_matrix(r,c):\n",
    "    arr = np.ones((r, c))\n",
    "    return arr\n",
    "\n",
    "r = int(input(\"enter rows: \"))\n",
    "c = int(input(\"enter column: \"))\n",
    "\n",
    "create_ones_matrix(r,c)\n",
    "\n"
   ]
  },
  {
   "cell_type": "markdown",
   "id": "5ce4d03f-7b6d-4b52-ae87-198cae6acabe",
   "metadata": {},
   "source": [
    "13. Write a function `generate_range_array` that takes three integers start, stop, and step as arguments and creates a NumPy array with a range starting from `start`, ending at stop (exclusive), and with the specified `step`.\n"
   ]
  },
  {
   "cell_type": "code",
   "execution_count": 14,
   "id": "3bbe1306-11b3-41c0-93b0-11263622a3e7",
   "metadata": {},
   "outputs": [
    {
     "name": "stdin",
     "output_type": "stream",
     "text": [
      "Enter start value:  2\n",
      "Enter stop value:  11\n",
      "Enter step value:  2\n"
     ]
    },
    {
     "data": {
      "text/plain": [
       "array([ 2,  4,  6,  8, 10])"
      ]
     },
     "execution_count": 14,
     "metadata": {},
     "output_type": "execute_result"
    }
   ],
   "source": [
    "import numpy as np\n",
    "\n",
    "def generate_range_array(start, stop, step):\n",
    "    \n",
    "    arr = np.arange(start, stop, step)\n",
    "    return arr\n",
    "\n",
    "start = int(input(\"Enter start value: \"))\n",
    "stop = int(input(\"Enter stop value: \"))\n",
    "step = int(input(\"Enter step value: \"))\n",
    "\n",
    "generate_range_array(start, stop, step)"
   ]
  },
  {
   "cell_type": "markdown",
   "id": "ea63cc30-a881-4d78-af2e-fd7ceff3a026",
   "metadata": {},
   "source": [
    "14. Design a function `generate_linear_space` that takes two floats `start`, `stop`, and an integer `num` as arguments and generates a NumPy array with num equally spaced values between `start` and `stop` (inclusive).\n"
   ]
  },
  {
   "cell_type": "code",
   "execution_count": 17,
   "id": "74aef308-1042-4d0c-b0d7-9fcbc27c34a1",
   "metadata": {},
   "outputs": [
    {
     "name": "stdin",
     "output_type": "stream",
     "text": [
      "Enter start value:  2\n",
      "Enter stop value:  20\n",
      "Enter step value:  10\n"
     ]
    },
    {
     "data": {
      "text/plain": [
       "array([ 2.,  4.,  6.,  8., 10., 12., 14., 16., 18., 20.])"
      ]
     },
     "execution_count": 17,
     "metadata": {},
     "output_type": "execute_result"
    }
   ],
   "source": [
    "import numpy as np\n",
    "\n",
    "def generate_linear_space(start, stop, num):\n",
    "    \n",
    "    arr = np.linspace(start, stop, num)\n",
    "    return arr\n",
    "\n",
    "start = float(input(\"Enter start value: \"))\n",
    "stop = float(input(\"Enter stop value: \"))\n",
    "num = int(input(\"Enter step value: \"))\n",
    "\n",
    "generate_linear_space(start, stop, num)"
   ]
  },
  {
   "cell_type": "markdown",
   "id": "1f9d04e0-0fa4-412d-bc7b-861bb5daedc0",
   "metadata": {},
   "source": [
    "15. Create a function `create_identity_matrix` that takes an integer `n` as input and generates a square identity matrix of size `n x n` using `numpy.eye`.\n"
   ]
  },
  {
   "cell_type": "code",
   "execution_count": 18,
   "id": "39f09484-0520-42fc-a089-146dd554c9a2",
   "metadata": {},
   "outputs": [
    {
     "name": "stdin",
     "output_type": "stream",
     "text": [
      "enter number:  5\n"
     ]
    },
    {
     "data": {
      "text/plain": [
       "array([[1., 0., 0., 0., 0.],\n",
       "       [0., 1., 0., 0., 0.],\n",
       "       [0., 0., 1., 0., 0.],\n",
       "       [0., 0., 0., 1., 0.],\n",
       "       [0., 0., 0., 0., 1.]])"
      ]
     },
     "execution_count": 18,
     "metadata": {},
     "output_type": "execute_result"
    }
   ],
   "source": [
    "import numpy as np\n",
    "\n",
    "def create_identity_matrix(n):\n",
    "    arr = np.eye(n)\n",
    "    return arr\n",
    "\n",
    "n = int(input(\"enter number: \"))\n",
    "create_identity_matrix(n)"
   ]
  },
  {
   "cell_type": "markdown",
   "id": "21d811dd-2db5-4615-b376-e65492fc3ee8",
   "metadata": {},
   "source": [
    "16. Write a function that takes a Python list and converts it into a NumPy array.\n"
   ]
  },
  {
   "cell_type": "code",
   "execution_count": 21,
   "id": "18496bc7-7040-430a-a1de-235ec84dae37",
   "metadata": {},
   "outputs": [
    {
     "data": {
      "text/plain": [
       "array([1, 2, 3, 4, 5, 6, 7, 8, 9])"
      ]
     },
     "execution_count": 21,
     "metadata": {},
     "output_type": "execute_result"
    }
   ],
   "source": [
    "import numpy as np\n",
    "\n",
    "def list_to_numpy_array(py_list):\n",
    "    np_array = np.array(py_list)\n",
    "    return np_array\n",
    "\n",
    "l= [1,2,3,4,5,6,7,8,9]\n",
    "list_to_numpy_array(l)"
   ]
  },
  {
   "cell_type": "markdown",
   "id": "9b6504dd-02eb-4579-8ad6-52a22250dc3b",
   "metadata": {},
   "source": [
    "17. Create a NumPy array and demonstrate the use of `numpy.view` to create a new array object with the same data."
   ]
  },
  {
   "cell_type": "code",
   "execution_count": 1,
   "id": "8c3a044d-2dce-40a3-bc45-c486383b4685",
   "metadata": {},
   "outputs": [
    {
     "name": "stdout",
     "output_type": "stream",
     "text": [
      "Original array: [1 2 3 4 5]\n",
      "View array: [1 2 3 4 5]\n",
      "Modified view array: [99  2  3  4  5]\n",
      "Original array after modifying view array: [99  2  3  4  5]\n",
      "Modified original array: [99 77  3  4  5]\n",
      "View array after modifying original array: [99 77  3  4  5]\n"
     ]
    }
   ],
   "source": [
    "import numpy as np\n",
    "\n",
    "original_array = np.array([1, 2, 3, 4, 5])\n",
    "print(\"Original array:\", original_array)\n",
    "\n",
    "# Step 2: Use the `view` method to create a new array object\n",
    "view_array = original_array.view()\n",
    "print(\"View array:\", view_array)\n",
    "\n",
    "# Step 3: Show that modifications to the data in one array affect the other\n",
    "view_array[0] = 99\n",
    "print(\"Modified view array:\", view_array)\n",
    "print(\"Original array after modifying view array:\", original_array)\n",
    "\n",
    "# To further demonstrate, modify the original array and check the view array\n",
    "original_array[1] = 77\n",
    "print(\"Modified original array:\", original_array)\n",
    "print(\"View array after modifying original array:\", view_array)"
   ]
  },
  {
   "cell_type": "markdown",
   "id": "e440578e-2ed6-4ecd-961c-b5bba33ea113",
   "metadata": {},
   "source": [
    "18. Write a function that takes two NumPy arrays and concatenates them along a specified axis.\n"
   ]
  },
  {
   "cell_type": "code",
   "execution_count": 2,
   "id": "71970fe4-bd62-4d71-913a-27f6efc1e9bb",
   "metadata": {},
   "outputs": [
    {
     "name": "stdout",
     "output_type": "stream",
     "text": [
      "Concatenated vertically along axis 0:\n",
      " [[1 2]\n",
      " [3 4]\n",
      " [5 6]\n",
      " [7 8]]\n",
      "Concatenated horizontally along axis 1:\n",
      " [[1 2 5 6]\n",
      " [3 4 7 8]]\n"
     ]
    }
   ],
   "source": [
    "import numpy as np\n",
    "\n",
    "def arr_cat(arr1, arr2, axis):\n",
    "    arr = np.concatenate((arr1, arr2), axis)\n",
    "    return arr\n",
    "\n",
    "array1 = np.array([[1, 2], [3, 4]])\n",
    "array2 = np.array([[5, 6], [7, 8]])\n",
    "\n",
    "concatenated_vertically = arr_cat(array1, array2, axis=0)\n",
    "print(\"Concatenated vertically along axis 0:\\n\", concatenated_vertically)\n",
    "\n",
    "# Concatenate along axis 1 (horizontally)\n",
    "concatenated_horizontally = arr_cat(array1, array2, axis=1)\n",
    "print(\"Concatenated horizontally along axis 1:\\n\", concatenated_horizontally)"
   ]
  },
  {
   "cell_type": "markdown",
   "id": "c385a1dc-07c4-4b2e-a155-f4bfba84c582",
   "metadata": {},
   "source": [
    "19. Create two NumPy arrays with different shapes and concatenate them horizontally using `numpy.concatenate`.\n"
   ]
  },
  {
   "cell_type": "code",
   "execution_count": 41,
   "id": "f4ddd7fc-2e61-47c0-87cb-2d6279eccb45",
   "metadata": {},
   "outputs": [
    {
     "name": "stdout",
     "output_type": "stream",
     "text": [
      "Array 1:\n",
      "[[1 2 5]\n",
      " [3 4 5]]\n",
      "\n",
      "Array 2:\n",
      "[[5 6]\n",
      " [7 8]]\n",
      "\n",
      "Concatenated array horizontally:\n",
      "[[1 2 5 5 6]\n",
      " [3 4 5 7 8]]\n"
     ]
    }
   ],
   "source": [
    "# to concatenate two NumPy arrays with different shapes horizontally (along axis 1), the arrays need to have the same number of rows.\n",
    "\n",
    "import numpy as np\n",
    "\n",
    "\n",
    "arr1 = np.array([[1, 2, 5], [3, 4, 5]]) # shape = (2,3)\n",
    "arr2 = np.array([[5, 6], [7, 8]])  # shape = (2,2)\n",
    "\n",
    "# Ensure they have the same number of rows\n",
    "assert arr1.shape[0] == arr2.shape[0], \" Arrays must have the same number of rows to concatenate horizontally.\"\n",
    "\n",
    "\n",
    "arr = np.concatenate((arr1, arr2), axis = 1)\n",
    "print(\"Array 1:\")\n",
    "print(arr1)\n",
    "print(\"\\nArray 2:\")\n",
    "print(arr2)\n",
    "print(\"\\nConcatenated array horizontally:\")\n",
    "print(arr)\n"
   ]
  },
  {
   "cell_type": "markdown",
   "id": "8a6cd41f-8c05-4bf0-9c05-5088cf2c7569",
   "metadata": {},
   "source": [
    "20. Write a function that vertically stacks multiple NumPy arrays given as a list.\n"
   ]
  },
  {
   "cell_type": "code",
   "execution_count": 7,
   "id": "e3021b2a-8028-4f71-b0ed-b782c634c595",
   "metadata": {},
   "outputs": [
    {
     "name": "stdout",
     "output_type": "stream",
     "text": [
      "[[  1   2   3   4]\n",
      " [ 10  20  30  40]\n",
      " [100 200 300 400]]\n"
     ]
    }
   ],
   "source": [
    "import numpy as np \n",
    "\n",
    "arr1 = np.array([1,2,3,4])\n",
    "arr2 = np.array([10,20,30,40])\n",
    "arr3 = np.array([100,200,300,400])\n",
    "\n",
    "def array_stack_vertical(l):\n",
    "    return np.vstack(l)\n",
    "            \n",
    "    \n",
    "l = [arr1, arr2, arr3]\n",
    "print(array_stack_vertical(l))\n",
    "#array_stack_vertical(l)"
   ]
  },
  {
   "cell_type": "markdown",
   "id": "f1b1ec42-e361-4d1d-9556-2803be54e8e6",
   "metadata": {},
   "source": [
    "21. Write a Python function using NumPy to create an array of integers within a specified range (inclusive) with a given step size.\n"
   ]
  },
  {
   "cell_type": "code",
   "execution_count": 10,
   "id": "8c3020f7-04c8-411d-b234-b6d6417b1f73",
   "metadata": {},
   "outputs": [
    {
     "data": {
      "text/plain": [
       "array([2, 3, 4, 5, 6])"
      ]
     },
     "execution_count": 10,
     "metadata": {},
     "output_type": "execute_result"
    }
   ],
   "source": [
    "import numpy as np\n",
    "\n",
    "def array_integer(start,  stop, step):\n",
    "    \n",
    "    arr = np.arange(start, (stop+1), step)\n",
    "    return arr\n",
    "\n",
    "start = 2\n",
    "stop = 6\n",
    "step = 1\n",
    "\n",
    "array_integer(start, stop, step)"
   ]
  },
  {
   "cell_type": "markdown",
   "id": "c67d66d5-e443-4603-887c-9034da041ccf",
   "metadata": {},
   "source": [
    "22. Write a Python function using NumPy to generate an array of 10 equally spaced values between 0 and 1 (inclusive).\n"
   ]
  },
  {
   "cell_type": "code",
   "execution_count": 11,
   "id": "98ccfe45-0fbf-400e-8ac3-f1c1658aff0f",
   "metadata": {},
   "outputs": [
    {
     "data": {
      "text/plain": [
       "array([0.        , 0.11111111, 0.22222222, 0.33333333, 0.44444444,\n",
       "       0.55555556, 0.66666667, 0.77777778, 0.88888889, 1.        ])"
      ]
     },
     "execution_count": 11,
     "metadata": {},
     "output_type": "execute_result"
    }
   ],
   "source": [
    "import numpy as np\n",
    "\n",
    "def equally_spaced_array():\n",
    "    arr = np.linspace(0,1,10)\n",
    "    return arr\n",
    "\n",
    "equally_spaced_array()"
   ]
  },
  {
   "cell_type": "markdown",
   "id": "8ca7432f-9db4-4fe3-b1c1-e45106f9fe60",
   "metadata": {},
   "source": [
    "23. Write a Python function using NumPy to create an array of 5 logarithmically spaced values between 1 and 1000 (inclusive).\n"
   ]
  },
  {
   "cell_type": "code",
   "execution_count": 14,
   "id": "7faaed6d-6eab-4353-a319-8ccebbdf7967",
   "metadata": {},
   "outputs": [
    {
     "data": {
      "text/plain": [
       "array([   1.        ,    5.62341325,   31.6227766 ,  177.827941  ,\n",
       "       1000.        ])"
      ]
     },
     "execution_count": 14,
     "metadata": {},
     "output_type": "execute_result"
    }
   ],
   "source": [
    "import numpy as np\n",
    "\n",
    "def log_spaced_array():\n",
    "    \n",
    "    arr = np.logspace(0,3,5) \n",
    "    # np.logspace(0, 3, 5) to generate 5 logarithmically spaced values between (10010^0(which is 1) and 10310^3(which is 1000)\n",
    "    return arr\n",
    "\n",
    "log_spaced_array()"
   ]
  },
  {
   "cell_type": "markdown",
   "id": "50a7272c-4cf3-4617-9ab2-77dcbe69e83b",
   "metadata": {},
   "source": [
    "24. Create a Pandas DataFrame using a NumPy array that contains 5 rows and 3 columns, where the values are random integers between 1 and 100.\n"
   ]
  },
  {
   "cell_type": "code",
   "execution_count": 1,
   "id": "a9c748fa-ecce-49b0-9a4b-54a4cea367c8",
   "metadata": {},
   "outputs": [
    {
     "name": "stdout",
     "output_type": "stream",
     "text": [
      "   Column1  Column2  Column3\n",
      "0        2       63       71\n",
      "1       82       10       53\n",
      "2       16        8       49\n",
      "3       90        2       66\n",
      "4       10       57       54\n"
     ]
    }
   ],
   "source": [
    "import numpy as np\n",
    "import pandas as pd\n",
    "\n",
    "arr = np.random.randint(1,101,15)\n",
    "arr = arr.reshape(5,3)\n",
    "df = pd.DataFrame(arr, columns=['Column1', 'Column2', 'Column3'])\n",
    "print(df)"
   ]
  },
  {
   "cell_type": "markdown",
   "id": "5a76deca-2195-441e-ad76-58b41f8deddf",
   "metadata": {},
   "source": [
    "25. Write a function that takes a Pandas DataFrame and replaces all negative values in a specific column with zeros. Use NumPy operations within the Pandas DataFrame."
   ]
  },
  {
   "cell_type": "code",
   "execution_count": 3,
   "id": "b1a73ee3-6416-476e-8bbb-b407f9d0bbb8",
   "metadata": {},
   "outputs": [
    {
     "name": "stdout",
     "output_type": "stream",
     "text": [
      "Original DataFrame:\n",
      "   A  B\n",
      "0  1 -1\n",
      "1 -2  2\n",
      "2  3 -3\n",
      "3 -4  4\n",
      "4  5 -5\n",
      "\n",
      "DataFrame after replacing negatives in column 'A' with zeros:\n",
      "   A  B\n",
      "0  1 -1\n",
      "1  0  2\n",
      "2  3 -3\n",
      "3  0  4\n",
      "4  5 -5\n"
     ]
    }
   ],
   "source": [
    "import pandas as pd\n",
    "import numpy as np\n",
    "\n",
    "def replace_negatives_with_zeros(df, column_name):\n",
    "   \n",
    "    df[column_name] = np.where(df[column_name] < 0, 0, df[column_name])\n",
    "    return df\n",
    "\n",
    "data = {\n",
    "    'A': [1, -2, 3, -4, 5],\n",
    "    'B': [-1, 2, -3, 4, -5]}\n",
    "\n",
    "df = pd.DataFrame(data)\n",
    "\n",
    "print(\"Original DataFrame:\")\n",
    "print(df)\n",
    "\n",
    "df = replace_negatives_with_zeros(df, 'A')\n",
    "\n",
    "print(\"\\nDataFrame after replacing negatives in column 'A' with zeros:\")\n",
    "print(df)\n",
    "\n"
   ]
  },
  {
   "cell_type": "markdown",
   "id": "fb1949e9-9117-4de7-9dc4-b26e80f3f405",
   "metadata": {},
   "source": [
    "26. Access the 3rd element from the given NumPy array.\n",
    "\n",
    "arr = np.array([10, 20, 30, 40, 50])\n"
   ]
  },
  {
   "cell_type": "code",
   "execution_count": 11,
   "id": "352f08e0-5e90-47c8-b79c-4f87b996f416",
   "metadata": {},
   "outputs": [
    {
     "name": "stdout",
     "output_type": "stream",
     "text": [
      "the 3rd element from the given NumPy array [10 20 30 40 50] is = 30\n"
     ]
    }
   ],
   "source": [
    "import pandas as pd\n",
    "import numpy as np\n",
    "\n",
    "arr = np.array([10, 20, 30, 40, 50])\n",
    "\n",
    "print(f\"the 3rd element from the given NumPy array {arr} is = {arr[2]}\")"
   ]
  },
  {
   "cell_type": "markdown",
   "id": "40f19ddc-cb6c-4eb8-bab1-cece792acebc",
   "metadata": {},
   "source": [
    "27. Retrieve the element at index (1, 2) from the 2D NumPy array.\n",
    "arr_2d = np.array([[1, 2, 3], ",
    "\n",
    "                   [4, 5, 6], ",
    "\n",
    "                   [7, 8, 9]])"
   ]
  },
  {
   "cell_type": "code",
   "execution_count": 14,
   "id": "707c1e36-7c8f-472e-8aef-3a01511d21a6",
   "metadata": {},
   "outputs": [
    {
     "name": "stdout",
     "output_type": "stream",
     "text": [
      "The element at index (1, 2) is: 6\n"
     ]
    }
   ],
   "source": [
    "import pandas as pd\n",
    "import numpy as np\n",
    "\n",
    "arr_2d = np.array([[1, 2, 3],\n",
    "                   [4, 5, 6],\n",
    "                   [7, 8, 9]])\n",
    "\n",
    "print(\"The element at index (1, 2) is:\",arr_2d[1][2])"
   ]
  },
  {
   "cell_type": "markdown",
   "id": "34715745-342d-4f1c-aaf0-a1a5950191ea",
   "metadata": {},
   "source": [
    "28. Using boolean indexing, extract elements greater than 5 from the given NumPy array.\n",
    "arr = np.array([3, 8, 2, 10, 5, 7])\n"
   ]
  },
  {
   "cell_type": "code",
   "execution_count": 20,
   "id": "60e874dd-5ed5-4d58-b208-403ca2adcb8a",
   "metadata": {},
   "outputs": [
    {
     "name": "stdout",
     "output_type": "stream",
     "text": [
      "Elements greater than 5: [ 8 10  7]\n"
     ]
    }
   ],
   "source": [
    "import pandas as pd\n",
    "import numpy as np\n",
    "\n",
    "arr = np.array([3, 8, 2, 10, 5, 7])\n",
    "\n",
    "# Create a boolean mask for elements greater than 5\n",
    "mask = arr > 5\n",
    "\n",
    "element = arr[mask]\n",
    "\n",
    "print(\"Elements greater than 5:\", element)\n",
    "\n",
    "# arr[arr>5]"
   ]
  },
  {
   "cell_type": "markdown",
   "id": "a01dbfc9-a0e1-4207-9c5b-d8703cbb9b3b",
   "metadata": {},
   "source": [
    "29. Perform basic slicing to extract elements from index 2 to 5 (inclusive) from the given NumPy array\n",
    "arr = np.array([1, 2, 3, 4, 5, 6, 7, 8, 9])"
   ]
  },
  {
   "cell_type": "code",
   "execution_count": 22,
   "id": "02690034-aa72-43fe-a678-a0d2c0c56a8b",
   "metadata": {},
   "outputs": [
    {
     "name": "stdout",
     "output_type": "stream",
     "text": [
      "elements from index 2 to 5 :  [3 4 5 6]\n"
     ]
    }
   ],
   "source": [
    "import pandas as pd\n",
    "import numpy as np\n",
    "\n",
    "arr = np.array([1, 2, 3, 4, 5, 6, 7, 8, 9])\n",
    "\n",
    "print(\"elements from index 2 to 5 : \",arr[2:6])"
   ]
  },
  {
   "cell_type": "markdown",
   "id": "0afefd22-b68a-40ad-8f2e-92291d914cdf",
   "metadata": {},
   "source": [
    "30. Slice the 2D NumPy array to extract the sub-array `[[2, 3], [5, 6]]` from the given array\n",
    "arr_2d = np.array([[1, 2, 3], ",
    "\n",
    "                   [4, 5, 6], ",
    "\n",
    "                   [7, 8, 9]])"
   ]
  },
  {
   "cell_type": "code",
   "execution_count": 1,
   "id": "2fab8e52-90a8-44a6-bb79-58a435da7925",
   "metadata": {},
   "outputs": [
    {
     "data": {
      "text/plain": [
       "array([[2, 3],\n",
       "       [5, 6]])"
      ]
     },
     "execution_count": 1,
     "metadata": {},
     "output_type": "execute_result"
    }
   ],
   "source": [
    "import pandas as pd\n",
    "import numpy as np\n",
    "\n",
    "arr_2d = np.array([[1, 2, 3],\n",
    "                   [4, 5, 6],\n",
    "                   [7, 8, 9]])\n",
    "\n",
    "arr_2d[0:2, 1:3]"
   ]
  },
  {
   "cell_type": "markdown",
   "id": "7dcc60ee-20ec-4c96-9452-5c9e79eb538f",
   "metadata": {},
   "source": [
    "31.Write a NumPy function to extract elements in specific order from a given 2D array based on indices provided in another array.\n",
    "\n"
   ]
  },
  {
   "cell_type": "code",
   "execution_count": 8,
   "id": "75020ed5-5e93-4cb7-b065-7b47e723fe11",
   "metadata": {},
   "outputs": [
    {
     "data": {
      "text/plain": [
       "array([2, 6, 7])"
      ]
     },
     "execution_count": 8,
     "metadata": {},
     "output_type": "execute_result"
    }
   ],
   "source": [
    "import pandas as pd\n",
    "import numpy as np\n",
    "\n",
    "def extract_elements(arr_2d , indices):\n",
    "    \n",
    "    # indices[:, 0] extracts the first column from all rows.\n",
    "    # indices[:, 1] extracts the second column from all rows.\n",
    "    \n",
    "    rows , cols = indices[: , 0] , indices[: , 1]\n",
    "    elements = arr_2d[rows, cols]\n",
    "    \n",
    "    return elements\n",
    "    \n",
    "\n",
    "arr_2d = np.array([[1, 2, 3],\n",
    "                   [4, 5, 6],\n",
    "                   [7, 8, 9]])\n",
    "\n",
    "indices = np.array([[0, 1],  \n",
    "                    [1, 2],  \n",
    "                    [2, 0]]) \n",
    "\n",
    "extract_elements(arr_2d , indices)"
   ]
  },
  {
   "cell_type": "markdown",
   "id": "dc33a837-3206-4a4f-acb1-a901b77af012",
   "metadata": {},
   "source": [
    "32. Create a NumPy function that filters elements greater than a threshold from a given 1D array using boolean indexing.\n"
   ]
  },
  {
   "cell_type": "code",
   "execution_count": 11,
   "id": "2f73770b-576f-4cf4-9704-e88b2f213bf8",
   "metadata": {},
   "outputs": [
    {
     "name": "stdout",
     "output_type": "stream",
     "text": [
      "[False False False False  True  True  True  True  True  True False  True\n",
      "  True  True  True]\n"
     ]
    },
    {
     "data": {
      "text/plain": [
       "array([ 89,  56,  78, 456, 456,  24, 676, 868, 959, 506])"
      ]
     },
     "execution_count": 11,
     "metadata": {},
     "output_type": "execute_result"
    }
   ],
   "source": [
    "import pandas as pd\n",
    "import numpy as np\n",
    "\n",
    "def filter_elements(arr, threshold):\n",
    "    print(arr>threshold)\n",
    "    ar = arr[arr>threshold]\n",
    "    return ar\n",
    "    \n",
    "arr = np.array([1,2,4,5,89,56,78,456,456,24,9,676,868,959,506])\n",
    "threshold = 10\n",
    "\n",
    "filter_elements(arr, threshold)\n"
   ]
  },
  {
   "cell_type": "markdown",
   "id": "5c18fabf-7c4a-4cb7-946d-2f051f3d9342",
   "metadata": {},
   "source": [
    "33. Develop a NumPy function that extracts specific elements from a 3D array using indices provided in three separate arrays for each dimension.\n"
   ]
  },
  {
   "cell_type": "code",
   "execution_count": 18,
   "id": "be5aa981-dbf0-443b-bb14-cb43432df22b",
   "metadata": {},
   "outputs": [
    {
     "name": "stdout",
     "output_type": "stream",
     "text": [
      "3D-Array : \n",
      " [[[5 7 1]\n",
      "  [5 4 1]\n",
      "  [9 1 9]]\n",
      "\n",
      " [[1 5 7]\n",
      "  [6 3 2]\n",
      "  [7 3 6]]\n",
      "\n",
      " [[7 3 1]\n",
      "  [9 8 8]\n",
      "  [7 7 5]]]\n",
      "\n",
      "extracted elements: \n",
      " [1 7 3]\n"
     ]
    }
   ],
   "source": [
    "import pandas as pd\n",
    "import numpy as np\n",
    "\n",
    "def extract_ele_dim(arr_3d, indices_0, indices_1, indices_2):\n",
    "    \n",
    "    # Ensure the indices arrays are NumPy arrays\n",
    "    indices_0 = np.array(indices_0)\n",
    "    indices_1 = np.array(indices_1)\n",
    "    indices_2 = np.array(indices_2)\n",
    "    \n",
    "    # Use advanced indexing to extract the elements\n",
    "    extracted_elements = arr_3d[indices_0, indices_1, indices_2]\n",
    "    \n",
    "    return extracted_elements \n",
    "    \n",
    "arr_3d = np.random.randint(1,10 , (3,3,3))\n",
    "\n",
    "indices_0 = [0, 1, 2]\n",
    "indices_1 = [1, 2, 0]\n",
    "indices_2 = [2, 0, 1]\n",
    "\n",
    "print(\"3D-Array : \\n\",arr_3d)\n",
    "print(\"\\nextracted elements: \\n\",extract_ele_dim(arr_3d, indices_0, indices_1, indices_2))"
   ]
  },
  {
   "cell_type": "markdown",
   "id": "59beae60-6c44-4160-9c92-6d305de17491",
   "metadata": {},
   "source": [
    "34. Write a NumPy function that returns elements from an array where both two conditions are satisfied using boolean indexing.\n"
   ]
  },
  {
   "cell_type": "code",
   "execution_count": 19,
   "id": "f5071cb0-e7ad-4a24-832b-846bfb02bd3f",
   "metadata": {},
   "outputs": [
    {
     "data": {
      "text/plain": [
       "array([ 90, 100, 235, 467, 456, 156])"
      ]
     },
     "execution_count": 19,
     "metadata": {},
     "output_type": "execute_result"
    }
   ],
   "source": [
    "import pandas as pd\n",
    "import numpy as np\n",
    "\n",
    "def filter_ele_two_condition(arr, condition1, condition2):\n",
    "    \n",
    "    elements = arr[condition1(arr) & condition2(arr)]\n",
    "    return elements\n",
    "\n",
    "arr = np.array([1,10,2,20,3,30,4,40,5,50,90,100,597,235, 467,4456, 456, 156])\n",
    "\n",
    "condition1 = lambda x: x>50\n",
    "condition2 = lambda x: x<500\n",
    "filter_ele_two_condition(arr, condition1, condition2)"
   ]
  },
  {
   "cell_type": "markdown",
   "id": "9f53c08f-c0dc-4fdf-b52f-52468b8f1383",
   "metadata": {},
   "source": [
    "35. Create a NumPy function that extracts elements from a 2D array using row and column indices provided in separate arrays.\n"
   ]
  },
  {
   "cell_type": "code",
   "execution_count": 24,
   "id": "693bd641-7f58-45aa-a72f-0f47e6afb0f7",
   "metadata": {},
   "outputs": [
    {
     "name": "stdout",
     "output_type": "stream",
     "text": [
      "2D Array:\n",
      " [[2 1 3]\n",
      " [9 3 2]\n",
      " [5 1 2]]\n",
      "\n",
      "Extracted Elements :\n",
      " [3 3 5]\n"
     ]
    }
   ],
   "source": [
    "import pandas as pd\n",
    "import numpy as np\n",
    "\n",
    "def extract_ele_sep_arr(arr,indices_r , indices_c):\n",
    "    elements = arr[indices_r, indices_c]\n",
    "    return elements\n",
    "    \n",
    "arr_2d = np.random.randint(1,10 , (3,3))    \n",
    "indices_r = np.array([0,1,2])\n",
    "indices_c = np.array([2,1,0])\n",
    "print(\"2D Array:\\n\",arr_2d)\n",
    "print(\"\\nExtracted Elements :\\n\",extract_ele_sep_arr(arr_2d, indices_r, indices_c))"
   ]
  },
  {
   "cell_type": "markdown",
   "id": "b7ae3cdd-fe03-4c50-8897-2fb32f1fa25a",
   "metadata": {},
   "source": [
    "36. Given an array arr of shape (3, 3), add a scalar value of 5 to each element using NumPy broadcasting.\n"
   ]
  },
  {
   "cell_type": "code",
   "execution_count": 25,
   "id": "ec9320ab-4636-4152-914f-48410cf746cf",
   "metadata": {},
   "outputs": [
    {
     "name": "stdout",
     "output_type": "stream",
     "text": [
      "Original Array:\n",
      " [[9 4 2]\n",
      " [8 7 7]\n",
      " [5 6 7]]\n",
      "\n",
      " New Array:\n",
      " [[14  9  7]\n",
      " [13 12 12]\n",
      " [10 11 12]]\n"
     ]
    }
   ],
   "source": [
    "import pandas as pd\n",
    "import numpy as np\n",
    "\n",
    "arr = np.random.randint(1,10, (3,3)) \n",
    "print(\"Original Array:\\n\",arr)\n",
    "\n",
    "print(\"\\n New Array:\\n\",arr+5)"
   ]
  },
  {
   "cell_type": "markdown",
   "id": "834821e0-8fd8-4068-a043-f5142cfdda16",
   "metadata": {},
   "source": [
    "37. Consider two arrays arr1 of shape (1, 3) and arr2 of shape (3, 4). Multiply each row of arr2 by the corresponding element in arr1 using NumPy broadcasting.\n"
   ]
  },
  {
   "cell_type": "code",
   "execution_count": 38,
   "id": "b2f3ee9c-41cb-4c94-ae92-bc3b88d732d5",
   "metadata": {},
   "outputs": [
    {
     "name": "stdout",
     "output_type": "stream",
     "text": [
      "arr1 =>\n",
      "[[3]\n",
      " [9]\n",
      " [3]] \n",
      " arr2=>\n",
      "[[3 4 1 7]\n",
      " [3 3 8 7]\n",
      " [2 1 1 2]]\n",
      "\n",
      " New Array:\n",
      " [[ 9 12  3 21]\n",
      " [27 27 72 63]\n",
      " [ 6  3  3  6]]\n"
     ]
    }
   ],
   "source": [
    "import pandas as pd\n",
    "import numpy as np\n",
    "\n",
    "arr1 = np.random.randint(1,10, (1,3)) \n",
    "#print(\"Original Array-1:\\n\",arr1)\n",
    "\n",
    "reshape_arr = arr1.T\n",
    "arr2 = np.random.randint(1,10, (3,4))\n",
    "print(f\"arr1 =>\\n{reshape_arr} \\n arr2=>\\n{arr2}\")\n",
    "#print(\"Original Array-2:\\n\",arr2)\n",
    "\n",
    "print(\"\\n New Array:\\n\",arr2 * reshape_arr)"
   ]
  },
  {
   "cell_type": "markdown",
   "id": "6f6fd4e7-9fd8-46f5-97ea-fe23967029a7",
   "metadata": {},
   "source": [
    "38. Given a 1D array arr1 of shape (1, 4) and a 2D array arr2 of shape (4, 3), add arr1 to each row of arr2 using NumPy broadcasting.\n"
   ]
  },
  {
   "cell_type": "code",
   "execution_count": 42,
   "id": "83e90e9d-42ba-479d-862e-df2ba08ad288",
   "metadata": {},
   "outputs": [
    {
     "name": "stdout",
     "output_type": "stream",
     "text": [
      "arr1 =>\n",
      "[[5]\n",
      " [8]\n",
      " [6]\n",
      " [4]] \n",
      " arr2=>\n",
      "[[1 7 8]\n",
      " [9 2 7]\n",
      " [4 8 1]\n",
      " [6 6 1]]\n",
      "\n",
      " New Array:\n",
      " [[ 6 12 13]\n",
      " [17 10 15]\n",
      " [10 14  7]\n",
      " [10 10  5]]\n"
     ]
    }
   ],
   "source": [
    "import pandas as pd\n",
    "import numpy as np\n",
    "\n",
    "arr1 = np.random.randint(1,10, (1,4)) \n",
    "\n",
    "reshape_arr = arr1.T\n",
    "arr2 = np.random.randint(1,10, (4,3))\n",
    "print(f\"arr1 =>\\n{reshape_arr} \\n arr2=>\\n{arr2}\")\n",
    "\n",
    "print(\"\\n New Array:\\n\",arr2 + reshape_arr)"
   ]
  },
  {
   "cell_type": "markdown",
   "id": "69756789-833f-48ac-88d4-4e3fab67dec6",
   "metadata": {},
   "source": [
    "39. Consider two arrays arr1 of shape (3, 1) and arr2 of shape (1, 3). Add these arrays using NumPy broadcasting.\n"
   ]
  },
  {
   "cell_type": "code",
   "execution_count": 43,
   "id": "20b28333-0399-4fe5-8285-f0763d7db2cb",
   "metadata": {},
   "outputs": [
    {
     "name": "stdout",
     "output_type": "stream",
     "text": [
      "arr1 =>\n",
      "[[5]\n",
      " [9]\n",
      " [3]\n",
      " [2]] \n",
      " arr2=>\n",
      "[[2 4 7]\n",
      " [3 4 3]\n",
      " [9 8 6]\n",
      " [7 4 1]]\n",
      "\n",
      " New Array:\n",
      " [[ 7  9 12]\n",
      " [12 13 12]\n",
      " [12 11  9]\n",
      " [ 9  6  3]]\n"
     ]
    }
   ],
   "source": [
    "import pandas as pd\n",
    "import numpy as np\n",
    "\n",
    "arr1 = np.random.randint(1,10, (1,4)) \n",
    "\n",
    "reshape_arr = arr1.reshape(4,1)\n",
    "arr2 = np.random.randint(1,10, (4,3))\n",
    "print(f\"arr1 =>\\n{reshape_arr} \\n arr2=>\\n{arr2}\")\n",
    "\n",
    "print(\"\\n New Array:\\n\",arr2 + reshape_arr)"
   ]
  },
  {
   "cell_type": "markdown",
   "id": "0bbdcf1d-4485-4290-940e-90a691978847",
   "metadata": {},
   "source": [
    "40. Given arrays arr1 of shape (2, 3) and arr2 of shape (2, 2), perform multiplication using NumPy broadcasting. Handle the shape incompatibility."
   ]
  },
  {
   "cell_type": "code",
   "execution_count": 45,
   "id": "773d1a61-bacc-4058-a8c7-406669d853d5",
   "metadata": {},
   "outputs": [
    {
     "name": "stdout",
     "output_type": "stream",
     "text": [
      "arr1 =>\n",
      "[[7 5]\n",
      " [9 4]\n",
      " [3 7]] \n",
      " arr2=>\n",
      "[[4 3]\n",
      " [7 9]]\n",
      "\n",
      " New Array:\n",
      " [[63 66]\n",
      " [64 63]\n",
      " [61 72]]\n"
     ]
    }
   ],
   "source": [
    "\"\"\"import pandas as pd\n",
    "import numpy as np\n",
    "\n",
    "arr1 = np.random.randint(1,10, (2,3)) \n",
    "\n",
    "reshape_arr = arr1.reshape(3,2)\n",
    "arr2 = np.random.randint(1,10, (2,2))\n",
    "print(f\"arr1 =>\\n{reshape_arr} \\n arr2=>\\n{arr2}\")\n",
    "\n",
    "print(\"\\n New Array:\\n\", reshape_arr@arr2 )\n",
    "\"\"\""
   ]
  },
  {
   "cell_type": "code",
   "execution_count": 47,
   "id": "4f05fcd8-444e-4f26-b2c6-cc7b3e4d9dea",
   "metadata": {},
   "outputs": [
    {
     "name": "stdout",
     "output_type": "stream",
     "text": [
      "arr1 =>\n",
      "[[1 2 3]\n",
      " [4 5 6]] \n",
      " arr2=>\n",
      "[[[2]\n",
      "  [3]]\n",
      "\n",
      " [[4]\n",
      "  [5]]]\n",
      "Result:\n",
      " [[[ 2  4  6]\n",
      "  [12 15 18]]\n",
      "\n",
      " [[ 4  8 12]\n",
      "  [20 25 30]]]\n"
     ]
    }
   ],
   "source": [
    "import numpy as np\n",
    "\n",
    "# Define the arrays\n",
    "arr1 = np.array([[1, 2, 3], [4, 5, 6]])  # Shape (2, 3)\n",
    "arr2 = np.array([[2, 3], [4, 5]])        # Shape (2, 2)\n",
    "\n",
    "# Reshape arr2 to align its dimensions with arr1 for broadcasting\n",
    "arr2_reshaped = np.expand_dims(arr2, axis=2)  # Shape (2, 2, 1)\n",
    "\n",
    "# Perform multiplication using broadcasting\n",
    "result = arr1 * arr2_reshaped\n",
    "\n",
    "print(f\"arr1 =>\\n{arr1} \\n arr2=>\\n{arr2_reshaped}\")\n",
    "print(\"Result:\\n\", result)\n"
   ]
  },
  {
   "cell_type": "markdown",
   "id": "9defc176-644e-4e9e-8c54-0852ff34b6a0",
   "metadata": {},
   "source": [
    "41. Calculate column wise mean for the given array:\n",
    "\n",
    "arr = np.array([[1, 2, 3], [4, 5, 6]])"
   ]
  },
  {
   "cell_type": "code",
   "execution_count": 12,
   "id": "a9c5e7ad-11ba-4ba0-9939-12f25d976eaf",
   "metadata": {},
   "outputs": [
    {
     "name": "stdout",
     "output_type": "stream",
     "text": [
      "Array:\n",
      " [[1 2 3]\n",
      " [4 5 6]]\n",
      "\n",
      "Column-wise mean:\n",
      " [2.5 3.5 4.5]\n"
     ]
    }
   ],
   "source": [
    "import pandas as pd\n",
    "import numpy as np\n",
    "\n",
    "\"\"\"\n",
    "print(\"Array :\\n\", arr)\n",
    "col1 = arr[:,0]\n",
    "col2 = arr[:,1]\n",
    "col3 = arr[:,2]\n",
    "\n",
    "print(\"\\n\",col1.mean())\n",
    "print(\"\\n\",col2.mean())\n",
    "print(\"\\n\",col3.mean())\n",
    "\"\"\"\n",
    "arr = np.array([[1, 2, 3], [4, 5, 6]])\n",
    "\n",
    "col_mean = np.mean(arr, axis=0)\n",
    "\n",
    "print(\"Array:\\n\", arr)\n",
    "print(\"\\nColumn-wise mean:\\n\", col_mean)\n"
   ]
  },
  {
   "cell_type": "markdown",
   "id": "51101a26-6557-4afe-971f-fa24dcefd706",
   "metadata": {},
   "source": [
    "42. Find maximum value in each row of the given array:\n",
    "arr = np.array([[1, 2, 3], [4, 5, 6]])"
   ]
  },
  {
   "cell_type": "code",
   "execution_count": 13,
   "id": "5f40bdd5-9711-4858-be7e-7cafa3e1e929",
   "metadata": {},
   "outputs": [
    {
     "name": "stdout",
     "output_type": "stream",
     "text": [
      "[3 6]\n"
     ]
    }
   ],
   "source": [
    "import pandas as pd\n",
    "import numpy as np\n",
    "\n",
    "arr = np.array([[1, 2, 3], [4, 5, 6]])\n",
    "\n",
    "max_value = np.max(arr, axis=1 )\n",
    "print(max_value)"
   ]
  },
  {
   "cell_type": "markdown",
   "id": "01a97011-0499-4cd6-a5ac-5c4bd15004af",
   "metadata": {},
   "source": [
    "43. For the given array, find indices of maximum value in each column.\n",
    "\n",
    "arr = np.array([[1, 2, 3], [4, 5, 6]])"
   ]
  },
  {
   "cell_type": "code",
   "execution_count": 15,
   "id": "4b7c47e3-ded7-49b3-b911-e196df33bfaf",
   "metadata": {},
   "outputs": [
    {
     "name": "stdout",
     "output_type": "stream",
     "text": [
      "Array:\n",
      " [[1 2 3]\n",
      " [4 5 6]]\n",
      "\n",
      "Indices of maximum values in each column:\n",
      " [1 1 1]\n"
     ]
    }
   ],
   "source": [
    "import pandas as pd\n",
    "import numpy as np\n",
    "\n",
    "arr = np.array([[1, 2, 3], [4, 5, 6]])\n",
    "max_indices = np.argmax(arr, axis=0)\n",
    "\n",
    "print(\"Array:\\n\", arr)\n",
    "print(\"\\nIndices of maximum values in each column:\\n\", max_indices)"
   ]
  },
  {
   "cell_type": "markdown",
   "id": "70b7a795-02ca-4867-bd42-f8368f9c41d5",
   "metadata": {},
   "source": [
    "44. For the given array, apply custom function to calculate moving sum along rows.\n",
    "arr = np.array([[1, 2, 3], [4, 5, 6]])\n"
   ]
  },
  {
   "cell_type": "code",
   "execution_count": 18,
   "id": "79509577-c4fc-4b06-bb12-8b8bbcba85da",
   "metadata": {},
   "outputs": [
    {
     "name": "stdout",
     "output_type": "stream",
     "text": [
      "Array:\n",
      " [[1 2 3]\n",
      " [4 5 6]]\n",
      "\n",
      "Moving sum along rows with window size 2:\n",
      "[[ 3.  5.]\n",
      " [ 9. 11.]]\n"
     ]
    }
   ],
   "source": [
    "import pandas as pd\n",
    "import numpy as np\n",
    "\n",
    "arr = np.array([[1, 2, 3], [4, 5, 6]])\n",
    "print(\"Array:\\n\", arr)\n",
    "\n",
    "def moving_sum(arr, window_size):\n",
    "    # Get the shape of the array\n",
    "    rows, cols = arr.shape\n",
    "    \n",
    "    # Initialize an output array with the same shape as the input\n",
    "    result = np.zeros((rows, cols - window_size + 1))\n",
    "    \n",
    "    # Compute the moving sum for each row\n",
    "    for i in range(rows):\n",
    "        for j in range(cols - window_size + 1):\n",
    "            result[i, j] = np.sum(arr[i, j:j + window_size])\n",
    "    \n",
    "    return result\n",
    "\n",
    "# Define the window size\n",
    "window_size = 2\n",
    "\n",
    "# Apply the custom moving sum function\n",
    "moving_sum_result = moving_sum(arr, window_size)\n",
    "\n",
    "print(\"\\nMoving sum along rows with window size {}:\\n{}\".format(window_size, moving_sum_result))"
   ]
  },
  {
   "cell_type": "markdown",
   "id": "a64a2f51-4c82-416b-8ff6-349a7ddcd17e",
   "metadata": {},
   "source": [
    "45. In the given array, check if all elements in each column are even.\n",
    "arr = np.array([[2, 4, 6], [3, 5, 7]])"
   ]
  },
  {
   "cell_type": "code",
   "execution_count": 2,
   "id": "2c0b225a-e703-4a81-a3ec-347a6baa1aa6",
   "metadata": {},
   "outputs": [
    {
     "name": "stdout",
     "output_type": "stream",
     "text": [
      "Array:\n",
      " [[2 4 6]\n",
      " [3 5 7]]\n",
      "\n",
      "Even mask:\n",
      " [[ True  True  True]\n",
      " [False False False]]\n",
      "\n",
      "All elements in each column are even:\n",
      " [False False False]\n"
     ]
    }
   ],
   "source": [
    "import pandas as pd\n",
    "import numpy as np\n",
    "\n",
    "arr = np.array([[2, 4, 6], [3, 5, 7]])\n",
    "\n",
    "even_mask = (arr % 2 == 0)\n",
    "\n",
    "# Check if all elements in each column are even\n",
    "all_even_in_columns = np.all(even_mask, axis=0)\n",
    "# np.all()>>>> Test whether all array elements along a given axis evaluate to True.\n",
    "\n",
    "print(\"Array:\\n\", arr)\n",
    "print(\"\\nEven mask:\\n\", even_mask)\n",
    "print(\"\\nAll elements in each column are even:\\n\", all_even_in_columns)\n",
    "    "
   ]
  },
  {
   "cell_type": "markdown",
   "id": "07be1828-b6bc-4d5a-8b7f-e7a800ab89df",
   "metadata": {},
   "source": [
    "46. Given a NumPy array arr, reshape it into a matrix of dimensions `m` rows and `n` columns. Return the reshaped matrix.\n",
    "original_array = np.array([1, 2, 3, 4, 5, 6])"
   ]
  },
  {
   "cell_type": "code",
   "execution_count": 30,
   "id": "262c5ffa-f258-418b-915e-d2b3950551f4",
   "metadata": {},
   "outputs": [
    {
     "name": "stdout",
     "output_type": "stream",
     "text": [
      "Original array :\n",
      " [1 2 3 4 5 6]\n",
      "reshaped array :\n",
      " [[1 2 3]\n",
      " [4 5 6]]\n"
     ]
    }
   ],
   "source": [
    "import pandas as pd\n",
    "import numpy as np\n",
    "\n",
    "def reshaped_matrix(arr, m , n):\n",
    "    if arr.size != m * n :\n",
    "        raise ValueError(\"The total number of elements does not match the specified shape.\")\n",
    "    reshaped_arr = np.reshape(arr , (m , n))\n",
    "    return reshaped_arr\n",
    "\n",
    "        \n",
    "original_array = np.array([1, 2, 3, 4, 5, 6])\n",
    "print(\"Original array :\\n\",original_array)\n",
    "m , n = 2 , 3\n",
    "\n",
    "print(\"reshaped array :\\n\",reshaped_matrix(original_array , m , n))"
   ]
  },
  {
   "cell_type": "markdown",
   "id": "c31e130b-d0fd-4dd0-a298-68c571a71d98",
   "metadata": {},
   "source": [
    "47. Create a function that takes a matrix as input and returns the flattened array\n",
    "input_matrix = np.array([[1, 2, 3], [4, 5, 6]])"
   ]
  },
  {
   "cell_type": "code",
   "execution_count": 33,
   "id": "c701e8f3-8cc6-478b-a3cf-14fd0b8f8a7e",
   "metadata": {},
   "outputs": [
    {
     "data": {
      "text/plain": [
       "array([1, 2, 3, 4, 5, 6])"
      ]
     },
     "execution_count": 33,
     "metadata": {},
     "output_type": "execute_result"
    }
   ],
   "source": [
    "import pandas as pd\n",
    "import numpy as np\n",
    "\n",
    "def flat_arr(arr):\n",
    "    size = arr.size\n",
    "    arr1 = np.reshape(arr, size)\n",
    "    return arr1\n",
    "\n",
    "input_matrix = np.array([[1, 2, 3], [4, 5, 6]])\n",
    "flat_arr(input_matrix)\n"
   ]
  },
  {
   "cell_type": "code",
   "execution_count": 36,
   "id": "0c0c673a-cb2d-4f5e-bb75-966cd85f9a8a",
   "metadata": {},
   "outputs": [
    {
     "name": "stdout",
     "output_type": "stream",
     "text": [
      "Input matrix:\n",
      " [[1 2 3]\n",
      " [4 5 6]]\n",
      "\n",
      "Flattened array:\n",
      " [1 2 3 4 5 6]\n"
     ]
    }
   ],
   "source": [
    "# Another approach\n",
    "\n",
    "import numpy as np\n",
    "\n",
    "def flat_arr(arr):\n",
    "    # Flatten the array using np.flatten()\n",
    "    return arr.flatten()\n",
    "\n",
    "input_matrix = np.array([[1, 2, 3], [4, 5, 6]])\n",
    "\n",
    "print(\"Input matrix:\\n\", input_matrix)\n",
    "print(\"\\nFlattened array:\\n\", flat_arr(input_matrix))\n"
   ]
  },
  {
   "cell_type": "markdown",
   "id": "3342fd92-529f-4159-9cca-ecbe7399adac",
   "metadata": {},
   "source": [
    "48. Write a function that concatenates two given arrays along a specified axis.\n",
    "array1 = np.array([[1, 2], [3, 4]]) ",
    "\n",
    "array2 = np.array([[5, 6], [7, 8]])\n"
   ]
  },
  {
   "cell_type": "code",
   "execution_count": 38,
   "id": "4609e74c-74a6-4fa4-900e-945c7efb568e",
   "metadata": {},
   "outputs": [
    {
     "name": "stdout",
     "output_type": "stream",
     "text": [
      "concat along rows:\n",
      " [[1 2]\n",
      " [3 4]\n",
      " [5 6]\n",
      " [7 8]]\n",
      "\n",
      "concat along column : \n",
      " [[1 2 5 6]\n",
      " [3 4 7 8]]\n"
     ]
    }
   ],
   "source": [
    "import pandas as pd\n",
    "import numpy as np\n",
    "\n",
    "array1 = np.array([[1, 2], [3, 4]])\n",
    "array2 = np.array([[5, 6], [7, 8]])\n",
    "\n",
    "res_r = np.concatenate((array1 , array2) , axis=0 )\n",
    "res_c = np.concatenate((array1 , array2) , axis=1 )\n",
    "print(\"concat along rows:\\n\",res_r)\n",
    "print(\"\\nconcat along column : \\n\",res_c)"
   ]
  },
  {
   "cell_type": "markdown",
   "id": "4fddc2cd-819c-4e5f-823b-8de16676bb23",
   "metadata": {},
   "source": [
    "49. Create a function that splits an array into multiple sub-arrays along a specified axis.\n",
    "original_array = np.array([[1, 2, 3], [4, 5, 6], [7, 8, 9]])"
   ]
  },
  {
   "cell_type": "code",
   "execution_count": 39,
   "id": "96ad8560-b7a6-40c8-b9be-ff194708d6de",
   "metadata": {},
   "outputs": [
    {
     "name": "stdout",
     "output_type": "stream",
     "text": [
      "Original array:\n",
      " [[1 2 3]\n",
      " [4 5 6]\n",
      " [7 8 9]]\n",
      "\n",
      "Sub-arrays after splitting along axis 0:\n",
      "\n",
      "Sub-array 1:\n",
      "[[1 2 3]]\n",
      "\n",
      "Sub-array 2:\n",
      "[[4 5 6]]\n",
      "\n",
      "Sub-array 3:\n",
      "[[7 8 9]]\n",
      "\n"
     ]
    }
   ],
   "source": [
    "import pandas as pd\n",
    "import numpy as np\n",
    "\n",
    "original_array = np.array([[1, 2, 3], [4, 5, 6], [7, 8, 9]])\n",
    "\n",
    "def split_array(arr, num_splits, axis=0):\n",
    "    \n",
    "    try:\n",
    "        sub_arrays = np.array_split(arr, num_splits, axis=axis)\n",
    "        return sub_arrays\n",
    "    except ValueError as e:\n",
    "        print(f\"Error: {e}\")\n",
    "        return None\n",
    "\n",
    "num_splits = 3  \n",
    "axis = 0 \n",
    "\n",
    "sub_arrays = split_array(original_array, num_splits, axis)\n",
    "\n",
    "print(\"Original array:\\n\", original_array)\n",
    "print(\"\\nSub-arrays after splitting along axis {}:\\n\".format(axis))\n",
    "for i, sub_array in enumerate(sub_arrays):\n",
    "    print(f\"Sub-array {i+1}:\\n{sub_array}\\n\")"
   ]
  },
  {
   "cell_type": "markdown",
   "id": "46dabb8e-5520-4dc0-9807-279be8070638",
   "metadata": {},
   "source": [
    "50. Write a function that inserts and then deletes elements from a given array at specified indices.\n",
    "\n",
    "original_array = np.array([1, 2, 3, 4, 5]) ",
    "\n",
    "indices_to_insert = [2, 4] ",
    "\n",
    "values_to_insert = [10, 11] ",
    "\n",
    "indices_to_delete = [1, 3]"
   ]
  },
  {
   "cell_type": "code",
   "execution_count": 40,
   "id": "0bf85e00-0911-4cde-aa0c-c6f6015144b1",
   "metadata": {},
   "outputs": [
    {
     "name": "stdout",
     "output_type": "stream",
     "text": [
      "Original array: [1 2 3 4 5]\n",
      "Resulting array: [ 1 10  3 11  5]\n"
     ]
    }
   ],
   "source": [
    "import pandas as pd\n",
    "import numpy as np\n",
    "\n",
    "def insert_and_delete_elements(arr, indices_to_insert, values_to_insert, indices_to_delete):\n",
    "    # Insert elements at specified indices\n",
    "    for index, value in zip(indices_to_insert, values_to_insert):\n",
    "        arr = np.insert(arr, index, value)\n",
    "    \n",
    "    # Update indices to delete after insertions\n",
    "    adjusted_indices_to_delete = np.array(indices_to_delete)\n",
    "    for insert_index in sorted(indices_to_insert):\n",
    "        adjusted_indices_to_delete[adjusted_indices_to_delete >= insert_index] += 1\n",
    "    \n",
    "    # Delete elements at specified indices\n",
    "    arr = np.delete(arr, adjusted_indices_to_delete)\n",
    "    \n",
    "    return arr\n",
    "\n",
    "original_array = np.array([1, 2, 3, 4, 5])\n",
    "indices_to_insert = [2, 4]\n",
    "values_to_insert = [10, 11]\n",
    "indices_to_delete = [1, 3]\n",
    "\n",
    "# Perform the insertions and deletions\n",
    "result_array = insert_and_delete_elements(original_array, indices_to_insert, values_to_insert, indices_to_delete)\n",
    "\n",
    "print(\"Original array:\", original_array)\n",
    "print(\"Resulting array:\", result_array)\n",
    "\n"
   ]
  },
  {
   "cell_type": "markdown",
   "id": "2bda021f-e502-4cbf-bbae-794d9ddb401f",
   "metadata": {},
   "source": [
    "51. Create a NumPy array `arr1` with random integers and another array `arr2` with integers from 1 to 10. Perform element-wise addition between `arr1` and `arr2`."
   ]
  },
  {
   "cell_type": "code",
   "execution_count": 13,
   "id": "22737138-13a0-498c-9c31-3961883fdffd",
   "metadata": {},
   "outputs": [
    {
     "name": "stdout",
     "output_type": "stream",
     "text": [
      "array 1 : \n",
      " [6 6 5 4 1 3 7 8 4 5]  \n",
      "array 2 : \n",
      " [ 1  2  3  4  5  6  7  8  9 10]\n",
      "\n",
      "element-wise addition: \n",
      " [ 7  8  8  8  6  9 14 16 13 15]\n"
     ]
    }
   ],
   "source": [
    "import pandas as pd\n",
    "import numpy as np\n",
    "\n",
    "arr1 = np.random.randint(1,10, size = 10)\n",
    "arr2 = np.arange(1,11)\n",
    "\n",
    "print(f\"array 1 : \\n {arr1}  \\narray 2 : \\n {arr2}\")\n",
    "print(\"\\nelement-wise addition: \\n\", arr1 + arr2)"
   ]
  },
  {
   "cell_type": "markdown",
   "id": "a669a4d9-694a-4cc9-84d3-603bf3b93768",
   "metadata": {},
   "source": [
    "52. Generate a NumPy array `arr1` with sequential integers from 10 to 1 and another array `arr2` with integers from 1 to 10. Subtract `arr2` from `arr1` element-wise."
   ]
  },
  {
   "cell_type": "code",
   "execution_count": 17,
   "id": "f6a2bfec-2b93-427f-b902-842c6cdc1393",
   "metadata": {},
   "outputs": [
    {
     "name": "stdout",
     "output_type": "stream",
     "text": [
      "array 1 : \n",
      " [10  9  8  7  6  5  4  3  2  1]  \n",
      "array 2 : \n",
      " [ 8 10  3 10 10  5  9  3  9  2]\n",
      "\n",
      "element-wise subtraction: \n",
      " [-2  1 -5  3  4  0  5  0  7  1]\n"
     ]
    }
   ],
   "source": [
    "import pandas as pd\n",
    "import numpy as np\n",
    "\n",
    "arr1 = np.arange(10, 0, -1)\n",
    "arr2 = np.random.randint(1,11, size=10)\n",
    "\n",
    "print(f\"array 1 : \\n {arr1}  \\narray 2 : \\n {arr2}\")\n",
    "print(\"\\nelement-wise subtraction: \\n\", arr2 - arr1)"
   ]
  },
  {
   "cell_type": "markdown",
   "id": "bbaf0a48-c273-4c67-b83f-579beb8e1fbb",
   "metadata": {},
   "source": [
    "53. Create a NumPy array `arr1` with random integers and another array `arr2` with integers from 1 to 5. Perform element-wise multiplication between `arr1` and `arr2`."
   ]
  },
  {
   "cell_type": "code",
   "execution_count": 20,
   "id": "d960cdd2-9959-4992-91d1-62c2b722fce6",
   "metadata": {},
   "outputs": [
    {
     "name": "stdout",
     "output_type": "stream",
     "text": [
      "array 1 : \n",
      " [1 2 3 4 5]  \n",
      "array 2 : \n",
      " [4 9 9 1 4]\n",
      "\n",
      "element-wise subtraction: \n",
      " [ 4 18 27  4 20]\n"
     ]
    }
   ],
   "source": [
    "import pandas as pd\n",
    "import numpy as np\n",
    "\n",
    "arr1 = np.arange(1,6)\n",
    "arr2 = np.random.randint(1,10, size=5)\n",
    "\n",
    "print(f\"array 1 : \\n {arr1}  \\narray 2 : \\n {arr2}\")\n",
    "print(\"\\nelement-wise multiplication: \\n\", arr2 * arr1)"
   ]
  },
  {
   "cell_type": "markdown",
   "id": "5ef1165d-829e-4326-9f7c-f65056b390a1",
   "metadata": {},
   "source": [
    "54. Generate a NumPy array `arr1` with even integers from 2 to 10 and another array `arr2` with integers from 1 to 5. Perform element-wise division of `arr1` by `arr2`."
   ]
  },
  {
   "cell_type": "code",
   "execution_count": 22,
   "id": "94bb61e3-b0bc-4a04-b02a-f1e16ec7f0c2",
   "metadata": {},
   "outputs": [
    {
     "name": "stdout",
     "output_type": "stream",
     "text": [
      "array 1 : \n",
      " [ 2  4  6  8 10]  \n",
      "array 2 : \n",
      " [1 2 3 4 5]\n",
      "\n",
      "element-wise division: \n",
      " [0.5 0.5 0.5 0.5 0.5]\n"
     ]
    }
   ],
   "source": [
    "import pandas as pd\n",
    "import numpy as np\n",
    "\n",
    "arr1 = np.arange(2,11, 2)\n",
    "arr2 = np.arange(1,6)\n",
    "\n",
    "print(f\"array 1 : \\n {arr1}  \\narray 2 : \\n {arr2}\")\n",
    "print(\"\\nelement-wise division: \\n\", arr2 / arr1)"
   ]
  },
  {
   "cell_type": "markdown",
   "id": "7bbddcc6-c23f-4b1b-ac09-5b479724cd85",
   "metadata": {},
   "source": [
    "55. Create a NumPy array `arr1` with integers from 1 to 5 and another array `arr2` with the same numbers reversed. Calculate the exponentiation of `arr1` raised to the power of `arr2` element-wise."
   ]
  },
  {
   "cell_type": "code",
   "execution_count": 24,
   "id": "44d15800-bd89-45bf-8662-79933996b953",
   "metadata": {},
   "outputs": [
    {
     "name": "stdout",
     "output_type": "stream",
     "text": [
      "array 1 : \n",
      " [1 2 3 4 5]  \n",
      "array 2 : \n",
      " [5 4 3 2 1]\n",
      "\n",
      "element-wise exponentiation: \n",
      " [ 1 16 27 16  5]\n"
     ]
    }
   ],
   "source": [
    "import pandas as pd\n",
    "import numpy as np\n",
    "\n",
    "arr1 = np.arange(1,6)\n",
    "arr2 = np.arange(5,0,-1)\n",
    "\n",
    "print(f\"array 1 : \\n {arr1}  \\narray 2 : \\n {arr2}\")\n",
    "print(\"\\nelement-wise exponentiation: \\n\", arr1 ** arr2)"
   ]
  },
  {
   "cell_type": "markdown",
   "id": "1965ed55-f532-48f2-bb40-04555f0950de",
   "metadata": {},
   "source": [
    "56. Write a function that counts the occurrences of a specific substring within a NumPy array of strings.\n",
    "arr = np.array(['hello', 'world', 'hello', 'numpy', 'hello'])"
   ]
  },
  {
   "cell_type": "code",
   "execution_count": 26,
   "id": "188ac5b0-c11f-46f1-a20a-dab5f87fa260",
   "metadata": {},
   "outputs": [
    {
     "name": "stdout",
     "output_type": "stream",
     "text": [
      "The substring 'hello' occurs 3 times in the array.\n"
     ]
    }
   ],
   "source": [
    "import pandas as pd\n",
    "import numpy as np\n",
    "\n",
    "def count_substring(arr, substring):\n",
    "    # Check if the array contains only strings\n",
    "    if not np.issubdtype(arr.dtype, np.str_):\n",
    "        raise ValueError(\"The array should contain only strings\")\n",
    "    \n",
    "    # Apply vectorized count of substring in each element of the array\n",
    "    count_array = np.char.count(arr, substring)\n",
    "    \n",
    "    # Sum the counts to get the total occurrences\n",
    "    total_count = np.sum(count_array)\n",
    "    \n",
    "    return total_count\n",
    "\n",
    "arr = np.array(['hello', 'world', 'hello', 'numpy', 'hello'])\n",
    "substring = 'hello'\n",
    "print(f\"The substring '{substring}' occurs {count_substring(arr, substring)} times in the array.\")\n"
   ]
  },
  {
   "cell_type": "markdown",
   "id": "f399af3b-0bef-48aa-9f24-de32275b9a6e",
   "metadata": {},
   "source": [
    "57. Write a function that extracts uppercase characters from a NumPy array of strings.\n",
    "\n",
    "arr = np.array(['Hello', 'World', 'OpenAI', 'GPT'])"
   ]
  },
  {
   "cell_type": "code",
   "execution_count": 31,
   "id": "34324dc6-6c7c-4d6a-a494-bac497e21443",
   "metadata": {},
   "outputs": [
    {
     "name": "stdout",
     "output_type": "stream",
     "text": [
      "Original array:\n",
      " ['Hello' 'World' 'OpenAI' 'GPT']\n",
      "Uppercase characters extracted:\n",
      " ['H' 'W' 'OAI' 'GPT']\n"
     ]
    }
   ],
   "source": [
    "import pandas as pd\n",
    "import numpy as np\n",
    "\n",
    "def extract_upercase(arr):\n",
    "    if not np.issubdtype(arr.dtype, np.str_):\n",
    "        raise ValueError(\"The array should contain only strings\")\n",
    "    \n",
    "    # Extract uppercase characters for each string in the array\n",
    "    uppercase_chars = np.array([''.join([char for char in string if char.isupper()]) for string in arr])\n",
    "    \n",
    "    return uppercase_chars\n",
    "\n",
    "# Example usage\n",
    "arr = np.array(['Hello', 'World', 'OpenAI', 'GPT'])\n",
    "print(\"Original array:\\n\", arr)\n",
    "uppercase_chars = extract_upercase(arr)\n",
    "print(\"Uppercase characters extracted:\\n\", uppercase_chars)\n"
   ]
  },
  {
   "cell_type": "markdown",
   "id": "062fc84f-4524-4822-8c6a-462e1149cb01",
   "metadata": {},
   "source": [
    "58. Write a function that replaces occurrences of a substring in a NumPy array of strings with a new string.\n",
    "\n",
    "arr = np.array(['apple', 'banana', 'grape', 'pineapple'])"
   ]
  },
  {
   "cell_type": "code",
   "execution_count": 1,
   "id": "2f878000-78fc-4e1b-9e61-400c6203b5ca",
   "metadata": {
    "jupyter": {
     "source_hidden": true
    },
    "tags": []
   },
   "outputs": [
    {
     "name": "stdout",
     "output_type": "stream",
     "text": [
      "Original array:\n",
      " ['apple' 'banana' 'grape' 'pineapple']\n",
      "Array after replacement:\n",
      " ['fruit' 'banana' 'grape' 'pinefruit']\n"
     ]
    }
   ],
   "source": [
    "import pandas as pd\n",
    "import numpy as np\n",
    "\n",
    "def replace_occurence(arr, old_substring, new_substring):\n",
    "    \n",
    "    if not np.issubdtype(arr.dtype , np.str_):\n",
    "        raise ValueError(\"The array should contain only strings\") \n",
    "        \n",
    "    replaced_array = np.char.replace(arr, old_substring, new_substring)\n",
    "    return replaced_array\n",
    "\n",
    "arr = np.array(['apple', 'banana', 'grape', 'pineapple'])\n",
    "old_substring = 'apple'\n",
    "new_substring = 'fruit'\n",
    "print(\"Original array:\\n\", arr)\n",
    "print(\"Array after replacement:\\n\", replace_occurence(arr, old_substring, new_substring))\n"
   ]
  },
  {
   "cell_type": "markdown",
   "id": "d6986578-b79c-436b-b8d4-3ece0f841505",
   "metadata": {},
   "source": [
    "59. Write a function that concatenates strings in a NumPy array element-wise.\n",
    "\n",
    "arr1 = np.array(['Hello', 'World'])\n",
    "arr2 = np.array(['Open', 'AI'])"
   ]
  },
  {
   "cell_type": "code",
   "execution_count": 4,
   "id": "c5307873-f72f-436d-97e6-301087967c84",
   "metadata": {},
   "outputs": [
    {
     "name": "stdout",
     "output_type": "stream",
     "text": [
      "Array 1:\n",
      " ['Hello' 'World']\n",
      "Array 2:\n",
      " ['Open' 'AI']\n",
      "Concatenated array:\n",
      " ['HelloOpen' 'WorldAI']\n"
     ]
    }
   ],
   "source": [
    "import pandas as pd\n",
    "import numpy as np\n",
    "\n",
    "def str_concat(s1, s2):\n",
    "    if not (np.issubdtype(arr1.dtype, np.str_) and np.issubdtype(arr2.dtype, np.str_)):\n",
    "        raise ValueError(\"Both arrays should contain only strings\")\n",
    "    if arr1.shape != arr2.shape:\n",
    "        raise ValueError(\"Both arrays must have the same shape\")\n",
    "        \n",
    "    result = np.char.add(arr1, arr2)\n",
    "    return result\n",
    "\n",
    "arr1 = np.array(['Hello', 'World'])\n",
    "arr2 = np.array(['Open', 'AI'])\n",
    "print(\"Array 1:\\n\", arr1)\n",
    "print(\"Array 2:\\n\", arr2)\n",
    "print(\"Concatenated array:\\n\",str_concat(arr1, arr2))"
   ]
  },
  {
   "cell_type": "markdown",
   "id": "d332eb01-ad2a-413c-804f-e6cabdfe4b00",
   "metadata": {},
   "source": [
    "60. Write a function that finds the length of the longest string in a NumPy array.\n",
    "\n",
    "arr = np.array(['apple', 'banana', 'grape', 'pineapple'])"
   ]
  },
  {
   "cell_type": "code",
   "execution_count": 11,
   "id": "09a064b5-b76c-44ba-a7fb-ca94a0da9590",
   "metadata": {},
   "outputs": [
    {
     "name": "stdout",
     "output_type": "stream",
     "text": [
      "Array:\n",
      " ['apple' 'banana' 'grape' 'pineapple']\n",
      "Length of the longest string: (9, 'pineapple')\n"
     ]
    }
   ],
   "source": [
    "import pandas as pd\n",
    "import numpy as np\n",
    "\n",
    "def str_len(arr):\n",
    "    \n",
    "    if not np.issubdtype(arr.dtype , np.str_):\n",
    "        raise ValueError(\"array must contain all strings\")\n",
    "        \n",
    "     # Use np.vectorize to apply the len function to each element in the array\n",
    "    vectorized_len = np.vectorize(len)\n",
    "    lengths = vectorized_len(arr)\n",
    "    \n",
    "    # Find and return the maximum length\n",
    "    max_length = np.max(lengths)\n",
    "    max_length_index = np.argmax(lengths)\n",
    "    \n",
    "    # Get the longest string and its length\n",
    "    longest_string = arr[max_length_index]\n",
    "    \n",
    "    return max_length, longest_string\n",
    "\n",
    "arr = np.array(['apple', 'banana', 'grape', 'pineapple'])\n",
    "print(\"Array:\\n\", arr)\n",
    "print(\"Length of the longest string:\",str_len(arr))"
   ]
  },
  {
   "cell_type": "markdown",
   "id": "caa59b34-c964-4a28-97e1-5971e6764f49",
   "metadata": {},
   "source": [
    "61. Create a dataset of 100 random integers between 1 and 1000. Compute the mean, median, variance, and standard deviation of the dataset using NumPy's functions."
   ]
  },
  {
   "cell_type": "code",
   "execution_count": 16,
   "id": "ae841471-f105-40d5-9990-a160012ef5fb",
   "metadata": {},
   "outputs": [
    {
     "name": "stdout",
     "output_type": "stream",
     "text": [
      "data :\n",
      " [ 701  351  470  552  720  964  256  975  370  828  822  154   27   21\n",
      "  154  521  491  786  325  455  791  117   43  492  423  505  696  569\n",
      "  835  392  713  453  277  322  791  311  933  761  681  849  682  560\n",
      "  192  629   82  712   62  566  119  224  415  369  896 1000  462  637\n",
      "  802  321  295  814   19   23  470  786  193   59  665  218  470  750\n",
      "  467  989  584  868  873  546  649  554  516  795  907  373  930  893\n",
      "  361  456  916  886  874  333   95  313  328  931  655  951  764  189\n",
      "  949  431]\n",
      "\n",
      "Mean :  537.65\n",
      "\n",
      "Median :  533.5\n",
      "\n",
      "Variance :  79661.7475\n",
      "\n",
      "standard deviation :  282.2441274854093\n"
     ]
    }
   ],
   "source": [
    "import pandas as pd\n",
    "import numpy as np\n",
    "\n",
    "data = np.random.randint(1, 1001, size=100)\n",
    "print(\"data :\\n\",data)\n",
    "\n",
    "print(\"\\nMean : \",np.mean(data))\n",
    "print(\"\\nMedian : \",np.median(data))\n",
    "print(\"\\nVariance : \",np.var(data))\n",
    "print(\"\\nstandard deviation : \",np.std(data))"
   ]
  },
  {
   "cell_type": "markdown",
   "id": "cdc5ea2a-acd2-4f60-80ea-33b48d50bdaa",
   "metadata": {},
   "source": [
    "62. Generate an array of 50 random numbers between 1 and 100. Find the 25th and 75th percentiles of the dataset."
   ]
  },
  {
   "cell_type": "code",
   "execution_count": 18,
   "id": "a5644e04-913f-451c-9be4-ddca5a1b4ad5",
   "metadata": {},
   "outputs": [
    {
     "name": "stdout",
     "output_type": "stream",
     "text": [
      "data :\n",
      " [ 76  87  65  49  22  55  82  83  81  26  64  29  94  49  54  25  36  35\n",
      "  66  19  44  48  69  32  32   1  91   1  30  26  34   8  31  68  43  67\n",
      "  20  59  65  75  44  72 100  37  14  71  45  33  30  61]\n",
      "\n",
      "25th percentile :  30.25\n",
      "\n",
      "75th percentile :  67.75\n"
     ]
    }
   ],
   "source": [
    "import pandas as pd\n",
    "import numpy as np\n",
    "\n",
    "data = np.random.randint(1, 101, size=50)\n",
    "print(\"data :\\n\",data)\n",
    "\n",
    "print(\"\\n25th percentile : \",np.percentile(data, 25))\n",
    "print(\"\\n75th percentile : \",np.percentile(data, 75))"
   ]
  },
  {
   "cell_type": "markdown",
   "id": "f99e25f8-f263-44da-9444-a0939130bac6",
   "metadata": {},
   "source": [
    "63. Create two arrays representing two sets of variables. Compute the correlation coefficient between these arrays using NumPy's `corrcoef` function."
   ]
  },
  {
   "cell_type": "code",
   "execution_count": 19,
   "id": "e2aef83a-3c94-4582-9ca6-08b4f67c2fc2",
   "metadata": {},
   "outputs": [
    {
     "name": "stdout",
     "output_type": "stream",
     "text": [
      "Correlation Coefficient: 0.9999999999999999\n"
     ]
    }
   ],
   "source": [
    "import numpy as np\n",
    "import pandas as pd\n",
    "\n",
    "array1 = np.array([1, 2, 3, 4, 5])\n",
    "array2 = np.array([2, 3, 4, 5, 6])\n",
    "\n",
    "# Compute the correlation coefficient between the arrays\n",
    "correlation_coefficient = np.corrcoef(array1, array2)[0, 1]\n",
    "print(\"Correlation Coefficient:\", correlation_coefficient)"
   ]
  },
  {
   "cell_type": "markdown",
   "id": "19d1d952-5318-4da9-ba7e-b67a72804f6b",
   "metadata": {},
   "source": [
    "64. Create two matrices and perform matrix multiplication using NumPy's `dot` function.\n"
   ]
  },
  {
   "cell_type": "code",
   "execution_count": 20,
   "id": "cd7fb4aa-ddc2-4283-8f59-a20586877670",
   "metadata": {},
   "outputs": [
    {
     "name": "stdout",
     "output_type": "stream",
     "text": [
      "Matrix 1:\n",
      " [[1 2 3]\n",
      " [4 5 6]\n",
      " [7 8 9]]\n",
      "\n",
      "Matrix 2:\n",
      " [[9 8 7]\n",
      " [6 5 4]\n",
      " [3 2 1]]\n",
      "\n",
      "Result of Matrix Multiplication:\n",
      " [[ 30  24  18]\n",
      " [ 84  69  54]\n",
      " [138 114  90]]\n"
     ]
    }
   ],
   "source": [
    "import numpy as np\n",
    "import pandas as pd\n",
    "\n",
    "matrix1 = np.array([[1, 2, 3],\n",
    "                    [4, 5, 6],\n",
    "                    [7, 8, 9]])\n",
    "\n",
    "matrix2 = np.array([[9, 8, 7],\n",
    "                    [6, 5, 4],\n",
    "                    [3, 2, 1]])\n",
    "\n",
    "result_matrix = np.dot(matrix1, matrix2)\n",
    "\n",
    "print(\"Matrix 1:\\n\", matrix1)\n",
    "print(\"\\nMatrix 2:\\n\", matrix2)\n",
    "print(\"\\nResult of Matrix Multiplication:\\n\", result_matrix)"
   ]
  },
  {
   "cell_type": "markdown",
   "id": "920e98c4-bc08-466c-8aa2-c9f07096049d",
   "metadata": {},
   "source": [
    "65. Create an array of 50 integers between 10 and 1000. Calculate the 10th, 50th (median), and 90th percentiles along with the first and third quartiles."
   ]
  },
  {
   "cell_type": "code",
   "execution_count": 10,
   "id": "a0eb34d2-c223-4260-b3a7-db4f908bccd9",
   "metadata": {},
   "outputs": [
    {
     "name": "stdout",
     "output_type": "stream",
     "text": [
      "Original array :\n",
      " [665 364 884 194 781  50 467 261 176  16 202 689 361 388  94 809 715 737\n",
      " 199 865 373 143 904 539  51 217 889 970 857 309 385 159 647 757 212  68\n",
      " 271  48 323 265  18 196 526 975 939 663  28 671 204 605]\n",
      "\n",
      "10th percentile: 50.9\n",
      "\n",
      "25th percentile (Q1): 196.75\n",
      "\n",
      "50th (median) percentile: 368.5\n",
      "\n",
      "75th percentile (Q3): 708.5\n",
      "\n",
      "90th percentile: 884.5\n"
     ]
    }
   ],
   "source": [
    "import numpy as np\n",
    "import pandas as pd\n",
    "\n",
    "arr = np.random.randint(10, 1001, size=50)\n",
    "print(\"Original array :\\n\",arr)\n",
    "print(\"\\n10th percentile:\", np.percentile(arr,10))\n",
    "print(\"\\n25th percentile (Q1):\", np.percentile(arr,25))\n",
    "print(\"\\n50th (median) percentile:\", np.percentile(arr,50))\n",
    "print(\"\\n75th percentile (Q3):\", np.percentile(arr,75))\n",
    "print(\"\\n90th percentile:\", np.percentile(arr,90))\n"
   ]
  },
  {
   "cell_type": "markdown",
   "id": "fe62e59d-920c-49ed-b0ee-60a37bc4b3c8",
   "metadata": {},
   "source": [
    "66. Create a NumPy array of integers and find the index of a specific element."
   ]
  },
  {
   "cell_type": "code",
   "execution_count": 6,
   "id": "c5010998-71b1-430b-9fb8-20c86331fe29",
   "metadata": {},
   "outputs": [
    {
     "name": "stdout",
     "output_type": "stream",
     "text": [
      "array \n",
      " [60 17 58 25 31 27 77 11 71 92 99 92 69 33 43  2 52 99 18 62 11 42 76 79\n",
      " 97 74 26  9 33 40 24 25 19 50 82 33 19 35 13 56  6 80 58 90 54 77 34 31\n",
      " 20  5]\n",
      "The index of the element 11 is: 7\n"
     ]
    }
   ],
   "source": [
    "import numpy as np\n",
    "import pandas as pd\n",
    "\n",
    "array = np.random.randint(1,100, size=50)\n",
    "print(\"array \\n\",array)\n",
    "\n",
    "element_to_find = array[20]  \n",
    "\n",
    "# Find the index of the specified element\n",
    "index = np.where(array == element_to_find)[0]\n",
    "\n",
    "if index.size > 0:\n",
    "    print(f\"The index of the element {element_to_find} is: {index[0]}\")\n",
    "else:\n",
    "    print(f\"The element {element_to_find} is not in the array.\")\n"
   ]
  },
  {
   "cell_type": "markdown",
   "id": "1ae82bd2-1b35-4bb0-9b03-352527836b70",
   "metadata": {},
   "source": [
    "67. Generate a random NumPy array and sort it in ascending order."
   ]
  },
  {
   "cell_type": "code",
   "execution_count": 10,
   "id": "6ae41c71-a73d-4d33-a91b-6cc2fec51da5",
   "metadata": {},
   "outputs": [
    {
     "name": "stdout",
     "output_type": "stream",
     "text": [
      "array \n",
      " [94 70 34  9 51 93 99 14 32 26 67 97 35 68 98 57 91 36 85 72]\n",
      "sorted array :\n",
      " [ 9 14 26 32 34 35 36 51 57 67 68 70 72 85 91 93 94 97 98 99]\n"
     ]
    }
   ],
   "source": [
    "import numpy as np\n",
    "import pandas as pd\n",
    "\n",
    "array = np.random.randint(1,100, size=20)\n",
    "print(\"array \\n\",array)\n",
    "\n",
    "print(\"sorted array :\\n\",np.sort(array))\n"
   ]
  },
  {
   "cell_type": "markdown",
   "id": "df1b931c-663e-4e2a-8907-0f4151bd7480",
   "metadata": {},
   "source": [
    "68. Filter elements >20  in the given NumPy array.\n",
    "\n",
    "arr = np.array([12, 25, 6, 42, 8, 30])"
   ]
  },
  {
   "cell_type": "code",
   "execution_count": 14,
   "id": "2176a68f-0b74-4ded-9dcc-b2143e45ae8e",
   "metadata": {},
   "outputs": [
    {
     "name": "stdout",
     "output_type": "stream",
     "text": [
      "original array: \n",
      " [12 25  6 42  8 30]\n",
      "filter array > 20:\n",
      " [25 42 30]\n"
     ]
    }
   ],
   "source": [
    "import numpy as np\n",
    "import pandas as pd\n",
    "\n",
    "arr = np.array([12, 25, 6, 42, 8, 30])\n",
    "print(\"original array: \\n\",arr)\n",
    "filter_arr= arr[arr>20]\n",
    "print(\"filter array > 20:\\n\",filter_arr)"
   ]
  },
  {
   "cell_type": "markdown",
   "id": "7a782f93-a6af-4db5-adc2-d94903e388fe",
   "metadata": {},
   "source": [
    "69. Filter elements which are divisible by 3 from a given NumPy array\n",
    "arr = np.array([1, 5, 8, 12, 15])"
   ]
  },
  {
   "cell_type": "code",
   "execution_count": 16,
   "id": "572376fe-29d5-4d1e-9947-799efed2298d",
   "metadata": {},
   "outputs": [
    {
     "name": "stdout",
     "output_type": "stream",
     "text": [
      "original array: \n",
      " [ 1  5  8 12 15]\n",
      "filter array divisible by 3 :\n",
      " [12 15]\n"
     ]
    }
   ],
   "source": [
    "import numpy as np\n",
    "import pandas as pd\n",
    "\n",
    "arr = np.array([1, 5, 8, 12, 15])\n",
    "print(\"original array: \\n\",arr)\n",
    "mask = arr % 3 == 0 \n",
    "filter_arr= arr[mask]\n",
    "print(\"filter array divisible by 3 :\\n\",filter_arr)"
   ]
  },
  {
   "cell_type": "markdown",
   "id": "5b07b6ac-f8a7-448e-8e0d-0a57274c0b67",
   "metadata": {},
   "source": [
    "70. Filter elements which are ≥ 20 and ≤ 40 from a given NumPy array\n",
    "arr = np.array([10, 20, 30, 40, 50])"
   ]
  },
  {
   "cell_type": "code",
   "execution_count": 20,
   "id": "d3ee6e3f-4ed5-4f25-bd61-c9415a8419fa",
   "metadata": {},
   "outputs": [
    {
     "name": "stdout",
     "output_type": "stream",
     "text": [
      "original array: \n",
      " [10 20 30 40 50]\n",
      "filter array which are ≥ 20 and ≤ 40 :\n",
      " [20 30 40]\n"
     ]
    }
   ],
   "source": [
    "import numpy as np\n",
    "import pandas as pd\n",
    "\n",
    "arr = np.array([10, 20, 30, 40, 50])\n",
    "print(\"original array: \\n\",arr)\n",
    "mask = (arr >= 20) & (arr <= 40) \n",
    "filter_arr= arr[mask]\n",
    "print(\"filter array which are ≥ 20 and ≤ 40 :\\n\",filter_arr)"
   ]
  },
  {
   "cell_type": "markdown",
   "id": "67ed57d5-c77c-48fb-aabb-1d938b4d7f13",
   "metadata": {},
   "source": [
    "71. For the given NumPy array, check its byte order using the `dtype` attribute byteorder.\n",
    "\n",
    "arr = np.array([1, 2, 3])"
   ]
  },
  {
   "cell_type": "code",
   "execution_count": 21,
   "id": "f08f51a9-99a2-4d37-a391-b42734ac47ee",
   "metadata": {},
   "outputs": [
    {
     "name": "stdout",
     "output_type": "stream",
     "text": [
      "Byte order of the array: =\n"
     ]
    }
   ],
   "source": [
    "import numpy as np\n",
    "import pandas as pd\n",
    "\n",
    "arr = np.array([1, 2, 3])\n",
    "\n",
    "# Check the byte order\n",
    "byte_order = arr.dtype.byteorder\n",
    "\n",
    "# Print the byte order\n",
    "print(\"Byte order of the array:\", byte_order)"
   ]
  },
  {
   "cell_type": "markdown",
   "id": "f8b40b5d-6d9e-4bc7-93c3-f0f6b4ad3b9f",
   "metadata": {},
   "source": [
    "72. For the given NumPy array, perform byte swapping in place using `byteswap()`.\n",
    "arr = np.array([1, 2, 3], dtype=np.int32)"
   ]
  },
  {
   "cell_type": "code",
   "execution_count": 22,
   "id": "3648962e-7d9a-4e5c-9766-1a4abec0583b",
   "metadata": {},
   "outputs": [
    {
     "name": "stdout",
     "output_type": "stream",
     "text": [
      "Original array: [1 2 3]\n",
      "Original byte order: =\n",
      "Byte-swapped array: [16777216 33554432 50331648]\n",
      "Byte-swapped byte order: =\n"
     ]
    }
   ],
   "source": [
    "import numpy as np\n",
    "import pandas as pd\n",
    "\n",
    "arr = np.array([1, 2, 3], dtype=np.int32)\n",
    "\n",
    "# Print the original array and its byte order\n",
    "print(\"Original array:\", arr)\n",
    "print(\"Original byte order:\", arr.dtype.byteorder)\n",
    "\n",
    "# Perform byte swapping in place\n",
    "arr.byteswap(True)\n",
    "\n",
    "# Print the byte-swapped array and its byte order\n",
    "print(\"Byte-swapped array:\", arr)\n",
    "print(\"Byte-swapped byte order:\", arr.dtype.byteorder)\n"
   ]
  },
  {
   "cell_type": "markdown",
   "id": "edf5350f-7d45-4c78-9695-a17391913423",
   "metadata": {},
   "source": [
    "73. For the given NumPy array, swap its byte order without modifying the original array using\n",
    "`newbyteorder()`.\n",
    "\n",
    "arr = np.array([1, 2, 3], dtype=np.int32)"
   ]
  },
  {
   "cell_type": "code",
   "execution_count": 23,
   "id": "374e24f6-60be-4173-8848-8d4429d76f2a",
   "metadata": {},
   "outputs": [
    {
     "name": "stdout",
     "output_type": "stream",
     "text": [
      "Original array: [1 2 3]\n",
      "Original byte order: =\n",
      "Byte-swapped array: [1 2 3]\n",
      "Byte-swapped byte order: >\n",
      "Original array after byte swap operation: [1 2 3]\n"
     ]
    }
   ],
   "source": [
    "import numpy as np\n",
    "import pandas as pd\n",
    "\n",
    "arr = np.array([1, 2, 3], dtype=np.int32)\n",
    "\n",
    "# Print the original array and its byte order\n",
    "print(\"Original array:\", arr)\n",
    "print(\"Original byte order:\", arr.dtype.byteorder)\n",
    "\n",
    "# Swap the byte order without modifying the original array\n",
    "swapped_arr = arr.byteswap().newbyteorder()\n",
    "\n",
    "# Print the byte-swapped array and its byte order\n",
    "print(\"Byte-swapped array:\", swapped_arr)\n",
    "print(\"Byte-swapped byte order:\", swapped_arr.dtype.byteorder)\n",
    "\n",
    "# Verify the original array remains unchanged\n",
    "print(\"Original array after byte swap operation:\", arr)"
   ]
  },
  {
   "cell_type": "markdown",
   "id": "5120a7b3-ec20-48cd-bcd1-f6062670e55b",
   "metadata": {},
   "source": [
    "74. For the given NumPy array and swap its byte order conditionally based on system endianness using\n",
    "`newbyteorder()`.\n",
    "\n",
    "arr = np.array([1, 2, 3], dtype=np.int32)\n"
   ]
  },
  {
   "cell_type": "code",
   "execution_count": 24,
   "id": "23a9ff46-294c-4da7-92c0-da01d5ec230f",
   "metadata": {},
   "outputs": [
    {
     "name": "stdout",
     "output_type": "stream",
     "text": [
      "Original array: [1 2 3]\n",
      "Original byte order: =\n",
      "Conditionally byte-swapped array: [16777216 33554432 50331648]\n",
      "Byte-swapped byte order: >\n",
      "Original array after byte swap operation: [1 2 3]\n"
     ]
    }
   ],
   "source": [
    "import numpy as np\n",
    "import pandas as pd\n",
    "\n",
    "arr = np.array([1, 2, 3], dtype=np.int32)\n",
    "\n",
    "# Print the original array and its byte order\n",
    "print(\"Original array:\", arr)\n",
    "print(\"Original byte order:\", arr.dtype.byteorder)\n",
    "\n",
    "# Check the system's byte order\n",
    "if arr.dtype.byteorder == '=':  # Native byte order\n",
    "    import sys\n",
    "    system_byteorder = sys.byteorder\n",
    "    if system_byteorder == 'little':\n",
    "        target_byteorder = '>'\n",
    "    else:\n",
    "        target_byteorder = '<'\n",
    "else:\n",
    "    target_byteorder = arr.dtype.byteorder\n",
    "\n",
    "# Swap the byte order conditionally\n",
    "swapped_arr = arr.newbyteorder(target_byteorder)\n",
    "\n",
    "# Print the byte-swapped array and its byte order\n",
    "print(\"Conditionally byte-swapped array:\", swapped_arr)\n",
    "print(\"Byte-swapped byte order:\", swapped_arr.dtype.byteorder)\n",
    "\n",
    "# Verify the original array remains unchanged\n",
    "print(\"Original array after byte swap operation:\", arr)\n"
   ]
  },
  {
   "cell_type": "markdown",
   "id": "e73f371a-c844-4bac-b501-fdb277ace89c",
   "metadata": {},
   "source": [
    "75. For the given NumPy array, check if byte swapping is necessary for the current system using `dtype` attribute `byteorder`.\n",
    "arr = np.array([1, 2, 3], dtype=np.int32)"
   ]
  },
  {
   "cell_type": "code",
   "execution_count": 40,
   "id": "7bb45e38-69f1-48cd-a0f9-f19b62236761",
   "metadata": {},
   "outputs": [
    {
     "name": "stdout",
     "output_type": "stream",
     "text": [
      "Original array :\n",
      " [1 2 3]\n",
      "Byte order of the array's dtype: =\n",
      "Byte swapping is not necessary as the array is in native byte order.\n"
     ]
    }
   ],
   "source": [
    "\"\"\"\n",
    "In NumPy, you can check if byte swapping is necessary by examining the byteorder attribute of the array's data type (dtype). \n",
    "The byteorder attribute indicates the byte order (endianness) of the data type.\n",
    "Here are the possible values for byteorder and their meanings:\n",
    "\n",
    "'=' : Native byte order (depends on the system).\n",
    "'<' : Little-endian.\n",
    "'>' : Big-endian.\n",
    "'|' : Not applicable (for non-numeric types).\n",
    "To determine if byte swapping is necessary, \n",
    "you can compare the byteorder attribute of the array's dtype with the native byte order of the current system.\n",
    "\"\"\"\n",
    "\n",
    "import numpy as np\n",
    "import pandas as pd\n",
    "\n",
    "arr = np.array([1, 2, 3], dtype=np.int32)\n",
    "print(\"Original array :\\n\", arr)\n",
    "\n",
    "# Get the byte order of the array's dtype\n",
    "byte_order = arr.dtype.byteorder\n",
    "print(\"Byte order of the array's dtype:\", byte_order)\n",
    "\n",
    "# Determine the native byte order of the system\n",
    "native_byte_order = '=' if np.little_endian else '>'\n",
    "\n",
    "# Check if byte swapping is necessary\n",
    "if byte_order == '=':\n",
    "    print(\"Byte swapping is not necessary as the array is in native byte order.\")\n",
    "elif (byte_order == '<' and np.little_endian) or (byte_order == '>' and not np.little_endian):\n",
    "    print(\"Byte swapping is not necessary as the array is in the correct byte order for this system.\")\n",
    "else:\n",
    "    print(\"Byte swapping is necessary to match the system's native byte order.\")"
   ]
  },
  {
   "cell_type": "markdown",
   "id": "ac6b54c8-e119-4857-accd-eae673fba2ed",
   "metadata": {},
   "source": [
    "76. Create a NumPy array `arr1` with values from 1 to 10. Create a copy of `arr1` named `copy_arr` and modify an element in `copy_arr`. Check if modifying `copy_arr` affects `arr1`."
   ]
  },
  {
   "cell_type": "code",
   "execution_count": 29,
   "id": "1ef2eb47-4004-4b8d-a323-9bad9c9a6439",
   "metadata": {},
   "outputs": [
    {
     "name": "stdout",
     "output_type": "stream",
     "text": [
      "Original array :\n",
      " [2 8 9 1 3 2]\n",
      "\n",
      " copy_arr \n",
      " [1000    8    9    1    3    2]\n",
      "\n",
      "Original array after modification:\n",
      "No, it does not affect the orig arr\n",
      " [2 8 9 1 3 2]\n"
     ]
    }
   ],
   "source": [
    "import numpy as np\n",
    "import pandas as pd\n",
    "\n",
    "arr1 = np.random.randint(1,11, size=6)\n",
    "print(\"Original array :\\n\", arr1)\n",
    "\n",
    "copy_arr = np.copy(arr1)\n",
    "copy_arr[0] = 1000\n",
    "print(\"\\n copy_arr \\n\",copy_arr)\n",
    "\n",
    "print(\"\\nOriginal array after modification:\\nNo, it does not affect the orig arr\\n\", arr1)"
   ]
  },
  {
   "cell_type": "markdown",
   "id": "97f71cfb-625a-443a-81b8-2cea1a4407c7",
   "metadata": {},
   "source": [
    "77. Create a 2D NumPy array `matrix` of shape (3, 3) with random integers. Extract a slice `view_slice` from the matrix. Modify an element in `view_slice` and observe if it changes the original `matrix`."
   ]
  },
  {
   "cell_type": "code",
   "execution_count": 37,
   "id": "0ec661c9-aa41-4f94-bd45-c4c7de8e43e9",
   "metadata": {},
   "outputs": [
    {
     "name": "stdout",
     "output_type": "stream",
     "text": [
      "Original array :\n",
      " [[7 1 5]\n",
      " [4 6 4]\n",
      " [2 3 5]]\n",
      "\n",
      "view_slice array:\n",
      " [[1000    6    4]\n",
      " [   2    3    5]]\n",
      "\n",
      "Original array after modification:\n",
      "Yes, it changes the original array \n",
      " [[   7    1    5]\n",
      " [1000    6    4]\n",
      " [   2    3    5]]\n"
     ]
    }
   ],
   "source": [
    "import numpy as np\n",
    "import pandas as pd\n",
    "\n",
    "array_a = np.random.randint(1,10,(3,3))\n",
    "print(\"Original array :\\n\", array_a)\n",
    "\n",
    "view_slice = array_a[1:3 , :]\n",
    "view_slice[0,0] = 1000\n",
    "print(\"\\nview_slice array:\\n\",view_slice)\n",
    "print(\"\\nOriginal array after modification:\\nYes, it changes the original array \\n\", array_a)\n"
   ]
  },
  {
   "cell_type": "markdown",
   "id": "366ae715-ef03-4dff-8996-03f123460a68",
   "metadata": {},
   "source": [
    "78. Create a NumPy array `array_a` of shape (4, 3) with sequential integers from 1 to 12. Extract a slice `view_b` from `array_a` and broadcast the addition of 5 to view_b. Check if it alters the original `array_a`."
   ]
  },
  {
   "cell_type": "code",
   "execution_count": 16,
   "id": "a1c74ce7-9776-4298-b0eb-7f1d69cdcc3a",
   "metadata": {},
   "outputs": [
    {
     "name": "stdout",
     "output_type": "stream",
     "text": [
      "Original array :\n",
      " [[ 1  2  3]\n",
      " [ 4  5  6]\n",
      " [ 7  8  9]\n",
      " [10 11 12]]\n",
      "\n",
      "view_b array \n",
      " [[10 11]\n",
      " [13 14]\n",
      " [16 17]]\n",
      "\n",
      "Original array after modification :\n",
      " Yes, it affects the original array\n",
      " [[ 1  2  3]\n",
      " [ 4 10 11]\n",
      " [ 7 13 14]\n",
      " [10 16 17]]\n"
     ]
    }
   ],
   "source": [
    "import numpy as np\n",
    "import pandas as pd\n",
    "\n",
    "array_a = np.arange(1, 13).reshape(4,3)\n",
    "print(\"Original array :\\n\", array_a)\n",
    "\n",
    "#view_b = array_a[1:4 , 1:3] + 5 # this does not affect the orignl arr coz it will create new array\n",
    "view_b = array_a[1:4 , 1:3]\n",
    "view_b += 5  # This modifies the original array\n",
    "print(\"\\nview_b array \\n\",view_b)\n",
    "print(\"\\nOriginal array after modification :\\n Yes, it affects the original array\\n\", array_a)"
   ]
  },
  {
   "cell_type": "markdown",
   "id": "7c97357a-9f90-4d80-88bf-7702dbba245d",
   "metadata": {},
   "source": [
    "79. Create a NumPy array `orig_array` of shape (2, 4) with values from 1 to 8. Create a reshaped view `reshaped_view` of shape (4, 2) from orig_array. Modify an element in `reshaped_view` and check if it reflects changes in the original `orig_array`."
   ]
  },
  {
   "cell_type": "code",
   "execution_count": 39,
   "id": "18a530e5-1482-4eec-86fe-4b0d5c2d279d",
   "metadata": {},
   "outputs": [
    {
     "name": "stdout",
     "output_type": "stream",
     "text": [
      "Original array :\n",
      " [[3 3 7 4]\n",
      " [7 2 4 7]]\n",
      "Reshaped array : \n",
      " [[3 3]\n",
      " [7 4]\n",
      " [7 2]\n",
      " [4 7]]\n",
      "Original array after modification:\n",
      " [[1000    3    7    4]\n",
      " [   7    2    4    7]]\n"
     ]
    }
   ],
   "source": [
    "import numpy as np\n",
    "import pandas as pd\n",
    "\n",
    "orig_array = np.random.randint(1,8, (2,4))\n",
    "print(\"Original array :\\n\", orig_array)\n",
    "\n",
    "reshaped_view = np.reshape(orig_array , (4,2))\n",
    "print(\"Reshaped array : \\n\",reshaped_view)\n",
    "\n",
    "reshaped_view[0,0] = 1000\n",
    "print(\"Original array after modification:\\n\", orig_array)\n"
   ]
  },
  {
   "cell_type": "markdown",
   "id": "1abeca92-cdf2-4385-acbf-3fa55f8867c1",
   "metadata": {},
   "source": [
    "80. Create a NumPy array `data` of shape (3, 4) with random integers. Extract a copy `data_copy` of elements greater than 5. Modify an element in `data_copy` and verify if it affects the original `data`."
   ]
  },
  {
   "cell_type": "code",
   "execution_count": 33,
   "id": "111dcf0f-1f1e-4ee4-b1e8-6d6e4c412823",
   "metadata": {},
   "outputs": [
    {
     "name": "stdout",
     "output_type": "stream",
     "text": [
      "Original array :\n",
      " [[8 2 7 8]\n",
      " [5 8 4 4]\n",
      " [4 7 8 5]]\n",
      "Copied array :\n",
      " [8 7 8 8 7 8]\n",
      "Modification :\n",
      " [1000    7    8    8    7    8]\n",
      "Original array after modification:\n",
      " [[8 2 7 8]\n",
      " [5 8 4 4]\n",
      " [4 7 8 5]]\n"
     ]
    }
   ],
   "source": [
    "import numpy as np\n",
    "import pandas as pd\n",
    "\n",
    "data = np.random.randint(1,10, (3,4))\n",
    "print(\"Original array :\\n\", data)\n",
    "\n",
    "data_copy = data[data>5].copy()\n",
    "print(\"Copied array :\\n\", data_copy)\n",
    "\n",
    "data_copy[0]=1000\n",
    "print(\"Modification :\\n\", data_copy )\n",
    "print(\"Original array after modification:\\n\", data)"
   ]
  },
  {
   "cell_type": "markdown",
   "id": "f5bf0aa8-fccf-4fed-a1d9-c8a5ae379f96",
   "metadata": {},
   "source": [
    "81. Create two matrices A and B of identical shape containing integers and perform addition and subtraction operations between them."
   ]
  },
  {
   "cell_type": "code",
   "execution_count": 23,
   "id": "bba2003d-7d95-47bc-a443-e8f763e6f8f7",
   "metadata": {},
   "outputs": [
    {
     "name": "stdout",
     "output_type": "stream",
     "text": [
      "original matrix A : \n",
      " [[0 2 9]\n",
      " [7 1 6]\n",
      " [4 9 2]]\n",
      "original matrix B : \n",
      " [[5 3 2]\n",
      " [0 8 7]\n",
      " [3 0 6]]\n",
      "Addition :\n",
      " [[ 5  5 11]\n",
      " [ 7  9 13]\n",
      " [ 7  9  8]]\n",
      "Subtracion \n",
      ": [[-5 -1  7]\n",
      " [ 7 -7 -1]\n",
      " [ 1  9 -4]]\n"
     ]
    }
   ],
   "source": [
    "import numpy as np\n",
    "\n",
    "A = np.random.randint(0, 10, size=(3, 3))  \n",
    "B = np.random.randint(0, 10, size=(3, 3))\n",
    "\n",
    "print(\"original matrix A : \\n\", A)\n",
    "print(\"original matrix B : \\n\", B)\n",
    "\n",
    "print(\"Addition :\\n\", A+B)\n",
    "print(\"Subtracion \\n:\", A-B)\n"
   ]
  },
  {
   "cell_type": "markdown",
   "id": "48634ec8-7e35-488a-b21d-723e1890da6a",
   "metadata": {},
   "source": [
    "82. Generate two matrices `C` (3x2) and `D` (2x4) and perform matrix multiplication."
   ]
  },
  {
   "cell_type": "code",
   "execution_count": 7,
   "id": "136ab1f2-d2c5-4801-b810-1a0baf677716",
   "metadata": {},
   "outputs": [
    {
     "data": {
      "text/plain": [
       "array([[0.081, 0.658, 0.677, 0.397],\n",
       "       [0.078, 0.526, 0.648, 0.733],\n",
       "       [0.11 , 0.803, 0.914, 0.823]])"
      ]
     },
     "execution_count": 7,
     "metadata": {},
     "output_type": "execute_result"
    }
   ],
   "source": [
    "import numpy as np\n",
    "\n",
    "c = np.random.rand(3,2)\n",
    "d = np.random.rand(2,4)\n",
    "\n",
    "r = np.dot(c, d)\n",
    "np.round(r, 3)"
   ]
  },
  {
   "cell_type": "markdown",
   "id": "cba90546-f638-4523-b985-7429b2bfe2cf",
   "metadata": {},
   "source": [
    "83. Create a matrix `E` and find its transpose."
   ]
  },
  {
   "cell_type": "code",
   "execution_count": 11,
   "id": "ca2c010c-b2ae-4996-b8f5-633e38d9bff8",
   "metadata": {},
   "outputs": [
    {
     "name": "stdout",
     "output_type": "stream",
     "text": [
      "original matrix: \n",
      " [[0.02 0.03]\n",
      " [0.55 0.01]]\n",
      "\n",
      "transposed matrix: \n",
      " [[0.02 0.55]\n",
      " [0.03 0.01]]\n"
     ]
    }
   ],
   "source": [
    "import numpy as np\n",
    "\n",
    "E = np.random.rand(2,2)\n",
    "print(\"original matrix: \\n\", np.round(E,2))\n",
    "mat = E.T\n",
    "print(\"\\ntransposed matrix: \\n\", np.round(mat,2))"
   ]
  },
  {
   "cell_type": "markdown",
   "id": "495f5c96-68b6-4135-9525-bb0bd14eab94",
   "metadata": {},
   "source": [
    "84. Generate a square matrix `F` and compute its determinant."
   ]
  },
  {
   "cell_type": "code",
   "execution_count": 13,
   "id": "4342d1c1-dc2d-48f0-8877-6fec46c775cd",
   "metadata": {},
   "outputs": [
    {
     "name": "stdout",
     "output_type": "stream",
     "text": [
      "original matrix: \n",
      " [[0.02 0.03]\n",
      " [0.55 0.01]]\n",
      "\n",
      "determinant of  matrix: \n",
      " 0.57\n"
     ]
    }
   ],
   "source": [
    "import numpy as np\n",
    "\n",
    "F = np.random.rand(2,2)\n",
    "print(\"original matrix: \\n\", np.round(E,2))\n",
    "\n",
    "mat = np.linalg.det(F)\n",
    "print(\"\\ndeterminant of  matrix: \\n\", np.round(mat,2))"
   ]
  },
  {
   "cell_type": "markdown",
   "id": "2359f82c-dabb-47a6-8d0c-2dce9d0b8255",
   "metadata": {},
   "source": [
    "85. Create a square matrix `G` and find its inverse"
   ]
  },
  {
   "cell_type": "code",
   "execution_count": 18,
   "id": "d7871be0-0491-4a7c-ae41-667c6d75d401",
   "metadata": {},
   "outputs": [
    {
     "name": "stdout",
     "output_type": "stream",
     "text": [
      "original matrix: \n",
      " [[0.91 0.83 0.46 0.29]\n",
      " [0.87 0.03 0.43 0.58]\n",
      " [0.83 0.85 0.31 0.8 ]\n",
      " [0.99 0.94 0.5  0.69]]\n",
      "\n",
      "Inverse of  matrix: \n",
      " [[ 5.16  1.33  4.9  -8.98]\n",
      " [ 0.11 -1.26  0.05  0.96]\n",
      " [-6.42 -0.48 -9.81 14.5 ]\n",
      " [-2.94  0.16 -0.04  2.6 ]]\n"
     ]
    }
   ],
   "source": [
    "import numpy as np\n",
    "\n",
    "G = np.random.rand(4,4)\n",
    "print(\"original matrix: \\n\", np.round(G,2))\n",
    "\n",
    "mat = np.linalg.inv(G)\n",
    "print(\"\\nInverse of  matrix: \\n\", np.round(mat,2))"
   ]
  },
  {
   "cell_type": "code",
   "execution_count": null,
   "id": "9878ebec-a4a0-4f9b-89c3-4bb03f326129",
   "metadata": {},
   "outputs": [],
   "source": []
  }
 ],
 "metadata": {
  "kernelspec": {
   "display_name": "Python 3 (ipykernel)",
   "language": "python",
   "name": "python3"
  },
  "language_info": {
   "codemirror_mode": {
    "name": "ipython",
    "version": 3
   },
   "file_extension": ".py",
   "mimetype": "text/x-python",
   "name": "python",
   "nbconvert_exporter": "python",
   "pygments_lexer": "ipython3",
   "version": "3.10.8"
  }
 },
 "nbformat": 4,
 "nbformat_minor": 5
}
