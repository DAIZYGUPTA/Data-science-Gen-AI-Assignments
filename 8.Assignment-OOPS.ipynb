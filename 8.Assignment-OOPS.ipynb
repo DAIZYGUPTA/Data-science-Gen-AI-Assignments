{
 "cells": [
  {
   "cell_type": "code",
   "execution_count": null,
   "id": "03be644b-dadf-4c15-b49e-e933c786f458",
   "metadata": {},
   "outputs": [],
   "source": [
    "'''\n",
    "Module 8 - OOPS\n",
    "Assignment - Functions & OOPs\n",
    "13th March\n",
    "'''"
   ]
  },
  {
   "cell_type": "markdown",
   "id": "eb0eda72-e937-4c70-aa4f-e0ddab0ca633",
   "metadata": {},
   "source": [
    "Q1. Explain the importance of Functions."
   ]
  },
  {
   "cell_type": "code",
   "execution_count": null,
   "id": "f9b32b69-9fa5-4d0b-863d-0c421f3ed013",
   "metadata": {},
   "outputs": [],
   "source": [
    "'''\n",
    "1)Promote Modularity: Breaking code into smaller, manageable pieces.\n",
    "2)Enable Reuse: Reducing redundancy by allowing code to be used multiple times.\n",
    "3)Provide Abstraction: Hiding complex implementation details behind a simple interface.\n",
    "4)Enhance Readability: Giving meaningful names and improving code comprehension.\n",
    "5)Facilitate Debugging and Testing: Isolating code for easier troubleshooting.\n",
    "6)Manage Scoping: Limiting variable accessibility for better code organization.\n",
    "7)Allow Parameterization: Customizing behavior based on input values.\n",
    "8)Ensure Maintainability: Simplifying updates and modifications to the codebase.\n",
    "'''"
   ]
  },
  {
   "cell_type": "markdown",
   "id": "e1222157-d374-45c3-87c8-7391536380e1",
   "metadata": {},
   "source": [
    "Q2. Write a basic function to greet students."
   ]
  },
  {
   "cell_type": "code",
   "execution_count": 21,
   "id": "2845cb68-8e7b-4c84-8e9e-a5ba638ed4ee",
   "metadata": {},
   "outputs": [
    {
     "name": "stdout",
     "output_type": "stream",
     "text": [
      "Hello, Welcome Daizy\n",
      "Hello, Welcome Jia\n"
     ]
    }
   ],
   "source": [
    "def greet(name):\n",
    "    print(f\"Hello, Welcome {name}\") \n",
    "    \n",
    "s1= greet(\"Daizy\")\n",
    "s2 = greet(\"Jia\")"
   ]
  },
  {
   "cell_type": "markdown",
   "id": "51d6ae56-3033-4b53-92df-6d09d6a65046",
   "metadata": {},
   "source": [
    "Q3. what is the difference between print and return statements?"
   ]
  },
  {
   "cell_type": "code",
   "execution_count": 2,
   "id": "387ad0b8-1aa7-42db-a7a0-40e7bb51bc3a",
   "metadata": {},
   "outputs": [
    {
     "name": "stdout",
     "output_type": "stream",
     "text": [
      "Hello, world!\n"
     ]
    },
    {
     "data": {
      "text/plain": [
       "4"
      ]
     },
     "execution_count": 2,
     "metadata": {},
     "output_type": "execute_result"
    }
   ],
   "source": [
    "# Print Statement: Used to display output to the console or terminal. It doesn't affect the program's flow.\n",
    "# Example:\n",
    "\n",
    "print(\"Hello, world!\")\n",
    "\n",
    "# Return Statement: Used to exit a function and return a value to the caller. It passes a value back to where the function was called.\n",
    "# Example:\n",
    "\n",
    "def add(a,b):\n",
    "    s=a+b\n",
    "    return s\n",
    "add(2,2)"
   ]
  },
  {
   "cell_type": "markdown",
   "id": "e59aa495-0f69-4bce-a06c-ec61c118724d",
   "metadata": {},
   "source": [
    "Q4. what are *args and **kwargs?"
   ]
  },
  {
   "cell_type": "code",
   "execution_count": 4,
   "id": "972357e7-59e9-4a7d-b7c3-0662f7fb831f",
   "metadata": {},
   "outputs": [
    {
     "name": "stdout",
     "output_type": "stream",
     "text": [
      "Positional arguments (args): (1, 2, 3, 4)\n",
      "Keyword arguments (kwargs): {'a': 'apple', 'b': 'banana', 'c': 'cherry'}\n"
     ]
    }
   ],
   "source": [
    "'''\n",
    "*args and **kwargs are special syntaxes in Python used to pass a variable number of arguments to a function.\n",
    "\n",
    "*args: It is used to pass a variable number of positional arguments to a function.\n",
    "The *args parameter collects all the positional arguments passed to the function into a tuple.\n",
    "\n",
    "**kwargs: It is used to pass a variable number of keyword arguments to a function.\n",
    "The **kwargs parameter collects all the keyword arguments passed to the function into a dictionary.\n",
    "'''\n",
    "\n",
    "# Example:\n",
    "\n",
    "def example_function(*args, **kwargs):\n",
    "    print(\"Positional arguments (args):\", args)\n",
    "    print(\"Keyword arguments (kwargs):\", kwargs)\n",
    "\n",
    "example_function(1, 2, 3, 4, a='apple', b='banana', c='cherry')"
   ]
  },
  {
   "cell_type": "markdown",
   "id": "5dcef173-db8c-46c8-ad95-f69c04f5e274",
   "metadata": {},
   "source": [
    "Q5. explain the iterator function"
   ]
  },
  {
   "cell_type": "code",
   "execution_count": 5,
   "id": "56273fa3-3131-46ed-9565-53a67b73ed8a",
   "metadata": {},
   "outputs": [
    {
     "name": "stdout",
     "output_type": "stream",
     "text": [
      "0\n",
      "1\n",
      "4\n",
      "9\n",
      "16\n"
     ]
    }
   ],
   "source": [
    "'''\n",
    "In Python, an iterator is an object that implements the iterator protocol, which consists of two methods: __iter__() and __next__().\n",
    "\n",
    "__iter__(): This method returns the iterator object itself. It's called when you use the iter() function or a loop like for item in iterable:.\n",
    "It initializes or resets the iterator.\n",
    "\n",
    "__next__(): This method returns the next item from the iterator.\n",
    "It's called repeatedly until it raises a StopIteration exception to signal that it has no more items to return.\n",
    "'''\n",
    "\n",
    "# example of an iterator that returns square numbers up to a given limit:\n",
    "\n",
    "class SquaresIterator:\n",
    "    def __init__(self, limit):\n",
    "        self.limit = limit\n",
    "        self.current = 0\n",
    "        \n",
    "    def __iter__(self):\n",
    "        return self\n",
    "    \n",
    "    def __next__(self):\n",
    "        if self.current >= self.limit:\n",
    "            raise StopIteration\n",
    "        square = self.current ** 2\n",
    "        self.current += 1\n",
    "        return square\n",
    "\n",
    "squares = SquaresIterator(5)\n",
    "for square in squares:\n",
    "    print(square)\n",
    "\n",
    "'''\n",
    "In this example, SquaresIterator is an iterator that yields square numbers up to a specified limit.\n",
    "Each time __next__() is called, it returns the square of the current number and advances to the next number until it reaches the limit.\n",
    "When there are no more items to return, it raises a StopIteration exception, which terminates the iteration.\n",
    "'''"
   ]
  },
  {
   "cell_type": "markdown",
   "id": "c8ee9cc0-0e59-4549-a513-b1d21026198c",
   "metadata": {},
   "source": [
    "Q6. write a code that generates the squares of numbers from 1 to n using generator."
   ]
  },
  {
   "cell_type": "code",
   "execution_count": 6,
   "id": "275d4198-7bd5-463d-a8c2-c1173e298acb",
   "metadata": {},
   "outputs": [
    {
     "name": "stdin",
     "output_type": "stream",
     "text": [
      "enter number : 5\n"
     ]
    },
    {
     "name": "stdout",
     "output_type": "stream",
     "text": [
      "[1, 4, 9, 16, 25]\n"
     ]
    }
   ],
   "source": [
    "n = int(input(\"enter number :\"))\n",
    "squares_generator = (i ** 2 for i in range(1, n + 1))  # use of generator expression\n",
    "squares_list = list(squares_generator)\n",
    "\n",
    "print(squares_list)\n"
   ]
  },
  {
   "cell_type": "markdown",
   "id": "40ac17a2-d776-4fa2-8978-3e4da8f1bd64",
   "metadata": {},
   "source": [
    "Q7. write a code that generates palindromic numbers upto n using generator."
   ]
  },
  {
   "cell_type": "code",
   "execution_count": 16,
   "id": "de36ca41-d3b4-4d7a-80c3-803b755d0823",
   "metadata": {},
   "outputs": [
    {
     "name": "stdin",
     "output_type": "stream",
     "text": [
      "Enter a number:  666\n"
     ]
    },
    {
     "name": "stdout",
     "output_type": "stream",
     "text": [
      "Palindromic numbers up to 666 : [0, 1, 2, 3, 4, 5, 6, 7, 8, 9, 11, 22, 33, 44, 55, 66, 77, 88, 99, 101, 111, 121, 131, 141, 151, 161, 171, 181, 191, 202, 212, 222, 232, 242, 252, 262, 272, 282, 292, 303, 313, 323, 333, 343, 353, 363, 373, 383, 393, 404, 414, 424, 434, 444, 454, 464, 474, 484, 494, 505, 515, 525, 535, 545, 555, 565, 575, 585, 595, 606, 616, 626, 636, 646, 656, 666]\n"
     ]
    }
   ],
   "source": [
    "def is_palindrome(num):\n",
    "    return str(num) == str(num)[::-1]\n",
    "\n",
    "def generate_palindromes(n):\n",
    "    for i in range(n + 1):\n",
    "        if is_palindrome(i):\n",
    "            yield i\n",
    "\n",
    "\n",
    "n = int(input(\"Enter a number: \"))\n",
    "palindrome_generator = generate_palindromes(n)\n",
    "palindromes_list = list(palindrome_generator)\n",
    "\n",
    "print(\"Palindromic numbers up to\", n, \":\", palindromes_list)\n"
   ]
  },
  {
   "cell_type": "markdown",
   "id": "768c8d7f-b1f3-426f-b776-e12ad75e9514",
   "metadata": {},
   "source": [
    "Q8. write a code that generates even numbers from 2 to n using a generator."
   ]
  },
  {
   "cell_type": "code",
   "execution_count": 9,
   "id": "5c8d295b-80da-4027-9c1d-b5217e400eb7",
   "metadata": {},
   "outputs": [
    {
     "name": "stdin",
     "output_type": "stream",
     "text": [
      "enter number :  8\n"
     ]
    },
    {
     "name": "stdout",
     "output_type": "stream",
     "text": [
      "[2, 4, 6, 8]\n"
     ]
    }
   ],
   "source": [
    "n = int(input(\"enter number : \"))\n",
    "\n",
    "even_num = (i for i in range(2, n+1) if i%2 == 0) # generator expression that yields even numbers from 2 to n (inclusive) using a conditional statement.\n",
    "even_list = list(even_num)\n",
    "print(even_list)"
   ]
  },
  {
   "cell_type": "markdown",
   "id": "11deb3a4-2c74-4388-acca-94b8335997e7",
   "metadata": {},
   "source": [
    "Q9. write a code that generates powers of two up to n using a generator."
   ]
  },
  {
   "cell_type": "code",
   "execution_count": 25,
   "id": "d9ecbff5-b3b5-4102-bb2b-927b8b0d33fa",
   "metadata": {},
   "outputs": [
    {
     "name": "stdin",
     "output_type": "stream",
     "text": [
      "Enter the value of n:  6\n"
     ]
    },
    {
     "name": "stdout",
     "output_type": "stream",
     "text": [
      "1\n",
      "2\n",
      "4\n",
      "8\n",
      "16\n",
      "32\n",
      "64\n"
     ]
    }
   ],
   "source": [
    "def powers_of_two(n):\n",
    "    power = 0\n",
    "    while power <= n:\n",
    "        yield 2 ** power\n",
    "        power += 1\n",
    "\n",
    "# Test the generator\n",
    "n = int(input(\"Enter the value of n: \"))\n",
    "for value in powers_of_two(n):\n",
    "    print(value)\n"
   ]
  },
  {
   "cell_type": "markdown",
   "id": "4ca84c16-b75e-43a4-935a-fc92448eaefb",
   "metadata": {},
   "source": [
    "Q10. write a code that generates prime numbers up to n using a generator."
   ]
  },
  {
   "cell_type": "code",
   "execution_count": 26,
   "id": "a807ed75-90eb-4e06-a627-dc02d091f86e",
   "metadata": {},
   "outputs": [
    {
     "name": "stdin",
     "output_type": "stream",
     "text": [
      "Enter the value of n:  10\n"
     ]
    },
    {
     "name": "stdout",
     "output_type": "stream",
     "text": [
      "Prime numbers up to 10 are:\n",
      "2\n",
      "3\n",
      "5\n",
      "7\n"
     ]
    }
   ],
   "source": [
    "def is_prime(num):\n",
    "    if num < 2:\n",
    "        return False\n",
    "    for i in range(2, int(num**0.5) + 1):\n",
    "        if num % i == 0:\n",
    "            return False\n",
    "    return True\n",
    "\n",
    "def generate_primes(n):\n",
    "    for num in range(2, n + 1):\n",
    "        if is_prime(num):\n",
    "            yield num\n",
    "\n",
    "# Test the generator\n",
    "n = int(input(\"Enter the value of n: \"))\n",
    "print(\"Prime numbers up to\", n, \"are:\")\n",
    "for prime in generate_primes(n):\n",
    "    print(prime)\n"
   ]
  },
  {
   "cell_type": "markdown",
   "id": "ea2a7330-4b6d-413d-ba08-219c1c5f64d4",
   "metadata": {},
   "source": [
    "Q11. Write a code that uses a lambda function to calculate the sum of two numbers."
   ]
  },
  {
   "cell_type": "code",
   "execution_count": 19,
   "id": "376428d6-0675-4070-a354-56ba9b674509",
   "metadata": {},
   "outputs": [
    {
     "name": "stdout",
     "output_type": "stream",
     "text": [
      "4\n",
      "30\n"
     ]
    }
   ],
   "source": [
    "add = lambda x,y : x+y\n",
    "print(add(2,2))\n",
    "print(add(24,6))"
   ]
  },
  {
   "cell_type": "markdown",
   "id": "ef297a43-4140-4671-9105-d74e3f77b8d1",
   "metadata": {},
   "source": [
    "Q12. Write a code that uses a lambda function to calculate the square of a given number."
   ]
  },
  {
   "cell_type": "code",
   "execution_count": 16,
   "id": "232370be-a2bf-4894-b49b-69df87c86395",
   "metadata": {},
   "outputs": [
    {
     "name": "stdout",
     "output_type": "stream",
     "text": [
      "16\n",
      "256\n"
     ]
    }
   ],
   "source": [
    "sqr = lambda x : x**2\n",
    "print(sqr(4))\n",
    "print(sqr(16))"
   ]
  },
  {
   "cell_type": "markdown",
   "id": "8456b259-7de7-4246-ae95-de3c8f076dea",
   "metadata": {},
   "source": [
    "Q13. Write a code that uses a lambda function to check whether a given number is even or odd. "
   ]
  },
  {
   "cell_type": "code",
   "execution_count": 15,
   "id": "4c51f9a6-e8d5-4b73-9cb7-dd426f2e1463",
   "metadata": {},
   "outputs": [
    {
     "name": "stdout",
     "output_type": "stream",
     "text": [
      "4 is even\n",
      "5 is odd\n"
     ]
    }
   ],
   "source": [
    "even_odd = lambda x : print(f\"{x} is even\") if x%2==0 else print(f\"{x} is odd\")\n",
    "even_odd(4)\n",
    "even_odd(5)"
   ]
  },
  {
   "cell_type": "markdown",
   "id": "230b9766-1cd3-47d5-92cd-3fc33c016023",
   "metadata": {},
   "source": [
    "Q15. Write a code that uses a lambda function to concatenate two strings."
   ]
  },
  {
   "cell_type": "code",
   "execution_count": 25,
   "id": "4a453f6e-a88f-45b0-b27b-9ea56dc48b5b",
   "metadata": {},
   "outputs": [
    {
     "name": "stdout",
     "output_type": "stream",
     "text": [
      "data science\n",
      "daizy gupta\n"
     ]
    }
   ],
   "source": [
    "cat_str = lambda s1,s2 : s1+' ' +s2\n",
    "print(cat_str(\"data\" , \"science\"))\n",
    "print(cat_str(\"daizy\" , \"gupta\"))"
   ]
  },
  {
   "cell_type": "markdown",
   "id": "9c140093-e606-4e0d-adaa-a6ade52c4ef7",
   "metadata": {},
   "source": [
    "Q16. Write a code that uses a lambda function to find the maximum of three given numbers."
   ]
  },
  {
   "cell_type": "code",
   "execution_count": 3,
   "id": "2d3b15e8-e7eb-4e4c-a822-14a85621cedc",
   "metadata": {},
   "outputs": [
    {
     "name": "stdout",
     "output_type": "stream",
     "text": [
      "Max number is : 24\n",
      "Max number is : 27\n"
     ]
    }
   ],
   "source": [
    "max_num = lambda x,y,z : max(x,y,z)\n",
    "print(\"Max number is :\", max_num(4,24,6))\n",
    "print(\"Max number is :\", max_num(27,11,27))"
   ]
  },
  {
   "cell_type": "markdown",
   "id": "a9357cc3-96e6-44db-9398-ff29bd49866c",
   "metadata": {},
   "source": [
    "Q17. write a code that generates the squares of even numbers from a given list."
   ]
  },
  {
   "cell_type": "code",
   "execution_count": 4,
   "id": "edd2127f-2f13-43b2-b838-01e92f2f0f86",
   "metadata": {},
   "outputs": [
    {
     "name": "stdin",
     "output_type": "stream",
     "text": [
      "enter elements of list seperated by comma:  1,2,3,4,5,6,7,8\n"
     ]
    },
    {
     "name": "stdout",
     "output_type": "stream",
     "text": [
      "list of squares of even numbers are : [4, 16, 36, 64]\n"
     ]
    }
   ],
   "source": [
    "lst = input(\"enter elements of list seperated by comma: \")\n",
    "lst = lst.split(',')  \n",
    "\n",
    "def even_squares(lst):\n",
    "    l1=[]\n",
    "    for num in lst:\n",
    "        i = int(num)   # convert string to integer\n",
    "        if i%2==0 :\n",
    "            i = i**2\n",
    "            l1.append(i)\n",
    "    return l1\n",
    "            \n",
    "print(\"list of squares of even numbers are :\", even_squares(lst))"
   ]
  },
  {
   "cell_type": "code",
   "execution_count": 21,
   "id": "e9725ac3-9e7d-4e6e-96b9-f875b8365f94",
   "metadata": {},
   "outputs": [
    {
     "name": "stdin",
     "output_type": "stream",
     "text": [
      "enter elements of list seperated by comma:  2,3,4,5,6,7,8\n"
     ]
    },
    {
     "name": "stdout",
     "output_type": "stream",
     "text": [
      "Even numbers from the given list are:  [2, 4, 6, 8]\n",
      "and their square are:  [4, 16, 36, 64]\n"
     ]
    }
   ],
   "source": [
    "## ANOTHER METHOD for Q17\n",
    "\n",
    "lst = input(\"enter elements of list seperated by comma: \")\n",
    "lst = lst.split(',') \n",
    "lst = list(map(int,lst))     #convert string to integers\n",
    "\n",
    "even = [i for i in lst if i%2==0]\n",
    "square_even = [i**2 for i in even]\n",
    "print(\"Even numbers from the given list are: \",even)\n",
    "print(\"and their square are: \", square_even)"
   ]
  },
  {
   "cell_type": "markdown",
   "id": "77c8a56a-848c-4b5c-a8ac-dcdb25ee97b1",
   "metadata": {},
   "source": [
    "Q18. write a code that calculates the product of positive numbers from a given list."
   ]
  },
  {
   "cell_type": "code",
   "execution_count": 28,
   "id": "c395a2d0-d530-42d1-8341-f304efbec75d",
   "metadata": {},
   "outputs": [
    {
     "name": "stdin",
     "output_type": "stream",
     "text": [
      "enter elements of list seperated by comma:  2,-2,3,-3,5,-5\n"
     ]
    },
    {
     "name": "stdout",
     "output_type": "stream",
     "text": [
      "positive numbers from the given list are:  [2, 3, 5]\n",
      "product of positive numbers is :  30\n"
     ]
    }
   ],
   "source": [
    "from functools import reduce \n",
    "\n",
    "lst = input(\"enter elements of list seperated by comma: \")\n",
    "lst = lst.split(',')\n",
    "lst = list(map(int, lst))       #convert string to integers\n",
    "\n",
    "positive_num = [num for num in lst if num>=0]\n",
    "product_num = lambda x,y : x*y\n",
    "result = reduce(product_num, positive_num)\n",
    "print(\"positive numbers from the given list are: \",positive_num)\n",
    "print(\"product of positive numbers is : \",result)"
   ]
  },
  {
   "cell_type": "markdown",
   "id": "194d4e24-52fa-4679-97bc-7d4d564992cf",
   "metadata": {},
   "source": [
    "Q19. write a code that doubles the values of odd numbers from a given list."
   ]
  },
  {
   "cell_type": "code",
   "execution_count": 30,
   "id": "8d45d98f-4334-4f5c-ba96-1522316313f0",
   "metadata": {},
   "outputs": [
    {
     "name": "stdin",
     "output_type": "stream",
     "text": [
      "enter elements of list seperated by comma:  2,3,4,5,6,7,8\n"
     ]
    },
    {
     "name": "stdout",
     "output_type": "stream",
     "text": [
      "odd numbers from given list are:  [3, 5, 7]\n",
      "odd numbers after their values are doubled :  [6, 10, 14]\n"
     ]
    }
   ],
   "source": [
    "lst = input(\"enter elements of list seperated by comma: \")\n",
    "lst = lst.split(',')\n",
    "lst = list(map(int, lst))       #convert string to integers\n",
    "\n",
    "odd_num = [num for num in lst if num%2!=0]\n",
    "double_value_odd = [num*2 for num in odd_num]\n",
    "print(\"odd numbers from given list are: \",odd_num)\n",
    "print(\"odd numbers after their values are doubled : \",double_value_odd)"
   ]
  },
  {
   "cell_type": "markdown",
   "id": "4169781c-0241-4b3c-906c-06923da97008",
   "metadata": {},
   "source": [
    "Q20. Write a code that calculates the sum of cubes of numbers from a given list"
   ]
  },
  {
   "cell_type": "code",
   "execution_count": 32,
   "id": "b7e6e7b2-cd6d-44ff-9436-0f98725ca381",
   "metadata": {},
   "outputs": [
    {
     "name": "stdin",
     "output_type": "stream",
     "text": [
      "enter elements of list seperated by comma:  2,3\n"
     ]
    },
    {
     "name": "stdout",
     "output_type": "stream",
     "text": [
      "sum of cubes of numbers from given list :  35\n"
     ]
    }
   ],
   "source": [
    "lst = input(\"enter elements of list seperated by comma: \")\n",
    "lst = lst.split(',')\n",
    "lst = list(map(int, lst))       #convert string to integers\n",
    "\n",
    "sum_of_cubes = sum([x**3 for x in lst])\n",
    "print(\"sum of cubes of numbers from given list : \",sum_of_cubes)"
   ]
  },
  {
   "cell_type": "markdown",
   "id": "709a9aa8-7bdb-4fff-996b-07af70566bed",
   "metadata": {},
   "source": [
    "Q21.Write a code that filters out prime numbers from a given list"
   ]
  },
  {
   "cell_type": "code",
   "execution_count": 8,
   "id": "e4738c0d-2228-4a20-9070-f89bc6a446c8",
   "metadata": {},
   "outputs": [
    {
     "name": "stdin",
     "output_type": "stream",
     "text": [
      "enter elements of list seperated by comma:  1,2,3,4,5,6,7,8,9,0\n"
     ]
    },
    {
     "name": "stdout",
     "output_type": "stream",
     "text": [
      "prime numbers from given list are:  [2, 3, 5, 7]\n"
     ]
    }
   ],
   "source": [
    "def is_prime(n):\n",
    "    if n<=1 :\n",
    "        return False\n",
    "    for i in range(2, int(n**0.5) +1) :\n",
    "        if n % i == 0 :\n",
    "            return False\n",
    "    return True\n",
    "    \n",
    "\n",
    "lst = input(\"enter elements of list seperated by comma: \")\n",
    "lst = lst.split(',')\n",
    "lst = list(map(int, lst))       #convert string to integers\n",
    "\n",
    "prime_numbers = [num for num in lst if is_prime(num)]\n",
    "print(\"prime numbers from given list are: \", prime_numbers)"
   ]
  },
  {
   "cell_type": "markdown",
   "id": "b13822ac-7202-4e02-9630-9663cc24826e",
   "metadata": {},
   "source": [
    "Q22. Write a code that uses a lambda function to calculate the sum of two numbers."
   ]
  },
  {
   "cell_type": "code",
   "execution_count": 9,
   "id": "9a206408-001d-49ff-9d25-87eb02e7c9d1",
   "metadata": {},
   "outputs": [
    {
     "name": "stdout",
     "output_type": "stream",
     "text": [
      "sum of given numbers is : 10\n"
     ]
    }
   ],
   "source": [
    "sum_of_num = lambda x,y:x+y\n",
    "print(f\"sum of given numbers is : {sum_of_num(4,6)}\")"
   ]
  },
  {
   "cell_type": "markdown",
   "id": "2f5f26b8-cbc0-48e1-8c11-e975ffc3da0c",
   "metadata": {},
   "source": [
    "Q23. Write a code that uses a lambda function to calculate the square of a given number."
   ]
  },
  {
   "cell_type": "code",
   "execution_count": 10,
   "id": "2c8d92af-66fe-41aa-b54e-e53a5540f953",
   "metadata": {},
   "outputs": [
    {
     "name": "stdout",
     "output_type": "stream",
     "text": [
      "square of given number is : 16\n"
     ]
    }
   ],
   "source": [
    "square_num = lambda x : x**2\n",
    "print(f\"square of given number is : {square_num(4)}\")"
   ]
  },
  {
   "cell_type": "markdown",
   "id": "be79f6d5-a987-4307-8722-4c7c5c31bfeb",
   "metadata": {},
   "source": [
    "Q24. Write a code that uses a lambda function to check whether a given number is even or odd"
   ]
  },
  {
   "cell_type": "code",
   "execution_count": 11,
   "id": "cec11ffa-492f-4aff-82ba-a8cfdb384e5c",
   "metadata": {},
   "outputs": [
    {
     "data": {
      "text/plain": [
       "'Even'"
      ]
     },
     "execution_count": 11,
     "metadata": {},
     "output_type": "execute_result"
    }
   ],
   "source": [
    "even_odd = lambda x : \"Even\" if x%2==0 else \"Odd\"\n",
    "even_odd(4)"
   ]
  },
  {
   "cell_type": "markdown",
   "id": "59532737-49c7-4537-b2e6-de8a75a4be0a",
   "metadata": {},
   "source": [
    "Q25.Write a code that uses a lambda function to concatenate two strings."
   ]
  },
  {
   "cell_type": "code",
   "execution_count": 14,
   "id": "500fecfe-d83e-466b-af5b-22142f433c83",
   "metadata": {},
   "outputs": [
    {
     "data": {
      "text/plain": [
       "'Flabbergasted'"
      ]
     },
     "execution_count": 14,
     "metadata": {},
     "output_type": "execute_result"
    }
   ],
   "source": [
    "string_cat = lambda x,y : x+y\n",
    "string_cat(\"Flabber\" , \"gasted\")"
   ]
  },
  {
   "cell_type": "markdown",
   "id": "ad42d5a7-73a5-494a-baee-1aab52bc9cb3",
   "metadata": {},
   "source": [
    "Q26. Write a code that uses a lambda function to find the maximum of three given numbers."
   ]
  },
  {
   "cell_type": "code",
   "execution_count": 15,
   "id": "0a6a61b9-c8a1-48b5-a48b-ef7dd19f7a86",
   "metadata": {},
   "outputs": [
    {
     "data": {
      "text/plain": [
       "847"
      ]
     },
     "execution_count": 15,
     "metadata": {},
     "output_type": "execute_result"
    }
   ],
   "source": [
    "max_num = lambda x,y,z : max(x,y,z)\n",
    "max_num(24,27,847)"
   ]
  },
  {
   "cell_type": "markdown",
   "id": "abb43a8a-8d88-4e8b-80d1-b6d9ad67ccef",
   "metadata": {},
   "source": [
    "Q27. What is encapsulation in OOP?"
   ]
  },
  {
   "cell_type": "code",
   "execution_count": 1,
   "id": "da2de15f-470c-4b00-b07d-61f7e92da892",
   "metadata": {},
   "outputs": [
    {
     "name": "stdout",
     "output_type": "stream",
     "text": [
      "Make: Toyota\n",
      "Model: Camry\n",
      "Year: 2022\n",
      "Updated Make: Honda\n",
      "Updated Model: Accord\n",
      "Updated Year: 2020\n"
     ]
    }
   ],
   "source": [
    "'''\n",
    "Encapsulation is one of the fundamental concepts in object-oriented programming (OOP).\n",
    "It refers to the bundling of data (attributes or properties) and methods (functions or procedures) that operate on that data into a single unit, called a class.\n",
    "Encapsulation hides the internal state of an object from the outside world and only exposes the necessary functionalities, thus providing a clear interface for interacting with the object.\n",
    "\n",
    "Key principles of encapsulation include:\n",
    "\n",
    "1) Data Hiding: The internal state of an object is typically hidden from direct access by external code.\n",
    "Instead, access to the object's data is mediated through methods or properties.\n",
    "\n",
    "2) Access Control: Encapsulation allows you to control how the internal state of an object can be modified or accessed.\n",
    "This is often achieved through access modifiers such as public, private, and protected in languages like Java, C++, and C#.\n",
    "\n",
    "3) Abstraction: Encapsulation enables abstraction by defining a clear interface for interacting with an object while hiding the implementation details.\n",
    "This helps in managing complexity and promotes code reuse.\n",
    "\n",
    "4) Modularity: Encapsulation promotes modularity by grouping related data and behaviors together within a class.\n",
    "This makes it easier to understand and maintain the codebase.\n",
    "'''\n",
    "# Example:\n",
    "\n",
    "class Car:\n",
    "    def __init__(self, make, model, year):\n",
    "        self.__make = make             # Private attribute\n",
    "        self.__model = model           # Private attribute\n",
    "        self.__year = year             # Private attribute\n",
    "\n",
    "    def get_make(self):\n",
    "        return self.__make\n",
    "\n",
    "    def set_make(self, make):\n",
    "        self.__make = make\n",
    "\n",
    "    def get_model(self):\n",
    "        return self.__model\n",
    "\n",
    "    def set_model(self, model):\n",
    "        self.__model = model\n",
    "\n",
    "    def get_year(self):\n",
    "        return self.__year\n",
    "\n",
    "    def set_year(self, year):\n",
    "        self.__year = year\n",
    "\n",
    "\n",
    "# Create a Car object\n",
    "my_car = Car(\"Toyota\", \"Camry\", 2022)\n",
    "\n",
    "# Accessing attributes using getter methods\n",
    "print(\"Make:\", my_car.get_make())\n",
    "print(\"Model:\", my_car.get_model())\n",
    "print(\"Year:\", my_car.get_year())\n",
    "\n",
    "# Modifying attributes using setter methods\n",
    "my_car.set_make(\"Honda\")\n",
    "my_car.set_model(\"Accord\")\n",
    "my_car.set_year(2020)\n",
    "\n",
    "# Accessing modified attributes\n",
    "print(\"Updated Make:\", my_car.get_make())\n",
    "print(\"Updated Model:\", my_car.get_model())\n",
    "print(\"Updated Year:\", my_car.get_year())\n",
    "\n"
   ]
  },
  {
   "cell_type": "markdown",
   "id": "c9aedbdc-85f0-44f5-9043-cd8209ac8dbd",
   "metadata": {},
   "source": [
    "Q28. Explain the use of access modifiers in Python classes."
   ]
  },
  {
   "cell_type": "code",
   "execution_count": 2,
   "id": "b81ad798-4811-44d9-82c0-6977a04abbf1",
   "metadata": {},
   "outputs": [
    {
     "name": "stdout",
     "output_type": "stream",
     "text": [
      "I'm public\n",
      "Public method\n",
      "I'm protected\n",
      "Protected method\n",
      "I'm private\n",
      "Private method\n"
     ]
    }
   ],
   "source": [
    "'''\n",
    "Python does have conventions for controlling access to class members, typically using underscores to indicate the intended visibility.\n",
    "Here's how access modifiers are commonly used in Python classes:\n",
    "\n",
    "=> Public Access: Attributes or methods without underscores are considered public and can be accessed from outside the class.\n",
    "\n",
    "=> Protected Access: Attributes or methods with a single underscore conventionally indicate that they are intended for internal use or for use by subclasses.\n",
    "While they can be accessed from outside the class, it's considered a convention that they should be treated as protected and not accessed directly by external code.\n",
    "\n",
    "=> Private Access: Attributes or methods with double underscores are considered private and are not meant to be accessed from outside the class.\n",
    "However, Python does not enforce true private access, but rather performs name mangling, which means the names get mangled with the class name.\n",
    "Access to these attributes or methods from outside the class is still possible but discouraged.\n",
    "'''\n",
    "\n",
    "# Example\n",
    "\n",
    "class MyClass:\n",
    "    def __init__(self):\n",
    "        self.public_var = \"I'm public\"\n",
    "        self._protected_var = \"I'm protected\"\n",
    "        self.__private_var = \"I'm private\"\n",
    "\n",
    "    def public_method(self):\n",
    "        print(\"Public method\")\n",
    "\n",
    "    def _protected_method(self):\n",
    "        print(\"Protected method\")\n",
    "\n",
    "    def __private_method(self):\n",
    "        print(\"Private method\")\n",
    "\n",
    "\n",
    "obj = MyClass()\n",
    "\n",
    "# Public access\n",
    "print(obj.public_var)  # Output: I'm public\n",
    "obj.public_method()    # Output: Public method\n",
    "\n",
    "# Protected access\n",
    "print(obj._protected_var)  # Output: I'm protected\n",
    "obj._protected_method()    # Output: Protected method\n",
    "\n",
    "# Private access (name mangling)\n",
    "# The following will raise an AttributeError\n",
    "# print(obj.__private_var)\n",
    "# obj.__private_method()\n",
    "\n",
    "# Accessing private members using name mangling\n",
    "print(obj._MyClass__private_var)  # Output: I'm private\n",
    "obj._MyClass__private_method()    # Output: Private method\n"
   ]
  },
  {
   "cell_type": "markdown",
   "id": "e5b8b402-52ce-4f72-92f9-5afa7c16a698",
   "metadata": {},
   "source": [
    "Q29. What is inheritance in OOP?"
   ]
  },
  {
   "cell_type": "code",
   "execution_count": 13,
   "id": "0b787952-9980-46b4-8b44-d6697fc626af",
   "metadata": {},
   "outputs": [
    {
     "name": "stdout",
     "output_type": "stream",
     "text": [
      "Animal speaks\n",
      "Animal speaks\n",
      "Dog barks\n",
      "Cat meows\n",
      "Animal speaks\n",
      "Dog babbles\n"
     ]
    }
   ],
   "source": [
    "'''\n",
    "Inheritance is a fundamental concept in object-oriented programming (OOP) that allows a new class (derived class or subclass) to inherit attributes and methods from an existing class (base class or superclass).\n",
    "This facilitates code reuse and enables the creation of a hierarchy of classes with shared characteristics and behaviors.\n",
    "\n",
    "Types of Inheritance:\n",
    "\n",
    "1) Single Inheritance: A subclass inherits from only one superclass.\n",
    "2) Multiple Inheritance: A subclass inherits from multiple superclasses.\n",
    "3) Multilevel Inheritance: A subclass inherits from a superclass, which in turn inherits from another superclass.\n",
    "4) Hierarchical Inheritance: Multiple subclasses inherit from a single superclass.\n",
    "5) Hybrid Inheritance: A combination of two or more types of inheritance.\n",
    "'''\n",
    "\n",
    "# Example\n",
    "\n",
    "# Base class\n",
    "class Animal:\n",
    "    def speak(self):\n",
    "        print(\"Animal speaks\")\n",
    "\n",
    "# Derived class inheriting from Animal\n",
    "class Dog(Animal):\n",
    "    def bark(self):\n",
    "        print(\"Dog barks\")\n",
    "\n",
    "# Creating objects\n",
    "animal = Animal()\n",
    "dog = Dog()\n",
    "\n",
    "# Using inherited methods\n",
    "animal.speak()  \n",
    "dog.speak()     # (inherited from Animal)\n",
    "dog.bark()      \n",
    "\n",
    "# Overriding method in subclass\n",
    "class Cat(Animal):\n",
    "    def speak(self):\n",
    "        print(\"Cat meows\")\n",
    "\n",
    "cat = Cat()\n",
    "cat.speak()  # Output: Cat meows\n",
    "\n",
    "# Accessing parent's method in subclass\n",
    "class BabyDog(Dog):\n",
    "    def babble(self):\n",
    "        self.speak()  # Accessing parent's method\n",
    "        print(\"Dog babbles\")\n",
    "\n",
    "baby_dog = BabyDog()\n",
    "baby_dog.babble()  # Output: Animal speaks\n",
    "\n",
    "\n"
   ]
  },
  {
   "cell_type": "markdown",
   "id": "deb371a3-5d30-4785-b953-c54d577cbcfa",
   "metadata": {},
   "source": [
    "Q30. Define polymorphism in OOP."
   ]
  },
  {
   "cell_type": "code",
   "execution_count": 2,
   "id": "497f8f07-0fc0-402f-8dcb-a6361b1bad9c",
   "metadata": {},
   "outputs": [
    {
     "name": "stdout",
     "output_type": "stream",
     "text": [
      "9\n",
      "4 6\n",
      "Woof!\n",
      "Meow!\n",
      "Quack!\n",
      "Hello!\n"
     ]
    }
   ],
   "source": [
    "'''\n",
    "Polymorphism in OOP refers to the ability of different objects to respond to the same message (method call) in different ways.\n",
    "There are mainly four types of polymorphism:\n",
    "\n",
    "1) Compile-Time Polymorphism (Method Overloading): This type of polymorphism is achieved when multiple methods in the same class have the same name but different parameters.\n",
    "The method to be called is determined by the number and type of arguments passed.\n",
    "\n",
    "2) Compile-Time Polymorphism (Operator Overloading): In this type, operators are overloaded to provide more intuitive meanings to them based on the operands.\n",
    "For example, you can define how the + operator behaves for different types of objects.\n",
    "\n",
    "3) Run-Time Polymorphism (Method Overriding): This occurs when a subclass provides a specific implementation of a method that is already defined in its superclass.\n",
    "The method to be executed is determined at runtime based on the type of object.\n",
    "\n",
    "4) Run-Time Polymorphism (Duck Typing): This is a feature in some dynamic languages like Python, where the type or the class of an object is less important than the methods it defines.\n",
    "If an object implements a method required by a piece of code, it can be used in that context regardless of its specific type.\n",
    "'''\n",
    "\n",
    "# Example\n",
    "\n",
    "# Compile-Time Polymorphism (Method Overloading)\n",
    "class MathOperations:\n",
    "    def add(self, a, b):\n",
    "        return a + b\n",
    "    \n",
    "    def add(self, a, b, c):  # Overloaded method\n",
    "        return a + b + c\n",
    "\n",
    "math = MathOperations()\n",
    "#print(math.add(2, 3))       # This will raise TypeError\n",
    "print(math.add(2, 3, 4))    # This will print 9\n",
    "\n",
    "# Compile-Time Polymorphism (Operator Overloading)\n",
    "class Point:\n",
    "    def __init__(self, x, y):\n",
    "        self.x = x\n",
    "        self.y = y\n",
    "    \n",
    "    def __add__(self, other):  # Overloading '+' operator\n",
    "        return Point(self.x + other.x, self.y + other.y)\n",
    "\n",
    "p1 = Point(1, 2)\n",
    "p2 = Point(3, 4)\n",
    "result = p1 + p2\n",
    "print(result.x, result.y)   # This will print 4 6\n",
    "\n",
    "# Run-Time Polymorphism (Method Overriding)\n",
    "class Animal:\n",
    "    def make_sound(self):\n",
    "        pass\n",
    "\n",
    "class Dog(Animal):\n",
    "    def make_sound(self):  # Overriding method\n",
    "        return \"Woof!\"\n",
    "\n",
    "class Cat(Animal):\n",
    "    def make_sound(self):  # Overriding method\n",
    "        return \"Meow!\"\n",
    "\n",
    "animals = [Dog(), Cat()]\n",
    "for animal in animals:\n",
    "    print(animal.make_sound())\n",
    "\n",
    "# Run-Time Polymorphism (Duck Typing)\n",
    "class Duck:\n",
    "    def sound(self):\n",
    "        return \"Quack!\"\n",
    "\n",
    "class Human:\n",
    "    def sound(self):\n",
    "        return \"Hello!\"\n",
    "\n",
    "def make_sound(entity):\n",
    "    print(entity.sound())\n",
    "\n",
    "duck = Duck()\n",
    "human = Human()\n",
    "\n",
    "make_sound(duck)    # This will print \"Quack!\"\n",
    "make_sound(human)   # This will print \"Hello!\"\n"
   ]
  },
  {
   "cell_type": "markdown",
   "id": "81529f6a-ed53-4884-a052-9a480cbff88b",
   "metadata": {},
   "source": [
    "Q31. Explain method overriding in Python."
   ]
  },
  {
   "cell_type": "code",
   "execution_count": 3,
   "id": "86fa089c-c6ba-46e6-bedd-383b0ddfa011",
   "metadata": {},
   "outputs": [
    {
     "name": "stdout",
     "output_type": "stream",
     "text": [
      "Woof!\n",
      "Meow!\n"
     ]
    }
   ],
   "source": [
    "'''\n",
    "Method overriding in Python occurs when a subclass provides a specific implementation of a method that is already defined in its superclass.\n",
    "This allows subclasses to provide a specialized version of the method while inheriting the general behavior from the superclass.\n",
    "When an overridden method is called on an instance of the subclass, the subclass's implementation of the method is executed instead of the superclass's implementation.\n",
    "'''\n",
    "\n",
    "# Example\n",
    "\n",
    "class Animal:\n",
    "    def make_sound(self):\n",
    "        return \"Generic animal sound\"\n",
    "\n",
    "class Dog(Animal):\n",
    "    def make_sound(self):  # Overriding method\n",
    "        return \"Woof!\"\n",
    "\n",
    "class Cat(Animal):\n",
    "    def make_sound(self):  # Overriding method\n",
    "        return \"Meow!\"\n",
    "\n",
    "# Creating instances of Dog and Cat\n",
    "dog = Dog()\n",
    "cat = Cat()\n",
    "\n",
    "# Calling the overridden method on instances\n",
    "print(dog.make_sound())  # Output: Woof!\n",
    "print(cat.make_sound())  # Output: Meow!\n",
    "\n"
   ]
  },
  {
   "cell_type": "markdown",
   "id": "69b0c48d-38c3-4ffd-aea6-2adcef070f84",
   "metadata": {},
   "source": [
    "Q32. Define a parent class Animal with a method make_sound that prints \"Generic animal sound\". Create a child class Dog inheriting from Animal with a method make_sound that prints \"Woo!\"."
   ]
  },
  {
   "cell_type": "code",
   "execution_count": 7,
   "id": "786cb88f-8222-483c-bc22-59e439a799cb",
   "metadata": {},
   "outputs": [
    {
     "name": "stdout",
     "output_type": "stream",
     "text": [
      "Woo!\n",
      "Generic animal sound\n"
     ]
    }
   ],
   "source": [
    "class Animal :\n",
    "    def make_sound(self):\n",
    "        print(\"Generic animal sound\")\n",
    "        \n",
    "class Dog(Animal) :\n",
    "    def make_sound(self):\n",
    "        print(\"Woo!\")\n",
    "        super().make_sound()  # call make_sound method of the Animal class \n",
    "        \n",
    "d = Dog() # object of Dog class\n",
    "d.make_sound()\n"
   ]
  },
  {
   "cell_type": "markdown",
   "id": "d0aada86-2971-4057-be79-d6c46811634e",
   "metadata": {},
   "source": [
    "Q33. Define a method move in the Animal class that prints \"Animal moves\". Override the move method in the\n",
    "Dog class to print \"Dog runs.\"\n"
   ]
  },
  {
   "cell_type": "code",
   "execution_count": 9,
   "id": "306e2493-98d9-4337-8312-2b704216111a",
   "metadata": {},
   "outputs": [
    {
     "name": "stdout",
     "output_type": "stream",
     "text": [
      "Dog runs\n"
     ]
    }
   ],
   "source": [
    "class Animal :\n",
    "    def move(self):\n",
    "        print(\"Animal moves.\")\n",
    "        \n",
    "class Dog(Animal):\n",
    "    def move(self):\n",
    "        print(\"Dog runs\")\n",
    "        \n",
    "d = Dog()\n",
    "d.move()\n",
    "\n",
    "'''\n",
    "This demonstrates method overriding in Python, where the child class overrides the behavior of a method defined in the parent class.\n",
    "'''"
   ]
  },
  {
   "cell_type": "markdown",
   "id": "144aa034-93cd-45bd-af94-092806ffd71f",
   "metadata": {},
   "source": [
    "Q34. Create a class Mammal with a method reproduce that prints \"Giving birth to live young.“Create a class DogMammal inheriting from both Dog and Mammal. "
   ]
  },
  {
   "cell_type": "code",
   "execution_count": 20,
   "id": "c48f493d-7653-4b22-9835-e2f5c9f73c6a",
   "metadata": {},
   "outputs": [
    {
     "name": "stdout",
     "output_type": "stream",
     "text": [
      "Giving birth to live young\n",
      "whoo! , whoo!\n"
     ]
    }
   ],
   "source": [
    "class Mammal :\n",
    "    def reproduce(self):\n",
    "        print(\"Giving birth to live young\")\n",
    "\n",
    "class Dog :\n",
    "    def make_sound(self):\n",
    "        print(\"whoo! , whoo!\")        \n",
    "\n",
    "class DogMammal(Mammal , Dog):  # multiple inheritance\n",
    "    pass\n",
    "\n",
    "        \n",
    "obj = DogMammal()\n",
    "\n",
    "obj.reproduce()  # accesing method from Mammal class\n",
    "obj.make_sound()  # accesing method from Dog class"
   ]
  },
  {
   "cell_type": "markdown",
   "id": "0c759f2f-5507-437f-924a-f62cecadf7b4",
   "metadata": {},
   "source": [
    "Q35. Create a class GermanShepherd inheriting from Dog and override the make_sound method to print \"Bark! \"\n"
   ]
  },
  {
   "cell_type": "code",
   "execution_count": 25,
   "id": "1fcf7d14-ab78-449c-b717-172ce2b2aeee",
   "metadata": {},
   "outputs": [
    {
     "name": "stdout",
     "output_type": "stream",
     "text": [
      "Bark\n"
     ]
    }
   ],
   "source": [
    "\"\"\"\n",
    "In this code:\n",
    "\n",
    "The Dog class defines a method make_sound that prints \"Whoo! whoo!\".\n",
    "The GermanShepherd class inherits from the Dog class.\n",
    "The make_sound method is overridden in the GermanShepherd class to print \"Bark!\".\n",
    "An instance of obj is created, and its make_sound method is called, resulting in \"Bark!\" being printed.\n",
    "\n",
    "\"\"\"\n",
    "\n",
    "class Dog :\n",
    "    def make_sound(self):\n",
    "        print(\"Whoo! whoo!\")\n",
    "\n",
    "class GermanShepherd(Dog) :\n",
    "    def make_sound(self):\n",
    "        print(\"Bark\")\n",
    "        \n",
    "obj = GermanShepherd()\n",
    "obj.make_sound()\n",
    " "
   ]
  },
  {
   "cell_type": "markdown",
   "id": "d9120050-98cf-4f66-9bee-526a2df356c1",
   "metadata": {},
   "source": [
    "Q36. Define constructors in both the Animal and Dog\tclasses with different initialization parameters.  "
   ]
  },
  {
   "cell_type": "code",
   "execution_count": 27,
   "id": "e6f569f2-1450-4b6f-a8ee-d916b7d875cd",
   "metadata": {},
   "outputs": [
    {
     "name": "stdout",
     "output_type": "stream",
     "text": [
      "Animal species: Lion\n",
      "Dog breed: German Shepherd\n"
     ]
    }
   ],
   "source": [
    "\"\"\"\n",
    "In this code:\n",
    "\n",
    "The Animal class constructor takes a parameter species and initializes the species attribute.\n",
    "The Dog class constructor takes a parameter breed and initializes the breed attribute.\n",
    "When creating instances of these classes, you pass the required parameters to the constructor.\n",
    "\"\"\"\n",
    "\n",
    "class Animal:\n",
    "    def __init__(self, species):\n",
    "        self.species = species\n",
    "\n",
    "class Dog:\n",
    "    def __init__(self, breed):\n",
    "        self.breed = breed\n",
    "\n",
    "# Example usage:\n",
    "animal = Animal(\"Lion\")\n",
    "print(\"Animal species:\", animal.species)\n",
    "\n",
    "dog = Dog(\"German Shepherd\")\n",
    "print(\"Dog breed:\", dog.breed)   "
   ]
  },
  {
   "cell_type": "markdown",
   "id": "bff62759-451b-420f-a0b7-b68d2d46b545",
   "metadata": {},
   "source": [
    "Q37. What is abstraction in Python? How is it implemented?"
   ]
  },
  {
   "cell_type": "code",
   "execution_count": 4,
   "id": "0e3ac63e-e1b2-4479-869a-2f893784de59",
   "metadata": {},
   "outputs": [
    {
     "name": "stdout",
     "output_type": "stream",
     "text": [
      "Area of rectangle: 20\n",
      "Perimeter of rectangle: 18\n",
      "Area of circle: 153.86\n",
      "Perimeter of circle: 43.96\n"
     ]
    }
   ],
   "source": [
    "'''\n",
    "Abstraction in Python, as in other object-oriented programming languages, is a concept that allows you to hide the complex implementation details of a class and only show the necessary features of an object.\n",
    "It helps in simplifying the complexities and managing the software effectively by focusing on the essential aspects while hiding the irrelevant details.\n",
    "\n",
    "Abstraction is implemented in Python through the use of abstract classes and interfaces.\n",
    "Python itself does not have a built-in mechanism for abstract classes and interfaces like some other languages (e.g., Java), but abstraction can be achieved using the abc module (Abstract Base Classes).\n",
    "'''\n",
    "\n",
    "# Example\n",
    "\n",
    "from abc import ABC, abstractmethod\n",
    "\n",
    "class Shape(ABC):  # Abstract base class\n",
    "    @abstractmethod\n",
    "    def area(self):\n",
    "        pass\n",
    "\n",
    "    @abstractmethod\n",
    "    def perimeter(self):\n",
    "        pass\n",
    "\n",
    "class Rectangle(Shape):\n",
    "    def __init__(self, length, width):\n",
    "        self.length = length\n",
    "        self.width = width\n",
    "    \n",
    "    def area(self):  # Implementation of abstract method\n",
    "        return self.length * self.width\n",
    "    \n",
    "    def perimeter(self):  # Implementation of abstract method\n",
    "        return 2 * (self.length + self.width)\n",
    "\n",
    "class Circle(Shape):\n",
    "    def __init__(self, radius):\n",
    "        self.radius = radius\n",
    "    \n",
    "    def area(self):  # Implementation of abstract method\n",
    "        return 3.14 * self.radius * self.radius\n",
    "    \n",
    "    def perimeter(self):  # Implementation of abstract method\n",
    "        return 2 * 3.14 * self.radius\n",
    "\n",
    "# Creating instances of concrete classes\n",
    "rectangle = Rectangle(5, 4)\n",
    "circle = Circle(7)\n",
    "\n",
    "# Calling methods on instances\n",
    "print(\"Area of rectangle:\", rectangle.area())      # Output: 20\n",
    "print(\"Perimeter of rectangle:\", rectangle.perimeter())  # Output: 18\n",
    "print(\"Area of circle:\", circle.area())            # Output: 153.86\n",
    "print(\"Perimeter of circle:\", circle.perimeter())  # Output: 43.96\n",
    "\n",
    "'''\n",
    "In the above example: \n",
    "Shape is an abstract base class that defines abstract methods area() and perimeter().\n",
    "Rectangle and Circle are concrete subclasses of Shape that provide their own implementations of the abstract methods.\n",
    "An attempt to instantiate an abstract class will raise an error.\n",
    "Abstraction allows us to work with shapes without worrying about the specific details of their implementations. \n",
    "We can treat shapes uniformly, using the common interface defined by the Shape abstract class.\n",
    "'''\n"
   ]
  },
  {
   "cell_type": "markdown",
   "id": "7b1fb2b1-46db-4e50-a348-a8d06f1482fb",
   "metadata": {},
   "source": [
    "Q38. Explain the importance of abstraction in object-oriented programming. "
   ]
  },
  {
   "cell_type": "code",
   "execution_count": null,
   "id": "e14c8b6d-c6be-4dd6-b8ef-2792d3b77d00",
   "metadata": {},
   "outputs": [],
   "source": [
    "'''\n",
    "Abstraction plays a crucial role in object-oriented programming (OOP) for several reasons:\n",
    "\n",
    "=> It allows you to focus on essential features while hiding unnecessary details, making the code easier to understand and maintain.\n",
    "=> It enables code reuse by defining common interfaces that can be implemented by multiple classes, promoting modularity and reducing redundancy.\n",
    "=> Abstraction facilitates polymorphism, where objects of different classes can be treated uniformly based on their common interface, leading to more flexible and extensible code.\n",
    "=> It helps in managing the complexity of large software systems by breaking them down into smaller, more manageable components with well-defined interfaces.\n",
    "Overall, abstraction enhances code readability, reusability, and maintainability, making it an essential concept in OOP.\n",
    "'''"
   ]
  },
  {
   "cell_type": "markdown",
   "id": "57b791b2-9d93-45fa-a74e-cc6a90830b1d",
   "metadata": {},
   "source": [
    "Q39. How are abstract methods different from regular methods in Python?"
   ]
  },
  {
   "cell_type": "code",
   "execution_count": null,
   "id": "51f46ef9-5f10-4c3b-9d39-34175a97317d",
   "metadata": {},
   "outputs": [],
   "source": [
    "'''\n",
    "Abstract methods in Python are methods declared in an abstract base class (ABC) using the @abstractmethod decorator. \n",
    "These methods do not have an implementation in the abstract class but must be implemented by concrete subclasses.\n",
    "Attempting to instantiate a class with abstract methods directly will raise an error.\n",
    "\n",
    "Regular methods, on the other hand, have implementations in the class where they are defined.\n",
    "They can be called directly on instances of the class without requiring any implementation in subclasses.\n",
    "'''"
   ]
  },
  {
   "cell_type": "markdown",
   "id": "9b732864-7320-4d40-a4c7-1d1077c6d7c4",
   "metadata": {},
   "source": [
    "Q40. How can you achieve abstraction using interfaces in Python?"
   ]
  },
  {
   "cell_type": "code",
   "execution_count": 1,
   "id": "fa8c2a41-d70d-4bb2-b516-96c688058509",
   "metadata": {},
   "outputs": [
    {
     "name": "stdout",
     "output_type": "stream",
     "text": [
      "Area of rectangle: 20\n",
      "Area of circle: 153.86\n"
     ]
    }
   ],
   "source": [
    "'''\n",
    "In Python, interfaces can be implemented using abstract classes with abstract methods.\n",
    "By defining abstract methods in an abstract base class (ABC), you can specify a common interface that concrete subclasses must implement.\n",
    "This allows you to achieve abstraction, as objects of different classes can be treated uniformly based on their common interface.\n",
    "\n",
    "'''\n",
    "# Example\n",
    "\n",
    "from abc import ABC, abstractmethod\n",
    "\n",
    "class Shape(ABC):  # Interface\n",
    "    @abstractmethod\n",
    "    def area(self):\n",
    "        pass\n",
    "\n",
    "class Rectangle(Shape):\n",
    "    def __init__(self, length, width):\n",
    "        self.length = length\n",
    "        self.width = width\n",
    "    \n",
    "    def area(self):  # Implementation of abstract method\n",
    "        return self.length * self.width\n",
    "\n",
    "class Circle(Shape):\n",
    "    def __init__(self, radius):\n",
    "        self.radius = radius\n",
    "    \n",
    "    def area(self):  # Implementation of abstract method\n",
    "        return 3.14 * self.radius * self.radius\n",
    "\n",
    "# Creating instances of concrete classes\n",
    "rectangle = Rectangle(5, 4)\n",
    "circle = Circle(7)\n",
    "\n",
    "# Calling methods on instances\n",
    "print(\"Area of rectangle:\", rectangle.area())  # Output: 20\n",
    "print(\"Area of circle:\", circle.area())        # Output: 153.86\n"
   ]
  },
  {
   "cell_type": "markdown",
   "id": "1c48f310-29f8-42d6-a1a3-9e0d8de4ee36",
   "metadata": {},
   "source": [
    "Q41. Can you provide an example of how abstraction can be utilized to create a common interface for a group of related classes in Python?"
   ]
  },
  {
   "cell_type": "code",
   "execution_count": 4,
   "id": "ec184b74-8b5e-4876-8b67-e656f1e158e5",
   "metadata": {},
   "outputs": [
    {
     "name": "stdout",
     "output_type": "stream",
     "text": [
      "Speed of car: 50.0\n",
      "Speed of bicycle: 50.0\n",
      "Speed of motorcycle: 40.0\n"
     ]
    }
   ],
   "source": [
    "'''\n",
    "Let's consider a scenario where we have different types of vehicles (car, bicycle, and motorcycle)\n",
    "and we want to create a common interface to calculate their speeds:\n",
    "'''\n",
    "\n",
    "'''\n",
    "In this below example:\n",
    "\n",
    "Vehicle serves as an abstract base class defining a common interface with an abstract method calculate_speed().\n",
    "Concrete subclasses (Car, Bicycle, and Motorcycle) implement the common interface by providing their own implementations of the calculate_speed() method.\n",
    "Each subclass calculates speed based on its specific attributes (distance and time).\n",
    "By utilizing the common interface provided by the Vehicle abstract class, we can treat objects of different vehicle types uniformly, enabling polymorphism and abstraction.\n",
    "'''\n",
    "\n",
    "# Example\n",
    "\n",
    "from abc import ABC, abstractmethod\n",
    "\n",
    "class Vehicle(ABC):  # Abstract base class\n",
    "    @abstractmethod\n",
    "    def calculate_speed(self):\n",
    "        pass\n",
    "\n",
    "class Car(Vehicle):\n",
    "    def __init__(self, distance, time):\n",
    "        self.distance = distance\n",
    "        self.time = time\n",
    "    \n",
    "    def calculate_speed(self):\n",
    "        return self.distance / self.time\n",
    "\n",
    "class Bicycle(Vehicle):\n",
    "    def __init__(self, distance, time):\n",
    "        self.distance = distance\n",
    "        self.time = time\n",
    "    \n",
    "    def calculate_speed(self):\n",
    "        return self.distance / self.time\n",
    "\n",
    "class Motorcycle(Vehicle):\n",
    "    def __init__(self, distance, time):\n",
    "        self.distance = distance\n",
    "        self.time = time\n",
    "    \n",
    "    def calculate_speed(self):\n",
    "        return self.distance / self.time\n",
    "\n",
    "# Creating instances of different vehicle types\n",
    "car = Car(100, 2)\n",
    "bicycle = Bicycle(50, 1)\n",
    "motorcycle = Motorcycle(120, 3)\n",
    "\n",
    "# Calculating speeds using the common interface\n",
    "print(\"Speed of car:\", car.calculate_speed())            # Output: 50.0\n",
    "print(\"Speed of bicycle:\", bicycle.calculate_speed())    # Output: 50.0\n",
    "print(\"Speed of motorcycle:\", motorcycle.calculate_speed())  # Output: 40.0\n"
   ]
  },
  {
   "cell_type": "markdown",
   "id": "19906278-672c-49bf-aaf0-55df0827d1e8",
   "metadata": {},
   "source": [
    "Q42. How does python achieve polymorphism through method overriding?"
   ]
  },
  {
   "cell_type": "code",
   "execution_count": 5,
   "id": "e6fa67bb-62e0-4ac1-9f02-6cc496634102",
   "metadata": {},
   "outputs": [
    {
     "name": "stdout",
     "output_type": "stream",
     "text": [
      "Woof!\n",
      "Meow!\n"
     ]
    }
   ],
   "source": [
    "'''\n",
    "In Python, polymorphism through method overriding is achieved through dynamic method resolution, also known as late binding. \n",
    "This means that the method to be executed is determined at runtime based on the type of object.\n",
    "\n",
    "When a method is called on an object, Python searches for that method in the object's class.\n",
    "If the method is not found in the class, Python looks for it in the parent classes (superclasses) of the object's class, \n",
    "following the method resolution order (MRO).\n",
    "If the method is found in one of the parent classes, it is executed.\n",
    "Method overriding occurs when a subclass provides a specific implementation of a method that is already defined in its superclass.\n",
    "When an overridden method is called on an instance of the subclass, \n",
    "the subclass's implementation of the method is executed instead of the superclass's implementation.\n",
    "\n",
    "'''\n",
    "\n",
    "class Animal:\n",
    "    def make_sound(self):\n",
    "        print(\"Generic animal sound\")\n",
    "\n",
    "class Dog(Animal):\n",
    "    def make_sound(self):  # Overriding method\n",
    "        print(\"Woof!\")\n",
    "\n",
    "class Cat(Animal):\n",
    "    def make_sound(self):  # Overriding method\n",
    "        print(\"Meow!\")\n",
    "\n",
    "# Creating instances of Dog and Cat\n",
    "dog = Dog()\n",
    "cat = Cat()\n",
    "\n",
    "# Calling the overridden method on instances\n",
    "dog.make_sound()  # Output: Woof!\n",
    "cat.make_sound()  # Output: Meow!\n"
   ]
  },
  {
   "cell_type": "markdown",
   "id": "8eb4f491-4bc8-4477-ad90-5e6ab421f8eb",
   "metadata": {},
   "source": [
    "Q43. Define a base class with a method and a subclass that overrides the method."
   ]
  },
  {
   "cell_type": "code",
   "execution_count": 7,
   "id": "77079b5d-c5cc-4390-a8d7-e1bda98c2189",
   "metadata": {},
   "outputs": [
    {
     "name": "stdout",
     "output_type": "stream",
     "text": [
      "Area of rectangle: 20\n"
     ]
    }
   ],
   "source": [
    "class Shape:\n",
    "    def calculate_area(self):\n",
    "        return 0  # Default implementation, overridden by subclasses\n",
    "\n",
    "class Rectangle(Shape):\n",
    "    def __init__(self, width, height):\n",
    "        self.width = width\n",
    "        self.height = height\n",
    "    \n",
    "    def calculate_area(self):  # Overriding method\n",
    "        return self.width * self.height\n",
    "\n",
    "# Creating an instance of Rectangle\n",
    "rectangle = Rectangle(5, 4)\n",
    "\n",
    "# Calling the overridden method on the instance\n",
    "area = rectangle.calculate_area()\n",
    "print(\"Area of rectangle:\", area)  # Output: 20\n"
   ]
  },
  {
   "cell_type": "markdown",
   "id": "38bbe43e-1d38-4b20-acf8-c553a6bcc291",
   "metadata": {},
   "source": [
    "Q44. Define a base class and multiple subclass with overridden methods. "
   ]
  },
  {
   "cell_type": "code",
   "execution_count": 8,
   "id": "71c1ed31-d5cf-4c45-8914-5157c4edfb6c",
   "metadata": {},
   "outputs": [
    {
     "name": "stdout",
     "output_type": "stream",
     "text": [
      "Dog sounds like: Woof!\n",
      "Cat sounds like: Meow!\n",
      "Bird sounds like: Chirp!\n"
     ]
    }
   ],
   "source": [
    "class Animal:\n",
    "    def make_sound(self):\n",
    "        return \"Generic animal sound\"\n",
    "\n",
    "class Dog(Animal):\n",
    "    def make_sound(self):  # Overriding method\n",
    "        return \"Woof!\"\n",
    "\n",
    "class Cat(Animal):\n",
    "    def make_sound(self):  # Overriding method\n",
    "        return \"Meow!\"\n",
    "\n",
    "class Bird(Animal):\n",
    "    def make_sound(self):  # Overriding method\n",
    "        return \"Chirp!\"\n",
    "\n",
    "# Creating instances of Dog, Cat, and Bird\n",
    "dog = Dog()\n",
    "cat = Cat()\n",
    "bird = Bird()\n",
    "\n",
    "# Calling the overridden method on instances\n",
    "print(\"Dog sounds like:\", dog.make_sound())   # Output: Woof!\n",
    "print(\"Cat sounds like:\", cat.make_sound())   # Output: Meow!\n",
    "print(\"Bird sounds like:\", bird.make_sound()) # Output: Chirp!\n"
   ]
  },
  {
   "cell_type": "markdown",
   "id": "007b4b66-3828-493c-9836-0404f9b9e2db",
   "metadata": {},
   "source": [
    "Q45. How does polymorphism improve code readability and reusability?"
   ]
  },
  {
   "cell_type": "code",
   "execution_count": null,
   "id": "52f98949-c62a-432a-b415-61f38b3664a3",
   "metadata": {},
   "outputs": [],
   "source": [
    "'''\n",
    "Readability:\n",
    "\n",
    "Polymorphism allows you to treat objects of different classes uniformly based on their common interface.\n",
    "This simplifies the code by providing a consistent way to interact with objects regardless of their specific types.\n",
    "By using polymorphism, the code becomes more intuitive and easier to understand as it focuses on what objects can do rather than what they are.\n",
    "\n",
    "\n",
    "Reusability:\n",
    "\n",
    "Polymorphism promotes code reuse by allowing you to write generic code that can work with objects of different types. \n",
    "This reduces redundancy and promotes modularity.\n",
    "With polymorphism, you can define common interfaces or abstract classes that multiple classes can implement.\n",
    "This encourages the reuse of common behaviors and promotes a more modular design.\n",
    "Polymorphism enables you to write generic algorithms and data structures that can be used with different types of objects.\n",
    "This enhances the flexibility and extensibility of the codebase.\n",
    "\n",
    "'''\n"
   ]
  },
  {
   "cell_type": "markdown",
   "id": "e20e25d4-cdbc-45ac-b7a9-58c613b11eb6",
   "metadata": {},
   "source": [
    "Q46. Describe how Python supports polymorphism with duck typing"
   ]
  },
  {
   "cell_type": "code",
   "execution_count": 1,
   "id": "047a75f4-c60d-4189-b81e-7af8b853dba9",
   "metadata": {},
   "outputs": [
    {
     "name": "stdout",
     "output_type": "stream",
     "text": [
      "Quack\n",
      "Woof\n",
      "Meow\n"
     ]
    }
   ],
   "source": [
    "'''\n",
    "Polymorphism in Python is facilitated through a concept called \"duck typing.\" The term \"duck typing\" comes from the phrase \"If it looks like a duck, swims like a duck, and quacks like a duck, then it probably is a duck.\" \n",
    "In Python, this means that the type or class of an object is less important than the methods it defines.\n",
    "\n",
    "Here's how Python supports polymorphism through duck typing:\n",
    "\n",
    "=> Dynamic Typing: Python is dynamically typed, meaning you don't need to specify the type of an object explicitly.\n",
    "This allows for flexibility in accepting different types of objects.\n",
    "\n",
    "=> Method Overriding: You can define methods in subclasses that have the same name as methods in the superclass.\n",
    "When you call a method on an object, Python looks for the method first in the object's class, then recursively in its superclasses until it finds a matching method.\n",
    "'''\n",
    "# Example:\n",
    "\n",
    "class Duck:\n",
    "    def sound(self):\n",
    "        return \"Quack\"\n",
    "\n",
    "class Dog:\n",
    "    def sound(self):\n",
    "        return \"Woof\"\n",
    "\n",
    "class Cat:\n",
    "    def sound(self):\n",
    "        return \"Meow\"\n",
    "\n",
    "# A function that takes any object with a `sound` method and calls it\n",
    "def make_sound(animal):\n",
    "    return animal.sound()\n",
    "\n",
    "# Create instances of different classes\n",
    "duck = Duck()\n",
    "dog = Dog()\n",
    "cat = Cat()\n",
    "\n",
    "# Call the function with instances of different classes\n",
    "print(make_sound(duck))  # Output: Quack\n",
    "print(make_sound(dog))   # Output: Woof\n",
    "print(make_sound(cat))   # Output: Meow\n",
    "\n",
    "'''\n",
    "This example demonstrates how Python allows objects of different types to be treated as if they were the same type, \n",
    "as long as they support the required interface (in this case, having a sound method). \n",
    "This flexibility is a key feature of duck typing and facilitates polymorphic behavior in Python.\n",
    "'''"
   ]
  },
  {
   "cell_type": "markdown",
   "id": "c7e012e9-3656-4597-bc30-94171795f5c4",
   "metadata": {},
   "source": [
    "Q47. How do you achieve encapsulation in Python?"
   ]
  },
  {
   "cell_type": "code",
   "execution_count": 2,
   "id": "35d95628-f741-40ca-b2a6-99e7e3ed71c2",
   "metadata": {},
   "outputs": [
    {
     "name": "stdout",
     "output_type": "stream",
     "text": [
      "2020\n",
      "Toyota\n",
      "Brand: Toyota, Model: Camry, Year: 2020\n"
     ]
    }
   ],
   "source": [
    "'''\n",
    "Encapsulation in Python is achieved through the use of classes and access modifiers.\n",
    "Access modifiers help control the visibility of attributes and methods within a class,\n",
    "thus enforcing encapsulation by preventing direct access to internal implementation details from outside the class\n",
    "\n",
    "'''\n",
    "# Example:\n",
    "\n",
    "class Car:\n",
    "    def __init__(self, brand, model, year):\n",
    "        self.__brand = brand  # private attribute\n",
    "        self._model = model    # protected attribute\n",
    "        self.year = year       # public attribute\n",
    "\n",
    "    def get_brand(self):      # getter method for brand\n",
    "        return self.__brand\n",
    "\n",
    "    def set_model(self, model):  # setter method for model\n",
    "        self._model = model\n",
    "\n",
    "    def display_info(self):\n",
    "        print(f\"Brand: {self.__brand}, Model: {self._model}, Year: {self.year}\")\n",
    "\n",
    "\n",
    "# Creating an instance of the Car class\n",
    "my_car = Car(\"Toyota\", \"Corolla\", 2020)\n",
    "\n",
    "# Accessing public attributes directly\n",
    "print(my_car.year)  # Output: 2020\n",
    "\n",
    "# Accessing private and protected attributes indirectly using methods\n",
    "print(my_car.get_brand())  # Output: Toyota\n",
    "my_car.set_model(\"Camry\")  # Set model using setter method\n",
    "\n",
    "# Attempting to access private and protected attributes directly (not recommended)\n",
    "# This will raise an AttributeError\n",
    "# print(my_car.__brand)\n",
    "# print(my_car._model)\n",
    "\n",
    "# Displaying information about the car\n",
    "my_car.display_info()  # Output: Brand: Toyota, Model: Camry, Year: 2020\n",
    "\n",
    "\n"
   ]
  },
  {
   "cell_type": "markdown",
   "id": "b273ad01-1e0d-4619-9ea4-44e8b1a7d732",
   "metadata": {},
   "source": [
    "Q48. Can encapsulation be bypassed in Python? If so, how?"
   ]
  },
  {
   "cell_type": "code",
   "execution_count": 11,
   "id": "6d5a60c2-c4bd-4670-b974-ba5f9548f496",
   "metadata": {},
   "outputs": [
    {
     "name": "stdout",
     "output_type": "stream",
     "text": [
      "42\n",
      "{'_MyClass__private_attr': 42}\n",
      "42\n"
     ]
    }
   ],
   "source": [
    "'''\n",
    "In Python, encapsulation can be bypassed to some extent due to its dynamic nature.\n",
    "While encapsulation conventions such as using double underscores (__) to mark attributes and methods as \"private\" are respected by convention rather than by language enforcement, \n",
    "there are ways to access these supposedly private members.\n",
    "'''\n",
    "\n",
    "'''\n",
    "Here are some ways encapsulation can be bypassed in Python:\n",
    "'''\n",
    "\n",
    "\"\"\"\n",
    "1) Accessing via Class Definition: You can directly access supposedly private members by referring to them using the class definition.\n",
    "\n",
    "\"\"\"\n",
    "\n",
    "# Example\n",
    "\n",
    "class MyClass:\n",
    "    def __init__(self):\n",
    "        self.__private_attr = 42\n",
    "\n",
    "obj = MyClass()\n",
    "print(obj._MyClass__private_attr)  # Output: 42\n",
    "\n",
    "\"\"\"\n",
    "2) Using Reflection: Python's reflection capabilities allow you to inspect and modify objects and classes at runtime.\n",
    "With reflection, you can access and modify supposedly private attributes and methods.\n",
    "\"\"\"\n",
    "\n",
    "# Example\n",
    "\n",
    "class MyClass:\n",
    "    def __init__(self):\n",
    "        self.__private_attr = 42\n",
    "\n",
    "obj = MyClass()\n",
    "print(obj.__dict__)  # Output: {'_MyClass__private_attr': 42}\n",
    "\n",
    "\n",
    "\"\"\"\n",
    "3) Subclassing: Subclasses have access to their superclass's \"private\" members,\n",
    "which means that if you subclass a class with private members, you can access those members from within the subclass.\n",
    "\"\"\"\n",
    "\n",
    "# Example\n",
    "\n",
    "class MyClass:\n",
    "    def __init__(self):\n",
    "        self.__private_attr = 42\n",
    "\n",
    "    def get_private_attr(self):\n",
    "        return self.__private_attr\n",
    "\n",
    "class MySubclass(MyClass):\n",
    "    def get_private_attr(self):\n",
    "        return super().get_private_attr()  # Call the superclass method\n",
    "\n",
    "obj = MySubclass()\n",
    "print(obj.get_private_attr())  # Output: 42\n",
    "\n"
   ]
  },
  {
   "cell_type": "markdown",
   "id": "6d143518-9da3-414a-bdd0-d3f706fbbf7d",
   "metadata": {},
   "source": [
    "Q49. Implement a class BankAccount with a private balance attribute. Include methods to deposit, withdraw, and check the balance."
   ]
  },
  {
   "cell_type": "code",
   "execution_count": 1,
   "id": "2cf9389b-5fd4-491d-9199-503a2ab2664e",
   "metadata": {},
   "outputs": [
    {
     "name": "stdout",
     "output_type": "stream",
     "text": [
      "Balance: 1000\n",
      "Balance after deposit: 1500\n",
      "Balance after withdrawal: 1300\n"
     ]
    }
   ],
   "source": [
    "class BankAccount:\n",
    "    def __init__(self, initial_balance=0):\n",
    "        self.__balance = initial_balance\n",
    "\n",
    "    def deposit(self, amount):\n",
    "        if amount > 0:\n",
    "            self.__balance += amount\n",
    "            return True\n",
    "        else:\n",
    "            print(\"Invalid amount for deposit.\")\n",
    "            return False\n",
    "\n",
    "    def withdraw(self, amount):\n",
    "        if 0 < amount <= self.__balance:\n",
    "            self.__balance -= amount\n",
    "            return True\n",
    "        else:\n",
    "            print(\"Insufficient funds for withdrawal.\")\n",
    "            return False\n",
    "\n",
    "    def check_balance(self):\n",
    "        return self.__balance\n",
    "\n",
    "\n",
    "# Example usage:\n",
    "account = BankAccount(1000)  # Creating an account with initial balance of 1000\n",
    "print(\"Balance:\", account.check_balance())  # Output: 1000\n",
    "\n",
    "account.deposit(500)  # Depositing 500\n",
    "print(\"Balance after deposit:\", account.check_balance())  # Output: 1500\n",
    "\n",
    "account.withdraw(200)  # Withdrawing 200\n",
    "print(\"Balance after withdrawal:\", account.check_balance())  # Output: 1300\n",
    "\n",
    "    "
   ]
  },
  {
   "cell_type": "markdown",
   "id": "dffa3c2a-a03a-4d80-921a-3150764927d4",
   "metadata": {},
   "source": [
    "Q50. Develop a Person class with private attributes name and email, and methods to set and get the email."
   ]
  },
  {
   "cell_type": "code",
   "execution_count": 3,
   "id": "9b7d2c98-e851-4add-a0bc-c4a53be8d6b6",
   "metadata": {},
   "outputs": [
    {
     "name": "stdout",
     "output_type": "stream",
     "text": [
      "Name: Daizy\n",
      "Email: dg@example.com\n",
      "Updated Email: daizy.gup@example.com\n"
     ]
    }
   ],
   "source": [
    "class Person:\n",
    "    def __init__(self, name, email):\n",
    "        self.__name = name\n",
    "        self.__email = email\n",
    "\n",
    "    def set_email(self, new_email):\n",
    "        self.__email = new_email\n",
    "\n",
    "    def get_email(self):\n",
    "        return self.__email\n",
    "\n",
    "    def get_name(self):\n",
    "        return self.__name\n",
    "\n",
    "\n",
    "# Example usage:\n",
    "dg = Person(\"Daizy\", \"dg@example.com\")\n",
    "\n",
    "print(\"Name:\", dg.get_name())  \n",
    "print(\"Email:\", dg.get_email())  \n",
    "\n",
    "dg.set_email(\"daizy.gup@example.com\")\n",
    "print(\"Updated Email:\", dg.get_email())  \n"
   ]
  },
  {
   "cell_type": "markdown",
   "id": "04858fb5-ee6c-47e2-b428-59963482db45",
   "metadata": {},
   "source": [
    "Q51. Why is encapsulation considered a pillar of object-oriented programming (OOP)?"
   ]
  },
  {
   "cell_type": "code",
   "execution_count": null,
   "id": "4097f14a-5f4c-40b9-ab87-387b3ca05f69",
   "metadata": {},
   "outputs": [],
   "source": [
    "\"\"\"\n",
    "Encapsulation is considered a pillar of object-oriented programming (OOP) because\n",
    "it enables the bundling of data (attributes) and methods (functions) that operate on the data into a single unit called a class.\n",
    "This concept is fundamental to OOP for several reasons:\n",
    "\n",
    "1)Data Hiding: Encapsulation allows the internal representation of an object to be hidden from the outside world.\n",
    "               By making attributes private or protected, we can control access to them,\n",
    "               preventing unauthorized code from directly manipulating the data.\n",
    "               This helps in maintaining the integrity of the data and prevents accidental modification.\n",
    "2)Abstraction: Encapsulation allows objects to present an interface that hides the complex implementation details\n",
    "               and exposes only the necessary functionality. \n",
    "               This abstraction simplifies the interaction with objects, making the code easier to understand, use, and maintain.\n",
    "3)Modularity:  Encapsulation promotes modularity by organizing code into self-contained units (classes).\n",
    "               Each class represents a single, cohesive concept or entity, encapsulating its data and behavior.\n",
    "               This modular approach facilitates code reuse, as classes can be reused in different parts of the program or\n",
    "               in other projects without modification.\n",
    "4)Encapsulation and Inheritance: Encapsulation is closely related to inheritance, another key concept in OOP.\n",
    "                                 Inheritance allows a class (subclass) to inherit attributes and methods from another class (superclass).\n",
    "                                 Encapsulation ensures that the inherited attributes are protected,\n",
    "                                 allowing subclasses to access and modify them through defined methods, preserving the encapsulation principle.\n",
    "\"\"\""
   ]
  },
  {
   "cell_type": "markdown",
   "id": "0705dab1-dd31-438b-9701-4ad7833d712b",
   "metadata": {},
   "source": [
    "Q52. Create a decorator in Python that adds functionality to a simple function by printing a message before and after the function execution.\n"
   ]
  },
  {
   "cell_type": "code",
   "execution_count": 5,
   "id": "9e4359d3-9e8c-4999-81c5-8c8a03c2b0f7",
   "metadata": {},
   "outputs": [
    {
     "name": "stdout",
     "output_type": "stream",
     "text": [
      "Before function execution\n",
      "Hello, DAIZY\n",
      "After function execution\n"
     ]
    }
   ],
   "source": [
    "def message_decorator(func):\n",
    "    def wrapper(*args, **kwargs):\n",
    "        print(\"Before function execution\")\n",
    "        result = func(*args, **kwargs)\n",
    "        print(\"After function execution\")\n",
    "        return result\n",
    "    return wrapper\n",
    "\n",
    "# Example function decorated with the message_decorator\n",
    "@message_decorator\n",
    "def greet(name):\n",
    "    print(\"Hello,\", name)\n",
    "\n",
    "# Calling the decorated function\n",
    "greet(\"DAIZY\")\n"
   ]
  },
  {
   "cell_type": "markdown",
   "id": "2ca269bb-e221-4de2-b94b-3e77a4f15d17",
   "metadata": {},
   "source": [
    "Q53. Modify the decorator to accept arguments and print the function name along with the message."
   ]
  },
  {
   "cell_type": "code",
   "execution_count": 6,
   "id": "37e69691-0422-4a4b-9188-802128fbc3c6",
   "metadata": {},
   "outputs": [
    {
     "name": "stdout",
     "output_type": "stream",
     "text": [
      "Before greet execution: greeting\n",
      "Hello, DAIZY\n",
      "After greet execution: greeting\n"
     ]
    }
   ],
   "source": [
    "def message_decorator(message):\n",
    "    def decorator(func):\n",
    "        def wrapper(*args, **kwargs):\n",
    "            print(f\"Before {func.__name__} execution: {message}\")\n",
    "            result = func(*args, **kwargs)\n",
    "            print(f\"After {func.__name__} execution: {message}\")\n",
    "            return result\n",
    "        return wrapper\n",
    "    return decorator\n",
    "\n",
    "# Example function decorated with the message_decorator\n",
    "@message_decorator(\"greeting\")\n",
    "def greet(name):\n",
    "    print(\"Hello,\", name)\n",
    "\n",
    "# Calling the decorated function\n",
    "greet(\"DAIZY\")\n"
   ]
  },
  {
   "cell_type": "markdown",
   "id": "94b2728c-a575-4414-a135-deb4aa1348e1",
   "metadata": {},
   "source": [
    "Q54.Create two decorators, and apply them to a single function. Ensure that they execute in the order they are applied."
   ]
  },
  {
   "cell_type": "code",
   "execution_count": 7,
   "id": "19e14a08-37b9-4e94-8c26-3ce4420e4c07",
   "metadata": {},
   "outputs": [
    {
     "name": "stdout",
     "output_type": "stream",
     "text": [
      "First decorator executed\n",
      "Second decorator executed\n",
      "Example function executed\n"
     ]
    }
   ],
   "source": [
    "# First decorator\n",
    "def first_decorator(func):\n",
    "    def wrapper(*args, **kwargs):\n",
    "        print(\"First decorator executed\")\n",
    "        result = func(*args, **kwargs)\n",
    "        return result\n",
    "    return wrapper\n",
    "\n",
    "# Second decorator\n",
    "def second_decorator(func):\n",
    "    def wrapper(*args, **kwargs):\n",
    "        print(\"Second decorator executed\")\n",
    "        result = func(*args, **kwargs)\n",
    "        return result\n",
    "    return wrapper\n",
    "\n",
    "# Applying decorators to a function\n",
    "@first_decorator\n",
    "@second_decorator\n",
    "def example_function():\n",
    "    print(\"Example function executed\")\n",
    "\n",
    "# Calling the decorated function\n",
    "example_function()\n"
   ]
  },
  {
   "cell_type": "markdown",
   "id": "a2eb0eb4-2351-4370-8fb8-8cb056b7b653",
   "metadata": {},
   "source": [
    "Q55. Modify the decorator to accept and pass function arguments to the wrapped function."
   ]
  },
  {
   "cell_type": "code",
   "execution_count": 8,
   "id": "1690e04c-e27b-4785-8704-9f323599f106",
   "metadata": {},
   "outputs": [
    {
     "name": "stdout",
     "output_type": "stream",
     "text": [
      "First decorator executed\n",
      "Second decorator executed\n",
      "Example function executed with arguments: 10 20\n"
     ]
    }
   ],
   "source": [
    "# First decorator\n",
    "def first_decorator(func):\n",
    "    def wrapper(*args, **kwargs):\n",
    "        print(\"First decorator executed\")\n",
    "        result = func(*args, **kwargs)\n",
    "        return result\n",
    "    return wrapper\n",
    "\n",
    "# Second decorator\n",
    "def second_decorator(func):\n",
    "    def wrapper(*args, **kwargs):\n",
    "        print(\"Second decorator executed\")\n",
    "        result = func(*args, **kwargs)\n",
    "        return result\n",
    "    return wrapper\n",
    "\n",
    "# Applying decorators to a function\n",
    "@first_decorator\n",
    "@second_decorator\n",
    "def example_function(x, y):\n",
    "    print(\"Example function executed with arguments:\", x, y)\n",
    "\n",
    "# Calling the decorated function with arguments\n",
    "example_function(10, 20)\n"
   ]
  },
  {
   "cell_type": "markdown",
   "id": "ccc02877-2134-4518-81d9-43fd1d0f025f",
   "metadata": {},
   "source": [
    "Q56.Create a decorator that preserves the metadata of the original function."
   ]
  },
  {
   "cell_type": "code",
   "execution_count": 9,
   "id": "612fb174-a6c7-461f-b93a-de8811c0b9be",
   "metadata": {},
   "outputs": [
    {
     "name": "stdout",
     "output_type": "stream",
     "text": [
      "Decorator executed\n",
      "Example function executed\n",
      "Function name: example_function\n",
      "Docstring: This is an example function.\n",
      "Module name: __main__\n"
     ]
    }
   ],
   "source": [
    "import functools\n",
    "\n",
    "def preserve_metadata(func):\n",
    "    @functools.wraps(func)\n",
    "    def wrapper(*args, **kwargs):\n",
    "        print(\"Decorator executed\")\n",
    "        return func(*args, **kwargs)\n",
    "    return wrapper\n",
    "\n",
    "# Applying the decorator to a function\n",
    "@preserve_metadata\n",
    "def example_function():\n",
    "    \"\"\"This is an example function.\"\"\"\n",
    "    print(\"Example function executed\")\n",
    "\n",
    "# Calling the decorated function\n",
    "example_function()\n",
    "\n",
    "# Checking metadata of the decorated function\n",
    "print(\"Function name:\", example_function.__name__)\n",
    "print(\"Docstring:\", example_function.__doc__)\n",
    "print(\"Module name:\", example_function.__module__)\n"
   ]
  },
  {
   "cell_type": "markdown",
   "id": "11ff4d13-1e8d-4f0e-8646-3bae28308e3a",
   "metadata": {},
   "source": [
    "Q57.Create a Python class \"Calculator\" with a static method \"add\" that takes in two numbers and returns their sum."
   ]
  },
  {
   "cell_type": "code",
   "execution_count": 11,
   "id": "e1bb5e47-0a51-410b-8f3b-d6eff1176199",
   "metadata": {},
   "outputs": [
    {
     "name": "stdout",
     "output_type": "stream",
     "text": [
      "Result of addition: 8\n"
     ]
    }
   ],
   "source": [
    "class Calculator:\n",
    "    @staticmethod\n",
    "    def add(num1, num2):\n",
    "        return num1 + num2\n",
    "\n",
    "# Example usage:\n",
    "result = Calculator.add(5, 3)\n",
    "print(\"Result of addition:\", result)  \n"
   ]
  },
  {
   "cell_type": "markdown",
   "id": "0b276993-3a53-49d3-abf4-1a09d2647ad2",
   "metadata": {},
   "source": [
    "Q58. Create a Python class“Employee“ with a class“method get_empIoyee_count” that returns the total number of employees created."
   ]
  },
  {
   "cell_type": "code",
   "execution_count": 13,
   "id": "dce043da-cf77-46c7-b49a-16b0a593edcf",
   "metadata": {},
   "outputs": [
    {
     "name": "stdout",
     "output_type": "stream",
     "text": [
      "Total number of employees: 3\n"
     ]
    }
   ],
   "source": [
    "class Employee:\n",
    "    # Class variable to keep track of the total number of employees\n",
    "    total_employee_count = 0\n",
    "\n",
    "    def __init__(self, name):\n",
    "        self.name = name\n",
    "        # Increment the total_employee_count every time a new Employee object is created\n",
    "        Employee.total_employee_count += 1\n",
    "\n",
    "    @classmethod\n",
    "    def get_employee_count(cls):\n",
    "        return cls.total_employee_count\n",
    "\n",
    "# Example usage:\n",
    "emp1 = Employee(\"John\")\n",
    "emp2 = Employee(\"Alice\")\n",
    "emp3 = Employee(\"Bob\")\n",
    "\n",
    "# Getting the total number of employees using the class method\n",
    "total_employees = Employee.get_employee_count()\n",
    "print(\"Total number of employees:\", total_employees) \n"
   ]
  },
  {
   "cell_type": "markdown",
   "id": "3b807392-e614-4f87-9791-fb557823cc2e",
   "metadata": {},
   "source": [
    "Q59. Create a Python class “StringFormatter“ with a static method \"reverse_string\" that takes a string as input and returns its reverse."
   ]
  },
  {
   "cell_type": "code",
   "execution_count": 15,
   "id": "a310e4e7-9ea1-456a-89ae-b2b39267238c",
   "metadata": {},
   "outputs": [
    {
     "name": "stdout",
     "output_type": "stream",
     "text": [
      "Reversed string: !dlroW ,olleH\n"
     ]
    }
   ],
   "source": [
    "class StringFormatter:\n",
    "    @staticmethod\n",
    "    def reverse_string(input_string):\n",
    "        return input_string[::-1]\n",
    "\n",
    "# Example:\n",
    "reversed_str = StringFormatter.reverse_string(\"Hello, World!\")\n",
    "print(\"Reversed string:\", reversed_str)  \n"
   ]
  },
  {
   "cell_type": "markdown",
   "id": "0e49c542-2896-42dc-82bd-e9a9b29c0c0e",
   "metadata": {},
   "source": [
    "Q60. Create a python class \"Circle\" with a class method \"calculate_area\" that calculates the area of a circle given its radius."
   ]
  },
  {
   "cell_type": "code",
   "execution_count": 16,
   "id": "b8437824-9bee-4035-8e20-3922c4597d95",
   "metadata": {},
   "outputs": [
    {
     "name": "stdout",
     "output_type": "stream",
     "text": [
      "Area of the circle with radius 5 is: 78.53981633974483\n"
     ]
    }
   ],
   "source": [
    "import math\n",
    "\n",
    "class Circle:\n",
    "    @classmethod\n",
    "    def calculate_area(cls, radius):\n",
    "        return math.pi * radius**2\n",
    "\n",
    "# Example:\n",
    "radius = 5\n",
    "area = Circle.calculate_area(radius)\n",
    "print(\"Area of the circle with radius\", radius, \"is:\", area)\n"
   ]
  },
  {
   "cell_type": "markdown",
   "id": "3116badf-f7bf-45d6-8832-63cd5044ed07",
   "metadata": {},
   "source": [
    "Q61. Create a python class \"TemperatureConverter\" with a static method \"celsius_to_fahrenheit\" that converts Celsius to Fahrenheit."
   ]
  },
  {
   "cell_type": "code",
   "execution_count": 18,
   "id": "fc800446-8f77-419a-b191-d2a503a41892",
   "metadata": {},
   "outputs": [
    {
     "name": "stdout",
     "output_type": "stream",
     "text": [
      "30 degrees Celsius is equal to 86.0 degrees Fahrenheit.\n"
     ]
    }
   ],
   "source": [
    "class TempConverter:\n",
    "    @staticmethod\n",
    "    def celsius_to_fahrenheit(celsius):\n",
    "        return (celsius * 9/5) + 32\n",
    "\n",
    "# Example:\n",
    "celsius_temp = 30\n",
    "fahrenheit_temp = TempConverter.celsius_to_fahrenheit(celsius_temp)\n",
    "print(f\"{celsius_temp} degrees Celsius is equal to {fahrenheit_temp} degrees Fahrenheit.\")\n"
   ]
  },
  {
   "cell_type": "markdown",
   "id": "37ddd360-1609-4320-a116-299cd4a58679",
   "metadata": {},
   "source": [
    "Q62. What is the purpose of the __str__() method in Python classes? Provide an example."
   ]
  },
  {
   "cell_type": "code",
   "execution_count": 21,
   "id": "f90d82de-9889-4346-a288-c39e4760fab7",
   "metadata": {},
   "outputs": [
    {
     "name": "stdout",
     "output_type": "stream",
     "text": [
      "Point(3, 4)\n",
      "Point(3, 4)\n",
      "The point is: Point(3, 4)\n"
     ]
    }
   ],
   "source": [
    "class Point:\n",
    "    def __init__(self, x, y):\n",
    "        self.x = x\n",
    "        self.y = y\n",
    "    \n",
    "    def __str__(self):\n",
    "        return f\"Point({self.x}, {self.y})\"\n",
    "\n",
    "# Creating a Point object\n",
    "p = Point(3, 4)\n",
    "\n",
    "# Printing the Point object\n",
    "print(p)  # Output: Point(3, 4)\n",
    "\n",
    "# Using str() function\n",
    "print(str(p))  # Output: Point(3, 4)\n",
    "\n",
    "# Using print() implicitly calls __str__()\n",
    "print(\"The point is:\", p)  # Output: The point is: Point(3, 4)\n",
    "\n"
   ]
  },
  {
   "cell_type": "markdown",
   "id": "084889ef-0989-408f-a0df-97caec26cb02",
   "metadata": {},
   "source": [
    "Q63. How does the __len__() method work in Python? Provide an example."
   ]
  },
  {
   "cell_type": "code",
   "execution_count": 22,
   "id": "3fc155ef-0331-4dbd-aa1f-de893f22c977",
   "metadata": {},
   "outputs": [
    {
     "name": "stdout",
     "output_type": "stream",
     "text": [
      "5\n",
      "6\n"
     ]
    }
   ],
   "source": [
    "class MyList:\n",
    "    def __init__(self, data):\n",
    "        self.data = data\n",
    "    \n",
    "    def __len__(self):\n",
    "        return len(self.data)\n",
    "\n",
    "# Creating an instance of MyList\n",
    "my_list = MyList([1, 2, 3, 4, 5])\n",
    "\n",
    "# Using len() function\n",
    "print(len(my_list))  # Output: 5\n",
    "\n",
    "# Adding more elements to the list\n",
    "my_list.data.append(6)\n",
    "\n",
    "# Using len() function again\n",
    "print(len(my_list))  # Output: 6\n"
   ]
  },
  {
   "cell_type": "markdown",
   "id": "90f43bda-8c28-40ec-aa58-8919729f9ef9",
   "metadata": {},
   "source": [
    "Q64. Explain the usage of the __add__() method in Python classes. Provide an example."
   ]
  },
  {
   "cell_type": "code",
   "execution_count": 23,
   "id": "723b84d8-cbdd-4c30-998c-b8a1f5d88713",
   "metadata": {},
   "outputs": [
    {
     "name": "stdout",
     "output_type": "stream",
     "text": [
      "4 6\n"
     ]
    }
   ],
   "source": [
    "class Point:\n",
    "    def __init__(self, x, y):\n",
    "        self.x = x\n",
    "        self.y = y\n",
    "    \n",
    "    def __add__(self, other):\n",
    "        if isinstance(other, Point):\n",
    "            # If the other object is also a Point, add their coordinates\n",
    "            return Point(self.x + other.x, self.y + other.y)\n",
    "        else:\n",
    "            # Otherwise, raise an error\n",
    "            raise TypeError(\"Unsupported operand type(s) for +: '{}' and '{}'\"\n",
    "                            .format(type(self), type(other)))\n",
    "\n",
    "# Creating two Point objects\n",
    "p1 = Point(1, 2)\n",
    "p2 = Point(3, 4)\n",
    "\n",
    "# Adding two Point objects together using the + operator\n",
    "result = p1 + p2\n",
    "\n",
    "# Printing the result\n",
    "print(result.x, result.y)  # Output: 4 6\n"
   ]
  },
  {
   "cell_type": "markdown",
   "id": "361320cf-716d-494d-846b-d431e36be253",
   "metadata": {},
   "source": [
    "Q65. what is the purpose of the __getitem__() method in Python?  Provide an example."
   ]
  },
  {
   "cell_type": "code",
   "execution_count": 24,
   "id": "21bd6a8d-dd90-4dd1-be39-5e2e7d46fdb8",
   "metadata": {},
   "outputs": [
    {
     "name": "stdout",
     "output_type": "stream",
     "text": [
      "1\n",
      "3\n",
      "1\n",
      "2\n",
      "3\n",
      "4\n",
      "5\n"
     ]
    }
   ],
   "source": [
    "class MyList:\n",
    "    def __init__(self, data):\n",
    "        self.data = data\n",
    "    \n",
    "    def __getitem__(self, index):\n",
    "        return self.data[index]\n",
    "\n",
    "# Creating an instance of MyList\n",
    "my_list = MyList([1, 2, 3, 4, 5])\n",
    "\n",
    "# Accessing elements using square bracket notation\n",
    "print(my_list[0])  # Output: 1\n",
    "print(my_list[2])  # Output: 3\n",
    "\n",
    "# Iterating over the elements using a loop\n",
    "for item in my_list:\n",
    "    print(item)\n"
   ]
  },
  {
   "cell_type": "markdown",
   "id": "7e77cd01-d388-4db2-be6d-ec345eb5c097",
   "metadata": {},
   "source": [
    "Q66. Explain the usage of the __iter__() and __next__() methods in python. Provide an example using iterators. "
   ]
  },
  {
   "cell_type": "code",
   "execution_count": 25,
   "id": "c12fc7a8-0ebf-4abc-86a5-5d4cd490d5c5",
   "metadata": {},
   "outputs": [
    {
     "name": "stdout",
     "output_type": "stream",
     "text": [
      "1\n",
      "2\n",
      "3\n",
      "4\n",
      "5\n"
     ]
    }
   ],
   "source": [
    "\"\"\"\n",
    "__iter__(): This method is called when an iterator is requested from an object.\n",
    "            It should return an iterator object itself, typically the object itself or a new instance of an iterator class associated with the object.\n",
    "__next__(): This method is called to get the next item from the iterator.\n",
    "            It should return the next item in the iteration or raise a StopIteration exception when there are no more items to be iterated.\n",
    "\"\"\"\n",
    "\n",
    "# Example:\n",
    "\n",
    "class MyIterator:\n",
    "    def __init__(self, data):\n",
    "        self.data = data\n",
    "        self.index = 0\n",
    "    \n",
    "    def __iter__(self):\n",
    "        # Since the iterator itself is an iterable, it returns itself\n",
    "        return self\n",
    "    \n",
    "    def __next__(self):\n",
    "        if self.index < len(self.data):\n",
    "            # If there are more items, return the current item and move to the next index\n",
    "            item = self.data[self.index]\n",
    "            self.index += 1\n",
    "            return item\n",
    "        else:\n",
    "            # If there are no more items, raise StopIteration\n",
    "            raise StopIteration()\n",
    "\n",
    "# Creating an iterable object\n",
    "my_iterable = MyIterator([1, 2, 3, 4, 5])\n",
    "\n",
    "# Using a for loop to iterate over the elements\n",
    "for item in my_iterable:\n",
    "    print(item)\n"
   ]
  },
  {
   "cell_type": "markdown",
   "id": "c7d845ed-2720-4875-83a0-3941b8b31732",
   "metadata": {},
   "source": [
    "Q67. What is the purpose of a getter method in Python? Provide on example demonstrating the use of a getter method using property decorators."
   ]
  },
  {
   "cell_type": "code",
   "execution_count": 26,
   "id": "06c6c105-8184-417a-9a85-20f8ba31aaf8",
   "metadata": {},
   "outputs": [
    {
     "name": "stdout",
     "output_type": "stream",
     "text": [
      "5\n",
      "10\n",
      "Radius must be positive\n"
     ]
    }
   ],
   "source": [
    "\"\"\"\n",
    "In Python, a getter method is used to retrieve the value of a private or protected attribute of a class.\n",
    "It provides controlled access to class attributes, allowing you to enforce encapsulation and validation rules.\n",
    "\n",
    "Getter methods are commonly used to expose the value of private or protected attributes indirectly,\n",
    "typically with additional logic such as validation or computation.\n",
    "\n",
    "One way to implement getter methods in Python is by using property decorators.\n",
    "The property decorator allows you to define getter, setter, and deleter methods for a property, which can be accessed like a regular attribute.\n",
    "\"\"\"\n",
    "\n",
    "#Example:\n",
    "\n",
    "class Circle:\n",
    "    def __init__(self, radius):\n",
    "        self._radius = radius  # Private attribute\n",
    "    \n",
    "    @property\n",
    "    def radius(self):\n",
    "        # Getter method for retrieving the radius\n",
    "        return self._radius\n",
    "    \n",
    "    @radius.setter\n",
    "    def radius(self, value):\n",
    "        # Setter method for updating the radius\n",
    "        if value <= 0:\n",
    "            raise ValueError(\"Radius must be positive\")\n",
    "        else:\n",
    "            self._radius = value\n",
    "\n",
    "# Creating an instance of Circle\n",
    "circle = Circle(5)\n",
    "\n",
    "# Accessing the radius using the getter method\n",
    "print(circle.radius)  # Output: 5\n",
    "\n",
    "# Trying to update the radius directly\n",
    "circle.radius = 10  # This calls the setter method\n",
    "\n",
    "# Accessing the updated radius using the getter method\n",
    "print(circle.radius)  # Output: 10\n",
    "\n",
    "# Trying to set a negative radius (will raise an error)\n",
    "try:\n",
    "    circle.radius = -5\n",
    "except ValueError as e:\n",
    "    print(e)  # Output: Radius must be positive\n"
   ]
  },
  {
   "cell_type": "markdown",
   "id": "7cb53f62-997e-4523-bfa4-ab90995bb519",
   "metadata": {},
   "source": [
    "Q68. Explain the role of setter methods in Python. Demonstrate how to use a setter method to modify a class attribute using property decorators."
   ]
  },
  {
   "cell_type": "code",
   "execution_count": 27,
   "id": "688c5ad5-05c1-4e15-a0a9-8fd942f5ff4c",
   "metadata": {},
   "outputs": [
    {
     "name": "stdout",
     "output_type": "stream",
     "text": [
      "10\n",
      "20\n",
      "Value must be an integer.\n"
     ]
    }
   ],
   "source": [
    "\"\"\"\n",
    "In Python, setter methods are a way to control the modification of class attributes.\n",
    "They are typically used in conjunction with property decorators to define a property with custom getter, setter, and deleter methods.\n",
    "Setter methods ensure that any modifications to the attribute go through a controlled process, allowing for validation, transformation, or any other custom logic before assigning the new value.\n",
    "\"\"\"\n",
    "\n",
    "# Example:\n",
    "\n",
    "class MyClass:\n",
    "    def __init__(self, value):\n",
    "        self._my_attribute = value\n",
    "\n",
    "    @property\n",
    "    def my_attribute(self):\n",
    "        return self._my_attribute\n",
    "\n",
    "    @my_attribute.setter\n",
    "    def my_attribute(self, new_value):\n",
    "        # Add any validation logic here\n",
    "        if isinstance(new_value, int):\n",
    "            self._my_attribute = new_value\n",
    "        else:\n",
    "            raise ValueError(\"Value must be an integer.\")\n",
    "\n",
    "# Creating an instance of MyClass\n",
    "obj = MyClass(10)\n",
    "\n",
    "# Accessing the attribute using the getter method\n",
    "print(obj.my_attribute)  # Output: 10\n",
    "\n",
    "# Modifying the attribute using the setter method\n",
    "obj.my_attribute = 20\n",
    "\n",
    "# Accessing the modified attribute\n",
    "print(obj.my_attribute)  # Output: 20\n",
    "\n",
    "# Trying to assign a non-integer value\n",
    "try:\n",
    "    obj.my_attribute = 'string'\n",
    "except ValueError as e:\n",
    "    print(e)  # Output: Value must be an integer.\n",
    "\n"
   ]
  },
  {
   "cell_type": "markdown",
   "id": "dc27d39e-ef63-4d1b-9aa4-9449351fef5c",
   "metadata": {},
   "source": [
    "Q69. What is the purpose of the @property decorator in Python? Provide on example illustrating its usage."
   ]
  },
  {
   "cell_type": "code",
   "execution_count": 28,
   "id": "9230ac15-19d4-429b-9124-79be71cba2f2",
   "metadata": {},
   "outputs": [
    {
     "name": "stdout",
     "output_type": "stream",
     "text": [
      "Radius: 5\n",
      "Diameter: 10\n",
      "Area: 78.53975\n",
      "Modified Radius: 7\n",
      "Radius must be a positive number.\n"
     ]
    }
   ],
   "source": [
    "\"\"\"\n",
    "\n",
    "The @property decorator in Python is used to define properties within a class.\n",
    "Properties allow you to define getter, setter, and deleter methods for class attributes,\n",
    "providing control over attribute access, modification, and deletion.\n",
    "\"\"\"\n",
    "#Example:\n",
    "\n",
    "class Circle:\n",
    "    def __init__(self, radius):\n",
    "        self._radius = radius\n",
    "\n",
    "    @property\n",
    "    def radius(self):\n",
    "        return self._radius\n",
    "\n",
    "    @radius.setter\n",
    "    def radius(self, value):\n",
    "        if value <= 0:\n",
    "            raise ValueError(\"Radius must be a positive number.\")\n",
    "        self._radius = value\n",
    "\n",
    "    @property\n",
    "    def diameter(self):\n",
    "        return 2 * self._radius\n",
    "\n",
    "    @property\n",
    "    def area(self):\n",
    "        return 3.14159 * self._radius ** 2\n",
    "\n",
    "# Creating an instance of Circle\n",
    "circle = Circle(5)\n",
    "\n",
    "# Accessing the radius property\n",
    "print(\"Radius:\", circle.radius)  # Output: Radius: 5\n",
    "\n",
    "# Accessing the diameter property\n",
    "print(\"Diameter:\", circle.diameter)  # Output: Diameter: 10\n",
    "\n",
    "# Accessing the area property\n",
    "print(\"Area:\", circle.area)  # Output: Area: 78.53975\n",
    "\n",
    "# Modifying the radius using the setter method\n",
    "circle.radius = 7\n",
    "\n",
    "# Accessing the modified radius\n",
    "print(\"Modified Radius:\", circle.radius)  # Output: Modified Radius: 7\n",
    "\n",
    "# Trying to set an invalid radius\n",
    "try:\n",
    "    circle.radius = -3\n",
    "except ValueError as e:\n",
    "    print(e)  # Output: Radius must be a positive number.\n",
    "\n"
   ]
  },
  {
   "cell_type": "markdown",
   "id": "dc887b48-5284-4ef0-9740-a53f6d029213",
   "metadata": {},
   "source": [
    "Q70. Explain the use of the @deleter decorator in Python property decorators. Provide a code example demonstrating its application."
   ]
  },
  {
   "cell_type": "code",
   "execution_count": 29,
   "id": "e1a4e87c-7c10-47fb-a60c-6e43b6069863",
   "metadata": {},
   "outputs": [
    {
     "name": "stdout",
     "output_type": "stream",
     "text": [
      "Before deletion: 10\n",
      "Deleting my_attribute...\n",
      "'MyClass' object has no attribute '_my_attribute'\n"
     ]
    }
   ],
   "source": [
    "\"\"\"\n",
    "In Python, the @deleter decorator is not a built-in decorator for property decorators.\n",
    "Instead, it's typically referred to as @property.deleter, which is used to define a deleter method for a property.\n",
    "This method is called when the property is deleted using the del statement.\n",
    "\"\"\"\n",
    "\n",
    "#Example:\n",
    "\n",
    "class MyClass:\n",
    "    def __init__(self):\n",
    "        self._my_attribute = None\n",
    "\n",
    "    @property\n",
    "    def my_attribute(self):\n",
    "        return self._my_attribute\n",
    "\n",
    "    @my_attribute.setter\n",
    "    def my_attribute(self, value):\n",
    "        self._my_attribute = value\n",
    "\n",
    "    @my_attribute.deleter\n",
    "    def my_attribute(self):\n",
    "        print(\"Deleting my_attribute...\")\n",
    "        del self._my_attribute\n",
    "\n",
    "# Creating an instance of MyClass\n",
    "obj = MyClass()\n",
    "\n",
    "# Setting the attribute\n",
    "obj.my_attribute = 10\n",
    "\n",
    "# Accessing the attribute\n",
    "print(\"Before deletion:\", obj.my_attribute)  # Output: Before deletion: 10\n",
    "\n",
    "# Deleting the attribute\n",
    "del obj.my_attribute\n",
    "# Output: Deleting my_attribute...\n",
    "\n",
    "# Trying to access the attribute after deletion\n",
    "try:\n",
    "    print(\"After deletion:\", obj.my_attribute)\n",
    "except AttributeError as e:\n",
    "    print(e)  # Output: 'MyClass' object has no attribute '_my_attribute'\n"
   ]
  },
  {
   "cell_type": "markdown",
   "id": "dd3a9f61-8794-4050-9e18-ea7752b08d7e",
   "metadata": {},
   "source": [
    "Q71. How does encapsulation relate to property decorators in Python? Provide on example showcosing encapsulation using property decorators."
   ]
  },
  {
   "cell_type": "code",
   "execution_count": 30,
   "id": "9143b162-17b0-4a93-b185-e4fbbfb91a52",
   "metadata": {},
   "outputs": [
    {
     "name": "stdout",
     "output_type": "stream",
     "text": [
      "Current balance: 100\n",
      "After deposit: 0\n"
     ]
    },
    {
     "ename": "ValueError",
     "evalue": "Insufficient funds",
     "output_type": "error",
     "traceback": [
      "\u001b[0;31m---------------------------------------------------------------------------\u001b[0m",
      "\u001b[0;31mValueError\u001b[0m                                Traceback (most recent call last)",
      "Cell \u001b[0;32mIn[30], line 51\u001b[0m\n\u001b[1;32m     48\u001b[0m account\u001b[38;5;241m.\u001b[39mdeposit(\u001b[38;5;241m50\u001b[39m)\n\u001b[1;32m     49\u001b[0m \u001b[38;5;28mprint\u001b[39m(\u001b[38;5;124m\"\u001b[39m\u001b[38;5;124mAfter deposit:\u001b[39m\u001b[38;5;124m\"\u001b[39m, account\u001b[38;5;241m.\u001b[39mbalance)  \u001b[38;5;66;03m# Output: After deposit: 150\u001b[39;00m\n\u001b[0;32m---> 51\u001b[0m \u001b[43maccount\u001b[49m\u001b[38;5;241;43m.\u001b[39;49m\u001b[43mwithdraw\u001b[49m\u001b[43m(\u001b[49m\u001b[38;5;241;43m30\u001b[39;49m\u001b[43m)\u001b[49m\n\u001b[1;32m     52\u001b[0m \u001b[38;5;28mprint\u001b[39m(\u001b[38;5;124m\"\u001b[39m\u001b[38;5;124mAfter withdrawal:\u001b[39m\u001b[38;5;124m\"\u001b[39m, account\u001b[38;5;241m.\u001b[39mbalance)  \u001b[38;5;66;03m# Output: After withdrawal: 120\u001b[39;00m\n\u001b[1;32m     54\u001b[0m \u001b[38;5;66;03m# Trying to directly set an invalid balance\u001b[39;00m\n",
      "Cell \u001b[0;32mIn[30], line 32\u001b[0m, in \u001b[0;36mBankAccount.withdraw\u001b[0;34m(self, amount)\u001b[0m\n\u001b[1;32m     30\u001b[0m     \u001b[38;5;28;01mraise\u001b[39;00m \u001b[38;5;167;01mValueError\u001b[39;00m(\u001b[38;5;124m\"\u001b[39m\u001b[38;5;124mWithdrawal amount must be positive\u001b[39m\u001b[38;5;124m\"\u001b[39m)\n\u001b[1;32m     31\u001b[0m \u001b[38;5;28;01mif\u001b[39;00m amount \u001b[38;5;241m>\u001b[39m \u001b[38;5;28mself\u001b[39m\u001b[38;5;241m.\u001b[39m_balance:\n\u001b[0;32m---> 32\u001b[0m     \u001b[38;5;28;01mraise\u001b[39;00m \u001b[38;5;167;01mValueError\u001b[39;00m(\u001b[38;5;124m\"\u001b[39m\u001b[38;5;124mInsufficient funds\u001b[39m\u001b[38;5;124m\"\u001b[39m)\n\u001b[1;32m     33\u001b[0m \u001b[38;5;28mself\u001b[39m\u001b[38;5;241m.\u001b[39m_balance \u001b[38;5;241m-\u001b[39m\u001b[38;5;241m=\u001b[39m amount\n",
      "\u001b[0;31mValueError\u001b[0m: Insufficient funds"
     ]
    }
   ],
   "source": [
    "\"\"\"\n",
    "Encapsulation is one of the fundamental principles of object-oriented programming,\n",
    "which involves bundling the data (attributes) and methods (functions) that operate on the data into a single unit, called a class.\n",
    "It allows the internal state of an object to be controlled and accessed only through well-defined interfaces (methods),\n",
    "thus hiding the implementation details from the outside world.\n",
    "\n",
    "Property decorators in Python play a crucial role in encapsulation by providing controlled access to class attributes.\n",
    "They allow you to define getter, setter, and deleter methods for class attributes,\n",
    "enabling you to enforce encapsulation by controlling how attributes are accessed, modified, and deleted.\n",
    "\"\"\"\n",
    "\n",
    "#Example:\n",
    "\n",
    "class BankAccount:\n",
    "    def __init__(self, initial_balance=0):\n",
    "        self._balance = initial_balance\n",
    "\n",
    "    @property\n",
    "    def balance(self):\n",
    "        return self._balance\n",
    "\n",
    "    @balance.setter\n",
    "    def balance(self, new_balance):\n",
    "        if new_balance < 0:\n",
    "            raise ValueError(\"Balance cannot be negative\")\n",
    "        self._balance = new_balance\n",
    "\n",
    "    def deposit(self, amount):\n",
    "        if amount <= 0:\n",
    "            raise ValueError(\"Deposit amount must be positive\")\n",
    "        self._balance += amount\n",
    "\n",
    "    def withdraw(self, amount):\n",
    "        if amount <= 0:\n",
    "            raise ValueError(\"Withdrawal amount must be positive\")\n",
    "        if amount > self._balance:\n",
    "            raise ValueError(\"Insufficient funds\")\n",
    "        self._balance -= amount\n",
    "\n",
    "# Creating an instance of BankAccount\n",
    "account = BankAccount(100)\n",
    "\n",
    "# Accessing the balance property\n",
    "print(\"Current balance:\", account.balance)  # Output: Current balance: 100\n",
    "\n",
    "# Trying to directly modify the balance attribute\n",
    "try:\n",
    "    account._balance = -50\n",
    "except ValueError as e:\n",
    "    print(e)  # Output: Balance cannot be negative\n",
    "\n",
    "# Depositing and withdrawing using methods\n",
    "account.deposit(50)\n",
    "print(\"After deposit:\", account.balance)  # Output: After deposit: 150\n",
    "\n",
    "account.withdraw(30)\n",
    "print(\"After withdrawal:\", account.balance)  # Output: After withdrawal: 120\n",
    "\n",
    "# Trying to directly set an invalid balance\n",
    "try:\n",
    "    account.balance = -20\n",
    "except ValueError as e:\n",
    "    print(e)  # Output: Balance cannot be negative\n"
   ]
  },
  {
   "cell_type": "code",
   "execution_count": null,
   "id": "de6bb179-f607-401c-98a2-44868f3a156e",
   "metadata": {},
   "outputs": [],
   "source": []
  }
 ],
 "metadata": {
  "kernelspec": {
   "display_name": "Python 3 (ipykernel)",
   "language": "python",
   "name": "python3"
  },
  "language_info": {
   "codemirror_mode": {
    "name": "ipython",
    "version": 3
   },
   "file_extension": ".py",
   "mimetype": "text/x-python",
   "name": "python",
   "nbconvert_exporter": "python",
   "pygments_lexer": "ipython3",
   "version": "3.10.8"
  }
 },
 "nbformat": 4,
 "nbformat_minor": 5
}
